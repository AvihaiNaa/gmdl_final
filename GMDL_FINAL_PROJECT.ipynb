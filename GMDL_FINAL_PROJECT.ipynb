{
  "nbformat": 4,
  "nbformat_minor": 0,
  "metadata": {
    "colab": {
      "name": "GMDL_FINAL_PROJECT.ipynb",
      "provenance": [],
      "collapsed_sections": [],
      "machine_shape": "hm"
    },
    "kernelspec": {
      "name": "python3",
      "display_name": "Python 3"
    },
    "language_info": {
      "name": "python"
    },
    "accelerator": "GPU",
    "gpuClass": "standard",
    "widgets": {
      "application/vnd.jupyter.widget-state+json": {
        "4eb247a8c4d444429c16b129324b6c65": {
          "model_module": "@jupyter-widgets/controls",
          "model_name": "HBoxModel",
          "model_module_version": "1.5.0",
          "state": {
            "_dom_classes": [],
            "_model_module": "@jupyter-widgets/controls",
            "_model_module_version": "1.5.0",
            "_model_name": "HBoxModel",
            "_view_count": null,
            "_view_module": "@jupyter-widgets/controls",
            "_view_module_version": "1.5.0",
            "_view_name": "HBoxView",
            "box_style": "",
            "children": [
              "IPY_MODEL_b74c7834bbd6490fa2c7d545918a4960",
              "IPY_MODEL_07a7f942af4b48aa8f8377358e64a45e",
              "IPY_MODEL_4053149b35734fba9e14887c6fb2038c"
            ],
            "layout": "IPY_MODEL_7ce19a92fa9e441396c8f09f1b46cf88"
          }
        },
        "b74c7834bbd6490fa2c7d545918a4960": {
          "model_module": "@jupyter-widgets/controls",
          "model_name": "HTMLModel",
          "model_module_version": "1.5.0",
          "state": {
            "_dom_classes": [],
            "_model_module": "@jupyter-widgets/controls",
            "_model_module_version": "1.5.0",
            "_model_name": "HTMLModel",
            "_view_count": null,
            "_view_module": "@jupyter-widgets/controls",
            "_view_module_version": "1.5.0",
            "_view_name": "HTMLView",
            "description": "",
            "description_tooltip": null,
            "layout": "IPY_MODEL_27683e5a3775465c8b49793fd7ac5469",
            "placeholder": "​",
            "style": "IPY_MODEL_848fc196cfb04a5084e6eae4e5acbd47",
            "value": "100%"
          }
        },
        "07a7f942af4b48aa8f8377358e64a45e": {
          "model_module": "@jupyter-widgets/controls",
          "model_name": "FloatProgressModel",
          "model_module_version": "1.5.0",
          "state": {
            "_dom_classes": [],
            "_model_module": "@jupyter-widgets/controls",
            "_model_module_version": "1.5.0",
            "_model_name": "FloatProgressModel",
            "_view_count": null,
            "_view_module": "@jupyter-widgets/controls",
            "_view_module_version": "1.5.0",
            "_view_name": "ProgressView",
            "bar_style": "success",
            "description": "",
            "description_tooltip": null,
            "layout": "IPY_MODEL_c770cd94b92e4b85bd358c1c8d098a02",
            "max": 9912422,
            "min": 0,
            "orientation": "horizontal",
            "style": "IPY_MODEL_a1a2a7d156674768a8048218b09d7120",
            "value": 9912422
          }
        },
        "4053149b35734fba9e14887c6fb2038c": {
          "model_module": "@jupyter-widgets/controls",
          "model_name": "HTMLModel",
          "model_module_version": "1.5.0",
          "state": {
            "_dom_classes": [],
            "_model_module": "@jupyter-widgets/controls",
            "_model_module_version": "1.5.0",
            "_model_name": "HTMLModel",
            "_view_count": null,
            "_view_module": "@jupyter-widgets/controls",
            "_view_module_version": "1.5.0",
            "_view_name": "HTMLView",
            "description": "",
            "description_tooltip": null,
            "layout": "IPY_MODEL_b80c1631cd4b4d2cbf6c942e84c9b08b",
            "placeholder": "​",
            "style": "IPY_MODEL_e48a6e7363b0413486a1cdf283fb17ab",
            "value": " 9912422/9912422 [00:00&lt;00:00, 152274133.60it/s]"
          }
        },
        "7ce19a92fa9e441396c8f09f1b46cf88": {
          "model_module": "@jupyter-widgets/base",
          "model_name": "LayoutModel",
          "model_module_version": "1.2.0",
          "state": {
            "_model_module": "@jupyter-widgets/base",
            "_model_module_version": "1.2.0",
            "_model_name": "LayoutModel",
            "_view_count": null,
            "_view_module": "@jupyter-widgets/base",
            "_view_module_version": "1.2.0",
            "_view_name": "LayoutView",
            "align_content": null,
            "align_items": null,
            "align_self": null,
            "border": null,
            "bottom": null,
            "display": null,
            "flex": null,
            "flex_flow": null,
            "grid_area": null,
            "grid_auto_columns": null,
            "grid_auto_flow": null,
            "grid_auto_rows": null,
            "grid_column": null,
            "grid_gap": null,
            "grid_row": null,
            "grid_template_areas": null,
            "grid_template_columns": null,
            "grid_template_rows": null,
            "height": null,
            "justify_content": null,
            "justify_items": null,
            "left": null,
            "margin": null,
            "max_height": null,
            "max_width": null,
            "min_height": null,
            "min_width": null,
            "object_fit": null,
            "object_position": null,
            "order": null,
            "overflow": null,
            "overflow_x": null,
            "overflow_y": null,
            "padding": null,
            "right": null,
            "top": null,
            "visibility": null,
            "width": null
          }
        },
        "27683e5a3775465c8b49793fd7ac5469": {
          "model_module": "@jupyter-widgets/base",
          "model_name": "LayoutModel",
          "model_module_version": "1.2.0",
          "state": {
            "_model_module": "@jupyter-widgets/base",
            "_model_module_version": "1.2.0",
            "_model_name": "LayoutModel",
            "_view_count": null,
            "_view_module": "@jupyter-widgets/base",
            "_view_module_version": "1.2.0",
            "_view_name": "LayoutView",
            "align_content": null,
            "align_items": null,
            "align_self": null,
            "border": null,
            "bottom": null,
            "display": null,
            "flex": null,
            "flex_flow": null,
            "grid_area": null,
            "grid_auto_columns": null,
            "grid_auto_flow": null,
            "grid_auto_rows": null,
            "grid_column": null,
            "grid_gap": null,
            "grid_row": null,
            "grid_template_areas": null,
            "grid_template_columns": null,
            "grid_template_rows": null,
            "height": null,
            "justify_content": null,
            "justify_items": null,
            "left": null,
            "margin": null,
            "max_height": null,
            "max_width": null,
            "min_height": null,
            "min_width": null,
            "object_fit": null,
            "object_position": null,
            "order": null,
            "overflow": null,
            "overflow_x": null,
            "overflow_y": null,
            "padding": null,
            "right": null,
            "top": null,
            "visibility": null,
            "width": null
          }
        },
        "848fc196cfb04a5084e6eae4e5acbd47": {
          "model_module": "@jupyter-widgets/controls",
          "model_name": "DescriptionStyleModel",
          "model_module_version": "1.5.0",
          "state": {
            "_model_module": "@jupyter-widgets/controls",
            "_model_module_version": "1.5.0",
            "_model_name": "DescriptionStyleModel",
            "_view_count": null,
            "_view_module": "@jupyter-widgets/base",
            "_view_module_version": "1.2.0",
            "_view_name": "StyleView",
            "description_width": ""
          }
        },
        "c770cd94b92e4b85bd358c1c8d098a02": {
          "model_module": "@jupyter-widgets/base",
          "model_name": "LayoutModel",
          "model_module_version": "1.2.0",
          "state": {
            "_model_module": "@jupyter-widgets/base",
            "_model_module_version": "1.2.0",
            "_model_name": "LayoutModel",
            "_view_count": null,
            "_view_module": "@jupyter-widgets/base",
            "_view_module_version": "1.2.0",
            "_view_name": "LayoutView",
            "align_content": null,
            "align_items": null,
            "align_self": null,
            "border": null,
            "bottom": null,
            "display": null,
            "flex": null,
            "flex_flow": null,
            "grid_area": null,
            "grid_auto_columns": null,
            "grid_auto_flow": null,
            "grid_auto_rows": null,
            "grid_column": null,
            "grid_gap": null,
            "grid_row": null,
            "grid_template_areas": null,
            "grid_template_columns": null,
            "grid_template_rows": null,
            "height": null,
            "justify_content": null,
            "justify_items": null,
            "left": null,
            "margin": null,
            "max_height": null,
            "max_width": null,
            "min_height": null,
            "min_width": null,
            "object_fit": null,
            "object_position": null,
            "order": null,
            "overflow": null,
            "overflow_x": null,
            "overflow_y": null,
            "padding": null,
            "right": null,
            "top": null,
            "visibility": null,
            "width": null
          }
        },
        "a1a2a7d156674768a8048218b09d7120": {
          "model_module": "@jupyter-widgets/controls",
          "model_name": "ProgressStyleModel",
          "model_module_version": "1.5.0",
          "state": {
            "_model_module": "@jupyter-widgets/controls",
            "_model_module_version": "1.5.0",
            "_model_name": "ProgressStyleModel",
            "_view_count": null,
            "_view_module": "@jupyter-widgets/base",
            "_view_module_version": "1.2.0",
            "_view_name": "StyleView",
            "bar_color": null,
            "description_width": ""
          }
        },
        "b80c1631cd4b4d2cbf6c942e84c9b08b": {
          "model_module": "@jupyter-widgets/base",
          "model_name": "LayoutModel",
          "model_module_version": "1.2.0",
          "state": {
            "_model_module": "@jupyter-widgets/base",
            "_model_module_version": "1.2.0",
            "_model_name": "LayoutModel",
            "_view_count": null,
            "_view_module": "@jupyter-widgets/base",
            "_view_module_version": "1.2.0",
            "_view_name": "LayoutView",
            "align_content": null,
            "align_items": null,
            "align_self": null,
            "border": null,
            "bottom": null,
            "display": null,
            "flex": null,
            "flex_flow": null,
            "grid_area": null,
            "grid_auto_columns": null,
            "grid_auto_flow": null,
            "grid_auto_rows": null,
            "grid_column": null,
            "grid_gap": null,
            "grid_row": null,
            "grid_template_areas": null,
            "grid_template_columns": null,
            "grid_template_rows": null,
            "height": null,
            "justify_content": null,
            "justify_items": null,
            "left": null,
            "margin": null,
            "max_height": null,
            "max_width": null,
            "min_height": null,
            "min_width": null,
            "object_fit": null,
            "object_position": null,
            "order": null,
            "overflow": null,
            "overflow_x": null,
            "overflow_y": null,
            "padding": null,
            "right": null,
            "top": null,
            "visibility": null,
            "width": null
          }
        },
        "e48a6e7363b0413486a1cdf283fb17ab": {
          "model_module": "@jupyter-widgets/controls",
          "model_name": "DescriptionStyleModel",
          "model_module_version": "1.5.0",
          "state": {
            "_model_module": "@jupyter-widgets/controls",
            "_model_module_version": "1.5.0",
            "_model_name": "DescriptionStyleModel",
            "_view_count": null,
            "_view_module": "@jupyter-widgets/base",
            "_view_module_version": "1.2.0",
            "_view_name": "StyleView",
            "description_width": ""
          }
        },
        "d69401b1988346ddb1931891fa2127ce": {
          "model_module": "@jupyter-widgets/controls",
          "model_name": "HBoxModel",
          "model_module_version": "1.5.0",
          "state": {
            "_dom_classes": [],
            "_model_module": "@jupyter-widgets/controls",
            "_model_module_version": "1.5.0",
            "_model_name": "HBoxModel",
            "_view_count": null,
            "_view_module": "@jupyter-widgets/controls",
            "_view_module_version": "1.5.0",
            "_view_name": "HBoxView",
            "box_style": "",
            "children": [
              "IPY_MODEL_3cecc85c816d42f18f191a9715f89125",
              "IPY_MODEL_a783f812f7d944e483c1e80d6788b7ee",
              "IPY_MODEL_88b174e8b41f45a3b7cc3452549acd42"
            ],
            "layout": "IPY_MODEL_fbc23dc9996d48daaff534a839a35ca4"
          }
        },
        "3cecc85c816d42f18f191a9715f89125": {
          "model_module": "@jupyter-widgets/controls",
          "model_name": "HTMLModel",
          "model_module_version": "1.5.0",
          "state": {
            "_dom_classes": [],
            "_model_module": "@jupyter-widgets/controls",
            "_model_module_version": "1.5.0",
            "_model_name": "HTMLModel",
            "_view_count": null,
            "_view_module": "@jupyter-widgets/controls",
            "_view_module_version": "1.5.0",
            "_view_name": "HTMLView",
            "description": "",
            "description_tooltip": null,
            "layout": "IPY_MODEL_96041884df0e4b3d9937961a8a63cbc9",
            "placeholder": "​",
            "style": "IPY_MODEL_c2226c6f32404fa996dcf92e955868e1",
            "value": "100%"
          }
        },
        "a783f812f7d944e483c1e80d6788b7ee": {
          "model_module": "@jupyter-widgets/controls",
          "model_name": "FloatProgressModel",
          "model_module_version": "1.5.0",
          "state": {
            "_dom_classes": [],
            "_model_module": "@jupyter-widgets/controls",
            "_model_module_version": "1.5.0",
            "_model_name": "FloatProgressModel",
            "_view_count": null,
            "_view_module": "@jupyter-widgets/controls",
            "_view_module_version": "1.5.0",
            "_view_name": "ProgressView",
            "bar_style": "success",
            "description": "",
            "description_tooltip": null,
            "layout": "IPY_MODEL_629d6ac635ed4890ad90d1b5473e1ba7",
            "max": 28881,
            "min": 0,
            "orientation": "horizontal",
            "style": "IPY_MODEL_b65e3977390c426788ef8ed22d97c222",
            "value": 28881
          }
        },
        "88b174e8b41f45a3b7cc3452549acd42": {
          "model_module": "@jupyter-widgets/controls",
          "model_name": "HTMLModel",
          "model_module_version": "1.5.0",
          "state": {
            "_dom_classes": [],
            "_model_module": "@jupyter-widgets/controls",
            "_model_module_version": "1.5.0",
            "_model_name": "HTMLModel",
            "_view_count": null,
            "_view_module": "@jupyter-widgets/controls",
            "_view_module_version": "1.5.0",
            "_view_name": "HTMLView",
            "description": "",
            "description_tooltip": null,
            "layout": "IPY_MODEL_4c1fdc946ec340c68dd1d4bc237dc604",
            "placeholder": "​",
            "style": "IPY_MODEL_339f56a729cc462c97289d6a55b3970f",
            "value": " 28881/28881 [00:00&lt;00:00, 1066607.62it/s]"
          }
        },
        "fbc23dc9996d48daaff534a839a35ca4": {
          "model_module": "@jupyter-widgets/base",
          "model_name": "LayoutModel",
          "model_module_version": "1.2.0",
          "state": {
            "_model_module": "@jupyter-widgets/base",
            "_model_module_version": "1.2.0",
            "_model_name": "LayoutModel",
            "_view_count": null,
            "_view_module": "@jupyter-widgets/base",
            "_view_module_version": "1.2.0",
            "_view_name": "LayoutView",
            "align_content": null,
            "align_items": null,
            "align_self": null,
            "border": null,
            "bottom": null,
            "display": null,
            "flex": null,
            "flex_flow": null,
            "grid_area": null,
            "grid_auto_columns": null,
            "grid_auto_flow": null,
            "grid_auto_rows": null,
            "grid_column": null,
            "grid_gap": null,
            "grid_row": null,
            "grid_template_areas": null,
            "grid_template_columns": null,
            "grid_template_rows": null,
            "height": null,
            "justify_content": null,
            "justify_items": null,
            "left": null,
            "margin": null,
            "max_height": null,
            "max_width": null,
            "min_height": null,
            "min_width": null,
            "object_fit": null,
            "object_position": null,
            "order": null,
            "overflow": null,
            "overflow_x": null,
            "overflow_y": null,
            "padding": null,
            "right": null,
            "top": null,
            "visibility": null,
            "width": null
          }
        },
        "96041884df0e4b3d9937961a8a63cbc9": {
          "model_module": "@jupyter-widgets/base",
          "model_name": "LayoutModel",
          "model_module_version": "1.2.0",
          "state": {
            "_model_module": "@jupyter-widgets/base",
            "_model_module_version": "1.2.0",
            "_model_name": "LayoutModel",
            "_view_count": null,
            "_view_module": "@jupyter-widgets/base",
            "_view_module_version": "1.2.0",
            "_view_name": "LayoutView",
            "align_content": null,
            "align_items": null,
            "align_self": null,
            "border": null,
            "bottom": null,
            "display": null,
            "flex": null,
            "flex_flow": null,
            "grid_area": null,
            "grid_auto_columns": null,
            "grid_auto_flow": null,
            "grid_auto_rows": null,
            "grid_column": null,
            "grid_gap": null,
            "grid_row": null,
            "grid_template_areas": null,
            "grid_template_columns": null,
            "grid_template_rows": null,
            "height": null,
            "justify_content": null,
            "justify_items": null,
            "left": null,
            "margin": null,
            "max_height": null,
            "max_width": null,
            "min_height": null,
            "min_width": null,
            "object_fit": null,
            "object_position": null,
            "order": null,
            "overflow": null,
            "overflow_x": null,
            "overflow_y": null,
            "padding": null,
            "right": null,
            "top": null,
            "visibility": null,
            "width": null
          }
        },
        "c2226c6f32404fa996dcf92e955868e1": {
          "model_module": "@jupyter-widgets/controls",
          "model_name": "DescriptionStyleModel",
          "model_module_version": "1.5.0",
          "state": {
            "_model_module": "@jupyter-widgets/controls",
            "_model_module_version": "1.5.0",
            "_model_name": "DescriptionStyleModel",
            "_view_count": null,
            "_view_module": "@jupyter-widgets/base",
            "_view_module_version": "1.2.0",
            "_view_name": "StyleView",
            "description_width": ""
          }
        },
        "629d6ac635ed4890ad90d1b5473e1ba7": {
          "model_module": "@jupyter-widgets/base",
          "model_name": "LayoutModel",
          "model_module_version": "1.2.0",
          "state": {
            "_model_module": "@jupyter-widgets/base",
            "_model_module_version": "1.2.0",
            "_model_name": "LayoutModel",
            "_view_count": null,
            "_view_module": "@jupyter-widgets/base",
            "_view_module_version": "1.2.0",
            "_view_name": "LayoutView",
            "align_content": null,
            "align_items": null,
            "align_self": null,
            "border": null,
            "bottom": null,
            "display": null,
            "flex": null,
            "flex_flow": null,
            "grid_area": null,
            "grid_auto_columns": null,
            "grid_auto_flow": null,
            "grid_auto_rows": null,
            "grid_column": null,
            "grid_gap": null,
            "grid_row": null,
            "grid_template_areas": null,
            "grid_template_columns": null,
            "grid_template_rows": null,
            "height": null,
            "justify_content": null,
            "justify_items": null,
            "left": null,
            "margin": null,
            "max_height": null,
            "max_width": null,
            "min_height": null,
            "min_width": null,
            "object_fit": null,
            "object_position": null,
            "order": null,
            "overflow": null,
            "overflow_x": null,
            "overflow_y": null,
            "padding": null,
            "right": null,
            "top": null,
            "visibility": null,
            "width": null
          }
        },
        "b65e3977390c426788ef8ed22d97c222": {
          "model_module": "@jupyter-widgets/controls",
          "model_name": "ProgressStyleModel",
          "model_module_version": "1.5.0",
          "state": {
            "_model_module": "@jupyter-widgets/controls",
            "_model_module_version": "1.5.0",
            "_model_name": "ProgressStyleModel",
            "_view_count": null,
            "_view_module": "@jupyter-widgets/base",
            "_view_module_version": "1.2.0",
            "_view_name": "StyleView",
            "bar_color": null,
            "description_width": ""
          }
        },
        "4c1fdc946ec340c68dd1d4bc237dc604": {
          "model_module": "@jupyter-widgets/base",
          "model_name": "LayoutModel",
          "model_module_version": "1.2.0",
          "state": {
            "_model_module": "@jupyter-widgets/base",
            "_model_module_version": "1.2.0",
            "_model_name": "LayoutModel",
            "_view_count": null,
            "_view_module": "@jupyter-widgets/base",
            "_view_module_version": "1.2.0",
            "_view_name": "LayoutView",
            "align_content": null,
            "align_items": null,
            "align_self": null,
            "border": null,
            "bottom": null,
            "display": null,
            "flex": null,
            "flex_flow": null,
            "grid_area": null,
            "grid_auto_columns": null,
            "grid_auto_flow": null,
            "grid_auto_rows": null,
            "grid_column": null,
            "grid_gap": null,
            "grid_row": null,
            "grid_template_areas": null,
            "grid_template_columns": null,
            "grid_template_rows": null,
            "height": null,
            "justify_content": null,
            "justify_items": null,
            "left": null,
            "margin": null,
            "max_height": null,
            "max_width": null,
            "min_height": null,
            "min_width": null,
            "object_fit": null,
            "object_position": null,
            "order": null,
            "overflow": null,
            "overflow_x": null,
            "overflow_y": null,
            "padding": null,
            "right": null,
            "top": null,
            "visibility": null,
            "width": null
          }
        },
        "339f56a729cc462c97289d6a55b3970f": {
          "model_module": "@jupyter-widgets/controls",
          "model_name": "DescriptionStyleModel",
          "model_module_version": "1.5.0",
          "state": {
            "_model_module": "@jupyter-widgets/controls",
            "_model_module_version": "1.5.0",
            "_model_name": "DescriptionStyleModel",
            "_view_count": null,
            "_view_module": "@jupyter-widgets/base",
            "_view_module_version": "1.2.0",
            "_view_name": "StyleView",
            "description_width": ""
          }
        },
        "937b9968a7cf4d569888d145c00a3e91": {
          "model_module": "@jupyter-widgets/controls",
          "model_name": "HBoxModel",
          "model_module_version": "1.5.0",
          "state": {
            "_dom_classes": [],
            "_model_module": "@jupyter-widgets/controls",
            "_model_module_version": "1.5.0",
            "_model_name": "HBoxModel",
            "_view_count": null,
            "_view_module": "@jupyter-widgets/controls",
            "_view_module_version": "1.5.0",
            "_view_name": "HBoxView",
            "box_style": "",
            "children": [
              "IPY_MODEL_b78a863cb5274efc965e26abae395e06",
              "IPY_MODEL_5d41f3181a094765920550dc7e783e00",
              "IPY_MODEL_48e947b1e4104a6b8e4394e69ae4d85d"
            ],
            "layout": "IPY_MODEL_83463d91b7714f798665c58c05599024"
          }
        },
        "b78a863cb5274efc965e26abae395e06": {
          "model_module": "@jupyter-widgets/controls",
          "model_name": "HTMLModel",
          "model_module_version": "1.5.0",
          "state": {
            "_dom_classes": [],
            "_model_module": "@jupyter-widgets/controls",
            "_model_module_version": "1.5.0",
            "_model_name": "HTMLModel",
            "_view_count": null,
            "_view_module": "@jupyter-widgets/controls",
            "_view_module_version": "1.5.0",
            "_view_name": "HTMLView",
            "description": "",
            "description_tooltip": null,
            "layout": "IPY_MODEL_aca0baf756cc47bdaad85fb55799c5d1",
            "placeholder": "​",
            "style": "IPY_MODEL_cf9769d39e514dd6800a61fe741d850d",
            "value": "100%"
          }
        },
        "5d41f3181a094765920550dc7e783e00": {
          "model_module": "@jupyter-widgets/controls",
          "model_name": "FloatProgressModel",
          "model_module_version": "1.5.0",
          "state": {
            "_dom_classes": [],
            "_model_module": "@jupyter-widgets/controls",
            "_model_module_version": "1.5.0",
            "_model_name": "FloatProgressModel",
            "_view_count": null,
            "_view_module": "@jupyter-widgets/controls",
            "_view_module_version": "1.5.0",
            "_view_name": "ProgressView",
            "bar_style": "success",
            "description": "",
            "description_tooltip": null,
            "layout": "IPY_MODEL_1fc80ba354934de7a9a9ee9de70c0140",
            "max": 1648877,
            "min": 0,
            "orientation": "horizontal",
            "style": "IPY_MODEL_32ed1b41bf23416ea2e95aec2e580663",
            "value": 1648877
          }
        },
        "48e947b1e4104a6b8e4394e69ae4d85d": {
          "model_module": "@jupyter-widgets/controls",
          "model_name": "HTMLModel",
          "model_module_version": "1.5.0",
          "state": {
            "_dom_classes": [],
            "_model_module": "@jupyter-widgets/controls",
            "_model_module_version": "1.5.0",
            "_model_name": "HTMLModel",
            "_view_count": null,
            "_view_module": "@jupyter-widgets/controls",
            "_view_module_version": "1.5.0",
            "_view_name": "HTMLView",
            "description": "",
            "description_tooltip": null,
            "layout": "IPY_MODEL_91c67f2f6fb14f2aa128bd6eeca9a4d9",
            "placeholder": "​",
            "style": "IPY_MODEL_5f73d35e13854e98810d91b9f600333d",
            "value": " 1648877/1648877 [00:00&lt;00:00, 35715569.24it/s]"
          }
        },
        "83463d91b7714f798665c58c05599024": {
          "model_module": "@jupyter-widgets/base",
          "model_name": "LayoutModel",
          "model_module_version": "1.2.0",
          "state": {
            "_model_module": "@jupyter-widgets/base",
            "_model_module_version": "1.2.0",
            "_model_name": "LayoutModel",
            "_view_count": null,
            "_view_module": "@jupyter-widgets/base",
            "_view_module_version": "1.2.0",
            "_view_name": "LayoutView",
            "align_content": null,
            "align_items": null,
            "align_self": null,
            "border": null,
            "bottom": null,
            "display": null,
            "flex": null,
            "flex_flow": null,
            "grid_area": null,
            "grid_auto_columns": null,
            "grid_auto_flow": null,
            "grid_auto_rows": null,
            "grid_column": null,
            "grid_gap": null,
            "grid_row": null,
            "grid_template_areas": null,
            "grid_template_columns": null,
            "grid_template_rows": null,
            "height": null,
            "justify_content": null,
            "justify_items": null,
            "left": null,
            "margin": null,
            "max_height": null,
            "max_width": null,
            "min_height": null,
            "min_width": null,
            "object_fit": null,
            "object_position": null,
            "order": null,
            "overflow": null,
            "overflow_x": null,
            "overflow_y": null,
            "padding": null,
            "right": null,
            "top": null,
            "visibility": null,
            "width": null
          }
        },
        "aca0baf756cc47bdaad85fb55799c5d1": {
          "model_module": "@jupyter-widgets/base",
          "model_name": "LayoutModel",
          "model_module_version": "1.2.0",
          "state": {
            "_model_module": "@jupyter-widgets/base",
            "_model_module_version": "1.2.0",
            "_model_name": "LayoutModel",
            "_view_count": null,
            "_view_module": "@jupyter-widgets/base",
            "_view_module_version": "1.2.0",
            "_view_name": "LayoutView",
            "align_content": null,
            "align_items": null,
            "align_self": null,
            "border": null,
            "bottom": null,
            "display": null,
            "flex": null,
            "flex_flow": null,
            "grid_area": null,
            "grid_auto_columns": null,
            "grid_auto_flow": null,
            "grid_auto_rows": null,
            "grid_column": null,
            "grid_gap": null,
            "grid_row": null,
            "grid_template_areas": null,
            "grid_template_columns": null,
            "grid_template_rows": null,
            "height": null,
            "justify_content": null,
            "justify_items": null,
            "left": null,
            "margin": null,
            "max_height": null,
            "max_width": null,
            "min_height": null,
            "min_width": null,
            "object_fit": null,
            "object_position": null,
            "order": null,
            "overflow": null,
            "overflow_x": null,
            "overflow_y": null,
            "padding": null,
            "right": null,
            "top": null,
            "visibility": null,
            "width": null
          }
        },
        "cf9769d39e514dd6800a61fe741d850d": {
          "model_module": "@jupyter-widgets/controls",
          "model_name": "DescriptionStyleModel",
          "model_module_version": "1.5.0",
          "state": {
            "_model_module": "@jupyter-widgets/controls",
            "_model_module_version": "1.5.0",
            "_model_name": "DescriptionStyleModel",
            "_view_count": null,
            "_view_module": "@jupyter-widgets/base",
            "_view_module_version": "1.2.0",
            "_view_name": "StyleView",
            "description_width": ""
          }
        },
        "1fc80ba354934de7a9a9ee9de70c0140": {
          "model_module": "@jupyter-widgets/base",
          "model_name": "LayoutModel",
          "model_module_version": "1.2.0",
          "state": {
            "_model_module": "@jupyter-widgets/base",
            "_model_module_version": "1.2.0",
            "_model_name": "LayoutModel",
            "_view_count": null,
            "_view_module": "@jupyter-widgets/base",
            "_view_module_version": "1.2.0",
            "_view_name": "LayoutView",
            "align_content": null,
            "align_items": null,
            "align_self": null,
            "border": null,
            "bottom": null,
            "display": null,
            "flex": null,
            "flex_flow": null,
            "grid_area": null,
            "grid_auto_columns": null,
            "grid_auto_flow": null,
            "grid_auto_rows": null,
            "grid_column": null,
            "grid_gap": null,
            "grid_row": null,
            "grid_template_areas": null,
            "grid_template_columns": null,
            "grid_template_rows": null,
            "height": null,
            "justify_content": null,
            "justify_items": null,
            "left": null,
            "margin": null,
            "max_height": null,
            "max_width": null,
            "min_height": null,
            "min_width": null,
            "object_fit": null,
            "object_position": null,
            "order": null,
            "overflow": null,
            "overflow_x": null,
            "overflow_y": null,
            "padding": null,
            "right": null,
            "top": null,
            "visibility": null,
            "width": null
          }
        },
        "32ed1b41bf23416ea2e95aec2e580663": {
          "model_module": "@jupyter-widgets/controls",
          "model_name": "ProgressStyleModel",
          "model_module_version": "1.5.0",
          "state": {
            "_model_module": "@jupyter-widgets/controls",
            "_model_module_version": "1.5.0",
            "_model_name": "ProgressStyleModel",
            "_view_count": null,
            "_view_module": "@jupyter-widgets/base",
            "_view_module_version": "1.2.0",
            "_view_name": "StyleView",
            "bar_color": null,
            "description_width": ""
          }
        },
        "91c67f2f6fb14f2aa128bd6eeca9a4d9": {
          "model_module": "@jupyter-widgets/base",
          "model_name": "LayoutModel",
          "model_module_version": "1.2.0",
          "state": {
            "_model_module": "@jupyter-widgets/base",
            "_model_module_version": "1.2.0",
            "_model_name": "LayoutModel",
            "_view_count": null,
            "_view_module": "@jupyter-widgets/base",
            "_view_module_version": "1.2.0",
            "_view_name": "LayoutView",
            "align_content": null,
            "align_items": null,
            "align_self": null,
            "border": null,
            "bottom": null,
            "display": null,
            "flex": null,
            "flex_flow": null,
            "grid_area": null,
            "grid_auto_columns": null,
            "grid_auto_flow": null,
            "grid_auto_rows": null,
            "grid_column": null,
            "grid_gap": null,
            "grid_row": null,
            "grid_template_areas": null,
            "grid_template_columns": null,
            "grid_template_rows": null,
            "height": null,
            "justify_content": null,
            "justify_items": null,
            "left": null,
            "margin": null,
            "max_height": null,
            "max_width": null,
            "min_height": null,
            "min_width": null,
            "object_fit": null,
            "object_position": null,
            "order": null,
            "overflow": null,
            "overflow_x": null,
            "overflow_y": null,
            "padding": null,
            "right": null,
            "top": null,
            "visibility": null,
            "width": null
          }
        },
        "5f73d35e13854e98810d91b9f600333d": {
          "model_module": "@jupyter-widgets/controls",
          "model_name": "DescriptionStyleModel",
          "model_module_version": "1.5.0",
          "state": {
            "_model_module": "@jupyter-widgets/controls",
            "_model_module_version": "1.5.0",
            "_model_name": "DescriptionStyleModel",
            "_view_count": null,
            "_view_module": "@jupyter-widgets/base",
            "_view_module_version": "1.2.0",
            "_view_name": "StyleView",
            "description_width": ""
          }
        },
        "7d949168e5c94d0ebdc5c1a6304f0428": {
          "model_module": "@jupyter-widgets/controls",
          "model_name": "HBoxModel",
          "model_module_version": "1.5.0",
          "state": {
            "_dom_classes": [],
            "_model_module": "@jupyter-widgets/controls",
            "_model_module_version": "1.5.0",
            "_model_name": "HBoxModel",
            "_view_count": null,
            "_view_module": "@jupyter-widgets/controls",
            "_view_module_version": "1.5.0",
            "_view_name": "HBoxView",
            "box_style": "",
            "children": [
              "IPY_MODEL_219dc8bbe6cd46fd983fa68689a4fac0",
              "IPY_MODEL_33238ac932674740a109fec0cf27f28b",
              "IPY_MODEL_cbad2b5674e345019063385b76b525a4"
            ],
            "layout": "IPY_MODEL_65dac0a21c1143ca959ec55c79251948"
          }
        },
        "219dc8bbe6cd46fd983fa68689a4fac0": {
          "model_module": "@jupyter-widgets/controls",
          "model_name": "HTMLModel",
          "model_module_version": "1.5.0",
          "state": {
            "_dom_classes": [],
            "_model_module": "@jupyter-widgets/controls",
            "_model_module_version": "1.5.0",
            "_model_name": "HTMLModel",
            "_view_count": null,
            "_view_module": "@jupyter-widgets/controls",
            "_view_module_version": "1.5.0",
            "_view_name": "HTMLView",
            "description": "",
            "description_tooltip": null,
            "layout": "IPY_MODEL_b727db75f1e64022ad011348dab00627",
            "placeholder": "​",
            "style": "IPY_MODEL_252e1ab9dc13425faa2de8d86fb727bb",
            "value": "100%"
          }
        },
        "33238ac932674740a109fec0cf27f28b": {
          "model_module": "@jupyter-widgets/controls",
          "model_name": "FloatProgressModel",
          "model_module_version": "1.5.0",
          "state": {
            "_dom_classes": [],
            "_model_module": "@jupyter-widgets/controls",
            "_model_module_version": "1.5.0",
            "_model_name": "FloatProgressModel",
            "_view_count": null,
            "_view_module": "@jupyter-widgets/controls",
            "_view_module_version": "1.5.0",
            "_view_name": "ProgressView",
            "bar_style": "success",
            "description": "",
            "description_tooltip": null,
            "layout": "IPY_MODEL_573511b1c35c4dc79ce2cdc6904db2bc",
            "max": 4542,
            "min": 0,
            "orientation": "horizontal",
            "style": "IPY_MODEL_a4612906e23e4ff888f2dc2323ff0b82",
            "value": 4542
          }
        },
        "cbad2b5674e345019063385b76b525a4": {
          "model_module": "@jupyter-widgets/controls",
          "model_name": "HTMLModel",
          "model_module_version": "1.5.0",
          "state": {
            "_dom_classes": [],
            "_model_module": "@jupyter-widgets/controls",
            "_model_module_version": "1.5.0",
            "_model_name": "HTMLModel",
            "_view_count": null,
            "_view_module": "@jupyter-widgets/controls",
            "_view_module_version": "1.5.0",
            "_view_name": "HTMLView",
            "description": "",
            "description_tooltip": null,
            "layout": "IPY_MODEL_a073fdc23d734297b71bceb7ecea6e7a",
            "placeholder": "​",
            "style": "IPY_MODEL_5d222255b69f42d2a8e447d7db7d27ea",
            "value": " 4542/4542 [00:00&lt;00:00, 176246.91it/s]"
          }
        },
        "65dac0a21c1143ca959ec55c79251948": {
          "model_module": "@jupyter-widgets/base",
          "model_name": "LayoutModel",
          "model_module_version": "1.2.0",
          "state": {
            "_model_module": "@jupyter-widgets/base",
            "_model_module_version": "1.2.0",
            "_model_name": "LayoutModel",
            "_view_count": null,
            "_view_module": "@jupyter-widgets/base",
            "_view_module_version": "1.2.0",
            "_view_name": "LayoutView",
            "align_content": null,
            "align_items": null,
            "align_self": null,
            "border": null,
            "bottom": null,
            "display": null,
            "flex": null,
            "flex_flow": null,
            "grid_area": null,
            "grid_auto_columns": null,
            "grid_auto_flow": null,
            "grid_auto_rows": null,
            "grid_column": null,
            "grid_gap": null,
            "grid_row": null,
            "grid_template_areas": null,
            "grid_template_columns": null,
            "grid_template_rows": null,
            "height": null,
            "justify_content": null,
            "justify_items": null,
            "left": null,
            "margin": null,
            "max_height": null,
            "max_width": null,
            "min_height": null,
            "min_width": null,
            "object_fit": null,
            "object_position": null,
            "order": null,
            "overflow": null,
            "overflow_x": null,
            "overflow_y": null,
            "padding": null,
            "right": null,
            "top": null,
            "visibility": null,
            "width": null
          }
        },
        "b727db75f1e64022ad011348dab00627": {
          "model_module": "@jupyter-widgets/base",
          "model_name": "LayoutModel",
          "model_module_version": "1.2.0",
          "state": {
            "_model_module": "@jupyter-widgets/base",
            "_model_module_version": "1.2.0",
            "_model_name": "LayoutModel",
            "_view_count": null,
            "_view_module": "@jupyter-widgets/base",
            "_view_module_version": "1.2.0",
            "_view_name": "LayoutView",
            "align_content": null,
            "align_items": null,
            "align_self": null,
            "border": null,
            "bottom": null,
            "display": null,
            "flex": null,
            "flex_flow": null,
            "grid_area": null,
            "grid_auto_columns": null,
            "grid_auto_flow": null,
            "grid_auto_rows": null,
            "grid_column": null,
            "grid_gap": null,
            "grid_row": null,
            "grid_template_areas": null,
            "grid_template_columns": null,
            "grid_template_rows": null,
            "height": null,
            "justify_content": null,
            "justify_items": null,
            "left": null,
            "margin": null,
            "max_height": null,
            "max_width": null,
            "min_height": null,
            "min_width": null,
            "object_fit": null,
            "object_position": null,
            "order": null,
            "overflow": null,
            "overflow_x": null,
            "overflow_y": null,
            "padding": null,
            "right": null,
            "top": null,
            "visibility": null,
            "width": null
          }
        },
        "252e1ab9dc13425faa2de8d86fb727bb": {
          "model_module": "@jupyter-widgets/controls",
          "model_name": "DescriptionStyleModel",
          "model_module_version": "1.5.0",
          "state": {
            "_model_module": "@jupyter-widgets/controls",
            "_model_module_version": "1.5.0",
            "_model_name": "DescriptionStyleModel",
            "_view_count": null,
            "_view_module": "@jupyter-widgets/base",
            "_view_module_version": "1.2.0",
            "_view_name": "StyleView",
            "description_width": ""
          }
        },
        "573511b1c35c4dc79ce2cdc6904db2bc": {
          "model_module": "@jupyter-widgets/base",
          "model_name": "LayoutModel",
          "model_module_version": "1.2.0",
          "state": {
            "_model_module": "@jupyter-widgets/base",
            "_model_module_version": "1.2.0",
            "_model_name": "LayoutModel",
            "_view_count": null,
            "_view_module": "@jupyter-widgets/base",
            "_view_module_version": "1.2.0",
            "_view_name": "LayoutView",
            "align_content": null,
            "align_items": null,
            "align_self": null,
            "border": null,
            "bottom": null,
            "display": null,
            "flex": null,
            "flex_flow": null,
            "grid_area": null,
            "grid_auto_columns": null,
            "grid_auto_flow": null,
            "grid_auto_rows": null,
            "grid_column": null,
            "grid_gap": null,
            "grid_row": null,
            "grid_template_areas": null,
            "grid_template_columns": null,
            "grid_template_rows": null,
            "height": null,
            "justify_content": null,
            "justify_items": null,
            "left": null,
            "margin": null,
            "max_height": null,
            "max_width": null,
            "min_height": null,
            "min_width": null,
            "object_fit": null,
            "object_position": null,
            "order": null,
            "overflow": null,
            "overflow_x": null,
            "overflow_y": null,
            "padding": null,
            "right": null,
            "top": null,
            "visibility": null,
            "width": null
          }
        },
        "a4612906e23e4ff888f2dc2323ff0b82": {
          "model_module": "@jupyter-widgets/controls",
          "model_name": "ProgressStyleModel",
          "model_module_version": "1.5.0",
          "state": {
            "_model_module": "@jupyter-widgets/controls",
            "_model_module_version": "1.5.0",
            "_model_name": "ProgressStyleModel",
            "_view_count": null,
            "_view_module": "@jupyter-widgets/base",
            "_view_module_version": "1.2.0",
            "_view_name": "StyleView",
            "bar_color": null,
            "description_width": ""
          }
        },
        "a073fdc23d734297b71bceb7ecea6e7a": {
          "model_module": "@jupyter-widgets/base",
          "model_name": "LayoutModel",
          "model_module_version": "1.2.0",
          "state": {
            "_model_module": "@jupyter-widgets/base",
            "_model_module_version": "1.2.0",
            "_model_name": "LayoutModel",
            "_view_count": null,
            "_view_module": "@jupyter-widgets/base",
            "_view_module_version": "1.2.0",
            "_view_name": "LayoutView",
            "align_content": null,
            "align_items": null,
            "align_self": null,
            "border": null,
            "bottom": null,
            "display": null,
            "flex": null,
            "flex_flow": null,
            "grid_area": null,
            "grid_auto_columns": null,
            "grid_auto_flow": null,
            "grid_auto_rows": null,
            "grid_column": null,
            "grid_gap": null,
            "grid_row": null,
            "grid_template_areas": null,
            "grid_template_columns": null,
            "grid_template_rows": null,
            "height": null,
            "justify_content": null,
            "justify_items": null,
            "left": null,
            "margin": null,
            "max_height": null,
            "max_width": null,
            "min_height": null,
            "min_width": null,
            "object_fit": null,
            "object_position": null,
            "order": null,
            "overflow": null,
            "overflow_x": null,
            "overflow_y": null,
            "padding": null,
            "right": null,
            "top": null,
            "visibility": null,
            "width": null
          }
        },
        "5d222255b69f42d2a8e447d7db7d27ea": {
          "model_module": "@jupyter-widgets/controls",
          "model_name": "DescriptionStyleModel",
          "model_module_version": "1.5.0",
          "state": {
            "_model_module": "@jupyter-widgets/controls",
            "_model_module_version": "1.5.0",
            "_model_name": "DescriptionStyleModel",
            "_view_count": null,
            "_view_module": "@jupyter-widgets/base",
            "_view_module_version": "1.2.0",
            "_view_name": "StyleView",
            "description_width": ""
          }
        },
        "2c39a015cae54645bcf204373af8a9d2": {
          "model_module": "@jupyter-widgets/controls",
          "model_name": "HBoxModel",
          "model_module_version": "1.5.0",
          "state": {
            "_dom_classes": [],
            "_model_module": "@jupyter-widgets/controls",
            "_model_module_version": "1.5.0",
            "_model_name": "HBoxModel",
            "_view_count": null,
            "_view_module": "@jupyter-widgets/controls",
            "_view_module_version": "1.5.0",
            "_view_name": "HBoxView",
            "box_style": "",
            "children": [
              "IPY_MODEL_129d9b0693ab43e3a96a05d70136d464",
              "IPY_MODEL_ec47d21bf57b4149949cbbc38a915859",
              "IPY_MODEL_e072c03cb33f4366811a532d5c926e53"
            ],
            "layout": "IPY_MODEL_82fb8291db9c4a12aed30a472b3b278d"
          }
        },
        "129d9b0693ab43e3a96a05d70136d464": {
          "model_module": "@jupyter-widgets/controls",
          "model_name": "HTMLModel",
          "model_module_version": "1.5.0",
          "state": {
            "_dom_classes": [],
            "_model_module": "@jupyter-widgets/controls",
            "_model_module_version": "1.5.0",
            "_model_name": "HTMLModel",
            "_view_count": null,
            "_view_module": "@jupyter-widgets/controls",
            "_view_module_version": "1.5.0",
            "_view_name": "HTMLView",
            "description": "",
            "description_tooltip": null,
            "layout": "IPY_MODEL_b902e0f5b64d47c3a1ceae0d024af90c",
            "placeholder": "​",
            "style": "IPY_MODEL_fc8aaa3dbd2c4d19b8333aa76a6f2703",
            "value": "100%"
          }
        },
        "ec47d21bf57b4149949cbbc38a915859": {
          "model_module": "@jupyter-widgets/controls",
          "model_name": "FloatProgressModel",
          "model_module_version": "1.5.0",
          "state": {
            "_dom_classes": [],
            "_model_module": "@jupyter-widgets/controls",
            "_model_module_version": "1.5.0",
            "_model_name": "FloatProgressModel",
            "_view_count": null,
            "_view_module": "@jupyter-widgets/controls",
            "_view_module_version": "1.5.0",
            "_view_name": "ProgressView",
            "bar_style": "success",
            "description": "",
            "description_tooltip": null,
            "layout": "IPY_MODEL_1e8699ea8ce34561bb00d3460cd08c17",
            "max": 26421880,
            "min": 0,
            "orientation": "horizontal",
            "style": "IPY_MODEL_69712d1d9eae428fb6544ca2073b505f",
            "value": 26421880
          }
        },
        "e072c03cb33f4366811a532d5c926e53": {
          "model_module": "@jupyter-widgets/controls",
          "model_name": "HTMLModel",
          "model_module_version": "1.5.0",
          "state": {
            "_dom_classes": [],
            "_model_module": "@jupyter-widgets/controls",
            "_model_module_version": "1.5.0",
            "_model_name": "HTMLModel",
            "_view_count": null,
            "_view_module": "@jupyter-widgets/controls",
            "_view_module_version": "1.5.0",
            "_view_name": "HTMLView",
            "description": "",
            "description_tooltip": null,
            "layout": "IPY_MODEL_f623331fc501430e902bce15989566c8",
            "placeholder": "​",
            "style": "IPY_MODEL_792f549364734e4097691c11b09ada5c",
            "value": " 26421880/26421880 [00:03&lt;00:00, 14065804.49it/s]"
          }
        },
        "82fb8291db9c4a12aed30a472b3b278d": {
          "model_module": "@jupyter-widgets/base",
          "model_name": "LayoutModel",
          "model_module_version": "1.2.0",
          "state": {
            "_model_module": "@jupyter-widgets/base",
            "_model_module_version": "1.2.0",
            "_model_name": "LayoutModel",
            "_view_count": null,
            "_view_module": "@jupyter-widgets/base",
            "_view_module_version": "1.2.0",
            "_view_name": "LayoutView",
            "align_content": null,
            "align_items": null,
            "align_self": null,
            "border": null,
            "bottom": null,
            "display": null,
            "flex": null,
            "flex_flow": null,
            "grid_area": null,
            "grid_auto_columns": null,
            "grid_auto_flow": null,
            "grid_auto_rows": null,
            "grid_column": null,
            "grid_gap": null,
            "grid_row": null,
            "grid_template_areas": null,
            "grid_template_columns": null,
            "grid_template_rows": null,
            "height": null,
            "justify_content": null,
            "justify_items": null,
            "left": null,
            "margin": null,
            "max_height": null,
            "max_width": null,
            "min_height": null,
            "min_width": null,
            "object_fit": null,
            "object_position": null,
            "order": null,
            "overflow": null,
            "overflow_x": null,
            "overflow_y": null,
            "padding": null,
            "right": null,
            "top": null,
            "visibility": null,
            "width": null
          }
        },
        "b902e0f5b64d47c3a1ceae0d024af90c": {
          "model_module": "@jupyter-widgets/base",
          "model_name": "LayoutModel",
          "model_module_version": "1.2.0",
          "state": {
            "_model_module": "@jupyter-widgets/base",
            "_model_module_version": "1.2.0",
            "_model_name": "LayoutModel",
            "_view_count": null,
            "_view_module": "@jupyter-widgets/base",
            "_view_module_version": "1.2.0",
            "_view_name": "LayoutView",
            "align_content": null,
            "align_items": null,
            "align_self": null,
            "border": null,
            "bottom": null,
            "display": null,
            "flex": null,
            "flex_flow": null,
            "grid_area": null,
            "grid_auto_columns": null,
            "grid_auto_flow": null,
            "grid_auto_rows": null,
            "grid_column": null,
            "grid_gap": null,
            "grid_row": null,
            "grid_template_areas": null,
            "grid_template_columns": null,
            "grid_template_rows": null,
            "height": null,
            "justify_content": null,
            "justify_items": null,
            "left": null,
            "margin": null,
            "max_height": null,
            "max_width": null,
            "min_height": null,
            "min_width": null,
            "object_fit": null,
            "object_position": null,
            "order": null,
            "overflow": null,
            "overflow_x": null,
            "overflow_y": null,
            "padding": null,
            "right": null,
            "top": null,
            "visibility": null,
            "width": null
          }
        },
        "fc8aaa3dbd2c4d19b8333aa76a6f2703": {
          "model_module": "@jupyter-widgets/controls",
          "model_name": "DescriptionStyleModel",
          "model_module_version": "1.5.0",
          "state": {
            "_model_module": "@jupyter-widgets/controls",
            "_model_module_version": "1.5.0",
            "_model_name": "DescriptionStyleModel",
            "_view_count": null,
            "_view_module": "@jupyter-widgets/base",
            "_view_module_version": "1.2.0",
            "_view_name": "StyleView",
            "description_width": ""
          }
        },
        "1e8699ea8ce34561bb00d3460cd08c17": {
          "model_module": "@jupyter-widgets/base",
          "model_name": "LayoutModel",
          "model_module_version": "1.2.0",
          "state": {
            "_model_module": "@jupyter-widgets/base",
            "_model_module_version": "1.2.0",
            "_model_name": "LayoutModel",
            "_view_count": null,
            "_view_module": "@jupyter-widgets/base",
            "_view_module_version": "1.2.0",
            "_view_name": "LayoutView",
            "align_content": null,
            "align_items": null,
            "align_self": null,
            "border": null,
            "bottom": null,
            "display": null,
            "flex": null,
            "flex_flow": null,
            "grid_area": null,
            "grid_auto_columns": null,
            "grid_auto_flow": null,
            "grid_auto_rows": null,
            "grid_column": null,
            "grid_gap": null,
            "grid_row": null,
            "grid_template_areas": null,
            "grid_template_columns": null,
            "grid_template_rows": null,
            "height": null,
            "justify_content": null,
            "justify_items": null,
            "left": null,
            "margin": null,
            "max_height": null,
            "max_width": null,
            "min_height": null,
            "min_width": null,
            "object_fit": null,
            "object_position": null,
            "order": null,
            "overflow": null,
            "overflow_x": null,
            "overflow_y": null,
            "padding": null,
            "right": null,
            "top": null,
            "visibility": null,
            "width": null
          }
        },
        "69712d1d9eae428fb6544ca2073b505f": {
          "model_module": "@jupyter-widgets/controls",
          "model_name": "ProgressStyleModel",
          "model_module_version": "1.5.0",
          "state": {
            "_model_module": "@jupyter-widgets/controls",
            "_model_module_version": "1.5.0",
            "_model_name": "ProgressStyleModel",
            "_view_count": null,
            "_view_module": "@jupyter-widgets/base",
            "_view_module_version": "1.2.0",
            "_view_name": "StyleView",
            "bar_color": null,
            "description_width": ""
          }
        },
        "f623331fc501430e902bce15989566c8": {
          "model_module": "@jupyter-widgets/base",
          "model_name": "LayoutModel",
          "model_module_version": "1.2.0",
          "state": {
            "_model_module": "@jupyter-widgets/base",
            "_model_module_version": "1.2.0",
            "_model_name": "LayoutModel",
            "_view_count": null,
            "_view_module": "@jupyter-widgets/base",
            "_view_module_version": "1.2.0",
            "_view_name": "LayoutView",
            "align_content": null,
            "align_items": null,
            "align_self": null,
            "border": null,
            "bottom": null,
            "display": null,
            "flex": null,
            "flex_flow": null,
            "grid_area": null,
            "grid_auto_columns": null,
            "grid_auto_flow": null,
            "grid_auto_rows": null,
            "grid_column": null,
            "grid_gap": null,
            "grid_row": null,
            "grid_template_areas": null,
            "grid_template_columns": null,
            "grid_template_rows": null,
            "height": null,
            "justify_content": null,
            "justify_items": null,
            "left": null,
            "margin": null,
            "max_height": null,
            "max_width": null,
            "min_height": null,
            "min_width": null,
            "object_fit": null,
            "object_position": null,
            "order": null,
            "overflow": null,
            "overflow_x": null,
            "overflow_y": null,
            "padding": null,
            "right": null,
            "top": null,
            "visibility": null,
            "width": null
          }
        },
        "792f549364734e4097691c11b09ada5c": {
          "model_module": "@jupyter-widgets/controls",
          "model_name": "DescriptionStyleModel",
          "model_module_version": "1.5.0",
          "state": {
            "_model_module": "@jupyter-widgets/controls",
            "_model_module_version": "1.5.0",
            "_model_name": "DescriptionStyleModel",
            "_view_count": null,
            "_view_module": "@jupyter-widgets/base",
            "_view_module_version": "1.2.0",
            "_view_name": "StyleView",
            "description_width": ""
          }
        },
        "1610d01e11e64c55a40c5dbf09bf8beb": {
          "model_module": "@jupyter-widgets/controls",
          "model_name": "HBoxModel",
          "model_module_version": "1.5.0",
          "state": {
            "_dom_classes": [],
            "_model_module": "@jupyter-widgets/controls",
            "_model_module_version": "1.5.0",
            "_model_name": "HBoxModel",
            "_view_count": null,
            "_view_module": "@jupyter-widgets/controls",
            "_view_module_version": "1.5.0",
            "_view_name": "HBoxView",
            "box_style": "",
            "children": [
              "IPY_MODEL_fa5adf26af2f4569aeab22b88a3db45c",
              "IPY_MODEL_ada21be5fc3d4eb8a8b5fb2146356091",
              "IPY_MODEL_dd089bdf0b43424d8ce8edd0fea248b1"
            ],
            "layout": "IPY_MODEL_4b3c11aba4604ffea77da718cacd72a2"
          }
        },
        "fa5adf26af2f4569aeab22b88a3db45c": {
          "model_module": "@jupyter-widgets/controls",
          "model_name": "HTMLModel",
          "model_module_version": "1.5.0",
          "state": {
            "_dom_classes": [],
            "_model_module": "@jupyter-widgets/controls",
            "_model_module_version": "1.5.0",
            "_model_name": "HTMLModel",
            "_view_count": null,
            "_view_module": "@jupyter-widgets/controls",
            "_view_module_version": "1.5.0",
            "_view_name": "HTMLView",
            "description": "",
            "description_tooltip": null,
            "layout": "IPY_MODEL_07da1e8b73494a929cc833f6ba9d4a71",
            "placeholder": "​",
            "style": "IPY_MODEL_589d1d0757824b7d98b8c2e1f0bbd260",
            "value": "100%"
          }
        },
        "ada21be5fc3d4eb8a8b5fb2146356091": {
          "model_module": "@jupyter-widgets/controls",
          "model_name": "FloatProgressModel",
          "model_module_version": "1.5.0",
          "state": {
            "_dom_classes": [],
            "_model_module": "@jupyter-widgets/controls",
            "_model_module_version": "1.5.0",
            "_model_name": "FloatProgressModel",
            "_view_count": null,
            "_view_module": "@jupyter-widgets/controls",
            "_view_module_version": "1.5.0",
            "_view_name": "ProgressView",
            "bar_style": "success",
            "description": "",
            "description_tooltip": null,
            "layout": "IPY_MODEL_fb801eb37e8a4114b63f46974104cad6",
            "max": 29515,
            "min": 0,
            "orientation": "horizontal",
            "style": "IPY_MODEL_1a511600aae746c3af7cd1a278014991",
            "value": 29515
          }
        },
        "dd089bdf0b43424d8ce8edd0fea248b1": {
          "model_module": "@jupyter-widgets/controls",
          "model_name": "HTMLModel",
          "model_module_version": "1.5.0",
          "state": {
            "_dom_classes": [],
            "_model_module": "@jupyter-widgets/controls",
            "_model_module_version": "1.5.0",
            "_model_name": "HTMLModel",
            "_view_count": null,
            "_view_module": "@jupyter-widgets/controls",
            "_view_module_version": "1.5.0",
            "_view_name": "HTMLView",
            "description": "",
            "description_tooltip": null,
            "layout": "IPY_MODEL_948dc56fd6d74d079594f8e6860a75cb",
            "placeholder": "​",
            "style": "IPY_MODEL_9c8bcd016c7844448dd76eec157b0d86",
            "value": " 29515/29515 [00:00&lt;00:00, 144569.35it/s]"
          }
        },
        "4b3c11aba4604ffea77da718cacd72a2": {
          "model_module": "@jupyter-widgets/base",
          "model_name": "LayoutModel",
          "model_module_version": "1.2.0",
          "state": {
            "_model_module": "@jupyter-widgets/base",
            "_model_module_version": "1.2.0",
            "_model_name": "LayoutModel",
            "_view_count": null,
            "_view_module": "@jupyter-widgets/base",
            "_view_module_version": "1.2.0",
            "_view_name": "LayoutView",
            "align_content": null,
            "align_items": null,
            "align_self": null,
            "border": null,
            "bottom": null,
            "display": null,
            "flex": null,
            "flex_flow": null,
            "grid_area": null,
            "grid_auto_columns": null,
            "grid_auto_flow": null,
            "grid_auto_rows": null,
            "grid_column": null,
            "grid_gap": null,
            "grid_row": null,
            "grid_template_areas": null,
            "grid_template_columns": null,
            "grid_template_rows": null,
            "height": null,
            "justify_content": null,
            "justify_items": null,
            "left": null,
            "margin": null,
            "max_height": null,
            "max_width": null,
            "min_height": null,
            "min_width": null,
            "object_fit": null,
            "object_position": null,
            "order": null,
            "overflow": null,
            "overflow_x": null,
            "overflow_y": null,
            "padding": null,
            "right": null,
            "top": null,
            "visibility": null,
            "width": null
          }
        },
        "07da1e8b73494a929cc833f6ba9d4a71": {
          "model_module": "@jupyter-widgets/base",
          "model_name": "LayoutModel",
          "model_module_version": "1.2.0",
          "state": {
            "_model_module": "@jupyter-widgets/base",
            "_model_module_version": "1.2.0",
            "_model_name": "LayoutModel",
            "_view_count": null,
            "_view_module": "@jupyter-widgets/base",
            "_view_module_version": "1.2.0",
            "_view_name": "LayoutView",
            "align_content": null,
            "align_items": null,
            "align_self": null,
            "border": null,
            "bottom": null,
            "display": null,
            "flex": null,
            "flex_flow": null,
            "grid_area": null,
            "grid_auto_columns": null,
            "grid_auto_flow": null,
            "grid_auto_rows": null,
            "grid_column": null,
            "grid_gap": null,
            "grid_row": null,
            "grid_template_areas": null,
            "grid_template_columns": null,
            "grid_template_rows": null,
            "height": null,
            "justify_content": null,
            "justify_items": null,
            "left": null,
            "margin": null,
            "max_height": null,
            "max_width": null,
            "min_height": null,
            "min_width": null,
            "object_fit": null,
            "object_position": null,
            "order": null,
            "overflow": null,
            "overflow_x": null,
            "overflow_y": null,
            "padding": null,
            "right": null,
            "top": null,
            "visibility": null,
            "width": null
          }
        },
        "589d1d0757824b7d98b8c2e1f0bbd260": {
          "model_module": "@jupyter-widgets/controls",
          "model_name": "DescriptionStyleModel",
          "model_module_version": "1.5.0",
          "state": {
            "_model_module": "@jupyter-widgets/controls",
            "_model_module_version": "1.5.0",
            "_model_name": "DescriptionStyleModel",
            "_view_count": null,
            "_view_module": "@jupyter-widgets/base",
            "_view_module_version": "1.2.0",
            "_view_name": "StyleView",
            "description_width": ""
          }
        },
        "fb801eb37e8a4114b63f46974104cad6": {
          "model_module": "@jupyter-widgets/base",
          "model_name": "LayoutModel",
          "model_module_version": "1.2.0",
          "state": {
            "_model_module": "@jupyter-widgets/base",
            "_model_module_version": "1.2.0",
            "_model_name": "LayoutModel",
            "_view_count": null,
            "_view_module": "@jupyter-widgets/base",
            "_view_module_version": "1.2.0",
            "_view_name": "LayoutView",
            "align_content": null,
            "align_items": null,
            "align_self": null,
            "border": null,
            "bottom": null,
            "display": null,
            "flex": null,
            "flex_flow": null,
            "grid_area": null,
            "grid_auto_columns": null,
            "grid_auto_flow": null,
            "grid_auto_rows": null,
            "grid_column": null,
            "grid_gap": null,
            "grid_row": null,
            "grid_template_areas": null,
            "grid_template_columns": null,
            "grid_template_rows": null,
            "height": null,
            "justify_content": null,
            "justify_items": null,
            "left": null,
            "margin": null,
            "max_height": null,
            "max_width": null,
            "min_height": null,
            "min_width": null,
            "object_fit": null,
            "object_position": null,
            "order": null,
            "overflow": null,
            "overflow_x": null,
            "overflow_y": null,
            "padding": null,
            "right": null,
            "top": null,
            "visibility": null,
            "width": null
          }
        },
        "1a511600aae746c3af7cd1a278014991": {
          "model_module": "@jupyter-widgets/controls",
          "model_name": "ProgressStyleModel",
          "model_module_version": "1.5.0",
          "state": {
            "_model_module": "@jupyter-widgets/controls",
            "_model_module_version": "1.5.0",
            "_model_name": "ProgressStyleModel",
            "_view_count": null,
            "_view_module": "@jupyter-widgets/base",
            "_view_module_version": "1.2.0",
            "_view_name": "StyleView",
            "bar_color": null,
            "description_width": ""
          }
        },
        "948dc56fd6d74d079594f8e6860a75cb": {
          "model_module": "@jupyter-widgets/base",
          "model_name": "LayoutModel",
          "model_module_version": "1.2.0",
          "state": {
            "_model_module": "@jupyter-widgets/base",
            "_model_module_version": "1.2.0",
            "_model_name": "LayoutModel",
            "_view_count": null,
            "_view_module": "@jupyter-widgets/base",
            "_view_module_version": "1.2.0",
            "_view_name": "LayoutView",
            "align_content": null,
            "align_items": null,
            "align_self": null,
            "border": null,
            "bottom": null,
            "display": null,
            "flex": null,
            "flex_flow": null,
            "grid_area": null,
            "grid_auto_columns": null,
            "grid_auto_flow": null,
            "grid_auto_rows": null,
            "grid_column": null,
            "grid_gap": null,
            "grid_row": null,
            "grid_template_areas": null,
            "grid_template_columns": null,
            "grid_template_rows": null,
            "height": null,
            "justify_content": null,
            "justify_items": null,
            "left": null,
            "margin": null,
            "max_height": null,
            "max_width": null,
            "min_height": null,
            "min_width": null,
            "object_fit": null,
            "object_position": null,
            "order": null,
            "overflow": null,
            "overflow_x": null,
            "overflow_y": null,
            "padding": null,
            "right": null,
            "top": null,
            "visibility": null,
            "width": null
          }
        },
        "9c8bcd016c7844448dd76eec157b0d86": {
          "model_module": "@jupyter-widgets/controls",
          "model_name": "DescriptionStyleModel",
          "model_module_version": "1.5.0",
          "state": {
            "_model_module": "@jupyter-widgets/controls",
            "_model_module_version": "1.5.0",
            "_model_name": "DescriptionStyleModel",
            "_view_count": null,
            "_view_module": "@jupyter-widgets/base",
            "_view_module_version": "1.2.0",
            "_view_name": "StyleView",
            "description_width": ""
          }
        },
        "fe647ac3808a4b0a9f7f88ffe1fb2136": {
          "model_module": "@jupyter-widgets/controls",
          "model_name": "HBoxModel",
          "model_module_version": "1.5.0",
          "state": {
            "_dom_classes": [],
            "_model_module": "@jupyter-widgets/controls",
            "_model_module_version": "1.5.0",
            "_model_name": "HBoxModel",
            "_view_count": null,
            "_view_module": "@jupyter-widgets/controls",
            "_view_module_version": "1.5.0",
            "_view_name": "HBoxView",
            "box_style": "",
            "children": [
              "IPY_MODEL_72115201339843a4aa27b7dcff71513e",
              "IPY_MODEL_a8aa7dbc45884e03ac80106d2f1f2279",
              "IPY_MODEL_d7c5dd998b40482fa1a8e861f0fb7f9a"
            ],
            "layout": "IPY_MODEL_b2a94fef0ea143908f7ae8df947a12e1"
          }
        },
        "72115201339843a4aa27b7dcff71513e": {
          "model_module": "@jupyter-widgets/controls",
          "model_name": "HTMLModel",
          "model_module_version": "1.5.0",
          "state": {
            "_dom_classes": [],
            "_model_module": "@jupyter-widgets/controls",
            "_model_module_version": "1.5.0",
            "_model_name": "HTMLModel",
            "_view_count": null,
            "_view_module": "@jupyter-widgets/controls",
            "_view_module_version": "1.5.0",
            "_view_name": "HTMLView",
            "description": "",
            "description_tooltip": null,
            "layout": "IPY_MODEL_425c65e2e45b456f845e49858d2d21e7",
            "placeholder": "​",
            "style": "IPY_MODEL_4cf6e2150c064f9cb10e7a664b8b93f5",
            "value": "100%"
          }
        },
        "a8aa7dbc45884e03ac80106d2f1f2279": {
          "model_module": "@jupyter-widgets/controls",
          "model_name": "FloatProgressModel",
          "model_module_version": "1.5.0",
          "state": {
            "_dom_classes": [],
            "_model_module": "@jupyter-widgets/controls",
            "_model_module_version": "1.5.0",
            "_model_name": "FloatProgressModel",
            "_view_count": null,
            "_view_module": "@jupyter-widgets/controls",
            "_view_module_version": "1.5.0",
            "_view_name": "ProgressView",
            "bar_style": "success",
            "description": "",
            "description_tooltip": null,
            "layout": "IPY_MODEL_aa52a4cc70d24c9a9b2a3ac179096ace",
            "max": 4422102,
            "min": 0,
            "orientation": "horizontal",
            "style": "IPY_MODEL_189b77d787884924946953db28ef122a",
            "value": 4422102
          }
        },
        "d7c5dd998b40482fa1a8e861f0fb7f9a": {
          "model_module": "@jupyter-widgets/controls",
          "model_name": "HTMLModel",
          "model_module_version": "1.5.0",
          "state": {
            "_dom_classes": [],
            "_model_module": "@jupyter-widgets/controls",
            "_model_module_version": "1.5.0",
            "_model_name": "HTMLModel",
            "_view_count": null,
            "_view_module": "@jupyter-widgets/controls",
            "_view_module_version": "1.5.0",
            "_view_name": "HTMLView",
            "description": "",
            "description_tooltip": null,
            "layout": "IPY_MODEL_5639586b87a14f558e01a6fdf34bd786",
            "placeholder": "​",
            "style": "IPY_MODEL_036e0dd5e1024e2db9e739f864a71c10",
            "value": " 4422102/4422102 [00:01&lt;00:00, 4485524.87it/s]"
          }
        },
        "b2a94fef0ea143908f7ae8df947a12e1": {
          "model_module": "@jupyter-widgets/base",
          "model_name": "LayoutModel",
          "model_module_version": "1.2.0",
          "state": {
            "_model_module": "@jupyter-widgets/base",
            "_model_module_version": "1.2.0",
            "_model_name": "LayoutModel",
            "_view_count": null,
            "_view_module": "@jupyter-widgets/base",
            "_view_module_version": "1.2.0",
            "_view_name": "LayoutView",
            "align_content": null,
            "align_items": null,
            "align_self": null,
            "border": null,
            "bottom": null,
            "display": null,
            "flex": null,
            "flex_flow": null,
            "grid_area": null,
            "grid_auto_columns": null,
            "grid_auto_flow": null,
            "grid_auto_rows": null,
            "grid_column": null,
            "grid_gap": null,
            "grid_row": null,
            "grid_template_areas": null,
            "grid_template_columns": null,
            "grid_template_rows": null,
            "height": null,
            "justify_content": null,
            "justify_items": null,
            "left": null,
            "margin": null,
            "max_height": null,
            "max_width": null,
            "min_height": null,
            "min_width": null,
            "object_fit": null,
            "object_position": null,
            "order": null,
            "overflow": null,
            "overflow_x": null,
            "overflow_y": null,
            "padding": null,
            "right": null,
            "top": null,
            "visibility": null,
            "width": null
          }
        },
        "425c65e2e45b456f845e49858d2d21e7": {
          "model_module": "@jupyter-widgets/base",
          "model_name": "LayoutModel",
          "model_module_version": "1.2.0",
          "state": {
            "_model_module": "@jupyter-widgets/base",
            "_model_module_version": "1.2.0",
            "_model_name": "LayoutModel",
            "_view_count": null,
            "_view_module": "@jupyter-widgets/base",
            "_view_module_version": "1.2.0",
            "_view_name": "LayoutView",
            "align_content": null,
            "align_items": null,
            "align_self": null,
            "border": null,
            "bottom": null,
            "display": null,
            "flex": null,
            "flex_flow": null,
            "grid_area": null,
            "grid_auto_columns": null,
            "grid_auto_flow": null,
            "grid_auto_rows": null,
            "grid_column": null,
            "grid_gap": null,
            "grid_row": null,
            "grid_template_areas": null,
            "grid_template_columns": null,
            "grid_template_rows": null,
            "height": null,
            "justify_content": null,
            "justify_items": null,
            "left": null,
            "margin": null,
            "max_height": null,
            "max_width": null,
            "min_height": null,
            "min_width": null,
            "object_fit": null,
            "object_position": null,
            "order": null,
            "overflow": null,
            "overflow_x": null,
            "overflow_y": null,
            "padding": null,
            "right": null,
            "top": null,
            "visibility": null,
            "width": null
          }
        },
        "4cf6e2150c064f9cb10e7a664b8b93f5": {
          "model_module": "@jupyter-widgets/controls",
          "model_name": "DescriptionStyleModel",
          "model_module_version": "1.5.0",
          "state": {
            "_model_module": "@jupyter-widgets/controls",
            "_model_module_version": "1.5.0",
            "_model_name": "DescriptionStyleModel",
            "_view_count": null,
            "_view_module": "@jupyter-widgets/base",
            "_view_module_version": "1.2.0",
            "_view_name": "StyleView",
            "description_width": ""
          }
        },
        "aa52a4cc70d24c9a9b2a3ac179096ace": {
          "model_module": "@jupyter-widgets/base",
          "model_name": "LayoutModel",
          "model_module_version": "1.2.0",
          "state": {
            "_model_module": "@jupyter-widgets/base",
            "_model_module_version": "1.2.0",
            "_model_name": "LayoutModel",
            "_view_count": null,
            "_view_module": "@jupyter-widgets/base",
            "_view_module_version": "1.2.0",
            "_view_name": "LayoutView",
            "align_content": null,
            "align_items": null,
            "align_self": null,
            "border": null,
            "bottom": null,
            "display": null,
            "flex": null,
            "flex_flow": null,
            "grid_area": null,
            "grid_auto_columns": null,
            "grid_auto_flow": null,
            "grid_auto_rows": null,
            "grid_column": null,
            "grid_gap": null,
            "grid_row": null,
            "grid_template_areas": null,
            "grid_template_columns": null,
            "grid_template_rows": null,
            "height": null,
            "justify_content": null,
            "justify_items": null,
            "left": null,
            "margin": null,
            "max_height": null,
            "max_width": null,
            "min_height": null,
            "min_width": null,
            "object_fit": null,
            "object_position": null,
            "order": null,
            "overflow": null,
            "overflow_x": null,
            "overflow_y": null,
            "padding": null,
            "right": null,
            "top": null,
            "visibility": null,
            "width": null
          }
        },
        "189b77d787884924946953db28ef122a": {
          "model_module": "@jupyter-widgets/controls",
          "model_name": "ProgressStyleModel",
          "model_module_version": "1.5.0",
          "state": {
            "_model_module": "@jupyter-widgets/controls",
            "_model_module_version": "1.5.0",
            "_model_name": "ProgressStyleModel",
            "_view_count": null,
            "_view_module": "@jupyter-widgets/base",
            "_view_module_version": "1.2.0",
            "_view_name": "StyleView",
            "bar_color": null,
            "description_width": ""
          }
        },
        "5639586b87a14f558e01a6fdf34bd786": {
          "model_module": "@jupyter-widgets/base",
          "model_name": "LayoutModel",
          "model_module_version": "1.2.0",
          "state": {
            "_model_module": "@jupyter-widgets/base",
            "_model_module_version": "1.2.0",
            "_model_name": "LayoutModel",
            "_view_count": null,
            "_view_module": "@jupyter-widgets/base",
            "_view_module_version": "1.2.0",
            "_view_name": "LayoutView",
            "align_content": null,
            "align_items": null,
            "align_self": null,
            "border": null,
            "bottom": null,
            "display": null,
            "flex": null,
            "flex_flow": null,
            "grid_area": null,
            "grid_auto_columns": null,
            "grid_auto_flow": null,
            "grid_auto_rows": null,
            "grid_column": null,
            "grid_gap": null,
            "grid_row": null,
            "grid_template_areas": null,
            "grid_template_columns": null,
            "grid_template_rows": null,
            "height": null,
            "justify_content": null,
            "justify_items": null,
            "left": null,
            "margin": null,
            "max_height": null,
            "max_width": null,
            "min_height": null,
            "min_width": null,
            "object_fit": null,
            "object_position": null,
            "order": null,
            "overflow": null,
            "overflow_x": null,
            "overflow_y": null,
            "padding": null,
            "right": null,
            "top": null,
            "visibility": null,
            "width": null
          }
        },
        "036e0dd5e1024e2db9e739f864a71c10": {
          "model_module": "@jupyter-widgets/controls",
          "model_name": "DescriptionStyleModel",
          "model_module_version": "1.5.0",
          "state": {
            "_model_module": "@jupyter-widgets/controls",
            "_model_module_version": "1.5.0",
            "_model_name": "DescriptionStyleModel",
            "_view_count": null,
            "_view_module": "@jupyter-widgets/base",
            "_view_module_version": "1.2.0",
            "_view_name": "StyleView",
            "description_width": ""
          }
        },
        "b20964a6c61043bd83b70b52d78f3230": {
          "model_module": "@jupyter-widgets/controls",
          "model_name": "HBoxModel",
          "model_module_version": "1.5.0",
          "state": {
            "_dom_classes": [],
            "_model_module": "@jupyter-widgets/controls",
            "_model_module_version": "1.5.0",
            "_model_name": "HBoxModel",
            "_view_count": null,
            "_view_module": "@jupyter-widgets/controls",
            "_view_module_version": "1.5.0",
            "_view_name": "HBoxView",
            "box_style": "",
            "children": [
              "IPY_MODEL_9bfad3976e2e46f389a78322d44bfdaf",
              "IPY_MODEL_0a2f0f1ac79040c9acf483bd68947f82",
              "IPY_MODEL_1e85f372587340719df1acbfac9556d3"
            ],
            "layout": "IPY_MODEL_9c880f13390d4f00a6381442987737ed"
          }
        },
        "9bfad3976e2e46f389a78322d44bfdaf": {
          "model_module": "@jupyter-widgets/controls",
          "model_name": "HTMLModel",
          "model_module_version": "1.5.0",
          "state": {
            "_dom_classes": [],
            "_model_module": "@jupyter-widgets/controls",
            "_model_module_version": "1.5.0",
            "_model_name": "HTMLModel",
            "_view_count": null,
            "_view_module": "@jupyter-widgets/controls",
            "_view_module_version": "1.5.0",
            "_view_name": "HTMLView",
            "description": "",
            "description_tooltip": null,
            "layout": "IPY_MODEL_ff6555f18dd14e218d65881d4358dbdc",
            "placeholder": "​",
            "style": "IPY_MODEL_4907e7659da94ec89a4f1361b6661eb0",
            "value": "100%"
          }
        },
        "0a2f0f1ac79040c9acf483bd68947f82": {
          "model_module": "@jupyter-widgets/controls",
          "model_name": "FloatProgressModel",
          "model_module_version": "1.5.0",
          "state": {
            "_dom_classes": [],
            "_model_module": "@jupyter-widgets/controls",
            "_model_module_version": "1.5.0",
            "_model_name": "FloatProgressModel",
            "_view_count": null,
            "_view_module": "@jupyter-widgets/controls",
            "_view_module_version": "1.5.0",
            "_view_name": "ProgressView",
            "bar_style": "success",
            "description": "",
            "description_tooltip": null,
            "layout": "IPY_MODEL_f56700aa951c490b995ce6fcbceb86fe",
            "max": 5148,
            "min": 0,
            "orientation": "horizontal",
            "style": "IPY_MODEL_c16b5123dc3f4577b3a207203e66602c",
            "value": 5148
          }
        },
        "1e85f372587340719df1acbfac9556d3": {
          "model_module": "@jupyter-widgets/controls",
          "model_name": "HTMLModel",
          "model_module_version": "1.5.0",
          "state": {
            "_dom_classes": [],
            "_model_module": "@jupyter-widgets/controls",
            "_model_module_version": "1.5.0",
            "_model_name": "HTMLModel",
            "_view_count": null,
            "_view_module": "@jupyter-widgets/controls",
            "_view_module_version": "1.5.0",
            "_view_name": "HTMLView",
            "description": "",
            "description_tooltip": null,
            "layout": "IPY_MODEL_b5bd641cdd0043b2bc8283e63bf63887",
            "placeholder": "​",
            "style": "IPY_MODEL_1e9384a46e8b48ac9f1f26f218bcf4e1",
            "value": " 5148/5148 [00:00&lt;00:00, 184220.30it/s]"
          }
        },
        "9c880f13390d4f00a6381442987737ed": {
          "model_module": "@jupyter-widgets/base",
          "model_name": "LayoutModel",
          "model_module_version": "1.2.0",
          "state": {
            "_model_module": "@jupyter-widgets/base",
            "_model_module_version": "1.2.0",
            "_model_name": "LayoutModel",
            "_view_count": null,
            "_view_module": "@jupyter-widgets/base",
            "_view_module_version": "1.2.0",
            "_view_name": "LayoutView",
            "align_content": null,
            "align_items": null,
            "align_self": null,
            "border": null,
            "bottom": null,
            "display": null,
            "flex": null,
            "flex_flow": null,
            "grid_area": null,
            "grid_auto_columns": null,
            "grid_auto_flow": null,
            "grid_auto_rows": null,
            "grid_column": null,
            "grid_gap": null,
            "grid_row": null,
            "grid_template_areas": null,
            "grid_template_columns": null,
            "grid_template_rows": null,
            "height": null,
            "justify_content": null,
            "justify_items": null,
            "left": null,
            "margin": null,
            "max_height": null,
            "max_width": null,
            "min_height": null,
            "min_width": null,
            "object_fit": null,
            "object_position": null,
            "order": null,
            "overflow": null,
            "overflow_x": null,
            "overflow_y": null,
            "padding": null,
            "right": null,
            "top": null,
            "visibility": null,
            "width": null
          }
        },
        "ff6555f18dd14e218d65881d4358dbdc": {
          "model_module": "@jupyter-widgets/base",
          "model_name": "LayoutModel",
          "model_module_version": "1.2.0",
          "state": {
            "_model_module": "@jupyter-widgets/base",
            "_model_module_version": "1.2.0",
            "_model_name": "LayoutModel",
            "_view_count": null,
            "_view_module": "@jupyter-widgets/base",
            "_view_module_version": "1.2.0",
            "_view_name": "LayoutView",
            "align_content": null,
            "align_items": null,
            "align_self": null,
            "border": null,
            "bottom": null,
            "display": null,
            "flex": null,
            "flex_flow": null,
            "grid_area": null,
            "grid_auto_columns": null,
            "grid_auto_flow": null,
            "grid_auto_rows": null,
            "grid_column": null,
            "grid_gap": null,
            "grid_row": null,
            "grid_template_areas": null,
            "grid_template_columns": null,
            "grid_template_rows": null,
            "height": null,
            "justify_content": null,
            "justify_items": null,
            "left": null,
            "margin": null,
            "max_height": null,
            "max_width": null,
            "min_height": null,
            "min_width": null,
            "object_fit": null,
            "object_position": null,
            "order": null,
            "overflow": null,
            "overflow_x": null,
            "overflow_y": null,
            "padding": null,
            "right": null,
            "top": null,
            "visibility": null,
            "width": null
          }
        },
        "4907e7659da94ec89a4f1361b6661eb0": {
          "model_module": "@jupyter-widgets/controls",
          "model_name": "DescriptionStyleModel",
          "model_module_version": "1.5.0",
          "state": {
            "_model_module": "@jupyter-widgets/controls",
            "_model_module_version": "1.5.0",
            "_model_name": "DescriptionStyleModel",
            "_view_count": null,
            "_view_module": "@jupyter-widgets/base",
            "_view_module_version": "1.2.0",
            "_view_name": "StyleView",
            "description_width": ""
          }
        },
        "f56700aa951c490b995ce6fcbceb86fe": {
          "model_module": "@jupyter-widgets/base",
          "model_name": "LayoutModel",
          "model_module_version": "1.2.0",
          "state": {
            "_model_module": "@jupyter-widgets/base",
            "_model_module_version": "1.2.0",
            "_model_name": "LayoutModel",
            "_view_count": null,
            "_view_module": "@jupyter-widgets/base",
            "_view_module_version": "1.2.0",
            "_view_name": "LayoutView",
            "align_content": null,
            "align_items": null,
            "align_self": null,
            "border": null,
            "bottom": null,
            "display": null,
            "flex": null,
            "flex_flow": null,
            "grid_area": null,
            "grid_auto_columns": null,
            "grid_auto_flow": null,
            "grid_auto_rows": null,
            "grid_column": null,
            "grid_gap": null,
            "grid_row": null,
            "grid_template_areas": null,
            "grid_template_columns": null,
            "grid_template_rows": null,
            "height": null,
            "justify_content": null,
            "justify_items": null,
            "left": null,
            "margin": null,
            "max_height": null,
            "max_width": null,
            "min_height": null,
            "min_width": null,
            "object_fit": null,
            "object_position": null,
            "order": null,
            "overflow": null,
            "overflow_x": null,
            "overflow_y": null,
            "padding": null,
            "right": null,
            "top": null,
            "visibility": null,
            "width": null
          }
        },
        "c16b5123dc3f4577b3a207203e66602c": {
          "model_module": "@jupyter-widgets/controls",
          "model_name": "ProgressStyleModel",
          "model_module_version": "1.5.0",
          "state": {
            "_model_module": "@jupyter-widgets/controls",
            "_model_module_version": "1.5.0",
            "_model_name": "ProgressStyleModel",
            "_view_count": null,
            "_view_module": "@jupyter-widgets/base",
            "_view_module_version": "1.2.0",
            "_view_name": "StyleView",
            "bar_color": null,
            "description_width": ""
          }
        },
        "b5bd641cdd0043b2bc8283e63bf63887": {
          "model_module": "@jupyter-widgets/base",
          "model_name": "LayoutModel",
          "model_module_version": "1.2.0",
          "state": {
            "_model_module": "@jupyter-widgets/base",
            "_model_module_version": "1.2.0",
            "_model_name": "LayoutModel",
            "_view_count": null,
            "_view_module": "@jupyter-widgets/base",
            "_view_module_version": "1.2.0",
            "_view_name": "LayoutView",
            "align_content": null,
            "align_items": null,
            "align_self": null,
            "border": null,
            "bottom": null,
            "display": null,
            "flex": null,
            "flex_flow": null,
            "grid_area": null,
            "grid_auto_columns": null,
            "grid_auto_flow": null,
            "grid_auto_rows": null,
            "grid_column": null,
            "grid_gap": null,
            "grid_row": null,
            "grid_template_areas": null,
            "grid_template_columns": null,
            "grid_template_rows": null,
            "height": null,
            "justify_content": null,
            "justify_items": null,
            "left": null,
            "margin": null,
            "max_height": null,
            "max_width": null,
            "min_height": null,
            "min_width": null,
            "object_fit": null,
            "object_position": null,
            "order": null,
            "overflow": null,
            "overflow_x": null,
            "overflow_y": null,
            "padding": null,
            "right": null,
            "top": null,
            "visibility": null,
            "width": null
          }
        },
        "1e9384a46e8b48ac9f1f26f218bcf4e1": {
          "model_module": "@jupyter-widgets/controls",
          "model_name": "DescriptionStyleModel",
          "model_module_version": "1.5.0",
          "state": {
            "_model_module": "@jupyter-widgets/controls",
            "_model_module_version": "1.5.0",
            "_model_name": "DescriptionStyleModel",
            "_view_count": null,
            "_view_module": "@jupyter-widgets/base",
            "_view_module_version": "1.2.0",
            "_view_name": "StyleView",
            "description_width": ""
          }
        },
        "9e66c67ae4664fb1b33c9d101940061e": {
          "model_module": "@jupyter-widgets/controls",
          "model_name": "HBoxModel",
          "model_module_version": "1.5.0",
          "state": {
            "_dom_classes": [],
            "_model_module": "@jupyter-widgets/controls",
            "_model_module_version": "1.5.0",
            "_model_name": "HBoxModel",
            "_view_count": null,
            "_view_module": "@jupyter-widgets/controls",
            "_view_module_version": "1.5.0",
            "_view_name": "HBoxView",
            "box_style": "",
            "children": [
              "IPY_MODEL_41c55b1c86264ec9b65d0895230281cc",
              "IPY_MODEL_1e1d6818c9cd491f9992cb326e006740",
              "IPY_MODEL_717f4d98f3804b70be6ede448f27719f"
            ],
            "layout": "IPY_MODEL_bc3b524bf7b24facbb756e035d66beae"
          }
        },
        "41c55b1c86264ec9b65d0895230281cc": {
          "model_module": "@jupyter-widgets/controls",
          "model_name": "HTMLModel",
          "model_module_version": "1.5.0",
          "state": {
            "_dom_classes": [],
            "_model_module": "@jupyter-widgets/controls",
            "_model_module_version": "1.5.0",
            "_model_name": "HTMLModel",
            "_view_count": null,
            "_view_module": "@jupyter-widgets/controls",
            "_view_module_version": "1.5.0",
            "_view_name": "HTMLView",
            "description": "",
            "description_tooltip": null,
            "layout": "IPY_MODEL_a1a3749f389449c891d6a707fae953fc",
            "placeholder": "​",
            "style": "IPY_MODEL_d5df357b6816414a93ffc570a7b32d89",
            "value": "100%"
          }
        },
        "1e1d6818c9cd491f9992cb326e006740": {
          "model_module": "@jupyter-widgets/controls",
          "model_name": "FloatProgressModel",
          "model_module_version": "1.5.0",
          "state": {
            "_dom_classes": [],
            "_model_module": "@jupyter-widgets/controls",
            "_model_module_version": "1.5.0",
            "_model_name": "FloatProgressModel",
            "_view_count": null,
            "_view_module": "@jupyter-widgets/controls",
            "_view_module_version": "1.5.0",
            "_view_name": "ProgressView",
            "bar_style": "success",
            "description": "",
            "description_tooltip": null,
            "layout": "IPY_MODEL_5dfd846e3f854c90923d180f9b43dc4b",
            "max": 170498071,
            "min": 0,
            "orientation": "horizontal",
            "style": "IPY_MODEL_6eedbdaad488466eb7f446ae267b7c31",
            "value": 170498071
          }
        },
        "717f4d98f3804b70be6ede448f27719f": {
          "model_module": "@jupyter-widgets/controls",
          "model_name": "HTMLModel",
          "model_module_version": "1.5.0",
          "state": {
            "_dom_classes": [],
            "_model_module": "@jupyter-widgets/controls",
            "_model_module_version": "1.5.0",
            "_model_name": "HTMLModel",
            "_view_count": null,
            "_view_module": "@jupyter-widgets/controls",
            "_view_module_version": "1.5.0",
            "_view_name": "HTMLView",
            "description": "",
            "description_tooltip": null,
            "layout": "IPY_MODEL_1cbb272370a64975bf477aca147d316a",
            "placeholder": "​",
            "style": "IPY_MODEL_f6e548d1041c45a1b257d5fa64bebc29",
            "value": " 170498071/170498071 [00:14&lt;00:00, 13538871.58it/s]"
          }
        },
        "bc3b524bf7b24facbb756e035d66beae": {
          "model_module": "@jupyter-widgets/base",
          "model_name": "LayoutModel",
          "model_module_version": "1.2.0",
          "state": {
            "_model_module": "@jupyter-widgets/base",
            "_model_module_version": "1.2.0",
            "_model_name": "LayoutModel",
            "_view_count": null,
            "_view_module": "@jupyter-widgets/base",
            "_view_module_version": "1.2.0",
            "_view_name": "LayoutView",
            "align_content": null,
            "align_items": null,
            "align_self": null,
            "border": null,
            "bottom": null,
            "display": null,
            "flex": null,
            "flex_flow": null,
            "grid_area": null,
            "grid_auto_columns": null,
            "grid_auto_flow": null,
            "grid_auto_rows": null,
            "grid_column": null,
            "grid_gap": null,
            "grid_row": null,
            "grid_template_areas": null,
            "grid_template_columns": null,
            "grid_template_rows": null,
            "height": null,
            "justify_content": null,
            "justify_items": null,
            "left": null,
            "margin": null,
            "max_height": null,
            "max_width": null,
            "min_height": null,
            "min_width": null,
            "object_fit": null,
            "object_position": null,
            "order": null,
            "overflow": null,
            "overflow_x": null,
            "overflow_y": null,
            "padding": null,
            "right": null,
            "top": null,
            "visibility": null,
            "width": null
          }
        },
        "a1a3749f389449c891d6a707fae953fc": {
          "model_module": "@jupyter-widgets/base",
          "model_name": "LayoutModel",
          "model_module_version": "1.2.0",
          "state": {
            "_model_module": "@jupyter-widgets/base",
            "_model_module_version": "1.2.0",
            "_model_name": "LayoutModel",
            "_view_count": null,
            "_view_module": "@jupyter-widgets/base",
            "_view_module_version": "1.2.0",
            "_view_name": "LayoutView",
            "align_content": null,
            "align_items": null,
            "align_self": null,
            "border": null,
            "bottom": null,
            "display": null,
            "flex": null,
            "flex_flow": null,
            "grid_area": null,
            "grid_auto_columns": null,
            "grid_auto_flow": null,
            "grid_auto_rows": null,
            "grid_column": null,
            "grid_gap": null,
            "grid_row": null,
            "grid_template_areas": null,
            "grid_template_columns": null,
            "grid_template_rows": null,
            "height": null,
            "justify_content": null,
            "justify_items": null,
            "left": null,
            "margin": null,
            "max_height": null,
            "max_width": null,
            "min_height": null,
            "min_width": null,
            "object_fit": null,
            "object_position": null,
            "order": null,
            "overflow": null,
            "overflow_x": null,
            "overflow_y": null,
            "padding": null,
            "right": null,
            "top": null,
            "visibility": null,
            "width": null
          }
        },
        "d5df357b6816414a93ffc570a7b32d89": {
          "model_module": "@jupyter-widgets/controls",
          "model_name": "DescriptionStyleModel",
          "model_module_version": "1.5.0",
          "state": {
            "_model_module": "@jupyter-widgets/controls",
            "_model_module_version": "1.5.0",
            "_model_name": "DescriptionStyleModel",
            "_view_count": null,
            "_view_module": "@jupyter-widgets/base",
            "_view_module_version": "1.2.0",
            "_view_name": "StyleView",
            "description_width": ""
          }
        },
        "5dfd846e3f854c90923d180f9b43dc4b": {
          "model_module": "@jupyter-widgets/base",
          "model_name": "LayoutModel",
          "model_module_version": "1.2.0",
          "state": {
            "_model_module": "@jupyter-widgets/base",
            "_model_module_version": "1.2.0",
            "_model_name": "LayoutModel",
            "_view_count": null,
            "_view_module": "@jupyter-widgets/base",
            "_view_module_version": "1.2.0",
            "_view_name": "LayoutView",
            "align_content": null,
            "align_items": null,
            "align_self": null,
            "border": null,
            "bottom": null,
            "display": null,
            "flex": null,
            "flex_flow": null,
            "grid_area": null,
            "grid_auto_columns": null,
            "grid_auto_flow": null,
            "grid_auto_rows": null,
            "grid_column": null,
            "grid_gap": null,
            "grid_row": null,
            "grid_template_areas": null,
            "grid_template_columns": null,
            "grid_template_rows": null,
            "height": null,
            "justify_content": null,
            "justify_items": null,
            "left": null,
            "margin": null,
            "max_height": null,
            "max_width": null,
            "min_height": null,
            "min_width": null,
            "object_fit": null,
            "object_position": null,
            "order": null,
            "overflow": null,
            "overflow_x": null,
            "overflow_y": null,
            "padding": null,
            "right": null,
            "top": null,
            "visibility": null,
            "width": null
          }
        },
        "6eedbdaad488466eb7f446ae267b7c31": {
          "model_module": "@jupyter-widgets/controls",
          "model_name": "ProgressStyleModel",
          "model_module_version": "1.5.0",
          "state": {
            "_model_module": "@jupyter-widgets/controls",
            "_model_module_version": "1.5.0",
            "_model_name": "ProgressStyleModel",
            "_view_count": null,
            "_view_module": "@jupyter-widgets/base",
            "_view_module_version": "1.2.0",
            "_view_name": "StyleView",
            "bar_color": null,
            "description_width": ""
          }
        },
        "1cbb272370a64975bf477aca147d316a": {
          "model_module": "@jupyter-widgets/base",
          "model_name": "LayoutModel",
          "model_module_version": "1.2.0",
          "state": {
            "_model_module": "@jupyter-widgets/base",
            "_model_module_version": "1.2.0",
            "_model_name": "LayoutModel",
            "_view_count": null,
            "_view_module": "@jupyter-widgets/base",
            "_view_module_version": "1.2.0",
            "_view_name": "LayoutView",
            "align_content": null,
            "align_items": null,
            "align_self": null,
            "border": null,
            "bottom": null,
            "display": null,
            "flex": null,
            "flex_flow": null,
            "grid_area": null,
            "grid_auto_columns": null,
            "grid_auto_flow": null,
            "grid_auto_rows": null,
            "grid_column": null,
            "grid_gap": null,
            "grid_row": null,
            "grid_template_areas": null,
            "grid_template_columns": null,
            "grid_template_rows": null,
            "height": null,
            "justify_content": null,
            "justify_items": null,
            "left": null,
            "margin": null,
            "max_height": null,
            "max_width": null,
            "min_height": null,
            "min_width": null,
            "object_fit": null,
            "object_position": null,
            "order": null,
            "overflow": null,
            "overflow_x": null,
            "overflow_y": null,
            "padding": null,
            "right": null,
            "top": null,
            "visibility": null,
            "width": null
          }
        },
        "f6e548d1041c45a1b257d5fa64bebc29": {
          "model_module": "@jupyter-widgets/controls",
          "model_name": "DescriptionStyleModel",
          "model_module_version": "1.5.0",
          "state": {
            "_model_module": "@jupyter-widgets/controls",
            "_model_module_version": "1.5.0",
            "_model_name": "DescriptionStyleModel",
            "_view_count": null,
            "_view_module": "@jupyter-widgets/base",
            "_view_module_version": "1.2.0",
            "_view_name": "StyleView",
            "description_width": ""
          }
        },
        "851c34477de649769380a9078a1280fd": {
          "model_module": "@jupyter-widgets/controls",
          "model_name": "HBoxModel",
          "model_module_version": "1.5.0",
          "state": {
            "_dom_classes": [],
            "_model_module": "@jupyter-widgets/controls",
            "_model_module_version": "1.5.0",
            "_model_name": "HBoxModel",
            "_view_count": null,
            "_view_module": "@jupyter-widgets/controls",
            "_view_module_version": "1.5.0",
            "_view_name": "HBoxView",
            "box_style": "",
            "children": [
              "IPY_MODEL_dced17671aaa47fd9132586925a33e81",
              "IPY_MODEL_1d25a8fb1487457e8a3c43b21e04a828",
              "IPY_MODEL_67fe55d2b44946298744a77c3a2dfe4e"
            ],
            "layout": "IPY_MODEL_fe5e188b7478493a8a3f16f839a1e62a"
          }
        },
        "dced17671aaa47fd9132586925a33e81": {
          "model_module": "@jupyter-widgets/controls",
          "model_name": "HTMLModel",
          "model_module_version": "1.5.0",
          "state": {
            "_dom_classes": [],
            "_model_module": "@jupyter-widgets/controls",
            "_model_module_version": "1.5.0",
            "_model_name": "HTMLModel",
            "_view_count": null,
            "_view_module": "@jupyter-widgets/controls",
            "_view_module_version": "1.5.0",
            "_view_name": "HTMLView",
            "description": "",
            "description_tooltip": null,
            "layout": "IPY_MODEL_35710cf113b6448397efe92a18ad1f4f",
            "placeholder": "​",
            "style": "IPY_MODEL_3d57fe5a102f46aaa59c99125a207d8d",
            "value": "100%"
          }
        },
        "1d25a8fb1487457e8a3c43b21e04a828": {
          "model_module": "@jupyter-widgets/controls",
          "model_name": "FloatProgressModel",
          "model_module_version": "1.5.0",
          "state": {
            "_dom_classes": [],
            "_model_module": "@jupyter-widgets/controls",
            "_model_module_version": "1.5.0",
            "_model_name": "FloatProgressModel",
            "_view_count": null,
            "_view_module": "@jupyter-widgets/controls",
            "_view_module_version": "1.5.0",
            "_view_name": "ProgressView",
            "bar_style": "success",
            "description": "",
            "description_tooltip": null,
            "layout": "IPY_MODEL_97a766eff67246fab0e9a2efe91dda05",
            "max": 64275384,
            "min": 0,
            "orientation": "horizontal",
            "style": "IPY_MODEL_4f83cd087eff44abb4becbed61cd9657",
            "value": 64275384
          }
        },
        "67fe55d2b44946298744a77c3a2dfe4e": {
          "model_module": "@jupyter-widgets/controls",
          "model_name": "HTMLModel",
          "model_module_version": "1.5.0",
          "state": {
            "_dom_classes": [],
            "_model_module": "@jupyter-widgets/controls",
            "_model_module_version": "1.5.0",
            "_model_name": "HTMLModel",
            "_view_count": null,
            "_view_module": "@jupyter-widgets/controls",
            "_view_module_version": "1.5.0",
            "_view_name": "HTMLView",
            "description": "",
            "description_tooltip": null,
            "layout": "IPY_MODEL_624bb22401e7477ca1faeb31ced9c07f",
            "placeholder": "​",
            "style": "IPY_MODEL_f5ac5ebdea614803993bf63559731ab6",
            "value": " 64275384/64275384 [00:07&lt;00:00, 15540756.76it/s]"
          }
        },
        "fe5e188b7478493a8a3f16f839a1e62a": {
          "model_module": "@jupyter-widgets/base",
          "model_name": "LayoutModel",
          "model_module_version": "1.2.0",
          "state": {
            "_model_module": "@jupyter-widgets/base",
            "_model_module_version": "1.2.0",
            "_model_name": "LayoutModel",
            "_view_count": null,
            "_view_module": "@jupyter-widgets/base",
            "_view_module_version": "1.2.0",
            "_view_name": "LayoutView",
            "align_content": null,
            "align_items": null,
            "align_self": null,
            "border": null,
            "bottom": null,
            "display": null,
            "flex": null,
            "flex_flow": null,
            "grid_area": null,
            "grid_auto_columns": null,
            "grid_auto_flow": null,
            "grid_auto_rows": null,
            "grid_column": null,
            "grid_gap": null,
            "grid_row": null,
            "grid_template_areas": null,
            "grid_template_columns": null,
            "grid_template_rows": null,
            "height": null,
            "justify_content": null,
            "justify_items": null,
            "left": null,
            "margin": null,
            "max_height": null,
            "max_width": null,
            "min_height": null,
            "min_width": null,
            "object_fit": null,
            "object_position": null,
            "order": null,
            "overflow": null,
            "overflow_x": null,
            "overflow_y": null,
            "padding": null,
            "right": null,
            "top": null,
            "visibility": null,
            "width": null
          }
        },
        "35710cf113b6448397efe92a18ad1f4f": {
          "model_module": "@jupyter-widgets/base",
          "model_name": "LayoutModel",
          "model_module_version": "1.2.0",
          "state": {
            "_model_module": "@jupyter-widgets/base",
            "_model_module_version": "1.2.0",
            "_model_name": "LayoutModel",
            "_view_count": null,
            "_view_module": "@jupyter-widgets/base",
            "_view_module_version": "1.2.0",
            "_view_name": "LayoutView",
            "align_content": null,
            "align_items": null,
            "align_self": null,
            "border": null,
            "bottom": null,
            "display": null,
            "flex": null,
            "flex_flow": null,
            "grid_area": null,
            "grid_auto_columns": null,
            "grid_auto_flow": null,
            "grid_auto_rows": null,
            "grid_column": null,
            "grid_gap": null,
            "grid_row": null,
            "grid_template_areas": null,
            "grid_template_columns": null,
            "grid_template_rows": null,
            "height": null,
            "justify_content": null,
            "justify_items": null,
            "left": null,
            "margin": null,
            "max_height": null,
            "max_width": null,
            "min_height": null,
            "min_width": null,
            "object_fit": null,
            "object_position": null,
            "order": null,
            "overflow": null,
            "overflow_x": null,
            "overflow_y": null,
            "padding": null,
            "right": null,
            "top": null,
            "visibility": null,
            "width": null
          }
        },
        "3d57fe5a102f46aaa59c99125a207d8d": {
          "model_module": "@jupyter-widgets/controls",
          "model_name": "DescriptionStyleModel",
          "model_module_version": "1.5.0",
          "state": {
            "_model_module": "@jupyter-widgets/controls",
            "_model_module_version": "1.5.0",
            "_model_name": "DescriptionStyleModel",
            "_view_count": null,
            "_view_module": "@jupyter-widgets/base",
            "_view_module_version": "1.2.0",
            "_view_name": "StyleView",
            "description_width": ""
          }
        },
        "97a766eff67246fab0e9a2efe91dda05": {
          "model_module": "@jupyter-widgets/base",
          "model_name": "LayoutModel",
          "model_module_version": "1.2.0",
          "state": {
            "_model_module": "@jupyter-widgets/base",
            "_model_module_version": "1.2.0",
            "_model_name": "LayoutModel",
            "_view_count": null,
            "_view_module": "@jupyter-widgets/base",
            "_view_module_version": "1.2.0",
            "_view_name": "LayoutView",
            "align_content": null,
            "align_items": null,
            "align_self": null,
            "border": null,
            "bottom": null,
            "display": null,
            "flex": null,
            "flex_flow": null,
            "grid_area": null,
            "grid_auto_columns": null,
            "grid_auto_flow": null,
            "grid_auto_rows": null,
            "grid_column": null,
            "grid_gap": null,
            "grid_row": null,
            "grid_template_areas": null,
            "grid_template_columns": null,
            "grid_template_rows": null,
            "height": null,
            "justify_content": null,
            "justify_items": null,
            "left": null,
            "margin": null,
            "max_height": null,
            "max_width": null,
            "min_height": null,
            "min_width": null,
            "object_fit": null,
            "object_position": null,
            "order": null,
            "overflow": null,
            "overflow_x": null,
            "overflow_y": null,
            "padding": null,
            "right": null,
            "top": null,
            "visibility": null,
            "width": null
          }
        },
        "4f83cd087eff44abb4becbed61cd9657": {
          "model_module": "@jupyter-widgets/controls",
          "model_name": "ProgressStyleModel",
          "model_module_version": "1.5.0",
          "state": {
            "_model_module": "@jupyter-widgets/controls",
            "_model_module_version": "1.5.0",
            "_model_name": "ProgressStyleModel",
            "_view_count": null,
            "_view_module": "@jupyter-widgets/base",
            "_view_module_version": "1.2.0",
            "_view_name": "StyleView",
            "bar_color": null,
            "description_width": ""
          }
        },
        "624bb22401e7477ca1faeb31ced9c07f": {
          "model_module": "@jupyter-widgets/base",
          "model_name": "LayoutModel",
          "model_module_version": "1.2.0",
          "state": {
            "_model_module": "@jupyter-widgets/base",
            "_model_module_version": "1.2.0",
            "_model_name": "LayoutModel",
            "_view_count": null,
            "_view_module": "@jupyter-widgets/base",
            "_view_module_version": "1.2.0",
            "_view_name": "LayoutView",
            "align_content": null,
            "align_items": null,
            "align_self": null,
            "border": null,
            "bottom": null,
            "display": null,
            "flex": null,
            "flex_flow": null,
            "grid_area": null,
            "grid_auto_columns": null,
            "grid_auto_flow": null,
            "grid_auto_rows": null,
            "grid_column": null,
            "grid_gap": null,
            "grid_row": null,
            "grid_template_areas": null,
            "grid_template_columns": null,
            "grid_template_rows": null,
            "height": null,
            "justify_content": null,
            "justify_items": null,
            "left": null,
            "margin": null,
            "max_height": null,
            "max_width": null,
            "min_height": null,
            "min_width": null,
            "object_fit": null,
            "object_position": null,
            "order": null,
            "overflow": null,
            "overflow_x": null,
            "overflow_y": null,
            "padding": null,
            "right": null,
            "top": null,
            "visibility": null,
            "width": null
          }
        },
        "f5ac5ebdea614803993bf63559731ab6": {
          "model_module": "@jupyter-widgets/controls",
          "model_name": "DescriptionStyleModel",
          "model_module_version": "1.5.0",
          "state": {
            "_model_module": "@jupyter-widgets/controls",
            "_model_module_version": "1.5.0",
            "_model_name": "DescriptionStyleModel",
            "_view_count": null,
            "_view_module": "@jupyter-widgets/base",
            "_view_module_version": "1.2.0",
            "_view_name": "StyleView",
            "description_width": ""
          }
        },
        "5763108ab1d84d60a0e6d777c35ab085": {
          "model_module": "@jupyter-widgets/controls",
          "model_name": "HBoxModel",
          "model_module_version": "1.5.0",
          "state": {
            "_dom_classes": [],
            "_model_module": "@jupyter-widgets/controls",
            "_model_module_version": "1.5.0",
            "_model_name": "HBoxModel",
            "_view_count": null,
            "_view_module": "@jupyter-widgets/controls",
            "_view_module_version": "1.5.0",
            "_view_name": "HBoxView",
            "box_style": "",
            "children": [
              "IPY_MODEL_95350c04effa42c29aff3912ba058503",
              "IPY_MODEL_f8bffd7ee22b436dab5d459d185f3504",
              "IPY_MODEL_bde7ba4836c9461ca9646a50989e1b87"
            ],
            "layout": "IPY_MODEL_adac25e3c23647ecaa250444594ea89c"
          }
        },
        "95350c04effa42c29aff3912ba058503": {
          "model_module": "@jupyter-widgets/controls",
          "model_name": "HTMLModel",
          "model_module_version": "1.5.0",
          "state": {
            "_dom_classes": [],
            "_model_module": "@jupyter-widgets/controls",
            "_model_module_version": "1.5.0",
            "_model_name": "HTMLModel",
            "_view_count": null,
            "_view_module": "@jupyter-widgets/controls",
            "_view_module_version": "1.5.0",
            "_view_name": "HTMLView",
            "description": "",
            "description_tooltip": null,
            "layout": "IPY_MODEL_be1ea4422dd24c62bfbe9e144351bbcc",
            "placeholder": "​",
            "style": "IPY_MODEL_e53ffb1e6acb416ba5cfb7560c70bbfe",
            "value": "100%"
          }
        },
        "f8bffd7ee22b436dab5d459d185f3504": {
          "model_module": "@jupyter-widgets/controls",
          "model_name": "FloatProgressModel",
          "model_module_version": "1.5.0",
          "state": {
            "_dom_classes": [],
            "_model_module": "@jupyter-widgets/controls",
            "_model_module_version": "1.5.0",
            "_model_name": "FloatProgressModel",
            "_view_count": null,
            "_view_module": "@jupyter-widgets/controls",
            "_view_module_version": "1.5.0",
            "_view_name": "ProgressView",
            "bar_style": "success",
            "description": "",
            "description_tooltip": null,
            "layout": "IPY_MODEL_2cb4a43844f94770b578bd35747f8033",
            "max": 561753746,
            "min": 0,
            "orientation": "horizontal",
            "style": "IPY_MODEL_018b4c47c5d3490b984f2e4a2289528e",
            "value": 561753746
          }
        },
        "bde7ba4836c9461ca9646a50989e1b87": {
          "model_module": "@jupyter-widgets/controls",
          "model_name": "HTMLModel",
          "model_module_version": "1.5.0",
          "state": {
            "_dom_classes": [],
            "_model_module": "@jupyter-widgets/controls",
            "_model_module_version": "1.5.0",
            "_model_name": "HTMLModel",
            "_view_count": null,
            "_view_module": "@jupyter-widgets/controls",
            "_view_module_version": "1.5.0",
            "_view_name": "HTMLView",
            "description": "",
            "description_tooltip": null,
            "layout": "IPY_MODEL_66c0cdb02dc645058e3ae72787b12593",
            "placeholder": "​",
            "style": "IPY_MODEL_8f0ef8677b76463cb155028ffed296e0",
            "value": " 561753746/561753746 [00:36&lt;00:00, 15877507.48it/s]"
          }
        },
        "adac25e3c23647ecaa250444594ea89c": {
          "model_module": "@jupyter-widgets/base",
          "model_name": "LayoutModel",
          "model_module_version": "1.2.0",
          "state": {
            "_model_module": "@jupyter-widgets/base",
            "_model_module_version": "1.2.0",
            "_model_name": "LayoutModel",
            "_view_count": null,
            "_view_module": "@jupyter-widgets/base",
            "_view_module_version": "1.2.0",
            "_view_name": "LayoutView",
            "align_content": null,
            "align_items": null,
            "align_self": null,
            "border": null,
            "bottom": null,
            "display": null,
            "flex": null,
            "flex_flow": null,
            "grid_area": null,
            "grid_auto_columns": null,
            "grid_auto_flow": null,
            "grid_auto_rows": null,
            "grid_column": null,
            "grid_gap": null,
            "grid_row": null,
            "grid_template_areas": null,
            "grid_template_columns": null,
            "grid_template_rows": null,
            "height": null,
            "justify_content": null,
            "justify_items": null,
            "left": null,
            "margin": null,
            "max_height": null,
            "max_width": null,
            "min_height": null,
            "min_width": null,
            "object_fit": null,
            "object_position": null,
            "order": null,
            "overflow": null,
            "overflow_x": null,
            "overflow_y": null,
            "padding": null,
            "right": null,
            "top": null,
            "visibility": null,
            "width": null
          }
        },
        "be1ea4422dd24c62bfbe9e144351bbcc": {
          "model_module": "@jupyter-widgets/base",
          "model_name": "LayoutModel",
          "model_module_version": "1.2.0",
          "state": {
            "_model_module": "@jupyter-widgets/base",
            "_model_module_version": "1.2.0",
            "_model_name": "LayoutModel",
            "_view_count": null,
            "_view_module": "@jupyter-widgets/base",
            "_view_module_version": "1.2.0",
            "_view_name": "LayoutView",
            "align_content": null,
            "align_items": null,
            "align_self": null,
            "border": null,
            "bottom": null,
            "display": null,
            "flex": null,
            "flex_flow": null,
            "grid_area": null,
            "grid_auto_columns": null,
            "grid_auto_flow": null,
            "grid_auto_rows": null,
            "grid_column": null,
            "grid_gap": null,
            "grid_row": null,
            "grid_template_areas": null,
            "grid_template_columns": null,
            "grid_template_rows": null,
            "height": null,
            "justify_content": null,
            "justify_items": null,
            "left": null,
            "margin": null,
            "max_height": null,
            "max_width": null,
            "min_height": null,
            "min_width": null,
            "object_fit": null,
            "object_position": null,
            "order": null,
            "overflow": null,
            "overflow_x": null,
            "overflow_y": null,
            "padding": null,
            "right": null,
            "top": null,
            "visibility": null,
            "width": null
          }
        },
        "e53ffb1e6acb416ba5cfb7560c70bbfe": {
          "model_module": "@jupyter-widgets/controls",
          "model_name": "DescriptionStyleModel",
          "model_module_version": "1.5.0",
          "state": {
            "_model_module": "@jupyter-widgets/controls",
            "_model_module_version": "1.5.0",
            "_model_name": "DescriptionStyleModel",
            "_view_count": null,
            "_view_module": "@jupyter-widgets/base",
            "_view_module_version": "1.2.0",
            "_view_name": "StyleView",
            "description_width": ""
          }
        },
        "2cb4a43844f94770b578bd35747f8033": {
          "model_module": "@jupyter-widgets/base",
          "model_name": "LayoutModel",
          "model_module_version": "1.2.0",
          "state": {
            "_model_module": "@jupyter-widgets/base",
            "_model_module_version": "1.2.0",
            "_model_name": "LayoutModel",
            "_view_count": null,
            "_view_module": "@jupyter-widgets/base",
            "_view_module_version": "1.2.0",
            "_view_name": "LayoutView",
            "align_content": null,
            "align_items": null,
            "align_self": null,
            "border": null,
            "bottom": null,
            "display": null,
            "flex": null,
            "flex_flow": null,
            "grid_area": null,
            "grid_auto_columns": null,
            "grid_auto_flow": null,
            "grid_auto_rows": null,
            "grid_column": null,
            "grid_gap": null,
            "grid_row": null,
            "grid_template_areas": null,
            "grid_template_columns": null,
            "grid_template_rows": null,
            "height": null,
            "justify_content": null,
            "justify_items": null,
            "left": null,
            "margin": null,
            "max_height": null,
            "max_width": null,
            "min_height": null,
            "min_width": null,
            "object_fit": null,
            "object_position": null,
            "order": null,
            "overflow": null,
            "overflow_x": null,
            "overflow_y": null,
            "padding": null,
            "right": null,
            "top": null,
            "visibility": null,
            "width": null
          }
        },
        "018b4c47c5d3490b984f2e4a2289528e": {
          "model_module": "@jupyter-widgets/controls",
          "model_name": "ProgressStyleModel",
          "model_module_version": "1.5.0",
          "state": {
            "_model_module": "@jupyter-widgets/controls",
            "_model_module_version": "1.5.0",
            "_model_name": "ProgressStyleModel",
            "_view_count": null,
            "_view_module": "@jupyter-widgets/base",
            "_view_module_version": "1.2.0",
            "_view_name": "StyleView",
            "bar_color": null,
            "description_width": ""
          }
        },
        "66c0cdb02dc645058e3ae72787b12593": {
          "model_module": "@jupyter-widgets/base",
          "model_name": "LayoutModel",
          "model_module_version": "1.2.0",
          "state": {
            "_model_module": "@jupyter-widgets/base",
            "_model_module_version": "1.2.0",
            "_model_name": "LayoutModel",
            "_view_count": null,
            "_view_module": "@jupyter-widgets/base",
            "_view_module_version": "1.2.0",
            "_view_name": "LayoutView",
            "align_content": null,
            "align_items": null,
            "align_self": null,
            "border": null,
            "bottom": null,
            "display": null,
            "flex": null,
            "flex_flow": null,
            "grid_area": null,
            "grid_auto_columns": null,
            "grid_auto_flow": null,
            "grid_auto_rows": null,
            "grid_column": null,
            "grid_gap": null,
            "grid_row": null,
            "grid_template_areas": null,
            "grid_template_columns": null,
            "grid_template_rows": null,
            "height": null,
            "justify_content": null,
            "justify_items": null,
            "left": null,
            "margin": null,
            "max_height": null,
            "max_width": null,
            "min_height": null,
            "min_width": null,
            "object_fit": null,
            "object_position": null,
            "order": null,
            "overflow": null,
            "overflow_x": null,
            "overflow_y": null,
            "padding": null,
            "right": null,
            "top": null,
            "visibility": null,
            "width": null
          }
        },
        "8f0ef8677b76463cb155028ffed296e0": {
          "model_module": "@jupyter-widgets/controls",
          "model_name": "DescriptionStyleModel",
          "model_module_version": "1.5.0",
          "state": {
            "_model_module": "@jupyter-widgets/controls",
            "_model_module_version": "1.5.0",
            "_model_name": "DescriptionStyleModel",
            "_view_count": null,
            "_view_module": "@jupyter-widgets/base",
            "_view_module_version": "1.2.0",
            "_view_name": "StyleView",
            "description_width": ""
          }
        },
        "bb05980d939f4427b253e5ecae1c12ee": {
          "model_module": "@jupyter-widgets/controls",
          "model_name": "HBoxModel",
          "model_module_version": "1.5.0",
          "state": {
            "_dom_classes": [],
            "_model_module": "@jupyter-widgets/controls",
            "_model_module_version": "1.5.0",
            "_model_name": "HBoxModel",
            "_view_count": null,
            "_view_module": "@jupyter-widgets/controls",
            "_view_module_version": "1.5.0",
            "_view_name": "HBoxView",
            "box_style": "",
            "children": [
              "IPY_MODEL_6be171ed1db049f7b4b0bbe56efef2d6",
              "IPY_MODEL_b46dc558a9cc469d845b1c6c25584d70",
              "IPY_MODEL_8f6e96f9e0ce4a75b705585a129499e7"
            ],
            "layout": "IPY_MODEL_0c28a737afca4f9da8a29515613958d3"
          }
        },
        "6be171ed1db049f7b4b0bbe56efef2d6": {
          "model_module": "@jupyter-widgets/controls",
          "model_name": "HTMLModel",
          "model_module_version": "1.5.0",
          "state": {
            "_dom_classes": [],
            "_model_module": "@jupyter-widgets/controls",
            "_model_module_version": "1.5.0",
            "_model_name": "HTMLModel",
            "_view_count": null,
            "_view_module": "@jupyter-widgets/controls",
            "_view_module_version": "1.5.0",
            "_view_name": "HTMLView",
            "description": "",
            "description_tooltip": null,
            "layout": "IPY_MODEL_ad94fc0fb0e845b4a57f5eef61088804",
            "placeholder": "​",
            "style": "IPY_MODEL_65b3961982a4421d9dbe860fa237d485",
            "value": "100%"
          }
        },
        "b46dc558a9cc469d845b1c6c25584d70": {
          "model_module": "@jupyter-widgets/controls",
          "model_name": "FloatProgressModel",
          "model_module_version": "1.5.0",
          "state": {
            "_dom_classes": [],
            "_model_module": "@jupyter-widgets/controls",
            "_model_module_version": "1.5.0",
            "_model_name": "FloatProgressModel",
            "_view_count": null,
            "_view_module": "@jupyter-widgets/controls",
            "_view_module_version": "1.5.0",
            "_view_name": "ProgressView",
            "bar_style": "success",
            "description": "",
            "description_tooltip": null,
            "layout": "IPY_MODEL_39907912a0f2422391d3a2c6d99df491",
            "max": 9912422,
            "min": 0,
            "orientation": "horizontal",
            "style": "IPY_MODEL_f58a876cf7e04e00bf29a702bcb635e4",
            "value": 9912422
          }
        },
        "8f6e96f9e0ce4a75b705585a129499e7": {
          "model_module": "@jupyter-widgets/controls",
          "model_name": "HTMLModel",
          "model_module_version": "1.5.0",
          "state": {
            "_dom_classes": [],
            "_model_module": "@jupyter-widgets/controls",
            "_model_module_version": "1.5.0",
            "_model_name": "HTMLModel",
            "_view_count": null,
            "_view_module": "@jupyter-widgets/controls",
            "_view_module_version": "1.5.0",
            "_view_name": "HTMLView",
            "description": "",
            "description_tooltip": null,
            "layout": "IPY_MODEL_dd1b048bd69f4458a0ef0d2360760e27",
            "placeholder": "​",
            "style": "IPY_MODEL_7312ca345e714eb8844bc94767796bc6",
            "value": " 9912422/9912422 [00:00&lt;00:00, 153273946.43it/s]"
          }
        },
        "0c28a737afca4f9da8a29515613958d3": {
          "model_module": "@jupyter-widgets/base",
          "model_name": "LayoutModel",
          "model_module_version": "1.2.0",
          "state": {
            "_model_module": "@jupyter-widgets/base",
            "_model_module_version": "1.2.0",
            "_model_name": "LayoutModel",
            "_view_count": null,
            "_view_module": "@jupyter-widgets/base",
            "_view_module_version": "1.2.0",
            "_view_name": "LayoutView",
            "align_content": null,
            "align_items": null,
            "align_self": null,
            "border": null,
            "bottom": null,
            "display": null,
            "flex": null,
            "flex_flow": null,
            "grid_area": null,
            "grid_auto_columns": null,
            "grid_auto_flow": null,
            "grid_auto_rows": null,
            "grid_column": null,
            "grid_gap": null,
            "grid_row": null,
            "grid_template_areas": null,
            "grid_template_columns": null,
            "grid_template_rows": null,
            "height": null,
            "justify_content": null,
            "justify_items": null,
            "left": null,
            "margin": null,
            "max_height": null,
            "max_width": null,
            "min_height": null,
            "min_width": null,
            "object_fit": null,
            "object_position": null,
            "order": null,
            "overflow": null,
            "overflow_x": null,
            "overflow_y": null,
            "padding": null,
            "right": null,
            "top": null,
            "visibility": null,
            "width": null
          }
        },
        "ad94fc0fb0e845b4a57f5eef61088804": {
          "model_module": "@jupyter-widgets/base",
          "model_name": "LayoutModel",
          "model_module_version": "1.2.0",
          "state": {
            "_model_module": "@jupyter-widgets/base",
            "_model_module_version": "1.2.0",
            "_model_name": "LayoutModel",
            "_view_count": null,
            "_view_module": "@jupyter-widgets/base",
            "_view_module_version": "1.2.0",
            "_view_name": "LayoutView",
            "align_content": null,
            "align_items": null,
            "align_self": null,
            "border": null,
            "bottom": null,
            "display": null,
            "flex": null,
            "flex_flow": null,
            "grid_area": null,
            "grid_auto_columns": null,
            "grid_auto_flow": null,
            "grid_auto_rows": null,
            "grid_column": null,
            "grid_gap": null,
            "grid_row": null,
            "grid_template_areas": null,
            "grid_template_columns": null,
            "grid_template_rows": null,
            "height": null,
            "justify_content": null,
            "justify_items": null,
            "left": null,
            "margin": null,
            "max_height": null,
            "max_width": null,
            "min_height": null,
            "min_width": null,
            "object_fit": null,
            "object_position": null,
            "order": null,
            "overflow": null,
            "overflow_x": null,
            "overflow_y": null,
            "padding": null,
            "right": null,
            "top": null,
            "visibility": null,
            "width": null
          }
        },
        "65b3961982a4421d9dbe860fa237d485": {
          "model_module": "@jupyter-widgets/controls",
          "model_name": "DescriptionStyleModel",
          "model_module_version": "1.5.0",
          "state": {
            "_model_module": "@jupyter-widgets/controls",
            "_model_module_version": "1.5.0",
            "_model_name": "DescriptionStyleModel",
            "_view_count": null,
            "_view_module": "@jupyter-widgets/base",
            "_view_module_version": "1.2.0",
            "_view_name": "StyleView",
            "description_width": ""
          }
        },
        "39907912a0f2422391d3a2c6d99df491": {
          "model_module": "@jupyter-widgets/base",
          "model_name": "LayoutModel",
          "model_module_version": "1.2.0",
          "state": {
            "_model_module": "@jupyter-widgets/base",
            "_model_module_version": "1.2.0",
            "_model_name": "LayoutModel",
            "_view_count": null,
            "_view_module": "@jupyter-widgets/base",
            "_view_module_version": "1.2.0",
            "_view_name": "LayoutView",
            "align_content": null,
            "align_items": null,
            "align_self": null,
            "border": null,
            "bottom": null,
            "display": null,
            "flex": null,
            "flex_flow": null,
            "grid_area": null,
            "grid_auto_columns": null,
            "grid_auto_flow": null,
            "grid_auto_rows": null,
            "grid_column": null,
            "grid_gap": null,
            "grid_row": null,
            "grid_template_areas": null,
            "grid_template_columns": null,
            "grid_template_rows": null,
            "height": null,
            "justify_content": null,
            "justify_items": null,
            "left": null,
            "margin": null,
            "max_height": null,
            "max_width": null,
            "min_height": null,
            "min_width": null,
            "object_fit": null,
            "object_position": null,
            "order": null,
            "overflow": null,
            "overflow_x": null,
            "overflow_y": null,
            "padding": null,
            "right": null,
            "top": null,
            "visibility": null,
            "width": null
          }
        },
        "f58a876cf7e04e00bf29a702bcb635e4": {
          "model_module": "@jupyter-widgets/controls",
          "model_name": "ProgressStyleModel",
          "model_module_version": "1.5.0",
          "state": {
            "_model_module": "@jupyter-widgets/controls",
            "_model_module_version": "1.5.0",
            "_model_name": "ProgressStyleModel",
            "_view_count": null,
            "_view_module": "@jupyter-widgets/base",
            "_view_module_version": "1.2.0",
            "_view_name": "StyleView",
            "bar_color": null,
            "description_width": ""
          }
        },
        "dd1b048bd69f4458a0ef0d2360760e27": {
          "model_module": "@jupyter-widgets/base",
          "model_name": "LayoutModel",
          "model_module_version": "1.2.0",
          "state": {
            "_model_module": "@jupyter-widgets/base",
            "_model_module_version": "1.2.0",
            "_model_name": "LayoutModel",
            "_view_count": null,
            "_view_module": "@jupyter-widgets/base",
            "_view_module_version": "1.2.0",
            "_view_name": "LayoutView",
            "align_content": null,
            "align_items": null,
            "align_self": null,
            "border": null,
            "bottom": null,
            "display": null,
            "flex": null,
            "flex_flow": null,
            "grid_area": null,
            "grid_auto_columns": null,
            "grid_auto_flow": null,
            "grid_auto_rows": null,
            "grid_column": null,
            "grid_gap": null,
            "grid_row": null,
            "grid_template_areas": null,
            "grid_template_columns": null,
            "grid_template_rows": null,
            "height": null,
            "justify_content": null,
            "justify_items": null,
            "left": null,
            "margin": null,
            "max_height": null,
            "max_width": null,
            "min_height": null,
            "min_width": null,
            "object_fit": null,
            "object_position": null,
            "order": null,
            "overflow": null,
            "overflow_x": null,
            "overflow_y": null,
            "padding": null,
            "right": null,
            "top": null,
            "visibility": null,
            "width": null
          }
        },
        "7312ca345e714eb8844bc94767796bc6": {
          "model_module": "@jupyter-widgets/controls",
          "model_name": "DescriptionStyleModel",
          "model_module_version": "1.5.0",
          "state": {
            "_model_module": "@jupyter-widgets/controls",
            "_model_module_version": "1.5.0",
            "_model_name": "DescriptionStyleModel",
            "_view_count": null,
            "_view_module": "@jupyter-widgets/base",
            "_view_module_version": "1.2.0",
            "_view_name": "StyleView",
            "description_width": ""
          }
        },
        "9fcd2642a71a4de2a1b0bc550b55b740": {
          "model_module": "@jupyter-widgets/controls",
          "model_name": "HBoxModel",
          "model_module_version": "1.5.0",
          "state": {
            "_dom_classes": [],
            "_model_module": "@jupyter-widgets/controls",
            "_model_module_version": "1.5.0",
            "_model_name": "HBoxModel",
            "_view_count": null,
            "_view_module": "@jupyter-widgets/controls",
            "_view_module_version": "1.5.0",
            "_view_name": "HBoxView",
            "box_style": "",
            "children": [
              "IPY_MODEL_0977a8d463814af79d7cee4590d34048",
              "IPY_MODEL_c358c3eebe8249e58c1f82f35a96fcd4",
              "IPY_MODEL_8a0fbb557f604396a3e8956e98f20be6"
            ],
            "layout": "IPY_MODEL_5c8751456d044e0d85bcf67f320a9496"
          }
        },
        "0977a8d463814af79d7cee4590d34048": {
          "model_module": "@jupyter-widgets/controls",
          "model_name": "HTMLModel",
          "model_module_version": "1.5.0",
          "state": {
            "_dom_classes": [],
            "_model_module": "@jupyter-widgets/controls",
            "_model_module_version": "1.5.0",
            "_model_name": "HTMLModel",
            "_view_count": null,
            "_view_module": "@jupyter-widgets/controls",
            "_view_module_version": "1.5.0",
            "_view_name": "HTMLView",
            "description": "",
            "description_tooltip": null,
            "layout": "IPY_MODEL_1f669130ae4e47a5858860c9c24f6543",
            "placeholder": "​",
            "style": "IPY_MODEL_69caff695bec4ab29323faa2c0809654",
            "value": "100%"
          }
        },
        "c358c3eebe8249e58c1f82f35a96fcd4": {
          "model_module": "@jupyter-widgets/controls",
          "model_name": "FloatProgressModel",
          "model_module_version": "1.5.0",
          "state": {
            "_dom_classes": [],
            "_model_module": "@jupyter-widgets/controls",
            "_model_module_version": "1.5.0",
            "_model_name": "FloatProgressModel",
            "_view_count": null,
            "_view_module": "@jupyter-widgets/controls",
            "_view_module_version": "1.5.0",
            "_view_name": "ProgressView",
            "bar_style": "success",
            "description": "",
            "description_tooltip": null,
            "layout": "IPY_MODEL_f3a4ccb1c975471e924dc3afb4d8628a",
            "max": 28881,
            "min": 0,
            "orientation": "horizontal",
            "style": "IPY_MODEL_46fbd87f0bc449e9add09ab547c0ff7f",
            "value": 28881
          }
        },
        "8a0fbb557f604396a3e8956e98f20be6": {
          "model_module": "@jupyter-widgets/controls",
          "model_name": "HTMLModel",
          "model_module_version": "1.5.0",
          "state": {
            "_dom_classes": [],
            "_model_module": "@jupyter-widgets/controls",
            "_model_module_version": "1.5.0",
            "_model_name": "HTMLModel",
            "_view_count": null,
            "_view_module": "@jupyter-widgets/controls",
            "_view_module_version": "1.5.0",
            "_view_name": "HTMLView",
            "description": "",
            "description_tooltip": null,
            "layout": "IPY_MODEL_09708875740147bbae6dfb513914d810",
            "placeholder": "​",
            "style": "IPY_MODEL_877953af5ec94061800f2ad2b5b6f67a",
            "value": " 28881/28881 [00:00&lt;00:00, 1031319.49it/s]"
          }
        },
        "5c8751456d044e0d85bcf67f320a9496": {
          "model_module": "@jupyter-widgets/base",
          "model_name": "LayoutModel",
          "model_module_version": "1.2.0",
          "state": {
            "_model_module": "@jupyter-widgets/base",
            "_model_module_version": "1.2.0",
            "_model_name": "LayoutModel",
            "_view_count": null,
            "_view_module": "@jupyter-widgets/base",
            "_view_module_version": "1.2.0",
            "_view_name": "LayoutView",
            "align_content": null,
            "align_items": null,
            "align_self": null,
            "border": null,
            "bottom": null,
            "display": null,
            "flex": null,
            "flex_flow": null,
            "grid_area": null,
            "grid_auto_columns": null,
            "grid_auto_flow": null,
            "grid_auto_rows": null,
            "grid_column": null,
            "grid_gap": null,
            "grid_row": null,
            "grid_template_areas": null,
            "grid_template_columns": null,
            "grid_template_rows": null,
            "height": null,
            "justify_content": null,
            "justify_items": null,
            "left": null,
            "margin": null,
            "max_height": null,
            "max_width": null,
            "min_height": null,
            "min_width": null,
            "object_fit": null,
            "object_position": null,
            "order": null,
            "overflow": null,
            "overflow_x": null,
            "overflow_y": null,
            "padding": null,
            "right": null,
            "top": null,
            "visibility": null,
            "width": null
          }
        },
        "1f669130ae4e47a5858860c9c24f6543": {
          "model_module": "@jupyter-widgets/base",
          "model_name": "LayoutModel",
          "model_module_version": "1.2.0",
          "state": {
            "_model_module": "@jupyter-widgets/base",
            "_model_module_version": "1.2.0",
            "_model_name": "LayoutModel",
            "_view_count": null,
            "_view_module": "@jupyter-widgets/base",
            "_view_module_version": "1.2.0",
            "_view_name": "LayoutView",
            "align_content": null,
            "align_items": null,
            "align_self": null,
            "border": null,
            "bottom": null,
            "display": null,
            "flex": null,
            "flex_flow": null,
            "grid_area": null,
            "grid_auto_columns": null,
            "grid_auto_flow": null,
            "grid_auto_rows": null,
            "grid_column": null,
            "grid_gap": null,
            "grid_row": null,
            "grid_template_areas": null,
            "grid_template_columns": null,
            "grid_template_rows": null,
            "height": null,
            "justify_content": null,
            "justify_items": null,
            "left": null,
            "margin": null,
            "max_height": null,
            "max_width": null,
            "min_height": null,
            "min_width": null,
            "object_fit": null,
            "object_position": null,
            "order": null,
            "overflow": null,
            "overflow_x": null,
            "overflow_y": null,
            "padding": null,
            "right": null,
            "top": null,
            "visibility": null,
            "width": null
          }
        },
        "69caff695bec4ab29323faa2c0809654": {
          "model_module": "@jupyter-widgets/controls",
          "model_name": "DescriptionStyleModel",
          "model_module_version": "1.5.0",
          "state": {
            "_model_module": "@jupyter-widgets/controls",
            "_model_module_version": "1.5.0",
            "_model_name": "DescriptionStyleModel",
            "_view_count": null,
            "_view_module": "@jupyter-widgets/base",
            "_view_module_version": "1.2.0",
            "_view_name": "StyleView",
            "description_width": ""
          }
        },
        "f3a4ccb1c975471e924dc3afb4d8628a": {
          "model_module": "@jupyter-widgets/base",
          "model_name": "LayoutModel",
          "model_module_version": "1.2.0",
          "state": {
            "_model_module": "@jupyter-widgets/base",
            "_model_module_version": "1.2.0",
            "_model_name": "LayoutModel",
            "_view_count": null,
            "_view_module": "@jupyter-widgets/base",
            "_view_module_version": "1.2.0",
            "_view_name": "LayoutView",
            "align_content": null,
            "align_items": null,
            "align_self": null,
            "border": null,
            "bottom": null,
            "display": null,
            "flex": null,
            "flex_flow": null,
            "grid_area": null,
            "grid_auto_columns": null,
            "grid_auto_flow": null,
            "grid_auto_rows": null,
            "grid_column": null,
            "grid_gap": null,
            "grid_row": null,
            "grid_template_areas": null,
            "grid_template_columns": null,
            "grid_template_rows": null,
            "height": null,
            "justify_content": null,
            "justify_items": null,
            "left": null,
            "margin": null,
            "max_height": null,
            "max_width": null,
            "min_height": null,
            "min_width": null,
            "object_fit": null,
            "object_position": null,
            "order": null,
            "overflow": null,
            "overflow_x": null,
            "overflow_y": null,
            "padding": null,
            "right": null,
            "top": null,
            "visibility": null,
            "width": null
          }
        },
        "46fbd87f0bc449e9add09ab547c0ff7f": {
          "model_module": "@jupyter-widgets/controls",
          "model_name": "ProgressStyleModel",
          "model_module_version": "1.5.0",
          "state": {
            "_model_module": "@jupyter-widgets/controls",
            "_model_module_version": "1.5.0",
            "_model_name": "ProgressStyleModel",
            "_view_count": null,
            "_view_module": "@jupyter-widgets/base",
            "_view_module_version": "1.2.0",
            "_view_name": "StyleView",
            "bar_color": null,
            "description_width": ""
          }
        },
        "09708875740147bbae6dfb513914d810": {
          "model_module": "@jupyter-widgets/base",
          "model_name": "LayoutModel",
          "model_module_version": "1.2.0",
          "state": {
            "_model_module": "@jupyter-widgets/base",
            "_model_module_version": "1.2.0",
            "_model_name": "LayoutModel",
            "_view_count": null,
            "_view_module": "@jupyter-widgets/base",
            "_view_module_version": "1.2.0",
            "_view_name": "LayoutView",
            "align_content": null,
            "align_items": null,
            "align_self": null,
            "border": null,
            "bottom": null,
            "display": null,
            "flex": null,
            "flex_flow": null,
            "grid_area": null,
            "grid_auto_columns": null,
            "grid_auto_flow": null,
            "grid_auto_rows": null,
            "grid_column": null,
            "grid_gap": null,
            "grid_row": null,
            "grid_template_areas": null,
            "grid_template_columns": null,
            "grid_template_rows": null,
            "height": null,
            "justify_content": null,
            "justify_items": null,
            "left": null,
            "margin": null,
            "max_height": null,
            "max_width": null,
            "min_height": null,
            "min_width": null,
            "object_fit": null,
            "object_position": null,
            "order": null,
            "overflow": null,
            "overflow_x": null,
            "overflow_y": null,
            "padding": null,
            "right": null,
            "top": null,
            "visibility": null,
            "width": null
          }
        },
        "877953af5ec94061800f2ad2b5b6f67a": {
          "model_module": "@jupyter-widgets/controls",
          "model_name": "DescriptionStyleModel",
          "model_module_version": "1.5.0",
          "state": {
            "_model_module": "@jupyter-widgets/controls",
            "_model_module_version": "1.5.0",
            "_model_name": "DescriptionStyleModel",
            "_view_count": null,
            "_view_module": "@jupyter-widgets/base",
            "_view_module_version": "1.2.0",
            "_view_name": "StyleView",
            "description_width": ""
          }
        },
        "ba219db8a6a74db28ae6b9a8de2dcd72": {
          "model_module": "@jupyter-widgets/controls",
          "model_name": "HBoxModel",
          "model_module_version": "1.5.0",
          "state": {
            "_dom_classes": [],
            "_model_module": "@jupyter-widgets/controls",
            "_model_module_version": "1.5.0",
            "_model_name": "HBoxModel",
            "_view_count": null,
            "_view_module": "@jupyter-widgets/controls",
            "_view_module_version": "1.5.0",
            "_view_name": "HBoxView",
            "box_style": "",
            "children": [
              "IPY_MODEL_1274977bb5754d9c823559cd8d80dd21",
              "IPY_MODEL_8ab1764b823e42b78c3ee994a514c868",
              "IPY_MODEL_c13577bfc98d4873879ddb9305fa9a48"
            ],
            "layout": "IPY_MODEL_d04e521707ad45f98b359abec612acec"
          }
        },
        "1274977bb5754d9c823559cd8d80dd21": {
          "model_module": "@jupyter-widgets/controls",
          "model_name": "HTMLModel",
          "model_module_version": "1.5.0",
          "state": {
            "_dom_classes": [],
            "_model_module": "@jupyter-widgets/controls",
            "_model_module_version": "1.5.0",
            "_model_name": "HTMLModel",
            "_view_count": null,
            "_view_module": "@jupyter-widgets/controls",
            "_view_module_version": "1.5.0",
            "_view_name": "HTMLView",
            "description": "",
            "description_tooltip": null,
            "layout": "IPY_MODEL_58f64889228042f89c5d7b492c5e6ffe",
            "placeholder": "​",
            "style": "IPY_MODEL_7ee0eb6cd3a34a54aa6fcb2d0459eab3",
            "value": "100%"
          }
        },
        "8ab1764b823e42b78c3ee994a514c868": {
          "model_module": "@jupyter-widgets/controls",
          "model_name": "FloatProgressModel",
          "model_module_version": "1.5.0",
          "state": {
            "_dom_classes": [],
            "_model_module": "@jupyter-widgets/controls",
            "_model_module_version": "1.5.0",
            "_model_name": "FloatProgressModel",
            "_view_count": null,
            "_view_module": "@jupyter-widgets/controls",
            "_view_module_version": "1.5.0",
            "_view_name": "ProgressView",
            "bar_style": "success",
            "description": "",
            "description_tooltip": null,
            "layout": "IPY_MODEL_b1e8c248f30949c1bf95a3df7a915b92",
            "max": 1648877,
            "min": 0,
            "orientation": "horizontal",
            "style": "IPY_MODEL_20d845af0eda4d058e41e7aac4026e4d",
            "value": 1648877
          }
        },
        "c13577bfc98d4873879ddb9305fa9a48": {
          "model_module": "@jupyter-widgets/controls",
          "model_name": "HTMLModel",
          "model_module_version": "1.5.0",
          "state": {
            "_dom_classes": [],
            "_model_module": "@jupyter-widgets/controls",
            "_model_module_version": "1.5.0",
            "_model_name": "HTMLModel",
            "_view_count": null,
            "_view_module": "@jupyter-widgets/controls",
            "_view_module_version": "1.5.0",
            "_view_name": "HTMLView",
            "description": "",
            "description_tooltip": null,
            "layout": "IPY_MODEL_f558f51557364417821152c82bda6567",
            "placeholder": "​",
            "style": "IPY_MODEL_68fd9a7500e54683b91a232e5d3552ad",
            "value": " 1648877/1648877 [00:00&lt;00:00, 28670353.73it/s]"
          }
        },
        "d04e521707ad45f98b359abec612acec": {
          "model_module": "@jupyter-widgets/base",
          "model_name": "LayoutModel",
          "model_module_version": "1.2.0",
          "state": {
            "_model_module": "@jupyter-widgets/base",
            "_model_module_version": "1.2.0",
            "_model_name": "LayoutModel",
            "_view_count": null,
            "_view_module": "@jupyter-widgets/base",
            "_view_module_version": "1.2.0",
            "_view_name": "LayoutView",
            "align_content": null,
            "align_items": null,
            "align_self": null,
            "border": null,
            "bottom": null,
            "display": null,
            "flex": null,
            "flex_flow": null,
            "grid_area": null,
            "grid_auto_columns": null,
            "grid_auto_flow": null,
            "grid_auto_rows": null,
            "grid_column": null,
            "grid_gap": null,
            "grid_row": null,
            "grid_template_areas": null,
            "grid_template_columns": null,
            "grid_template_rows": null,
            "height": null,
            "justify_content": null,
            "justify_items": null,
            "left": null,
            "margin": null,
            "max_height": null,
            "max_width": null,
            "min_height": null,
            "min_width": null,
            "object_fit": null,
            "object_position": null,
            "order": null,
            "overflow": null,
            "overflow_x": null,
            "overflow_y": null,
            "padding": null,
            "right": null,
            "top": null,
            "visibility": null,
            "width": null
          }
        },
        "58f64889228042f89c5d7b492c5e6ffe": {
          "model_module": "@jupyter-widgets/base",
          "model_name": "LayoutModel",
          "model_module_version": "1.2.0",
          "state": {
            "_model_module": "@jupyter-widgets/base",
            "_model_module_version": "1.2.0",
            "_model_name": "LayoutModel",
            "_view_count": null,
            "_view_module": "@jupyter-widgets/base",
            "_view_module_version": "1.2.0",
            "_view_name": "LayoutView",
            "align_content": null,
            "align_items": null,
            "align_self": null,
            "border": null,
            "bottom": null,
            "display": null,
            "flex": null,
            "flex_flow": null,
            "grid_area": null,
            "grid_auto_columns": null,
            "grid_auto_flow": null,
            "grid_auto_rows": null,
            "grid_column": null,
            "grid_gap": null,
            "grid_row": null,
            "grid_template_areas": null,
            "grid_template_columns": null,
            "grid_template_rows": null,
            "height": null,
            "justify_content": null,
            "justify_items": null,
            "left": null,
            "margin": null,
            "max_height": null,
            "max_width": null,
            "min_height": null,
            "min_width": null,
            "object_fit": null,
            "object_position": null,
            "order": null,
            "overflow": null,
            "overflow_x": null,
            "overflow_y": null,
            "padding": null,
            "right": null,
            "top": null,
            "visibility": null,
            "width": null
          }
        },
        "7ee0eb6cd3a34a54aa6fcb2d0459eab3": {
          "model_module": "@jupyter-widgets/controls",
          "model_name": "DescriptionStyleModel",
          "model_module_version": "1.5.0",
          "state": {
            "_model_module": "@jupyter-widgets/controls",
            "_model_module_version": "1.5.0",
            "_model_name": "DescriptionStyleModel",
            "_view_count": null,
            "_view_module": "@jupyter-widgets/base",
            "_view_module_version": "1.2.0",
            "_view_name": "StyleView",
            "description_width": ""
          }
        },
        "b1e8c248f30949c1bf95a3df7a915b92": {
          "model_module": "@jupyter-widgets/base",
          "model_name": "LayoutModel",
          "model_module_version": "1.2.0",
          "state": {
            "_model_module": "@jupyter-widgets/base",
            "_model_module_version": "1.2.0",
            "_model_name": "LayoutModel",
            "_view_count": null,
            "_view_module": "@jupyter-widgets/base",
            "_view_module_version": "1.2.0",
            "_view_name": "LayoutView",
            "align_content": null,
            "align_items": null,
            "align_self": null,
            "border": null,
            "bottom": null,
            "display": null,
            "flex": null,
            "flex_flow": null,
            "grid_area": null,
            "grid_auto_columns": null,
            "grid_auto_flow": null,
            "grid_auto_rows": null,
            "grid_column": null,
            "grid_gap": null,
            "grid_row": null,
            "grid_template_areas": null,
            "grid_template_columns": null,
            "grid_template_rows": null,
            "height": null,
            "justify_content": null,
            "justify_items": null,
            "left": null,
            "margin": null,
            "max_height": null,
            "max_width": null,
            "min_height": null,
            "min_width": null,
            "object_fit": null,
            "object_position": null,
            "order": null,
            "overflow": null,
            "overflow_x": null,
            "overflow_y": null,
            "padding": null,
            "right": null,
            "top": null,
            "visibility": null,
            "width": null
          }
        },
        "20d845af0eda4d058e41e7aac4026e4d": {
          "model_module": "@jupyter-widgets/controls",
          "model_name": "ProgressStyleModel",
          "model_module_version": "1.5.0",
          "state": {
            "_model_module": "@jupyter-widgets/controls",
            "_model_module_version": "1.5.0",
            "_model_name": "ProgressStyleModel",
            "_view_count": null,
            "_view_module": "@jupyter-widgets/base",
            "_view_module_version": "1.2.0",
            "_view_name": "StyleView",
            "bar_color": null,
            "description_width": ""
          }
        },
        "f558f51557364417821152c82bda6567": {
          "model_module": "@jupyter-widgets/base",
          "model_name": "LayoutModel",
          "model_module_version": "1.2.0",
          "state": {
            "_model_module": "@jupyter-widgets/base",
            "_model_module_version": "1.2.0",
            "_model_name": "LayoutModel",
            "_view_count": null,
            "_view_module": "@jupyter-widgets/base",
            "_view_module_version": "1.2.0",
            "_view_name": "LayoutView",
            "align_content": null,
            "align_items": null,
            "align_self": null,
            "border": null,
            "bottom": null,
            "display": null,
            "flex": null,
            "flex_flow": null,
            "grid_area": null,
            "grid_auto_columns": null,
            "grid_auto_flow": null,
            "grid_auto_rows": null,
            "grid_column": null,
            "grid_gap": null,
            "grid_row": null,
            "grid_template_areas": null,
            "grid_template_columns": null,
            "grid_template_rows": null,
            "height": null,
            "justify_content": null,
            "justify_items": null,
            "left": null,
            "margin": null,
            "max_height": null,
            "max_width": null,
            "min_height": null,
            "min_width": null,
            "object_fit": null,
            "object_position": null,
            "order": null,
            "overflow": null,
            "overflow_x": null,
            "overflow_y": null,
            "padding": null,
            "right": null,
            "top": null,
            "visibility": null,
            "width": null
          }
        },
        "68fd9a7500e54683b91a232e5d3552ad": {
          "model_module": "@jupyter-widgets/controls",
          "model_name": "DescriptionStyleModel",
          "model_module_version": "1.5.0",
          "state": {
            "_model_module": "@jupyter-widgets/controls",
            "_model_module_version": "1.5.0",
            "_model_name": "DescriptionStyleModel",
            "_view_count": null,
            "_view_module": "@jupyter-widgets/base",
            "_view_module_version": "1.2.0",
            "_view_name": "StyleView",
            "description_width": ""
          }
        },
        "48a8c6cbd68f4b87893bbb776c2ab5ca": {
          "model_module": "@jupyter-widgets/controls",
          "model_name": "HBoxModel",
          "model_module_version": "1.5.0",
          "state": {
            "_dom_classes": [],
            "_model_module": "@jupyter-widgets/controls",
            "_model_module_version": "1.5.0",
            "_model_name": "HBoxModel",
            "_view_count": null,
            "_view_module": "@jupyter-widgets/controls",
            "_view_module_version": "1.5.0",
            "_view_name": "HBoxView",
            "box_style": "",
            "children": [
              "IPY_MODEL_647d46af33a6446c8909c03a04d8e964",
              "IPY_MODEL_65fe6cbe48c94eb2b505e50acff4e941",
              "IPY_MODEL_28c8680227fd4e32ab7fb09f8c0cad28"
            ],
            "layout": "IPY_MODEL_40e37bb5a63a4051a7c82376c409defd"
          }
        },
        "647d46af33a6446c8909c03a04d8e964": {
          "model_module": "@jupyter-widgets/controls",
          "model_name": "HTMLModel",
          "model_module_version": "1.5.0",
          "state": {
            "_dom_classes": [],
            "_model_module": "@jupyter-widgets/controls",
            "_model_module_version": "1.5.0",
            "_model_name": "HTMLModel",
            "_view_count": null,
            "_view_module": "@jupyter-widgets/controls",
            "_view_module_version": "1.5.0",
            "_view_name": "HTMLView",
            "description": "",
            "description_tooltip": null,
            "layout": "IPY_MODEL_84b303174b0c412b872202615ef62b74",
            "placeholder": "​",
            "style": "IPY_MODEL_d074f6e3e8a64387b4a474fb64e54d37",
            "value": "100%"
          }
        },
        "65fe6cbe48c94eb2b505e50acff4e941": {
          "model_module": "@jupyter-widgets/controls",
          "model_name": "FloatProgressModel",
          "model_module_version": "1.5.0",
          "state": {
            "_dom_classes": [],
            "_model_module": "@jupyter-widgets/controls",
            "_model_module_version": "1.5.0",
            "_model_name": "FloatProgressModel",
            "_view_count": null,
            "_view_module": "@jupyter-widgets/controls",
            "_view_module_version": "1.5.0",
            "_view_name": "ProgressView",
            "bar_style": "success",
            "description": "",
            "description_tooltip": null,
            "layout": "IPY_MODEL_0814203b152744eba9970a7c63b2666a",
            "max": 4542,
            "min": 0,
            "orientation": "horizontal",
            "style": "IPY_MODEL_95683ee271c645f3a77517ba951af83a",
            "value": 4542
          }
        },
        "28c8680227fd4e32ab7fb09f8c0cad28": {
          "model_module": "@jupyter-widgets/controls",
          "model_name": "HTMLModel",
          "model_module_version": "1.5.0",
          "state": {
            "_dom_classes": [],
            "_model_module": "@jupyter-widgets/controls",
            "_model_module_version": "1.5.0",
            "_model_name": "HTMLModel",
            "_view_count": null,
            "_view_module": "@jupyter-widgets/controls",
            "_view_module_version": "1.5.0",
            "_view_name": "HTMLView",
            "description": "",
            "description_tooltip": null,
            "layout": "IPY_MODEL_3ff3205f26344f5997879e6c251dbd64",
            "placeholder": "​",
            "style": "IPY_MODEL_95e4a38ff4cf464697a8562df7c7380d",
            "value": " 4542/4542 [00:00&lt;00:00, 166798.25it/s]"
          }
        },
        "40e37bb5a63a4051a7c82376c409defd": {
          "model_module": "@jupyter-widgets/base",
          "model_name": "LayoutModel",
          "model_module_version": "1.2.0",
          "state": {
            "_model_module": "@jupyter-widgets/base",
            "_model_module_version": "1.2.0",
            "_model_name": "LayoutModel",
            "_view_count": null,
            "_view_module": "@jupyter-widgets/base",
            "_view_module_version": "1.2.0",
            "_view_name": "LayoutView",
            "align_content": null,
            "align_items": null,
            "align_self": null,
            "border": null,
            "bottom": null,
            "display": null,
            "flex": null,
            "flex_flow": null,
            "grid_area": null,
            "grid_auto_columns": null,
            "grid_auto_flow": null,
            "grid_auto_rows": null,
            "grid_column": null,
            "grid_gap": null,
            "grid_row": null,
            "grid_template_areas": null,
            "grid_template_columns": null,
            "grid_template_rows": null,
            "height": null,
            "justify_content": null,
            "justify_items": null,
            "left": null,
            "margin": null,
            "max_height": null,
            "max_width": null,
            "min_height": null,
            "min_width": null,
            "object_fit": null,
            "object_position": null,
            "order": null,
            "overflow": null,
            "overflow_x": null,
            "overflow_y": null,
            "padding": null,
            "right": null,
            "top": null,
            "visibility": null,
            "width": null
          }
        },
        "84b303174b0c412b872202615ef62b74": {
          "model_module": "@jupyter-widgets/base",
          "model_name": "LayoutModel",
          "model_module_version": "1.2.0",
          "state": {
            "_model_module": "@jupyter-widgets/base",
            "_model_module_version": "1.2.0",
            "_model_name": "LayoutModel",
            "_view_count": null,
            "_view_module": "@jupyter-widgets/base",
            "_view_module_version": "1.2.0",
            "_view_name": "LayoutView",
            "align_content": null,
            "align_items": null,
            "align_self": null,
            "border": null,
            "bottom": null,
            "display": null,
            "flex": null,
            "flex_flow": null,
            "grid_area": null,
            "grid_auto_columns": null,
            "grid_auto_flow": null,
            "grid_auto_rows": null,
            "grid_column": null,
            "grid_gap": null,
            "grid_row": null,
            "grid_template_areas": null,
            "grid_template_columns": null,
            "grid_template_rows": null,
            "height": null,
            "justify_content": null,
            "justify_items": null,
            "left": null,
            "margin": null,
            "max_height": null,
            "max_width": null,
            "min_height": null,
            "min_width": null,
            "object_fit": null,
            "object_position": null,
            "order": null,
            "overflow": null,
            "overflow_x": null,
            "overflow_y": null,
            "padding": null,
            "right": null,
            "top": null,
            "visibility": null,
            "width": null
          }
        },
        "d074f6e3e8a64387b4a474fb64e54d37": {
          "model_module": "@jupyter-widgets/controls",
          "model_name": "DescriptionStyleModel",
          "model_module_version": "1.5.0",
          "state": {
            "_model_module": "@jupyter-widgets/controls",
            "_model_module_version": "1.5.0",
            "_model_name": "DescriptionStyleModel",
            "_view_count": null,
            "_view_module": "@jupyter-widgets/base",
            "_view_module_version": "1.2.0",
            "_view_name": "StyleView",
            "description_width": ""
          }
        },
        "0814203b152744eba9970a7c63b2666a": {
          "model_module": "@jupyter-widgets/base",
          "model_name": "LayoutModel",
          "model_module_version": "1.2.0",
          "state": {
            "_model_module": "@jupyter-widgets/base",
            "_model_module_version": "1.2.0",
            "_model_name": "LayoutModel",
            "_view_count": null,
            "_view_module": "@jupyter-widgets/base",
            "_view_module_version": "1.2.0",
            "_view_name": "LayoutView",
            "align_content": null,
            "align_items": null,
            "align_self": null,
            "border": null,
            "bottom": null,
            "display": null,
            "flex": null,
            "flex_flow": null,
            "grid_area": null,
            "grid_auto_columns": null,
            "grid_auto_flow": null,
            "grid_auto_rows": null,
            "grid_column": null,
            "grid_gap": null,
            "grid_row": null,
            "grid_template_areas": null,
            "grid_template_columns": null,
            "grid_template_rows": null,
            "height": null,
            "justify_content": null,
            "justify_items": null,
            "left": null,
            "margin": null,
            "max_height": null,
            "max_width": null,
            "min_height": null,
            "min_width": null,
            "object_fit": null,
            "object_position": null,
            "order": null,
            "overflow": null,
            "overflow_x": null,
            "overflow_y": null,
            "padding": null,
            "right": null,
            "top": null,
            "visibility": null,
            "width": null
          }
        },
        "95683ee271c645f3a77517ba951af83a": {
          "model_module": "@jupyter-widgets/controls",
          "model_name": "ProgressStyleModel",
          "model_module_version": "1.5.0",
          "state": {
            "_model_module": "@jupyter-widgets/controls",
            "_model_module_version": "1.5.0",
            "_model_name": "ProgressStyleModel",
            "_view_count": null,
            "_view_module": "@jupyter-widgets/base",
            "_view_module_version": "1.2.0",
            "_view_name": "StyleView",
            "bar_color": null,
            "description_width": ""
          }
        },
        "3ff3205f26344f5997879e6c251dbd64": {
          "model_module": "@jupyter-widgets/base",
          "model_name": "LayoutModel",
          "model_module_version": "1.2.0",
          "state": {
            "_model_module": "@jupyter-widgets/base",
            "_model_module_version": "1.2.0",
            "_model_name": "LayoutModel",
            "_view_count": null,
            "_view_module": "@jupyter-widgets/base",
            "_view_module_version": "1.2.0",
            "_view_name": "LayoutView",
            "align_content": null,
            "align_items": null,
            "align_self": null,
            "border": null,
            "bottom": null,
            "display": null,
            "flex": null,
            "flex_flow": null,
            "grid_area": null,
            "grid_auto_columns": null,
            "grid_auto_flow": null,
            "grid_auto_rows": null,
            "grid_column": null,
            "grid_gap": null,
            "grid_row": null,
            "grid_template_areas": null,
            "grid_template_columns": null,
            "grid_template_rows": null,
            "height": null,
            "justify_content": null,
            "justify_items": null,
            "left": null,
            "margin": null,
            "max_height": null,
            "max_width": null,
            "min_height": null,
            "min_width": null,
            "object_fit": null,
            "object_position": null,
            "order": null,
            "overflow": null,
            "overflow_x": null,
            "overflow_y": null,
            "padding": null,
            "right": null,
            "top": null,
            "visibility": null,
            "width": null
          }
        },
        "95e4a38ff4cf464697a8562df7c7380d": {
          "model_module": "@jupyter-widgets/controls",
          "model_name": "DescriptionStyleModel",
          "model_module_version": "1.5.0",
          "state": {
            "_model_module": "@jupyter-widgets/controls",
            "_model_module_version": "1.5.0",
            "_model_name": "DescriptionStyleModel",
            "_view_count": null,
            "_view_module": "@jupyter-widgets/base",
            "_view_module_version": "1.2.0",
            "_view_name": "StyleView",
            "description_width": ""
          }
        },
        "90d9c22683f54f2f8d559a07588285ab": {
          "model_module": "@jupyter-widgets/controls",
          "model_name": "HBoxModel",
          "model_module_version": "1.5.0",
          "state": {
            "_dom_classes": [],
            "_model_module": "@jupyter-widgets/controls",
            "_model_module_version": "1.5.0",
            "_model_name": "HBoxModel",
            "_view_count": null,
            "_view_module": "@jupyter-widgets/controls",
            "_view_module_version": "1.5.0",
            "_view_name": "HBoxView",
            "box_style": "",
            "children": [
              "IPY_MODEL_8a70877ac31342f89512af6b4e6c0d4a",
              "IPY_MODEL_16484c4cc781457085915130762bae69",
              "IPY_MODEL_84ea4beb2baf4f88a1679afed99dde61"
            ],
            "layout": "IPY_MODEL_7d2e0ca4762846db9a43f86726e02463"
          }
        },
        "8a70877ac31342f89512af6b4e6c0d4a": {
          "model_module": "@jupyter-widgets/controls",
          "model_name": "HTMLModel",
          "model_module_version": "1.5.0",
          "state": {
            "_dom_classes": [],
            "_model_module": "@jupyter-widgets/controls",
            "_model_module_version": "1.5.0",
            "_model_name": "HTMLModel",
            "_view_count": null,
            "_view_module": "@jupyter-widgets/controls",
            "_view_module_version": "1.5.0",
            "_view_name": "HTMLView",
            "description": "",
            "description_tooltip": null,
            "layout": "IPY_MODEL_0b3bfcc874bb409bac403b6d328350b8",
            "placeholder": "​",
            "style": "IPY_MODEL_8c3c435a7c1d44d286f4bfa7f0288fe8",
            "value": "100%"
          }
        },
        "16484c4cc781457085915130762bae69": {
          "model_module": "@jupyter-widgets/controls",
          "model_name": "FloatProgressModel",
          "model_module_version": "1.5.0",
          "state": {
            "_dom_classes": [],
            "_model_module": "@jupyter-widgets/controls",
            "_model_module_version": "1.5.0",
            "_model_name": "FloatProgressModel",
            "_view_count": null,
            "_view_module": "@jupyter-widgets/controls",
            "_view_module_version": "1.5.0",
            "_view_name": "ProgressView",
            "bar_style": "success",
            "description": "",
            "description_tooltip": null,
            "layout": "IPY_MODEL_980ebc9c80bd4abebfaa9abb851e1cf9",
            "max": 26421880,
            "min": 0,
            "orientation": "horizontal",
            "style": "IPY_MODEL_2dcae5cbac994d45a078c201458a3174",
            "value": 26421880
          }
        },
        "84ea4beb2baf4f88a1679afed99dde61": {
          "model_module": "@jupyter-widgets/controls",
          "model_name": "HTMLModel",
          "model_module_version": "1.5.0",
          "state": {
            "_dom_classes": [],
            "_model_module": "@jupyter-widgets/controls",
            "_model_module_version": "1.5.0",
            "_model_name": "HTMLModel",
            "_view_count": null,
            "_view_module": "@jupyter-widgets/controls",
            "_view_module_version": "1.5.0",
            "_view_name": "HTMLView",
            "description": "",
            "description_tooltip": null,
            "layout": "IPY_MODEL_7eae4f6d72a7452eb06f204593a3c6d2",
            "placeholder": "​",
            "style": "IPY_MODEL_76e73f8a315948379a6799b66d989521",
            "value": " 26421880/26421880 [00:03&lt;00:00, 14293867.28it/s]"
          }
        },
        "7d2e0ca4762846db9a43f86726e02463": {
          "model_module": "@jupyter-widgets/base",
          "model_name": "LayoutModel",
          "model_module_version": "1.2.0",
          "state": {
            "_model_module": "@jupyter-widgets/base",
            "_model_module_version": "1.2.0",
            "_model_name": "LayoutModel",
            "_view_count": null,
            "_view_module": "@jupyter-widgets/base",
            "_view_module_version": "1.2.0",
            "_view_name": "LayoutView",
            "align_content": null,
            "align_items": null,
            "align_self": null,
            "border": null,
            "bottom": null,
            "display": null,
            "flex": null,
            "flex_flow": null,
            "grid_area": null,
            "grid_auto_columns": null,
            "grid_auto_flow": null,
            "grid_auto_rows": null,
            "grid_column": null,
            "grid_gap": null,
            "grid_row": null,
            "grid_template_areas": null,
            "grid_template_columns": null,
            "grid_template_rows": null,
            "height": null,
            "justify_content": null,
            "justify_items": null,
            "left": null,
            "margin": null,
            "max_height": null,
            "max_width": null,
            "min_height": null,
            "min_width": null,
            "object_fit": null,
            "object_position": null,
            "order": null,
            "overflow": null,
            "overflow_x": null,
            "overflow_y": null,
            "padding": null,
            "right": null,
            "top": null,
            "visibility": null,
            "width": null
          }
        },
        "0b3bfcc874bb409bac403b6d328350b8": {
          "model_module": "@jupyter-widgets/base",
          "model_name": "LayoutModel",
          "model_module_version": "1.2.0",
          "state": {
            "_model_module": "@jupyter-widgets/base",
            "_model_module_version": "1.2.0",
            "_model_name": "LayoutModel",
            "_view_count": null,
            "_view_module": "@jupyter-widgets/base",
            "_view_module_version": "1.2.0",
            "_view_name": "LayoutView",
            "align_content": null,
            "align_items": null,
            "align_self": null,
            "border": null,
            "bottom": null,
            "display": null,
            "flex": null,
            "flex_flow": null,
            "grid_area": null,
            "grid_auto_columns": null,
            "grid_auto_flow": null,
            "grid_auto_rows": null,
            "grid_column": null,
            "grid_gap": null,
            "grid_row": null,
            "grid_template_areas": null,
            "grid_template_columns": null,
            "grid_template_rows": null,
            "height": null,
            "justify_content": null,
            "justify_items": null,
            "left": null,
            "margin": null,
            "max_height": null,
            "max_width": null,
            "min_height": null,
            "min_width": null,
            "object_fit": null,
            "object_position": null,
            "order": null,
            "overflow": null,
            "overflow_x": null,
            "overflow_y": null,
            "padding": null,
            "right": null,
            "top": null,
            "visibility": null,
            "width": null
          }
        },
        "8c3c435a7c1d44d286f4bfa7f0288fe8": {
          "model_module": "@jupyter-widgets/controls",
          "model_name": "DescriptionStyleModel",
          "model_module_version": "1.5.0",
          "state": {
            "_model_module": "@jupyter-widgets/controls",
            "_model_module_version": "1.5.0",
            "_model_name": "DescriptionStyleModel",
            "_view_count": null,
            "_view_module": "@jupyter-widgets/base",
            "_view_module_version": "1.2.0",
            "_view_name": "StyleView",
            "description_width": ""
          }
        },
        "980ebc9c80bd4abebfaa9abb851e1cf9": {
          "model_module": "@jupyter-widgets/base",
          "model_name": "LayoutModel",
          "model_module_version": "1.2.0",
          "state": {
            "_model_module": "@jupyter-widgets/base",
            "_model_module_version": "1.2.0",
            "_model_name": "LayoutModel",
            "_view_count": null,
            "_view_module": "@jupyter-widgets/base",
            "_view_module_version": "1.2.0",
            "_view_name": "LayoutView",
            "align_content": null,
            "align_items": null,
            "align_self": null,
            "border": null,
            "bottom": null,
            "display": null,
            "flex": null,
            "flex_flow": null,
            "grid_area": null,
            "grid_auto_columns": null,
            "grid_auto_flow": null,
            "grid_auto_rows": null,
            "grid_column": null,
            "grid_gap": null,
            "grid_row": null,
            "grid_template_areas": null,
            "grid_template_columns": null,
            "grid_template_rows": null,
            "height": null,
            "justify_content": null,
            "justify_items": null,
            "left": null,
            "margin": null,
            "max_height": null,
            "max_width": null,
            "min_height": null,
            "min_width": null,
            "object_fit": null,
            "object_position": null,
            "order": null,
            "overflow": null,
            "overflow_x": null,
            "overflow_y": null,
            "padding": null,
            "right": null,
            "top": null,
            "visibility": null,
            "width": null
          }
        },
        "2dcae5cbac994d45a078c201458a3174": {
          "model_module": "@jupyter-widgets/controls",
          "model_name": "ProgressStyleModel",
          "model_module_version": "1.5.0",
          "state": {
            "_model_module": "@jupyter-widgets/controls",
            "_model_module_version": "1.5.0",
            "_model_name": "ProgressStyleModel",
            "_view_count": null,
            "_view_module": "@jupyter-widgets/base",
            "_view_module_version": "1.2.0",
            "_view_name": "StyleView",
            "bar_color": null,
            "description_width": ""
          }
        },
        "7eae4f6d72a7452eb06f204593a3c6d2": {
          "model_module": "@jupyter-widgets/base",
          "model_name": "LayoutModel",
          "model_module_version": "1.2.0",
          "state": {
            "_model_module": "@jupyter-widgets/base",
            "_model_module_version": "1.2.0",
            "_model_name": "LayoutModel",
            "_view_count": null,
            "_view_module": "@jupyter-widgets/base",
            "_view_module_version": "1.2.0",
            "_view_name": "LayoutView",
            "align_content": null,
            "align_items": null,
            "align_self": null,
            "border": null,
            "bottom": null,
            "display": null,
            "flex": null,
            "flex_flow": null,
            "grid_area": null,
            "grid_auto_columns": null,
            "grid_auto_flow": null,
            "grid_auto_rows": null,
            "grid_column": null,
            "grid_gap": null,
            "grid_row": null,
            "grid_template_areas": null,
            "grid_template_columns": null,
            "grid_template_rows": null,
            "height": null,
            "justify_content": null,
            "justify_items": null,
            "left": null,
            "margin": null,
            "max_height": null,
            "max_width": null,
            "min_height": null,
            "min_width": null,
            "object_fit": null,
            "object_position": null,
            "order": null,
            "overflow": null,
            "overflow_x": null,
            "overflow_y": null,
            "padding": null,
            "right": null,
            "top": null,
            "visibility": null,
            "width": null
          }
        },
        "76e73f8a315948379a6799b66d989521": {
          "model_module": "@jupyter-widgets/controls",
          "model_name": "DescriptionStyleModel",
          "model_module_version": "1.5.0",
          "state": {
            "_model_module": "@jupyter-widgets/controls",
            "_model_module_version": "1.5.0",
            "_model_name": "DescriptionStyleModel",
            "_view_count": null,
            "_view_module": "@jupyter-widgets/base",
            "_view_module_version": "1.2.0",
            "_view_name": "StyleView",
            "description_width": ""
          }
        },
        "0b17def8c725407fa26df4deee72ffd8": {
          "model_module": "@jupyter-widgets/controls",
          "model_name": "HBoxModel",
          "model_module_version": "1.5.0",
          "state": {
            "_dom_classes": [],
            "_model_module": "@jupyter-widgets/controls",
            "_model_module_version": "1.5.0",
            "_model_name": "HBoxModel",
            "_view_count": null,
            "_view_module": "@jupyter-widgets/controls",
            "_view_module_version": "1.5.0",
            "_view_name": "HBoxView",
            "box_style": "",
            "children": [
              "IPY_MODEL_c876aeb67f2d42de98eff82aee6b5a70",
              "IPY_MODEL_31908524ca36495eb9683c3ba29602d2",
              "IPY_MODEL_939f0c6adbbf4ac6a760e4bc40fe0b03"
            ],
            "layout": "IPY_MODEL_3469ef53879049c8becc90076c5c3b90"
          }
        },
        "c876aeb67f2d42de98eff82aee6b5a70": {
          "model_module": "@jupyter-widgets/controls",
          "model_name": "HTMLModel",
          "model_module_version": "1.5.0",
          "state": {
            "_dom_classes": [],
            "_model_module": "@jupyter-widgets/controls",
            "_model_module_version": "1.5.0",
            "_model_name": "HTMLModel",
            "_view_count": null,
            "_view_module": "@jupyter-widgets/controls",
            "_view_module_version": "1.5.0",
            "_view_name": "HTMLView",
            "description": "",
            "description_tooltip": null,
            "layout": "IPY_MODEL_3639b9be16614b3eb4ec08bf4e92ed13",
            "placeholder": "​",
            "style": "IPY_MODEL_02f8e68db8aa4e2f91ca68d9db14117d",
            "value": "100%"
          }
        },
        "31908524ca36495eb9683c3ba29602d2": {
          "model_module": "@jupyter-widgets/controls",
          "model_name": "FloatProgressModel",
          "model_module_version": "1.5.0",
          "state": {
            "_dom_classes": [],
            "_model_module": "@jupyter-widgets/controls",
            "_model_module_version": "1.5.0",
            "_model_name": "FloatProgressModel",
            "_view_count": null,
            "_view_module": "@jupyter-widgets/controls",
            "_view_module_version": "1.5.0",
            "_view_name": "ProgressView",
            "bar_style": "success",
            "description": "",
            "description_tooltip": null,
            "layout": "IPY_MODEL_44264edafd42432c8c2f9acca610181c",
            "max": 29515,
            "min": 0,
            "orientation": "horizontal",
            "style": "IPY_MODEL_b5fa5c6e56204ea69fa72eccda0008b4",
            "value": 29515
          }
        },
        "939f0c6adbbf4ac6a760e4bc40fe0b03": {
          "model_module": "@jupyter-widgets/controls",
          "model_name": "HTMLModel",
          "model_module_version": "1.5.0",
          "state": {
            "_dom_classes": [],
            "_model_module": "@jupyter-widgets/controls",
            "_model_module_version": "1.5.0",
            "_model_name": "HTMLModel",
            "_view_count": null,
            "_view_module": "@jupyter-widgets/controls",
            "_view_module_version": "1.5.0",
            "_view_name": "HTMLView",
            "description": "",
            "description_tooltip": null,
            "layout": "IPY_MODEL_b4163b7676b847079e3251867ff23270",
            "placeholder": "​",
            "style": "IPY_MODEL_2fcda479190d4b4eb347b6a98e1c65b9",
            "value": " 29515/29515 [00:00&lt;00:00, 141603.67it/s]"
          }
        },
        "3469ef53879049c8becc90076c5c3b90": {
          "model_module": "@jupyter-widgets/base",
          "model_name": "LayoutModel",
          "model_module_version": "1.2.0",
          "state": {
            "_model_module": "@jupyter-widgets/base",
            "_model_module_version": "1.2.0",
            "_model_name": "LayoutModel",
            "_view_count": null,
            "_view_module": "@jupyter-widgets/base",
            "_view_module_version": "1.2.0",
            "_view_name": "LayoutView",
            "align_content": null,
            "align_items": null,
            "align_self": null,
            "border": null,
            "bottom": null,
            "display": null,
            "flex": null,
            "flex_flow": null,
            "grid_area": null,
            "grid_auto_columns": null,
            "grid_auto_flow": null,
            "grid_auto_rows": null,
            "grid_column": null,
            "grid_gap": null,
            "grid_row": null,
            "grid_template_areas": null,
            "grid_template_columns": null,
            "grid_template_rows": null,
            "height": null,
            "justify_content": null,
            "justify_items": null,
            "left": null,
            "margin": null,
            "max_height": null,
            "max_width": null,
            "min_height": null,
            "min_width": null,
            "object_fit": null,
            "object_position": null,
            "order": null,
            "overflow": null,
            "overflow_x": null,
            "overflow_y": null,
            "padding": null,
            "right": null,
            "top": null,
            "visibility": null,
            "width": null
          }
        },
        "3639b9be16614b3eb4ec08bf4e92ed13": {
          "model_module": "@jupyter-widgets/base",
          "model_name": "LayoutModel",
          "model_module_version": "1.2.0",
          "state": {
            "_model_module": "@jupyter-widgets/base",
            "_model_module_version": "1.2.0",
            "_model_name": "LayoutModel",
            "_view_count": null,
            "_view_module": "@jupyter-widgets/base",
            "_view_module_version": "1.2.0",
            "_view_name": "LayoutView",
            "align_content": null,
            "align_items": null,
            "align_self": null,
            "border": null,
            "bottom": null,
            "display": null,
            "flex": null,
            "flex_flow": null,
            "grid_area": null,
            "grid_auto_columns": null,
            "grid_auto_flow": null,
            "grid_auto_rows": null,
            "grid_column": null,
            "grid_gap": null,
            "grid_row": null,
            "grid_template_areas": null,
            "grid_template_columns": null,
            "grid_template_rows": null,
            "height": null,
            "justify_content": null,
            "justify_items": null,
            "left": null,
            "margin": null,
            "max_height": null,
            "max_width": null,
            "min_height": null,
            "min_width": null,
            "object_fit": null,
            "object_position": null,
            "order": null,
            "overflow": null,
            "overflow_x": null,
            "overflow_y": null,
            "padding": null,
            "right": null,
            "top": null,
            "visibility": null,
            "width": null
          }
        },
        "02f8e68db8aa4e2f91ca68d9db14117d": {
          "model_module": "@jupyter-widgets/controls",
          "model_name": "DescriptionStyleModel",
          "model_module_version": "1.5.0",
          "state": {
            "_model_module": "@jupyter-widgets/controls",
            "_model_module_version": "1.5.0",
            "_model_name": "DescriptionStyleModel",
            "_view_count": null,
            "_view_module": "@jupyter-widgets/base",
            "_view_module_version": "1.2.0",
            "_view_name": "StyleView",
            "description_width": ""
          }
        },
        "44264edafd42432c8c2f9acca610181c": {
          "model_module": "@jupyter-widgets/base",
          "model_name": "LayoutModel",
          "model_module_version": "1.2.0",
          "state": {
            "_model_module": "@jupyter-widgets/base",
            "_model_module_version": "1.2.0",
            "_model_name": "LayoutModel",
            "_view_count": null,
            "_view_module": "@jupyter-widgets/base",
            "_view_module_version": "1.2.0",
            "_view_name": "LayoutView",
            "align_content": null,
            "align_items": null,
            "align_self": null,
            "border": null,
            "bottom": null,
            "display": null,
            "flex": null,
            "flex_flow": null,
            "grid_area": null,
            "grid_auto_columns": null,
            "grid_auto_flow": null,
            "grid_auto_rows": null,
            "grid_column": null,
            "grid_gap": null,
            "grid_row": null,
            "grid_template_areas": null,
            "grid_template_columns": null,
            "grid_template_rows": null,
            "height": null,
            "justify_content": null,
            "justify_items": null,
            "left": null,
            "margin": null,
            "max_height": null,
            "max_width": null,
            "min_height": null,
            "min_width": null,
            "object_fit": null,
            "object_position": null,
            "order": null,
            "overflow": null,
            "overflow_x": null,
            "overflow_y": null,
            "padding": null,
            "right": null,
            "top": null,
            "visibility": null,
            "width": null
          }
        },
        "b5fa5c6e56204ea69fa72eccda0008b4": {
          "model_module": "@jupyter-widgets/controls",
          "model_name": "ProgressStyleModel",
          "model_module_version": "1.5.0",
          "state": {
            "_model_module": "@jupyter-widgets/controls",
            "_model_module_version": "1.5.0",
            "_model_name": "ProgressStyleModel",
            "_view_count": null,
            "_view_module": "@jupyter-widgets/base",
            "_view_module_version": "1.2.0",
            "_view_name": "StyleView",
            "bar_color": null,
            "description_width": ""
          }
        },
        "b4163b7676b847079e3251867ff23270": {
          "model_module": "@jupyter-widgets/base",
          "model_name": "LayoutModel",
          "model_module_version": "1.2.0",
          "state": {
            "_model_module": "@jupyter-widgets/base",
            "_model_module_version": "1.2.0",
            "_model_name": "LayoutModel",
            "_view_count": null,
            "_view_module": "@jupyter-widgets/base",
            "_view_module_version": "1.2.0",
            "_view_name": "LayoutView",
            "align_content": null,
            "align_items": null,
            "align_self": null,
            "border": null,
            "bottom": null,
            "display": null,
            "flex": null,
            "flex_flow": null,
            "grid_area": null,
            "grid_auto_columns": null,
            "grid_auto_flow": null,
            "grid_auto_rows": null,
            "grid_column": null,
            "grid_gap": null,
            "grid_row": null,
            "grid_template_areas": null,
            "grid_template_columns": null,
            "grid_template_rows": null,
            "height": null,
            "justify_content": null,
            "justify_items": null,
            "left": null,
            "margin": null,
            "max_height": null,
            "max_width": null,
            "min_height": null,
            "min_width": null,
            "object_fit": null,
            "object_position": null,
            "order": null,
            "overflow": null,
            "overflow_x": null,
            "overflow_y": null,
            "padding": null,
            "right": null,
            "top": null,
            "visibility": null,
            "width": null
          }
        },
        "2fcda479190d4b4eb347b6a98e1c65b9": {
          "model_module": "@jupyter-widgets/controls",
          "model_name": "DescriptionStyleModel",
          "model_module_version": "1.5.0",
          "state": {
            "_model_module": "@jupyter-widgets/controls",
            "_model_module_version": "1.5.0",
            "_model_name": "DescriptionStyleModel",
            "_view_count": null,
            "_view_module": "@jupyter-widgets/base",
            "_view_module_version": "1.2.0",
            "_view_name": "StyleView",
            "description_width": ""
          }
        },
        "3a0740131b954e3fba1c92d7ed7fcaa5": {
          "model_module": "@jupyter-widgets/controls",
          "model_name": "HBoxModel",
          "model_module_version": "1.5.0",
          "state": {
            "_dom_classes": [],
            "_model_module": "@jupyter-widgets/controls",
            "_model_module_version": "1.5.0",
            "_model_name": "HBoxModel",
            "_view_count": null,
            "_view_module": "@jupyter-widgets/controls",
            "_view_module_version": "1.5.0",
            "_view_name": "HBoxView",
            "box_style": "",
            "children": [
              "IPY_MODEL_0c01ce6544854140a59d0330c8e27d09",
              "IPY_MODEL_525a296460fd47bdac2a1701d3ca3712",
              "IPY_MODEL_dcde508d00fb490b834edc3df0b7d4d3"
            ],
            "layout": "IPY_MODEL_ee064391dbcb41acad2f50252a90c2a1"
          }
        },
        "0c01ce6544854140a59d0330c8e27d09": {
          "model_module": "@jupyter-widgets/controls",
          "model_name": "HTMLModel",
          "model_module_version": "1.5.0",
          "state": {
            "_dom_classes": [],
            "_model_module": "@jupyter-widgets/controls",
            "_model_module_version": "1.5.0",
            "_model_name": "HTMLModel",
            "_view_count": null,
            "_view_module": "@jupyter-widgets/controls",
            "_view_module_version": "1.5.0",
            "_view_name": "HTMLView",
            "description": "",
            "description_tooltip": null,
            "layout": "IPY_MODEL_48e9a5ec32cf42d688c3242159b2f53b",
            "placeholder": "​",
            "style": "IPY_MODEL_ba1272cfa497445bb45f6e9fc2494461",
            "value": "100%"
          }
        },
        "525a296460fd47bdac2a1701d3ca3712": {
          "model_module": "@jupyter-widgets/controls",
          "model_name": "FloatProgressModel",
          "model_module_version": "1.5.0",
          "state": {
            "_dom_classes": [],
            "_model_module": "@jupyter-widgets/controls",
            "_model_module_version": "1.5.0",
            "_model_name": "FloatProgressModel",
            "_view_count": null,
            "_view_module": "@jupyter-widgets/controls",
            "_view_module_version": "1.5.0",
            "_view_name": "ProgressView",
            "bar_style": "success",
            "description": "",
            "description_tooltip": null,
            "layout": "IPY_MODEL_6105457fde6848e99f9b195e1e2dc36f",
            "max": 4422102,
            "min": 0,
            "orientation": "horizontal",
            "style": "IPY_MODEL_2a445773a2914120890fa94eb0a41c0f",
            "value": 4422102
          }
        },
        "dcde508d00fb490b834edc3df0b7d4d3": {
          "model_module": "@jupyter-widgets/controls",
          "model_name": "HTMLModel",
          "model_module_version": "1.5.0",
          "state": {
            "_dom_classes": [],
            "_model_module": "@jupyter-widgets/controls",
            "_model_module_version": "1.5.0",
            "_model_name": "HTMLModel",
            "_view_count": null,
            "_view_module": "@jupyter-widgets/controls",
            "_view_module_version": "1.5.0",
            "_view_name": "HTMLView",
            "description": "",
            "description_tooltip": null,
            "layout": "IPY_MODEL_5104f6177f4f4e3b9e9127a9248569cc",
            "placeholder": "​",
            "style": "IPY_MODEL_f6868336fa7840f19db6ddc0035ae498",
            "value": " 4422102/4422102 [00:01&lt;00:00, 4673674.70it/s]"
          }
        },
        "ee064391dbcb41acad2f50252a90c2a1": {
          "model_module": "@jupyter-widgets/base",
          "model_name": "LayoutModel",
          "model_module_version": "1.2.0",
          "state": {
            "_model_module": "@jupyter-widgets/base",
            "_model_module_version": "1.2.0",
            "_model_name": "LayoutModel",
            "_view_count": null,
            "_view_module": "@jupyter-widgets/base",
            "_view_module_version": "1.2.0",
            "_view_name": "LayoutView",
            "align_content": null,
            "align_items": null,
            "align_self": null,
            "border": null,
            "bottom": null,
            "display": null,
            "flex": null,
            "flex_flow": null,
            "grid_area": null,
            "grid_auto_columns": null,
            "grid_auto_flow": null,
            "grid_auto_rows": null,
            "grid_column": null,
            "grid_gap": null,
            "grid_row": null,
            "grid_template_areas": null,
            "grid_template_columns": null,
            "grid_template_rows": null,
            "height": null,
            "justify_content": null,
            "justify_items": null,
            "left": null,
            "margin": null,
            "max_height": null,
            "max_width": null,
            "min_height": null,
            "min_width": null,
            "object_fit": null,
            "object_position": null,
            "order": null,
            "overflow": null,
            "overflow_x": null,
            "overflow_y": null,
            "padding": null,
            "right": null,
            "top": null,
            "visibility": null,
            "width": null
          }
        },
        "48e9a5ec32cf42d688c3242159b2f53b": {
          "model_module": "@jupyter-widgets/base",
          "model_name": "LayoutModel",
          "model_module_version": "1.2.0",
          "state": {
            "_model_module": "@jupyter-widgets/base",
            "_model_module_version": "1.2.0",
            "_model_name": "LayoutModel",
            "_view_count": null,
            "_view_module": "@jupyter-widgets/base",
            "_view_module_version": "1.2.0",
            "_view_name": "LayoutView",
            "align_content": null,
            "align_items": null,
            "align_self": null,
            "border": null,
            "bottom": null,
            "display": null,
            "flex": null,
            "flex_flow": null,
            "grid_area": null,
            "grid_auto_columns": null,
            "grid_auto_flow": null,
            "grid_auto_rows": null,
            "grid_column": null,
            "grid_gap": null,
            "grid_row": null,
            "grid_template_areas": null,
            "grid_template_columns": null,
            "grid_template_rows": null,
            "height": null,
            "justify_content": null,
            "justify_items": null,
            "left": null,
            "margin": null,
            "max_height": null,
            "max_width": null,
            "min_height": null,
            "min_width": null,
            "object_fit": null,
            "object_position": null,
            "order": null,
            "overflow": null,
            "overflow_x": null,
            "overflow_y": null,
            "padding": null,
            "right": null,
            "top": null,
            "visibility": null,
            "width": null
          }
        },
        "ba1272cfa497445bb45f6e9fc2494461": {
          "model_module": "@jupyter-widgets/controls",
          "model_name": "DescriptionStyleModel",
          "model_module_version": "1.5.0",
          "state": {
            "_model_module": "@jupyter-widgets/controls",
            "_model_module_version": "1.5.0",
            "_model_name": "DescriptionStyleModel",
            "_view_count": null,
            "_view_module": "@jupyter-widgets/base",
            "_view_module_version": "1.2.0",
            "_view_name": "StyleView",
            "description_width": ""
          }
        },
        "6105457fde6848e99f9b195e1e2dc36f": {
          "model_module": "@jupyter-widgets/base",
          "model_name": "LayoutModel",
          "model_module_version": "1.2.0",
          "state": {
            "_model_module": "@jupyter-widgets/base",
            "_model_module_version": "1.2.0",
            "_model_name": "LayoutModel",
            "_view_count": null,
            "_view_module": "@jupyter-widgets/base",
            "_view_module_version": "1.2.0",
            "_view_name": "LayoutView",
            "align_content": null,
            "align_items": null,
            "align_self": null,
            "border": null,
            "bottom": null,
            "display": null,
            "flex": null,
            "flex_flow": null,
            "grid_area": null,
            "grid_auto_columns": null,
            "grid_auto_flow": null,
            "grid_auto_rows": null,
            "grid_column": null,
            "grid_gap": null,
            "grid_row": null,
            "grid_template_areas": null,
            "grid_template_columns": null,
            "grid_template_rows": null,
            "height": null,
            "justify_content": null,
            "justify_items": null,
            "left": null,
            "margin": null,
            "max_height": null,
            "max_width": null,
            "min_height": null,
            "min_width": null,
            "object_fit": null,
            "object_position": null,
            "order": null,
            "overflow": null,
            "overflow_x": null,
            "overflow_y": null,
            "padding": null,
            "right": null,
            "top": null,
            "visibility": null,
            "width": null
          }
        },
        "2a445773a2914120890fa94eb0a41c0f": {
          "model_module": "@jupyter-widgets/controls",
          "model_name": "ProgressStyleModel",
          "model_module_version": "1.5.0",
          "state": {
            "_model_module": "@jupyter-widgets/controls",
            "_model_module_version": "1.5.0",
            "_model_name": "ProgressStyleModel",
            "_view_count": null,
            "_view_module": "@jupyter-widgets/base",
            "_view_module_version": "1.2.0",
            "_view_name": "StyleView",
            "bar_color": null,
            "description_width": ""
          }
        },
        "5104f6177f4f4e3b9e9127a9248569cc": {
          "model_module": "@jupyter-widgets/base",
          "model_name": "LayoutModel",
          "model_module_version": "1.2.0",
          "state": {
            "_model_module": "@jupyter-widgets/base",
            "_model_module_version": "1.2.0",
            "_model_name": "LayoutModel",
            "_view_count": null,
            "_view_module": "@jupyter-widgets/base",
            "_view_module_version": "1.2.0",
            "_view_name": "LayoutView",
            "align_content": null,
            "align_items": null,
            "align_self": null,
            "border": null,
            "bottom": null,
            "display": null,
            "flex": null,
            "flex_flow": null,
            "grid_area": null,
            "grid_auto_columns": null,
            "grid_auto_flow": null,
            "grid_auto_rows": null,
            "grid_column": null,
            "grid_gap": null,
            "grid_row": null,
            "grid_template_areas": null,
            "grid_template_columns": null,
            "grid_template_rows": null,
            "height": null,
            "justify_content": null,
            "justify_items": null,
            "left": null,
            "margin": null,
            "max_height": null,
            "max_width": null,
            "min_height": null,
            "min_width": null,
            "object_fit": null,
            "object_position": null,
            "order": null,
            "overflow": null,
            "overflow_x": null,
            "overflow_y": null,
            "padding": null,
            "right": null,
            "top": null,
            "visibility": null,
            "width": null
          }
        },
        "f6868336fa7840f19db6ddc0035ae498": {
          "model_module": "@jupyter-widgets/controls",
          "model_name": "DescriptionStyleModel",
          "model_module_version": "1.5.0",
          "state": {
            "_model_module": "@jupyter-widgets/controls",
            "_model_module_version": "1.5.0",
            "_model_name": "DescriptionStyleModel",
            "_view_count": null,
            "_view_module": "@jupyter-widgets/base",
            "_view_module_version": "1.2.0",
            "_view_name": "StyleView",
            "description_width": ""
          }
        },
        "8e9e8a09ed2e4c2abb3e98feaa0274f8": {
          "model_module": "@jupyter-widgets/controls",
          "model_name": "HBoxModel",
          "model_module_version": "1.5.0",
          "state": {
            "_dom_classes": [],
            "_model_module": "@jupyter-widgets/controls",
            "_model_module_version": "1.5.0",
            "_model_name": "HBoxModel",
            "_view_count": null,
            "_view_module": "@jupyter-widgets/controls",
            "_view_module_version": "1.5.0",
            "_view_name": "HBoxView",
            "box_style": "",
            "children": [
              "IPY_MODEL_5a53e6c60ee84add92d2dbbf16c8facd",
              "IPY_MODEL_c755156a5fb3461aa317c487b2583c88",
              "IPY_MODEL_d07fbb1dae3348698c271d3098d60958"
            ],
            "layout": "IPY_MODEL_01ceaa3801c24180afdc1bcbe689156e"
          }
        },
        "5a53e6c60ee84add92d2dbbf16c8facd": {
          "model_module": "@jupyter-widgets/controls",
          "model_name": "HTMLModel",
          "model_module_version": "1.5.0",
          "state": {
            "_dom_classes": [],
            "_model_module": "@jupyter-widgets/controls",
            "_model_module_version": "1.5.0",
            "_model_name": "HTMLModel",
            "_view_count": null,
            "_view_module": "@jupyter-widgets/controls",
            "_view_module_version": "1.5.0",
            "_view_name": "HTMLView",
            "description": "",
            "description_tooltip": null,
            "layout": "IPY_MODEL_8c63e933bb4b4082ac3a8544c03f585d",
            "placeholder": "​",
            "style": "IPY_MODEL_9c98b350f2544d27b5f55d7e449bc72f",
            "value": "100%"
          }
        },
        "c755156a5fb3461aa317c487b2583c88": {
          "model_module": "@jupyter-widgets/controls",
          "model_name": "FloatProgressModel",
          "model_module_version": "1.5.0",
          "state": {
            "_dom_classes": [],
            "_model_module": "@jupyter-widgets/controls",
            "_model_module_version": "1.5.0",
            "_model_name": "FloatProgressModel",
            "_view_count": null,
            "_view_module": "@jupyter-widgets/controls",
            "_view_module_version": "1.5.0",
            "_view_name": "ProgressView",
            "bar_style": "success",
            "description": "",
            "description_tooltip": null,
            "layout": "IPY_MODEL_c475e7e8b49f4d66929b86024b8aa12f",
            "max": 5148,
            "min": 0,
            "orientation": "horizontal",
            "style": "IPY_MODEL_e56d3064ac094f32bff0e51258d54d60",
            "value": 5148
          }
        },
        "d07fbb1dae3348698c271d3098d60958": {
          "model_module": "@jupyter-widgets/controls",
          "model_name": "HTMLModel",
          "model_module_version": "1.5.0",
          "state": {
            "_dom_classes": [],
            "_model_module": "@jupyter-widgets/controls",
            "_model_module_version": "1.5.0",
            "_model_name": "HTMLModel",
            "_view_count": null,
            "_view_module": "@jupyter-widgets/controls",
            "_view_module_version": "1.5.0",
            "_view_name": "HTMLView",
            "description": "",
            "description_tooltip": null,
            "layout": "IPY_MODEL_188159807e9f425c87472bf0fa5e666e",
            "placeholder": "​",
            "style": "IPY_MODEL_fa1b5d9c3d494baf8fda0d745e55de49",
            "value": " 5148/5148 [00:00&lt;00:00, 212259.18it/s]"
          }
        },
        "01ceaa3801c24180afdc1bcbe689156e": {
          "model_module": "@jupyter-widgets/base",
          "model_name": "LayoutModel",
          "model_module_version": "1.2.0",
          "state": {
            "_model_module": "@jupyter-widgets/base",
            "_model_module_version": "1.2.0",
            "_model_name": "LayoutModel",
            "_view_count": null,
            "_view_module": "@jupyter-widgets/base",
            "_view_module_version": "1.2.0",
            "_view_name": "LayoutView",
            "align_content": null,
            "align_items": null,
            "align_self": null,
            "border": null,
            "bottom": null,
            "display": null,
            "flex": null,
            "flex_flow": null,
            "grid_area": null,
            "grid_auto_columns": null,
            "grid_auto_flow": null,
            "grid_auto_rows": null,
            "grid_column": null,
            "grid_gap": null,
            "grid_row": null,
            "grid_template_areas": null,
            "grid_template_columns": null,
            "grid_template_rows": null,
            "height": null,
            "justify_content": null,
            "justify_items": null,
            "left": null,
            "margin": null,
            "max_height": null,
            "max_width": null,
            "min_height": null,
            "min_width": null,
            "object_fit": null,
            "object_position": null,
            "order": null,
            "overflow": null,
            "overflow_x": null,
            "overflow_y": null,
            "padding": null,
            "right": null,
            "top": null,
            "visibility": null,
            "width": null
          }
        },
        "8c63e933bb4b4082ac3a8544c03f585d": {
          "model_module": "@jupyter-widgets/base",
          "model_name": "LayoutModel",
          "model_module_version": "1.2.0",
          "state": {
            "_model_module": "@jupyter-widgets/base",
            "_model_module_version": "1.2.0",
            "_model_name": "LayoutModel",
            "_view_count": null,
            "_view_module": "@jupyter-widgets/base",
            "_view_module_version": "1.2.0",
            "_view_name": "LayoutView",
            "align_content": null,
            "align_items": null,
            "align_self": null,
            "border": null,
            "bottom": null,
            "display": null,
            "flex": null,
            "flex_flow": null,
            "grid_area": null,
            "grid_auto_columns": null,
            "grid_auto_flow": null,
            "grid_auto_rows": null,
            "grid_column": null,
            "grid_gap": null,
            "grid_row": null,
            "grid_template_areas": null,
            "grid_template_columns": null,
            "grid_template_rows": null,
            "height": null,
            "justify_content": null,
            "justify_items": null,
            "left": null,
            "margin": null,
            "max_height": null,
            "max_width": null,
            "min_height": null,
            "min_width": null,
            "object_fit": null,
            "object_position": null,
            "order": null,
            "overflow": null,
            "overflow_x": null,
            "overflow_y": null,
            "padding": null,
            "right": null,
            "top": null,
            "visibility": null,
            "width": null
          }
        },
        "9c98b350f2544d27b5f55d7e449bc72f": {
          "model_module": "@jupyter-widgets/controls",
          "model_name": "DescriptionStyleModel",
          "model_module_version": "1.5.0",
          "state": {
            "_model_module": "@jupyter-widgets/controls",
            "_model_module_version": "1.5.0",
            "_model_name": "DescriptionStyleModel",
            "_view_count": null,
            "_view_module": "@jupyter-widgets/base",
            "_view_module_version": "1.2.0",
            "_view_name": "StyleView",
            "description_width": ""
          }
        },
        "c475e7e8b49f4d66929b86024b8aa12f": {
          "model_module": "@jupyter-widgets/base",
          "model_name": "LayoutModel",
          "model_module_version": "1.2.0",
          "state": {
            "_model_module": "@jupyter-widgets/base",
            "_model_module_version": "1.2.0",
            "_model_name": "LayoutModel",
            "_view_count": null,
            "_view_module": "@jupyter-widgets/base",
            "_view_module_version": "1.2.0",
            "_view_name": "LayoutView",
            "align_content": null,
            "align_items": null,
            "align_self": null,
            "border": null,
            "bottom": null,
            "display": null,
            "flex": null,
            "flex_flow": null,
            "grid_area": null,
            "grid_auto_columns": null,
            "grid_auto_flow": null,
            "grid_auto_rows": null,
            "grid_column": null,
            "grid_gap": null,
            "grid_row": null,
            "grid_template_areas": null,
            "grid_template_columns": null,
            "grid_template_rows": null,
            "height": null,
            "justify_content": null,
            "justify_items": null,
            "left": null,
            "margin": null,
            "max_height": null,
            "max_width": null,
            "min_height": null,
            "min_width": null,
            "object_fit": null,
            "object_position": null,
            "order": null,
            "overflow": null,
            "overflow_x": null,
            "overflow_y": null,
            "padding": null,
            "right": null,
            "top": null,
            "visibility": null,
            "width": null
          }
        },
        "e56d3064ac094f32bff0e51258d54d60": {
          "model_module": "@jupyter-widgets/controls",
          "model_name": "ProgressStyleModel",
          "model_module_version": "1.5.0",
          "state": {
            "_model_module": "@jupyter-widgets/controls",
            "_model_module_version": "1.5.0",
            "_model_name": "ProgressStyleModel",
            "_view_count": null,
            "_view_module": "@jupyter-widgets/base",
            "_view_module_version": "1.2.0",
            "_view_name": "StyleView",
            "bar_color": null,
            "description_width": ""
          }
        },
        "188159807e9f425c87472bf0fa5e666e": {
          "model_module": "@jupyter-widgets/base",
          "model_name": "LayoutModel",
          "model_module_version": "1.2.0",
          "state": {
            "_model_module": "@jupyter-widgets/base",
            "_model_module_version": "1.2.0",
            "_model_name": "LayoutModel",
            "_view_count": null,
            "_view_module": "@jupyter-widgets/base",
            "_view_module_version": "1.2.0",
            "_view_name": "LayoutView",
            "align_content": null,
            "align_items": null,
            "align_self": null,
            "border": null,
            "bottom": null,
            "display": null,
            "flex": null,
            "flex_flow": null,
            "grid_area": null,
            "grid_auto_columns": null,
            "grid_auto_flow": null,
            "grid_auto_rows": null,
            "grid_column": null,
            "grid_gap": null,
            "grid_row": null,
            "grid_template_areas": null,
            "grid_template_columns": null,
            "grid_template_rows": null,
            "height": null,
            "justify_content": null,
            "justify_items": null,
            "left": null,
            "margin": null,
            "max_height": null,
            "max_width": null,
            "min_height": null,
            "min_width": null,
            "object_fit": null,
            "object_position": null,
            "order": null,
            "overflow": null,
            "overflow_x": null,
            "overflow_y": null,
            "padding": null,
            "right": null,
            "top": null,
            "visibility": null,
            "width": null
          }
        },
        "fa1b5d9c3d494baf8fda0d745e55de49": {
          "model_module": "@jupyter-widgets/controls",
          "model_name": "DescriptionStyleModel",
          "model_module_version": "1.5.0",
          "state": {
            "_model_module": "@jupyter-widgets/controls",
            "_model_module_version": "1.5.0",
            "_model_name": "DescriptionStyleModel",
            "_view_count": null,
            "_view_module": "@jupyter-widgets/base",
            "_view_module_version": "1.2.0",
            "_view_name": "StyleView",
            "description_width": ""
          }
        },
        "d1e6e32bd9cd461caab696b00d1778eb": {
          "model_module": "@jupyter-widgets/controls",
          "model_name": "HBoxModel",
          "model_module_version": "1.5.0",
          "state": {
            "_dom_classes": [],
            "_model_module": "@jupyter-widgets/controls",
            "_model_module_version": "1.5.0",
            "_model_name": "HBoxModel",
            "_view_count": null,
            "_view_module": "@jupyter-widgets/controls",
            "_view_module_version": "1.5.0",
            "_view_name": "HBoxView",
            "box_style": "",
            "children": [
              "IPY_MODEL_a623cfb60a17498888020b328c5cddd4",
              "IPY_MODEL_88fde1d592de46adba88f88ddbb22fda",
              "IPY_MODEL_d06a8891d3f34aadb10b17ef66511978"
            ],
            "layout": "IPY_MODEL_75aae9ad25a44ac7bcd7282c47f30b1f"
          }
        },
        "a623cfb60a17498888020b328c5cddd4": {
          "model_module": "@jupyter-widgets/controls",
          "model_name": "HTMLModel",
          "model_module_version": "1.5.0",
          "state": {
            "_dom_classes": [],
            "_model_module": "@jupyter-widgets/controls",
            "_model_module_version": "1.5.0",
            "_model_name": "HTMLModel",
            "_view_count": null,
            "_view_module": "@jupyter-widgets/controls",
            "_view_module_version": "1.5.0",
            "_view_name": "HTMLView",
            "description": "",
            "description_tooltip": null,
            "layout": "IPY_MODEL_538ac646745e421abc634d70a2216ab3",
            "placeholder": "​",
            "style": "IPY_MODEL_6bf966f7070b40eabb0f0bd5e76a0c48",
            "value": "100%"
          }
        },
        "88fde1d592de46adba88f88ddbb22fda": {
          "model_module": "@jupyter-widgets/controls",
          "model_name": "FloatProgressModel",
          "model_module_version": "1.5.0",
          "state": {
            "_dom_classes": [],
            "_model_module": "@jupyter-widgets/controls",
            "_model_module_version": "1.5.0",
            "_model_name": "FloatProgressModel",
            "_view_count": null,
            "_view_module": "@jupyter-widgets/controls",
            "_view_module_version": "1.5.0",
            "_view_name": "ProgressView",
            "bar_style": "success",
            "description": "",
            "description_tooltip": null,
            "layout": "IPY_MODEL_cb05bd74bb85462eabe9b769460a8f33",
            "max": 170498071,
            "min": 0,
            "orientation": "horizontal",
            "style": "IPY_MODEL_56b40a0224fe430892d5b9348615d31b",
            "value": 170498071
          }
        },
        "d06a8891d3f34aadb10b17ef66511978": {
          "model_module": "@jupyter-widgets/controls",
          "model_name": "HTMLModel",
          "model_module_version": "1.5.0",
          "state": {
            "_dom_classes": [],
            "_model_module": "@jupyter-widgets/controls",
            "_model_module_version": "1.5.0",
            "_model_name": "HTMLModel",
            "_view_count": null,
            "_view_module": "@jupyter-widgets/controls",
            "_view_module_version": "1.5.0",
            "_view_name": "HTMLView",
            "description": "",
            "description_tooltip": null,
            "layout": "IPY_MODEL_f2318765869a48b0a94bbe424549c1e0",
            "placeholder": "​",
            "style": "IPY_MODEL_554842963bb242649279a678d2a74615",
            "value": " 170498071/170498071 [00:13&lt;00:00, 13588599.42it/s]"
          }
        },
        "75aae9ad25a44ac7bcd7282c47f30b1f": {
          "model_module": "@jupyter-widgets/base",
          "model_name": "LayoutModel",
          "model_module_version": "1.2.0",
          "state": {
            "_model_module": "@jupyter-widgets/base",
            "_model_module_version": "1.2.0",
            "_model_name": "LayoutModel",
            "_view_count": null,
            "_view_module": "@jupyter-widgets/base",
            "_view_module_version": "1.2.0",
            "_view_name": "LayoutView",
            "align_content": null,
            "align_items": null,
            "align_self": null,
            "border": null,
            "bottom": null,
            "display": null,
            "flex": null,
            "flex_flow": null,
            "grid_area": null,
            "grid_auto_columns": null,
            "grid_auto_flow": null,
            "grid_auto_rows": null,
            "grid_column": null,
            "grid_gap": null,
            "grid_row": null,
            "grid_template_areas": null,
            "grid_template_columns": null,
            "grid_template_rows": null,
            "height": null,
            "justify_content": null,
            "justify_items": null,
            "left": null,
            "margin": null,
            "max_height": null,
            "max_width": null,
            "min_height": null,
            "min_width": null,
            "object_fit": null,
            "object_position": null,
            "order": null,
            "overflow": null,
            "overflow_x": null,
            "overflow_y": null,
            "padding": null,
            "right": null,
            "top": null,
            "visibility": null,
            "width": null
          }
        },
        "538ac646745e421abc634d70a2216ab3": {
          "model_module": "@jupyter-widgets/base",
          "model_name": "LayoutModel",
          "model_module_version": "1.2.0",
          "state": {
            "_model_module": "@jupyter-widgets/base",
            "_model_module_version": "1.2.0",
            "_model_name": "LayoutModel",
            "_view_count": null,
            "_view_module": "@jupyter-widgets/base",
            "_view_module_version": "1.2.0",
            "_view_name": "LayoutView",
            "align_content": null,
            "align_items": null,
            "align_self": null,
            "border": null,
            "bottom": null,
            "display": null,
            "flex": null,
            "flex_flow": null,
            "grid_area": null,
            "grid_auto_columns": null,
            "grid_auto_flow": null,
            "grid_auto_rows": null,
            "grid_column": null,
            "grid_gap": null,
            "grid_row": null,
            "grid_template_areas": null,
            "grid_template_columns": null,
            "grid_template_rows": null,
            "height": null,
            "justify_content": null,
            "justify_items": null,
            "left": null,
            "margin": null,
            "max_height": null,
            "max_width": null,
            "min_height": null,
            "min_width": null,
            "object_fit": null,
            "object_position": null,
            "order": null,
            "overflow": null,
            "overflow_x": null,
            "overflow_y": null,
            "padding": null,
            "right": null,
            "top": null,
            "visibility": null,
            "width": null
          }
        },
        "6bf966f7070b40eabb0f0bd5e76a0c48": {
          "model_module": "@jupyter-widgets/controls",
          "model_name": "DescriptionStyleModel",
          "model_module_version": "1.5.0",
          "state": {
            "_model_module": "@jupyter-widgets/controls",
            "_model_module_version": "1.5.0",
            "_model_name": "DescriptionStyleModel",
            "_view_count": null,
            "_view_module": "@jupyter-widgets/base",
            "_view_module_version": "1.2.0",
            "_view_name": "StyleView",
            "description_width": ""
          }
        },
        "cb05bd74bb85462eabe9b769460a8f33": {
          "model_module": "@jupyter-widgets/base",
          "model_name": "LayoutModel",
          "model_module_version": "1.2.0",
          "state": {
            "_model_module": "@jupyter-widgets/base",
            "_model_module_version": "1.2.0",
            "_model_name": "LayoutModel",
            "_view_count": null,
            "_view_module": "@jupyter-widgets/base",
            "_view_module_version": "1.2.0",
            "_view_name": "LayoutView",
            "align_content": null,
            "align_items": null,
            "align_self": null,
            "border": null,
            "bottom": null,
            "display": null,
            "flex": null,
            "flex_flow": null,
            "grid_area": null,
            "grid_auto_columns": null,
            "grid_auto_flow": null,
            "grid_auto_rows": null,
            "grid_column": null,
            "grid_gap": null,
            "grid_row": null,
            "grid_template_areas": null,
            "grid_template_columns": null,
            "grid_template_rows": null,
            "height": null,
            "justify_content": null,
            "justify_items": null,
            "left": null,
            "margin": null,
            "max_height": null,
            "max_width": null,
            "min_height": null,
            "min_width": null,
            "object_fit": null,
            "object_position": null,
            "order": null,
            "overflow": null,
            "overflow_x": null,
            "overflow_y": null,
            "padding": null,
            "right": null,
            "top": null,
            "visibility": null,
            "width": null
          }
        },
        "56b40a0224fe430892d5b9348615d31b": {
          "model_module": "@jupyter-widgets/controls",
          "model_name": "ProgressStyleModel",
          "model_module_version": "1.5.0",
          "state": {
            "_model_module": "@jupyter-widgets/controls",
            "_model_module_version": "1.5.0",
            "_model_name": "ProgressStyleModel",
            "_view_count": null,
            "_view_module": "@jupyter-widgets/base",
            "_view_module_version": "1.2.0",
            "_view_name": "StyleView",
            "bar_color": null,
            "description_width": ""
          }
        },
        "f2318765869a48b0a94bbe424549c1e0": {
          "model_module": "@jupyter-widgets/base",
          "model_name": "LayoutModel",
          "model_module_version": "1.2.0",
          "state": {
            "_model_module": "@jupyter-widgets/base",
            "_model_module_version": "1.2.0",
            "_model_name": "LayoutModel",
            "_view_count": null,
            "_view_module": "@jupyter-widgets/base",
            "_view_module_version": "1.2.0",
            "_view_name": "LayoutView",
            "align_content": null,
            "align_items": null,
            "align_self": null,
            "border": null,
            "bottom": null,
            "display": null,
            "flex": null,
            "flex_flow": null,
            "grid_area": null,
            "grid_auto_columns": null,
            "grid_auto_flow": null,
            "grid_auto_rows": null,
            "grid_column": null,
            "grid_gap": null,
            "grid_row": null,
            "grid_template_areas": null,
            "grid_template_columns": null,
            "grid_template_rows": null,
            "height": null,
            "justify_content": null,
            "justify_items": null,
            "left": null,
            "margin": null,
            "max_height": null,
            "max_width": null,
            "min_height": null,
            "min_width": null,
            "object_fit": null,
            "object_position": null,
            "order": null,
            "overflow": null,
            "overflow_x": null,
            "overflow_y": null,
            "padding": null,
            "right": null,
            "top": null,
            "visibility": null,
            "width": null
          }
        },
        "554842963bb242649279a678d2a74615": {
          "model_module": "@jupyter-widgets/controls",
          "model_name": "DescriptionStyleModel",
          "model_module_version": "1.5.0",
          "state": {
            "_model_module": "@jupyter-widgets/controls",
            "_model_module_version": "1.5.0",
            "_model_name": "DescriptionStyleModel",
            "_view_count": null,
            "_view_module": "@jupyter-widgets/base",
            "_view_module_version": "1.2.0",
            "_view_name": "StyleView",
            "description_width": ""
          }
        },
        "dac072a792124ff6a2c1e901034db82d": {
          "model_module": "@jupyter-widgets/controls",
          "model_name": "HBoxModel",
          "model_module_version": "1.5.0",
          "state": {
            "_dom_classes": [],
            "_model_module": "@jupyter-widgets/controls",
            "_model_module_version": "1.5.0",
            "_model_name": "HBoxModel",
            "_view_count": null,
            "_view_module": "@jupyter-widgets/controls",
            "_view_module_version": "1.5.0",
            "_view_name": "HBoxView",
            "box_style": "",
            "children": [
              "IPY_MODEL_ea67a44544fc4b14929eedd411956296",
              "IPY_MODEL_e56b7a4b20da4b23832b0c3ad4d36229",
              "IPY_MODEL_e630277281234c8e81fe62c1b95a8a1b"
            ],
            "layout": "IPY_MODEL_d7b53653688d4cbf90fdf6c5cfc271c6"
          }
        },
        "ea67a44544fc4b14929eedd411956296": {
          "model_module": "@jupyter-widgets/controls",
          "model_name": "HTMLModel",
          "model_module_version": "1.5.0",
          "state": {
            "_dom_classes": [],
            "_model_module": "@jupyter-widgets/controls",
            "_model_module_version": "1.5.0",
            "_model_name": "HTMLModel",
            "_view_count": null,
            "_view_module": "@jupyter-widgets/controls",
            "_view_module_version": "1.5.0",
            "_view_name": "HTMLView",
            "description": "",
            "description_tooltip": null,
            "layout": "IPY_MODEL_9b2df74169f54cff92ade61ae407873b",
            "placeholder": "​",
            "style": "IPY_MODEL_49c952ed0a42472eabf3cc661eb38104",
            "value": "100%"
          }
        },
        "e56b7a4b20da4b23832b0c3ad4d36229": {
          "model_module": "@jupyter-widgets/controls",
          "model_name": "FloatProgressModel",
          "model_module_version": "1.5.0",
          "state": {
            "_dom_classes": [],
            "_model_module": "@jupyter-widgets/controls",
            "_model_module_version": "1.5.0",
            "_model_name": "FloatProgressModel",
            "_view_count": null,
            "_view_module": "@jupyter-widgets/controls",
            "_view_module_version": "1.5.0",
            "_view_name": "ProgressView",
            "bar_style": "success",
            "description": "",
            "description_tooltip": null,
            "layout": "IPY_MODEL_3ce84abec9ce460689b92e8b579a6cc4",
            "max": 9912422,
            "min": 0,
            "orientation": "horizontal",
            "style": "IPY_MODEL_a7ad3ea52e2b406cad9111276b3a91d1",
            "value": 9912422
          }
        },
        "e630277281234c8e81fe62c1b95a8a1b": {
          "model_module": "@jupyter-widgets/controls",
          "model_name": "HTMLModel",
          "model_module_version": "1.5.0",
          "state": {
            "_dom_classes": [],
            "_model_module": "@jupyter-widgets/controls",
            "_model_module_version": "1.5.0",
            "_model_name": "HTMLModel",
            "_view_count": null,
            "_view_module": "@jupyter-widgets/controls",
            "_view_module_version": "1.5.0",
            "_view_name": "HTMLView",
            "description": "",
            "description_tooltip": null,
            "layout": "IPY_MODEL_f774a6d630ab4a0c8990cf3923596521",
            "placeholder": "​",
            "style": "IPY_MODEL_b773606ae1104d489ec2e3e2a6c7542d",
            "value": " 9912422/9912422 [00:00&lt;00:00, 29208877.69it/s]"
          }
        },
        "d7b53653688d4cbf90fdf6c5cfc271c6": {
          "model_module": "@jupyter-widgets/base",
          "model_name": "LayoutModel",
          "model_module_version": "1.2.0",
          "state": {
            "_model_module": "@jupyter-widgets/base",
            "_model_module_version": "1.2.0",
            "_model_name": "LayoutModel",
            "_view_count": null,
            "_view_module": "@jupyter-widgets/base",
            "_view_module_version": "1.2.0",
            "_view_name": "LayoutView",
            "align_content": null,
            "align_items": null,
            "align_self": null,
            "border": null,
            "bottom": null,
            "display": null,
            "flex": null,
            "flex_flow": null,
            "grid_area": null,
            "grid_auto_columns": null,
            "grid_auto_flow": null,
            "grid_auto_rows": null,
            "grid_column": null,
            "grid_gap": null,
            "grid_row": null,
            "grid_template_areas": null,
            "grid_template_columns": null,
            "grid_template_rows": null,
            "height": null,
            "justify_content": null,
            "justify_items": null,
            "left": null,
            "margin": null,
            "max_height": null,
            "max_width": null,
            "min_height": null,
            "min_width": null,
            "object_fit": null,
            "object_position": null,
            "order": null,
            "overflow": null,
            "overflow_x": null,
            "overflow_y": null,
            "padding": null,
            "right": null,
            "top": null,
            "visibility": null,
            "width": null
          }
        },
        "9b2df74169f54cff92ade61ae407873b": {
          "model_module": "@jupyter-widgets/base",
          "model_name": "LayoutModel",
          "model_module_version": "1.2.0",
          "state": {
            "_model_module": "@jupyter-widgets/base",
            "_model_module_version": "1.2.0",
            "_model_name": "LayoutModel",
            "_view_count": null,
            "_view_module": "@jupyter-widgets/base",
            "_view_module_version": "1.2.0",
            "_view_name": "LayoutView",
            "align_content": null,
            "align_items": null,
            "align_self": null,
            "border": null,
            "bottom": null,
            "display": null,
            "flex": null,
            "flex_flow": null,
            "grid_area": null,
            "grid_auto_columns": null,
            "grid_auto_flow": null,
            "grid_auto_rows": null,
            "grid_column": null,
            "grid_gap": null,
            "grid_row": null,
            "grid_template_areas": null,
            "grid_template_columns": null,
            "grid_template_rows": null,
            "height": null,
            "justify_content": null,
            "justify_items": null,
            "left": null,
            "margin": null,
            "max_height": null,
            "max_width": null,
            "min_height": null,
            "min_width": null,
            "object_fit": null,
            "object_position": null,
            "order": null,
            "overflow": null,
            "overflow_x": null,
            "overflow_y": null,
            "padding": null,
            "right": null,
            "top": null,
            "visibility": null,
            "width": null
          }
        },
        "49c952ed0a42472eabf3cc661eb38104": {
          "model_module": "@jupyter-widgets/controls",
          "model_name": "DescriptionStyleModel",
          "model_module_version": "1.5.0",
          "state": {
            "_model_module": "@jupyter-widgets/controls",
            "_model_module_version": "1.5.0",
            "_model_name": "DescriptionStyleModel",
            "_view_count": null,
            "_view_module": "@jupyter-widgets/base",
            "_view_module_version": "1.2.0",
            "_view_name": "StyleView",
            "description_width": ""
          }
        },
        "3ce84abec9ce460689b92e8b579a6cc4": {
          "model_module": "@jupyter-widgets/base",
          "model_name": "LayoutModel",
          "model_module_version": "1.2.0",
          "state": {
            "_model_module": "@jupyter-widgets/base",
            "_model_module_version": "1.2.0",
            "_model_name": "LayoutModel",
            "_view_count": null,
            "_view_module": "@jupyter-widgets/base",
            "_view_module_version": "1.2.0",
            "_view_name": "LayoutView",
            "align_content": null,
            "align_items": null,
            "align_self": null,
            "border": null,
            "bottom": null,
            "display": null,
            "flex": null,
            "flex_flow": null,
            "grid_area": null,
            "grid_auto_columns": null,
            "grid_auto_flow": null,
            "grid_auto_rows": null,
            "grid_column": null,
            "grid_gap": null,
            "grid_row": null,
            "grid_template_areas": null,
            "grid_template_columns": null,
            "grid_template_rows": null,
            "height": null,
            "justify_content": null,
            "justify_items": null,
            "left": null,
            "margin": null,
            "max_height": null,
            "max_width": null,
            "min_height": null,
            "min_width": null,
            "object_fit": null,
            "object_position": null,
            "order": null,
            "overflow": null,
            "overflow_x": null,
            "overflow_y": null,
            "padding": null,
            "right": null,
            "top": null,
            "visibility": null,
            "width": null
          }
        },
        "a7ad3ea52e2b406cad9111276b3a91d1": {
          "model_module": "@jupyter-widgets/controls",
          "model_name": "ProgressStyleModel",
          "model_module_version": "1.5.0",
          "state": {
            "_model_module": "@jupyter-widgets/controls",
            "_model_module_version": "1.5.0",
            "_model_name": "ProgressStyleModel",
            "_view_count": null,
            "_view_module": "@jupyter-widgets/base",
            "_view_module_version": "1.2.0",
            "_view_name": "StyleView",
            "bar_color": null,
            "description_width": ""
          }
        },
        "f774a6d630ab4a0c8990cf3923596521": {
          "model_module": "@jupyter-widgets/base",
          "model_name": "LayoutModel",
          "model_module_version": "1.2.0",
          "state": {
            "_model_module": "@jupyter-widgets/base",
            "_model_module_version": "1.2.0",
            "_model_name": "LayoutModel",
            "_view_count": null,
            "_view_module": "@jupyter-widgets/base",
            "_view_module_version": "1.2.0",
            "_view_name": "LayoutView",
            "align_content": null,
            "align_items": null,
            "align_self": null,
            "border": null,
            "bottom": null,
            "display": null,
            "flex": null,
            "flex_flow": null,
            "grid_area": null,
            "grid_auto_columns": null,
            "grid_auto_flow": null,
            "grid_auto_rows": null,
            "grid_column": null,
            "grid_gap": null,
            "grid_row": null,
            "grid_template_areas": null,
            "grid_template_columns": null,
            "grid_template_rows": null,
            "height": null,
            "justify_content": null,
            "justify_items": null,
            "left": null,
            "margin": null,
            "max_height": null,
            "max_width": null,
            "min_height": null,
            "min_width": null,
            "object_fit": null,
            "object_position": null,
            "order": null,
            "overflow": null,
            "overflow_x": null,
            "overflow_y": null,
            "padding": null,
            "right": null,
            "top": null,
            "visibility": null,
            "width": null
          }
        },
        "b773606ae1104d489ec2e3e2a6c7542d": {
          "model_module": "@jupyter-widgets/controls",
          "model_name": "DescriptionStyleModel",
          "model_module_version": "1.5.0",
          "state": {
            "_model_module": "@jupyter-widgets/controls",
            "_model_module_version": "1.5.0",
            "_model_name": "DescriptionStyleModel",
            "_view_count": null,
            "_view_module": "@jupyter-widgets/base",
            "_view_module_version": "1.2.0",
            "_view_name": "StyleView",
            "description_width": ""
          }
        },
        "176a5fbe10104118957a6902ec04803c": {
          "model_module": "@jupyter-widgets/controls",
          "model_name": "HBoxModel",
          "model_module_version": "1.5.0",
          "state": {
            "_dom_classes": [],
            "_model_module": "@jupyter-widgets/controls",
            "_model_module_version": "1.5.0",
            "_model_name": "HBoxModel",
            "_view_count": null,
            "_view_module": "@jupyter-widgets/controls",
            "_view_module_version": "1.5.0",
            "_view_name": "HBoxView",
            "box_style": "",
            "children": [
              "IPY_MODEL_853c787878484d8eb275abc5baac6a40",
              "IPY_MODEL_448a8b216b654b889827f612898460f2",
              "IPY_MODEL_433e4a509a5e4036991ffdeb29d9907b"
            ],
            "layout": "IPY_MODEL_39a10b77da7d4e9b9d0dc4a3709b25ad"
          }
        },
        "853c787878484d8eb275abc5baac6a40": {
          "model_module": "@jupyter-widgets/controls",
          "model_name": "HTMLModel",
          "model_module_version": "1.5.0",
          "state": {
            "_dom_classes": [],
            "_model_module": "@jupyter-widgets/controls",
            "_model_module_version": "1.5.0",
            "_model_name": "HTMLModel",
            "_view_count": null,
            "_view_module": "@jupyter-widgets/controls",
            "_view_module_version": "1.5.0",
            "_view_name": "HTMLView",
            "description": "",
            "description_tooltip": null,
            "layout": "IPY_MODEL_9408bcedeb2048258d490aff494255fd",
            "placeholder": "​",
            "style": "IPY_MODEL_ed1b7e538dc54d62a2819e8d19d4e9c5",
            "value": "100%"
          }
        },
        "448a8b216b654b889827f612898460f2": {
          "model_module": "@jupyter-widgets/controls",
          "model_name": "FloatProgressModel",
          "model_module_version": "1.5.0",
          "state": {
            "_dom_classes": [],
            "_model_module": "@jupyter-widgets/controls",
            "_model_module_version": "1.5.0",
            "_model_name": "FloatProgressModel",
            "_view_count": null,
            "_view_module": "@jupyter-widgets/controls",
            "_view_module_version": "1.5.0",
            "_view_name": "ProgressView",
            "bar_style": "success",
            "description": "",
            "description_tooltip": null,
            "layout": "IPY_MODEL_c31b2a9e48b147efb54d859032d736ea",
            "max": 28881,
            "min": 0,
            "orientation": "horizontal",
            "style": "IPY_MODEL_98bf6bf65f584addbec26b8dd5604a23",
            "value": 28881
          }
        },
        "433e4a509a5e4036991ffdeb29d9907b": {
          "model_module": "@jupyter-widgets/controls",
          "model_name": "HTMLModel",
          "model_module_version": "1.5.0",
          "state": {
            "_dom_classes": [],
            "_model_module": "@jupyter-widgets/controls",
            "_model_module_version": "1.5.0",
            "_model_name": "HTMLModel",
            "_view_count": null,
            "_view_module": "@jupyter-widgets/controls",
            "_view_module_version": "1.5.0",
            "_view_name": "HTMLView",
            "description": "",
            "description_tooltip": null,
            "layout": "IPY_MODEL_b057f571baae4d63970fc60a447c6a63",
            "placeholder": "​",
            "style": "IPY_MODEL_bf535df1ad204f118a5b0d6fe45f8b70",
            "value": " 28881/28881 [00:00&lt;00:00, 1145675.37it/s]"
          }
        },
        "39a10b77da7d4e9b9d0dc4a3709b25ad": {
          "model_module": "@jupyter-widgets/base",
          "model_name": "LayoutModel",
          "model_module_version": "1.2.0",
          "state": {
            "_model_module": "@jupyter-widgets/base",
            "_model_module_version": "1.2.0",
            "_model_name": "LayoutModel",
            "_view_count": null,
            "_view_module": "@jupyter-widgets/base",
            "_view_module_version": "1.2.0",
            "_view_name": "LayoutView",
            "align_content": null,
            "align_items": null,
            "align_self": null,
            "border": null,
            "bottom": null,
            "display": null,
            "flex": null,
            "flex_flow": null,
            "grid_area": null,
            "grid_auto_columns": null,
            "grid_auto_flow": null,
            "grid_auto_rows": null,
            "grid_column": null,
            "grid_gap": null,
            "grid_row": null,
            "grid_template_areas": null,
            "grid_template_columns": null,
            "grid_template_rows": null,
            "height": null,
            "justify_content": null,
            "justify_items": null,
            "left": null,
            "margin": null,
            "max_height": null,
            "max_width": null,
            "min_height": null,
            "min_width": null,
            "object_fit": null,
            "object_position": null,
            "order": null,
            "overflow": null,
            "overflow_x": null,
            "overflow_y": null,
            "padding": null,
            "right": null,
            "top": null,
            "visibility": null,
            "width": null
          }
        },
        "9408bcedeb2048258d490aff494255fd": {
          "model_module": "@jupyter-widgets/base",
          "model_name": "LayoutModel",
          "model_module_version": "1.2.0",
          "state": {
            "_model_module": "@jupyter-widgets/base",
            "_model_module_version": "1.2.0",
            "_model_name": "LayoutModel",
            "_view_count": null,
            "_view_module": "@jupyter-widgets/base",
            "_view_module_version": "1.2.0",
            "_view_name": "LayoutView",
            "align_content": null,
            "align_items": null,
            "align_self": null,
            "border": null,
            "bottom": null,
            "display": null,
            "flex": null,
            "flex_flow": null,
            "grid_area": null,
            "grid_auto_columns": null,
            "grid_auto_flow": null,
            "grid_auto_rows": null,
            "grid_column": null,
            "grid_gap": null,
            "grid_row": null,
            "grid_template_areas": null,
            "grid_template_columns": null,
            "grid_template_rows": null,
            "height": null,
            "justify_content": null,
            "justify_items": null,
            "left": null,
            "margin": null,
            "max_height": null,
            "max_width": null,
            "min_height": null,
            "min_width": null,
            "object_fit": null,
            "object_position": null,
            "order": null,
            "overflow": null,
            "overflow_x": null,
            "overflow_y": null,
            "padding": null,
            "right": null,
            "top": null,
            "visibility": null,
            "width": null
          }
        },
        "ed1b7e538dc54d62a2819e8d19d4e9c5": {
          "model_module": "@jupyter-widgets/controls",
          "model_name": "DescriptionStyleModel",
          "model_module_version": "1.5.0",
          "state": {
            "_model_module": "@jupyter-widgets/controls",
            "_model_module_version": "1.5.0",
            "_model_name": "DescriptionStyleModel",
            "_view_count": null,
            "_view_module": "@jupyter-widgets/base",
            "_view_module_version": "1.2.0",
            "_view_name": "StyleView",
            "description_width": ""
          }
        },
        "c31b2a9e48b147efb54d859032d736ea": {
          "model_module": "@jupyter-widgets/base",
          "model_name": "LayoutModel",
          "model_module_version": "1.2.0",
          "state": {
            "_model_module": "@jupyter-widgets/base",
            "_model_module_version": "1.2.0",
            "_model_name": "LayoutModel",
            "_view_count": null,
            "_view_module": "@jupyter-widgets/base",
            "_view_module_version": "1.2.0",
            "_view_name": "LayoutView",
            "align_content": null,
            "align_items": null,
            "align_self": null,
            "border": null,
            "bottom": null,
            "display": null,
            "flex": null,
            "flex_flow": null,
            "grid_area": null,
            "grid_auto_columns": null,
            "grid_auto_flow": null,
            "grid_auto_rows": null,
            "grid_column": null,
            "grid_gap": null,
            "grid_row": null,
            "grid_template_areas": null,
            "grid_template_columns": null,
            "grid_template_rows": null,
            "height": null,
            "justify_content": null,
            "justify_items": null,
            "left": null,
            "margin": null,
            "max_height": null,
            "max_width": null,
            "min_height": null,
            "min_width": null,
            "object_fit": null,
            "object_position": null,
            "order": null,
            "overflow": null,
            "overflow_x": null,
            "overflow_y": null,
            "padding": null,
            "right": null,
            "top": null,
            "visibility": null,
            "width": null
          }
        },
        "98bf6bf65f584addbec26b8dd5604a23": {
          "model_module": "@jupyter-widgets/controls",
          "model_name": "ProgressStyleModel",
          "model_module_version": "1.5.0",
          "state": {
            "_model_module": "@jupyter-widgets/controls",
            "_model_module_version": "1.5.0",
            "_model_name": "ProgressStyleModel",
            "_view_count": null,
            "_view_module": "@jupyter-widgets/base",
            "_view_module_version": "1.2.0",
            "_view_name": "StyleView",
            "bar_color": null,
            "description_width": ""
          }
        },
        "b057f571baae4d63970fc60a447c6a63": {
          "model_module": "@jupyter-widgets/base",
          "model_name": "LayoutModel",
          "model_module_version": "1.2.0",
          "state": {
            "_model_module": "@jupyter-widgets/base",
            "_model_module_version": "1.2.0",
            "_model_name": "LayoutModel",
            "_view_count": null,
            "_view_module": "@jupyter-widgets/base",
            "_view_module_version": "1.2.0",
            "_view_name": "LayoutView",
            "align_content": null,
            "align_items": null,
            "align_self": null,
            "border": null,
            "bottom": null,
            "display": null,
            "flex": null,
            "flex_flow": null,
            "grid_area": null,
            "grid_auto_columns": null,
            "grid_auto_flow": null,
            "grid_auto_rows": null,
            "grid_column": null,
            "grid_gap": null,
            "grid_row": null,
            "grid_template_areas": null,
            "grid_template_columns": null,
            "grid_template_rows": null,
            "height": null,
            "justify_content": null,
            "justify_items": null,
            "left": null,
            "margin": null,
            "max_height": null,
            "max_width": null,
            "min_height": null,
            "min_width": null,
            "object_fit": null,
            "object_position": null,
            "order": null,
            "overflow": null,
            "overflow_x": null,
            "overflow_y": null,
            "padding": null,
            "right": null,
            "top": null,
            "visibility": null,
            "width": null
          }
        },
        "bf535df1ad204f118a5b0d6fe45f8b70": {
          "model_module": "@jupyter-widgets/controls",
          "model_name": "DescriptionStyleModel",
          "model_module_version": "1.5.0",
          "state": {
            "_model_module": "@jupyter-widgets/controls",
            "_model_module_version": "1.5.0",
            "_model_name": "DescriptionStyleModel",
            "_view_count": null,
            "_view_module": "@jupyter-widgets/base",
            "_view_module_version": "1.2.0",
            "_view_name": "StyleView",
            "description_width": ""
          }
        },
        "0628dbc227984df89c8725b66dcdc432": {
          "model_module": "@jupyter-widgets/controls",
          "model_name": "HBoxModel",
          "model_module_version": "1.5.0",
          "state": {
            "_dom_classes": [],
            "_model_module": "@jupyter-widgets/controls",
            "_model_module_version": "1.5.0",
            "_model_name": "HBoxModel",
            "_view_count": null,
            "_view_module": "@jupyter-widgets/controls",
            "_view_module_version": "1.5.0",
            "_view_name": "HBoxView",
            "box_style": "",
            "children": [
              "IPY_MODEL_c3dfe5b6091e4ffda7aefc1b94f6c460",
              "IPY_MODEL_9087dd96b4ea47fd9a5a6333630d0191",
              "IPY_MODEL_d3857e23baf24768b455423e96129eee"
            ],
            "layout": "IPY_MODEL_afa51fb8967f44edb30df9eb9d54e2ea"
          }
        },
        "c3dfe5b6091e4ffda7aefc1b94f6c460": {
          "model_module": "@jupyter-widgets/controls",
          "model_name": "HTMLModel",
          "model_module_version": "1.5.0",
          "state": {
            "_dom_classes": [],
            "_model_module": "@jupyter-widgets/controls",
            "_model_module_version": "1.5.0",
            "_model_name": "HTMLModel",
            "_view_count": null,
            "_view_module": "@jupyter-widgets/controls",
            "_view_module_version": "1.5.0",
            "_view_name": "HTMLView",
            "description": "",
            "description_tooltip": null,
            "layout": "IPY_MODEL_7ed406d1c6d24c4f9266c1368fbb83d5",
            "placeholder": "​",
            "style": "IPY_MODEL_d2477f99a4734dc39d6e7fa98f26cc5b",
            "value": "100%"
          }
        },
        "9087dd96b4ea47fd9a5a6333630d0191": {
          "model_module": "@jupyter-widgets/controls",
          "model_name": "FloatProgressModel",
          "model_module_version": "1.5.0",
          "state": {
            "_dom_classes": [],
            "_model_module": "@jupyter-widgets/controls",
            "_model_module_version": "1.5.0",
            "_model_name": "FloatProgressModel",
            "_view_count": null,
            "_view_module": "@jupyter-widgets/controls",
            "_view_module_version": "1.5.0",
            "_view_name": "ProgressView",
            "bar_style": "success",
            "description": "",
            "description_tooltip": null,
            "layout": "IPY_MODEL_c337cf54501e43eb8b745ffc16f2b9bc",
            "max": 1648877,
            "min": 0,
            "orientation": "horizontal",
            "style": "IPY_MODEL_5b767c0825c74ab78b834b4c47e7a72f",
            "value": 1648877
          }
        },
        "d3857e23baf24768b455423e96129eee": {
          "model_module": "@jupyter-widgets/controls",
          "model_name": "HTMLModel",
          "model_module_version": "1.5.0",
          "state": {
            "_dom_classes": [],
            "_model_module": "@jupyter-widgets/controls",
            "_model_module_version": "1.5.0",
            "_model_name": "HTMLModel",
            "_view_count": null,
            "_view_module": "@jupyter-widgets/controls",
            "_view_module_version": "1.5.0",
            "_view_name": "HTMLView",
            "description": "",
            "description_tooltip": null,
            "layout": "IPY_MODEL_e91d83335b824380ac7ee9bc91c991c4",
            "placeholder": "​",
            "style": "IPY_MODEL_ab202c8b52494ae2b18f2cc59a5d2257",
            "value": " 1648877/1648877 [00:00&lt;00:00, 3186118.43it/s]"
          }
        },
        "afa51fb8967f44edb30df9eb9d54e2ea": {
          "model_module": "@jupyter-widgets/base",
          "model_name": "LayoutModel",
          "model_module_version": "1.2.0",
          "state": {
            "_model_module": "@jupyter-widgets/base",
            "_model_module_version": "1.2.0",
            "_model_name": "LayoutModel",
            "_view_count": null,
            "_view_module": "@jupyter-widgets/base",
            "_view_module_version": "1.2.0",
            "_view_name": "LayoutView",
            "align_content": null,
            "align_items": null,
            "align_self": null,
            "border": null,
            "bottom": null,
            "display": null,
            "flex": null,
            "flex_flow": null,
            "grid_area": null,
            "grid_auto_columns": null,
            "grid_auto_flow": null,
            "grid_auto_rows": null,
            "grid_column": null,
            "grid_gap": null,
            "grid_row": null,
            "grid_template_areas": null,
            "grid_template_columns": null,
            "grid_template_rows": null,
            "height": null,
            "justify_content": null,
            "justify_items": null,
            "left": null,
            "margin": null,
            "max_height": null,
            "max_width": null,
            "min_height": null,
            "min_width": null,
            "object_fit": null,
            "object_position": null,
            "order": null,
            "overflow": null,
            "overflow_x": null,
            "overflow_y": null,
            "padding": null,
            "right": null,
            "top": null,
            "visibility": null,
            "width": null
          }
        },
        "7ed406d1c6d24c4f9266c1368fbb83d5": {
          "model_module": "@jupyter-widgets/base",
          "model_name": "LayoutModel",
          "model_module_version": "1.2.0",
          "state": {
            "_model_module": "@jupyter-widgets/base",
            "_model_module_version": "1.2.0",
            "_model_name": "LayoutModel",
            "_view_count": null,
            "_view_module": "@jupyter-widgets/base",
            "_view_module_version": "1.2.0",
            "_view_name": "LayoutView",
            "align_content": null,
            "align_items": null,
            "align_self": null,
            "border": null,
            "bottom": null,
            "display": null,
            "flex": null,
            "flex_flow": null,
            "grid_area": null,
            "grid_auto_columns": null,
            "grid_auto_flow": null,
            "grid_auto_rows": null,
            "grid_column": null,
            "grid_gap": null,
            "grid_row": null,
            "grid_template_areas": null,
            "grid_template_columns": null,
            "grid_template_rows": null,
            "height": null,
            "justify_content": null,
            "justify_items": null,
            "left": null,
            "margin": null,
            "max_height": null,
            "max_width": null,
            "min_height": null,
            "min_width": null,
            "object_fit": null,
            "object_position": null,
            "order": null,
            "overflow": null,
            "overflow_x": null,
            "overflow_y": null,
            "padding": null,
            "right": null,
            "top": null,
            "visibility": null,
            "width": null
          }
        },
        "d2477f99a4734dc39d6e7fa98f26cc5b": {
          "model_module": "@jupyter-widgets/controls",
          "model_name": "DescriptionStyleModel",
          "model_module_version": "1.5.0",
          "state": {
            "_model_module": "@jupyter-widgets/controls",
            "_model_module_version": "1.5.0",
            "_model_name": "DescriptionStyleModel",
            "_view_count": null,
            "_view_module": "@jupyter-widgets/base",
            "_view_module_version": "1.2.0",
            "_view_name": "StyleView",
            "description_width": ""
          }
        },
        "c337cf54501e43eb8b745ffc16f2b9bc": {
          "model_module": "@jupyter-widgets/base",
          "model_name": "LayoutModel",
          "model_module_version": "1.2.0",
          "state": {
            "_model_module": "@jupyter-widgets/base",
            "_model_module_version": "1.2.0",
            "_model_name": "LayoutModel",
            "_view_count": null,
            "_view_module": "@jupyter-widgets/base",
            "_view_module_version": "1.2.0",
            "_view_name": "LayoutView",
            "align_content": null,
            "align_items": null,
            "align_self": null,
            "border": null,
            "bottom": null,
            "display": null,
            "flex": null,
            "flex_flow": null,
            "grid_area": null,
            "grid_auto_columns": null,
            "grid_auto_flow": null,
            "grid_auto_rows": null,
            "grid_column": null,
            "grid_gap": null,
            "grid_row": null,
            "grid_template_areas": null,
            "grid_template_columns": null,
            "grid_template_rows": null,
            "height": null,
            "justify_content": null,
            "justify_items": null,
            "left": null,
            "margin": null,
            "max_height": null,
            "max_width": null,
            "min_height": null,
            "min_width": null,
            "object_fit": null,
            "object_position": null,
            "order": null,
            "overflow": null,
            "overflow_x": null,
            "overflow_y": null,
            "padding": null,
            "right": null,
            "top": null,
            "visibility": null,
            "width": null
          }
        },
        "5b767c0825c74ab78b834b4c47e7a72f": {
          "model_module": "@jupyter-widgets/controls",
          "model_name": "ProgressStyleModel",
          "model_module_version": "1.5.0",
          "state": {
            "_model_module": "@jupyter-widgets/controls",
            "_model_module_version": "1.5.0",
            "_model_name": "ProgressStyleModel",
            "_view_count": null,
            "_view_module": "@jupyter-widgets/base",
            "_view_module_version": "1.2.0",
            "_view_name": "StyleView",
            "bar_color": null,
            "description_width": ""
          }
        },
        "e91d83335b824380ac7ee9bc91c991c4": {
          "model_module": "@jupyter-widgets/base",
          "model_name": "LayoutModel",
          "model_module_version": "1.2.0",
          "state": {
            "_model_module": "@jupyter-widgets/base",
            "_model_module_version": "1.2.0",
            "_model_name": "LayoutModel",
            "_view_count": null,
            "_view_module": "@jupyter-widgets/base",
            "_view_module_version": "1.2.0",
            "_view_name": "LayoutView",
            "align_content": null,
            "align_items": null,
            "align_self": null,
            "border": null,
            "bottom": null,
            "display": null,
            "flex": null,
            "flex_flow": null,
            "grid_area": null,
            "grid_auto_columns": null,
            "grid_auto_flow": null,
            "grid_auto_rows": null,
            "grid_column": null,
            "grid_gap": null,
            "grid_row": null,
            "grid_template_areas": null,
            "grid_template_columns": null,
            "grid_template_rows": null,
            "height": null,
            "justify_content": null,
            "justify_items": null,
            "left": null,
            "margin": null,
            "max_height": null,
            "max_width": null,
            "min_height": null,
            "min_width": null,
            "object_fit": null,
            "object_position": null,
            "order": null,
            "overflow": null,
            "overflow_x": null,
            "overflow_y": null,
            "padding": null,
            "right": null,
            "top": null,
            "visibility": null,
            "width": null
          }
        },
        "ab202c8b52494ae2b18f2cc59a5d2257": {
          "model_module": "@jupyter-widgets/controls",
          "model_name": "DescriptionStyleModel",
          "model_module_version": "1.5.0",
          "state": {
            "_model_module": "@jupyter-widgets/controls",
            "_model_module_version": "1.5.0",
            "_model_name": "DescriptionStyleModel",
            "_view_count": null,
            "_view_module": "@jupyter-widgets/base",
            "_view_module_version": "1.2.0",
            "_view_name": "StyleView",
            "description_width": ""
          }
        },
        "891606f1d53844d2a313bbd1713c3194": {
          "model_module": "@jupyter-widgets/controls",
          "model_name": "HBoxModel",
          "model_module_version": "1.5.0",
          "state": {
            "_dom_classes": [],
            "_model_module": "@jupyter-widgets/controls",
            "_model_module_version": "1.5.0",
            "_model_name": "HBoxModel",
            "_view_count": null,
            "_view_module": "@jupyter-widgets/controls",
            "_view_module_version": "1.5.0",
            "_view_name": "HBoxView",
            "box_style": "",
            "children": [
              "IPY_MODEL_fe4afe0100234e66a69784c62bac80c0",
              "IPY_MODEL_9af7a2d1c9644156af486573c9e339ae",
              "IPY_MODEL_43465368f4594b7d8ecede324673d862"
            ],
            "layout": "IPY_MODEL_c66f414cea014606b98d5f6a92816c41"
          }
        },
        "fe4afe0100234e66a69784c62bac80c0": {
          "model_module": "@jupyter-widgets/controls",
          "model_name": "HTMLModel",
          "model_module_version": "1.5.0",
          "state": {
            "_dom_classes": [],
            "_model_module": "@jupyter-widgets/controls",
            "_model_module_version": "1.5.0",
            "_model_name": "HTMLModel",
            "_view_count": null,
            "_view_module": "@jupyter-widgets/controls",
            "_view_module_version": "1.5.0",
            "_view_name": "HTMLView",
            "description": "",
            "description_tooltip": null,
            "layout": "IPY_MODEL_5f7d1ca027dd41a882be72c73289c89f",
            "placeholder": "​",
            "style": "IPY_MODEL_5aa85d5eccee40a684eb61f4fca4ac09",
            "value": "100%"
          }
        },
        "9af7a2d1c9644156af486573c9e339ae": {
          "model_module": "@jupyter-widgets/controls",
          "model_name": "FloatProgressModel",
          "model_module_version": "1.5.0",
          "state": {
            "_dom_classes": [],
            "_model_module": "@jupyter-widgets/controls",
            "_model_module_version": "1.5.0",
            "_model_name": "FloatProgressModel",
            "_view_count": null,
            "_view_module": "@jupyter-widgets/controls",
            "_view_module_version": "1.5.0",
            "_view_name": "ProgressView",
            "bar_style": "success",
            "description": "",
            "description_tooltip": null,
            "layout": "IPY_MODEL_0a93be6b462544bf886055a093c9a126",
            "max": 4542,
            "min": 0,
            "orientation": "horizontal",
            "style": "IPY_MODEL_e10aeaf7aa844b6ab7d6e6cf9f932d6c",
            "value": 4542
          }
        },
        "43465368f4594b7d8ecede324673d862": {
          "model_module": "@jupyter-widgets/controls",
          "model_name": "HTMLModel",
          "model_module_version": "1.5.0",
          "state": {
            "_dom_classes": [],
            "_model_module": "@jupyter-widgets/controls",
            "_model_module_version": "1.5.0",
            "_model_name": "HTMLModel",
            "_view_count": null,
            "_view_module": "@jupyter-widgets/controls",
            "_view_module_version": "1.5.0",
            "_view_name": "HTMLView",
            "description": "",
            "description_tooltip": null,
            "layout": "IPY_MODEL_edc25fbc3c6e4f69b5c78113645431ce",
            "placeholder": "​",
            "style": "IPY_MODEL_f077e890e0b54919b2b2a351b22d416f",
            "value": " 4542/4542 [00:00&lt;00:00, 163537.89it/s]"
          }
        },
        "c66f414cea014606b98d5f6a92816c41": {
          "model_module": "@jupyter-widgets/base",
          "model_name": "LayoutModel",
          "model_module_version": "1.2.0",
          "state": {
            "_model_module": "@jupyter-widgets/base",
            "_model_module_version": "1.2.0",
            "_model_name": "LayoutModel",
            "_view_count": null,
            "_view_module": "@jupyter-widgets/base",
            "_view_module_version": "1.2.0",
            "_view_name": "LayoutView",
            "align_content": null,
            "align_items": null,
            "align_self": null,
            "border": null,
            "bottom": null,
            "display": null,
            "flex": null,
            "flex_flow": null,
            "grid_area": null,
            "grid_auto_columns": null,
            "grid_auto_flow": null,
            "grid_auto_rows": null,
            "grid_column": null,
            "grid_gap": null,
            "grid_row": null,
            "grid_template_areas": null,
            "grid_template_columns": null,
            "grid_template_rows": null,
            "height": null,
            "justify_content": null,
            "justify_items": null,
            "left": null,
            "margin": null,
            "max_height": null,
            "max_width": null,
            "min_height": null,
            "min_width": null,
            "object_fit": null,
            "object_position": null,
            "order": null,
            "overflow": null,
            "overflow_x": null,
            "overflow_y": null,
            "padding": null,
            "right": null,
            "top": null,
            "visibility": null,
            "width": null
          }
        },
        "5f7d1ca027dd41a882be72c73289c89f": {
          "model_module": "@jupyter-widgets/base",
          "model_name": "LayoutModel",
          "model_module_version": "1.2.0",
          "state": {
            "_model_module": "@jupyter-widgets/base",
            "_model_module_version": "1.2.0",
            "_model_name": "LayoutModel",
            "_view_count": null,
            "_view_module": "@jupyter-widgets/base",
            "_view_module_version": "1.2.0",
            "_view_name": "LayoutView",
            "align_content": null,
            "align_items": null,
            "align_self": null,
            "border": null,
            "bottom": null,
            "display": null,
            "flex": null,
            "flex_flow": null,
            "grid_area": null,
            "grid_auto_columns": null,
            "grid_auto_flow": null,
            "grid_auto_rows": null,
            "grid_column": null,
            "grid_gap": null,
            "grid_row": null,
            "grid_template_areas": null,
            "grid_template_columns": null,
            "grid_template_rows": null,
            "height": null,
            "justify_content": null,
            "justify_items": null,
            "left": null,
            "margin": null,
            "max_height": null,
            "max_width": null,
            "min_height": null,
            "min_width": null,
            "object_fit": null,
            "object_position": null,
            "order": null,
            "overflow": null,
            "overflow_x": null,
            "overflow_y": null,
            "padding": null,
            "right": null,
            "top": null,
            "visibility": null,
            "width": null
          }
        },
        "5aa85d5eccee40a684eb61f4fca4ac09": {
          "model_module": "@jupyter-widgets/controls",
          "model_name": "DescriptionStyleModel",
          "model_module_version": "1.5.0",
          "state": {
            "_model_module": "@jupyter-widgets/controls",
            "_model_module_version": "1.5.0",
            "_model_name": "DescriptionStyleModel",
            "_view_count": null,
            "_view_module": "@jupyter-widgets/base",
            "_view_module_version": "1.2.0",
            "_view_name": "StyleView",
            "description_width": ""
          }
        },
        "0a93be6b462544bf886055a093c9a126": {
          "model_module": "@jupyter-widgets/base",
          "model_name": "LayoutModel",
          "model_module_version": "1.2.0",
          "state": {
            "_model_module": "@jupyter-widgets/base",
            "_model_module_version": "1.2.0",
            "_model_name": "LayoutModel",
            "_view_count": null,
            "_view_module": "@jupyter-widgets/base",
            "_view_module_version": "1.2.0",
            "_view_name": "LayoutView",
            "align_content": null,
            "align_items": null,
            "align_self": null,
            "border": null,
            "bottom": null,
            "display": null,
            "flex": null,
            "flex_flow": null,
            "grid_area": null,
            "grid_auto_columns": null,
            "grid_auto_flow": null,
            "grid_auto_rows": null,
            "grid_column": null,
            "grid_gap": null,
            "grid_row": null,
            "grid_template_areas": null,
            "grid_template_columns": null,
            "grid_template_rows": null,
            "height": null,
            "justify_content": null,
            "justify_items": null,
            "left": null,
            "margin": null,
            "max_height": null,
            "max_width": null,
            "min_height": null,
            "min_width": null,
            "object_fit": null,
            "object_position": null,
            "order": null,
            "overflow": null,
            "overflow_x": null,
            "overflow_y": null,
            "padding": null,
            "right": null,
            "top": null,
            "visibility": null,
            "width": null
          }
        },
        "e10aeaf7aa844b6ab7d6e6cf9f932d6c": {
          "model_module": "@jupyter-widgets/controls",
          "model_name": "ProgressStyleModel",
          "model_module_version": "1.5.0",
          "state": {
            "_model_module": "@jupyter-widgets/controls",
            "_model_module_version": "1.5.0",
            "_model_name": "ProgressStyleModel",
            "_view_count": null,
            "_view_module": "@jupyter-widgets/base",
            "_view_module_version": "1.2.0",
            "_view_name": "StyleView",
            "bar_color": null,
            "description_width": ""
          }
        },
        "edc25fbc3c6e4f69b5c78113645431ce": {
          "model_module": "@jupyter-widgets/base",
          "model_name": "LayoutModel",
          "model_module_version": "1.2.0",
          "state": {
            "_model_module": "@jupyter-widgets/base",
            "_model_module_version": "1.2.0",
            "_model_name": "LayoutModel",
            "_view_count": null,
            "_view_module": "@jupyter-widgets/base",
            "_view_module_version": "1.2.0",
            "_view_name": "LayoutView",
            "align_content": null,
            "align_items": null,
            "align_self": null,
            "border": null,
            "bottom": null,
            "display": null,
            "flex": null,
            "flex_flow": null,
            "grid_area": null,
            "grid_auto_columns": null,
            "grid_auto_flow": null,
            "grid_auto_rows": null,
            "grid_column": null,
            "grid_gap": null,
            "grid_row": null,
            "grid_template_areas": null,
            "grid_template_columns": null,
            "grid_template_rows": null,
            "height": null,
            "justify_content": null,
            "justify_items": null,
            "left": null,
            "margin": null,
            "max_height": null,
            "max_width": null,
            "min_height": null,
            "min_width": null,
            "object_fit": null,
            "object_position": null,
            "order": null,
            "overflow": null,
            "overflow_x": null,
            "overflow_y": null,
            "padding": null,
            "right": null,
            "top": null,
            "visibility": null,
            "width": null
          }
        },
        "f077e890e0b54919b2b2a351b22d416f": {
          "model_module": "@jupyter-widgets/controls",
          "model_name": "DescriptionStyleModel",
          "model_module_version": "1.5.0",
          "state": {
            "_model_module": "@jupyter-widgets/controls",
            "_model_module_version": "1.5.0",
            "_model_name": "DescriptionStyleModel",
            "_view_count": null,
            "_view_module": "@jupyter-widgets/base",
            "_view_module_version": "1.2.0",
            "_view_name": "StyleView",
            "description_width": ""
          }
        },
        "2e43ae4d41c7451a93da32b554356e72": {
          "model_module": "@jupyter-widgets/controls",
          "model_name": "HBoxModel",
          "model_module_version": "1.5.0",
          "state": {
            "_dom_classes": [],
            "_model_module": "@jupyter-widgets/controls",
            "_model_module_version": "1.5.0",
            "_model_name": "HBoxModel",
            "_view_count": null,
            "_view_module": "@jupyter-widgets/controls",
            "_view_module_version": "1.5.0",
            "_view_name": "HBoxView",
            "box_style": "",
            "children": [
              "IPY_MODEL_84183a2f031e4e49b58a5c15743a52d3",
              "IPY_MODEL_6ca3c93bbc174afeac860bcfddb3ef3d",
              "IPY_MODEL_d103b533ce3e4ce3b2509b54c3c18e41"
            ],
            "layout": "IPY_MODEL_dab8b1cb92474c5ab366e6fb14ffcc8f"
          }
        },
        "84183a2f031e4e49b58a5c15743a52d3": {
          "model_module": "@jupyter-widgets/controls",
          "model_name": "HTMLModel",
          "model_module_version": "1.5.0",
          "state": {
            "_dom_classes": [],
            "_model_module": "@jupyter-widgets/controls",
            "_model_module_version": "1.5.0",
            "_model_name": "HTMLModel",
            "_view_count": null,
            "_view_module": "@jupyter-widgets/controls",
            "_view_module_version": "1.5.0",
            "_view_name": "HTMLView",
            "description": "",
            "description_tooltip": null,
            "layout": "IPY_MODEL_69c3b83ab6404c6e9f7d15984dbdffb8",
            "placeholder": "​",
            "style": "IPY_MODEL_2c69e6f9c2d84471a3d318c2abcc7a12",
            "value": "100%"
          }
        },
        "6ca3c93bbc174afeac860bcfddb3ef3d": {
          "model_module": "@jupyter-widgets/controls",
          "model_name": "FloatProgressModel",
          "model_module_version": "1.5.0",
          "state": {
            "_dom_classes": [],
            "_model_module": "@jupyter-widgets/controls",
            "_model_module_version": "1.5.0",
            "_model_name": "FloatProgressModel",
            "_view_count": null,
            "_view_module": "@jupyter-widgets/controls",
            "_view_module_version": "1.5.0",
            "_view_name": "ProgressView",
            "bar_style": "success",
            "description": "",
            "description_tooltip": null,
            "layout": "IPY_MODEL_4b01cda09f014f6d87e675bb7dd6b110",
            "max": 26421880,
            "min": 0,
            "orientation": "horizontal",
            "style": "IPY_MODEL_b5778e5b4da24012b284fb80de9a7576",
            "value": 26421880
          }
        },
        "d103b533ce3e4ce3b2509b54c3c18e41": {
          "model_module": "@jupyter-widgets/controls",
          "model_name": "HTMLModel",
          "model_module_version": "1.5.0",
          "state": {
            "_dom_classes": [],
            "_model_module": "@jupyter-widgets/controls",
            "_model_module_version": "1.5.0",
            "_model_name": "HTMLModel",
            "_view_count": null,
            "_view_module": "@jupyter-widgets/controls",
            "_view_module_version": "1.5.0",
            "_view_name": "HTMLView",
            "description": "",
            "description_tooltip": null,
            "layout": "IPY_MODEL_da455dbe81cf43f0bbdfd5427bcae541",
            "placeholder": "​",
            "style": "IPY_MODEL_18bd401f1eab4b81a386f82c4113c853",
            "value": " 26421880/26421880 [00:02&lt;00:00, 19698209.91it/s]"
          }
        },
        "dab8b1cb92474c5ab366e6fb14ffcc8f": {
          "model_module": "@jupyter-widgets/base",
          "model_name": "LayoutModel",
          "model_module_version": "1.2.0",
          "state": {
            "_model_module": "@jupyter-widgets/base",
            "_model_module_version": "1.2.0",
            "_model_name": "LayoutModel",
            "_view_count": null,
            "_view_module": "@jupyter-widgets/base",
            "_view_module_version": "1.2.0",
            "_view_name": "LayoutView",
            "align_content": null,
            "align_items": null,
            "align_self": null,
            "border": null,
            "bottom": null,
            "display": null,
            "flex": null,
            "flex_flow": null,
            "grid_area": null,
            "grid_auto_columns": null,
            "grid_auto_flow": null,
            "grid_auto_rows": null,
            "grid_column": null,
            "grid_gap": null,
            "grid_row": null,
            "grid_template_areas": null,
            "grid_template_columns": null,
            "grid_template_rows": null,
            "height": null,
            "justify_content": null,
            "justify_items": null,
            "left": null,
            "margin": null,
            "max_height": null,
            "max_width": null,
            "min_height": null,
            "min_width": null,
            "object_fit": null,
            "object_position": null,
            "order": null,
            "overflow": null,
            "overflow_x": null,
            "overflow_y": null,
            "padding": null,
            "right": null,
            "top": null,
            "visibility": null,
            "width": null
          }
        },
        "69c3b83ab6404c6e9f7d15984dbdffb8": {
          "model_module": "@jupyter-widgets/base",
          "model_name": "LayoutModel",
          "model_module_version": "1.2.0",
          "state": {
            "_model_module": "@jupyter-widgets/base",
            "_model_module_version": "1.2.0",
            "_model_name": "LayoutModel",
            "_view_count": null,
            "_view_module": "@jupyter-widgets/base",
            "_view_module_version": "1.2.0",
            "_view_name": "LayoutView",
            "align_content": null,
            "align_items": null,
            "align_self": null,
            "border": null,
            "bottom": null,
            "display": null,
            "flex": null,
            "flex_flow": null,
            "grid_area": null,
            "grid_auto_columns": null,
            "grid_auto_flow": null,
            "grid_auto_rows": null,
            "grid_column": null,
            "grid_gap": null,
            "grid_row": null,
            "grid_template_areas": null,
            "grid_template_columns": null,
            "grid_template_rows": null,
            "height": null,
            "justify_content": null,
            "justify_items": null,
            "left": null,
            "margin": null,
            "max_height": null,
            "max_width": null,
            "min_height": null,
            "min_width": null,
            "object_fit": null,
            "object_position": null,
            "order": null,
            "overflow": null,
            "overflow_x": null,
            "overflow_y": null,
            "padding": null,
            "right": null,
            "top": null,
            "visibility": null,
            "width": null
          }
        },
        "2c69e6f9c2d84471a3d318c2abcc7a12": {
          "model_module": "@jupyter-widgets/controls",
          "model_name": "DescriptionStyleModel",
          "model_module_version": "1.5.0",
          "state": {
            "_model_module": "@jupyter-widgets/controls",
            "_model_module_version": "1.5.0",
            "_model_name": "DescriptionStyleModel",
            "_view_count": null,
            "_view_module": "@jupyter-widgets/base",
            "_view_module_version": "1.2.0",
            "_view_name": "StyleView",
            "description_width": ""
          }
        },
        "4b01cda09f014f6d87e675bb7dd6b110": {
          "model_module": "@jupyter-widgets/base",
          "model_name": "LayoutModel",
          "model_module_version": "1.2.0",
          "state": {
            "_model_module": "@jupyter-widgets/base",
            "_model_module_version": "1.2.0",
            "_model_name": "LayoutModel",
            "_view_count": null,
            "_view_module": "@jupyter-widgets/base",
            "_view_module_version": "1.2.0",
            "_view_name": "LayoutView",
            "align_content": null,
            "align_items": null,
            "align_self": null,
            "border": null,
            "bottom": null,
            "display": null,
            "flex": null,
            "flex_flow": null,
            "grid_area": null,
            "grid_auto_columns": null,
            "grid_auto_flow": null,
            "grid_auto_rows": null,
            "grid_column": null,
            "grid_gap": null,
            "grid_row": null,
            "grid_template_areas": null,
            "grid_template_columns": null,
            "grid_template_rows": null,
            "height": null,
            "justify_content": null,
            "justify_items": null,
            "left": null,
            "margin": null,
            "max_height": null,
            "max_width": null,
            "min_height": null,
            "min_width": null,
            "object_fit": null,
            "object_position": null,
            "order": null,
            "overflow": null,
            "overflow_x": null,
            "overflow_y": null,
            "padding": null,
            "right": null,
            "top": null,
            "visibility": null,
            "width": null
          }
        },
        "b5778e5b4da24012b284fb80de9a7576": {
          "model_module": "@jupyter-widgets/controls",
          "model_name": "ProgressStyleModel",
          "model_module_version": "1.5.0",
          "state": {
            "_model_module": "@jupyter-widgets/controls",
            "_model_module_version": "1.5.0",
            "_model_name": "ProgressStyleModel",
            "_view_count": null,
            "_view_module": "@jupyter-widgets/base",
            "_view_module_version": "1.2.0",
            "_view_name": "StyleView",
            "bar_color": null,
            "description_width": ""
          }
        },
        "da455dbe81cf43f0bbdfd5427bcae541": {
          "model_module": "@jupyter-widgets/base",
          "model_name": "LayoutModel",
          "model_module_version": "1.2.0",
          "state": {
            "_model_module": "@jupyter-widgets/base",
            "_model_module_version": "1.2.0",
            "_model_name": "LayoutModel",
            "_view_count": null,
            "_view_module": "@jupyter-widgets/base",
            "_view_module_version": "1.2.0",
            "_view_name": "LayoutView",
            "align_content": null,
            "align_items": null,
            "align_self": null,
            "border": null,
            "bottom": null,
            "display": null,
            "flex": null,
            "flex_flow": null,
            "grid_area": null,
            "grid_auto_columns": null,
            "grid_auto_flow": null,
            "grid_auto_rows": null,
            "grid_column": null,
            "grid_gap": null,
            "grid_row": null,
            "grid_template_areas": null,
            "grid_template_columns": null,
            "grid_template_rows": null,
            "height": null,
            "justify_content": null,
            "justify_items": null,
            "left": null,
            "margin": null,
            "max_height": null,
            "max_width": null,
            "min_height": null,
            "min_width": null,
            "object_fit": null,
            "object_position": null,
            "order": null,
            "overflow": null,
            "overflow_x": null,
            "overflow_y": null,
            "padding": null,
            "right": null,
            "top": null,
            "visibility": null,
            "width": null
          }
        },
        "18bd401f1eab4b81a386f82c4113c853": {
          "model_module": "@jupyter-widgets/controls",
          "model_name": "DescriptionStyleModel",
          "model_module_version": "1.5.0",
          "state": {
            "_model_module": "@jupyter-widgets/controls",
            "_model_module_version": "1.5.0",
            "_model_name": "DescriptionStyleModel",
            "_view_count": null,
            "_view_module": "@jupyter-widgets/base",
            "_view_module_version": "1.2.0",
            "_view_name": "StyleView",
            "description_width": ""
          }
        },
        "78050be761024cfb801ce841e8a08b63": {
          "model_module": "@jupyter-widgets/controls",
          "model_name": "HBoxModel",
          "model_module_version": "1.5.0",
          "state": {
            "_dom_classes": [],
            "_model_module": "@jupyter-widgets/controls",
            "_model_module_version": "1.5.0",
            "_model_name": "HBoxModel",
            "_view_count": null,
            "_view_module": "@jupyter-widgets/controls",
            "_view_module_version": "1.5.0",
            "_view_name": "HBoxView",
            "box_style": "",
            "children": [
              "IPY_MODEL_8419be731f5a4b78a7a8a984404bec9f",
              "IPY_MODEL_6844ed4a88d946c196173c68041f1e8d",
              "IPY_MODEL_da2d8b05e733493f931d08092f3b9fd4"
            ],
            "layout": "IPY_MODEL_330d715af1b1408791e469c29f348aa6"
          }
        },
        "8419be731f5a4b78a7a8a984404bec9f": {
          "model_module": "@jupyter-widgets/controls",
          "model_name": "HTMLModel",
          "model_module_version": "1.5.0",
          "state": {
            "_dom_classes": [],
            "_model_module": "@jupyter-widgets/controls",
            "_model_module_version": "1.5.0",
            "_model_name": "HTMLModel",
            "_view_count": null,
            "_view_module": "@jupyter-widgets/controls",
            "_view_module_version": "1.5.0",
            "_view_name": "HTMLView",
            "description": "",
            "description_tooltip": null,
            "layout": "IPY_MODEL_8ba919a374c54167b9d224c3eef11331",
            "placeholder": "​",
            "style": "IPY_MODEL_ca1a85bc048c4a9cbc5be2623395e64b",
            "value": "100%"
          }
        },
        "6844ed4a88d946c196173c68041f1e8d": {
          "model_module": "@jupyter-widgets/controls",
          "model_name": "FloatProgressModel",
          "model_module_version": "1.5.0",
          "state": {
            "_dom_classes": [],
            "_model_module": "@jupyter-widgets/controls",
            "_model_module_version": "1.5.0",
            "_model_name": "FloatProgressModel",
            "_view_count": null,
            "_view_module": "@jupyter-widgets/controls",
            "_view_module_version": "1.5.0",
            "_view_name": "ProgressView",
            "bar_style": "success",
            "description": "",
            "description_tooltip": null,
            "layout": "IPY_MODEL_c5d4b9bc6f574468aa0a993215cf1664",
            "max": 29515,
            "min": 0,
            "orientation": "horizontal",
            "style": "IPY_MODEL_abe06be09543478889b002187de68b9a",
            "value": 29515
          }
        },
        "da2d8b05e733493f931d08092f3b9fd4": {
          "model_module": "@jupyter-widgets/controls",
          "model_name": "HTMLModel",
          "model_module_version": "1.5.0",
          "state": {
            "_dom_classes": [],
            "_model_module": "@jupyter-widgets/controls",
            "_model_module_version": "1.5.0",
            "_model_name": "HTMLModel",
            "_view_count": null,
            "_view_module": "@jupyter-widgets/controls",
            "_view_module_version": "1.5.0",
            "_view_name": "HTMLView",
            "description": "",
            "description_tooltip": null,
            "layout": "IPY_MODEL_3eb1ef7ef5084eb3b6f83c208ca25f26",
            "placeholder": "​",
            "style": "IPY_MODEL_3e8eadb3621d4e0a8f4d6679a064cfdb",
            "value": " 29515/29515 [00:00&lt;00:00, 207932.82it/s]"
          }
        },
        "330d715af1b1408791e469c29f348aa6": {
          "model_module": "@jupyter-widgets/base",
          "model_name": "LayoutModel",
          "model_module_version": "1.2.0",
          "state": {
            "_model_module": "@jupyter-widgets/base",
            "_model_module_version": "1.2.0",
            "_model_name": "LayoutModel",
            "_view_count": null,
            "_view_module": "@jupyter-widgets/base",
            "_view_module_version": "1.2.0",
            "_view_name": "LayoutView",
            "align_content": null,
            "align_items": null,
            "align_self": null,
            "border": null,
            "bottom": null,
            "display": null,
            "flex": null,
            "flex_flow": null,
            "grid_area": null,
            "grid_auto_columns": null,
            "grid_auto_flow": null,
            "grid_auto_rows": null,
            "grid_column": null,
            "grid_gap": null,
            "grid_row": null,
            "grid_template_areas": null,
            "grid_template_columns": null,
            "grid_template_rows": null,
            "height": null,
            "justify_content": null,
            "justify_items": null,
            "left": null,
            "margin": null,
            "max_height": null,
            "max_width": null,
            "min_height": null,
            "min_width": null,
            "object_fit": null,
            "object_position": null,
            "order": null,
            "overflow": null,
            "overflow_x": null,
            "overflow_y": null,
            "padding": null,
            "right": null,
            "top": null,
            "visibility": null,
            "width": null
          }
        },
        "8ba919a374c54167b9d224c3eef11331": {
          "model_module": "@jupyter-widgets/base",
          "model_name": "LayoutModel",
          "model_module_version": "1.2.0",
          "state": {
            "_model_module": "@jupyter-widgets/base",
            "_model_module_version": "1.2.0",
            "_model_name": "LayoutModel",
            "_view_count": null,
            "_view_module": "@jupyter-widgets/base",
            "_view_module_version": "1.2.0",
            "_view_name": "LayoutView",
            "align_content": null,
            "align_items": null,
            "align_self": null,
            "border": null,
            "bottom": null,
            "display": null,
            "flex": null,
            "flex_flow": null,
            "grid_area": null,
            "grid_auto_columns": null,
            "grid_auto_flow": null,
            "grid_auto_rows": null,
            "grid_column": null,
            "grid_gap": null,
            "grid_row": null,
            "grid_template_areas": null,
            "grid_template_columns": null,
            "grid_template_rows": null,
            "height": null,
            "justify_content": null,
            "justify_items": null,
            "left": null,
            "margin": null,
            "max_height": null,
            "max_width": null,
            "min_height": null,
            "min_width": null,
            "object_fit": null,
            "object_position": null,
            "order": null,
            "overflow": null,
            "overflow_x": null,
            "overflow_y": null,
            "padding": null,
            "right": null,
            "top": null,
            "visibility": null,
            "width": null
          }
        },
        "ca1a85bc048c4a9cbc5be2623395e64b": {
          "model_module": "@jupyter-widgets/controls",
          "model_name": "DescriptionStyleModel",
          "model_module_version": "1.5.0",
          "state": {
            "_model_module": "@jupyter-widgets/controls",
            "_model_module_version": "1.5.0",
            "_model_name": "DescriptionStyleModel",
            "_view_count": null,
            "_view_module": "@jupyter-widgets/base",
            "_view_module_version": "1.2.0",
            "_view_name": "StyleView",
            "description_width": ""
          }
        },
        "c5d4b9bc6f574468aa0a993215cf1664": {
          "model_module": "@jupyter-widgets/base",
          "model_name": "LayoutModel",
          "model_module_version": "1.2.0",
          "state": {
            "_model_module": "@jupyter-widgets/base",
            "_model_module_version": "1.2.0",
            "_model_name": "LayoutModel",
            "_view_count": null,
            "_view_module": "@jupyter-widgets/base",
            "_view_module_version": "1.2.0",
            "_view_name": "LayoutView",
            "align_content": null,
            "align_items": null,
            "align_self": null,
            "border": null,
            "bottom": null,
            "display": null,
            "flex": null,
            "flex_flow": null,
            "grid_area": null,
            "grid_auto_columns": null,
            "grid_auto_flow": null,
            "grid_auto_rows": null,
            "grid_column": null,
            "grid_gap": null,
            "grid_row": null,
            "grid_template_areas": null,
            "grid_template_columns": null,
            "grid_template_rows": null,
            "height": null,
            "justify_content": null,
            "justify_items": null,
            "left": null,
            "margin": null,
            "max_height": null,
            "max_width": null,
            "min_height": null,
            "min_width": null,
            "object_fit": null,
            "object_position": null,
            "order": null,
            "overflow": null,
            "overflow_x": null,
            "overflow_y": null,
            "padding": null,
            "right": null,
            "top": null,
            "visibility": null,
            "width": null
          }
        },
        "abe06be09543478889b002187de68b9a": {
          "model_module": "@jupyter-widgets/controls",
          "model_name": "ProgressStyleModel",
          "model_module_version": "1.5.0",
          "state": {
            "_model_module": "@jupyter-widgets/controls",
            "_model_module_version": "1.5.0",
            "_model_name": "ProgressStyleModel",
            "_view_count": null,
            "_view_module": "@jupyter-widgets/base",
            "_view_module_version": "1.2.0",
            "_view_name": "StyleView",
            "bar_color": null,
            "description_width": ""
          }
        },
        "3eb1ef7ef5084eb3b6f83c208ca25f26": {
          "model_module": "@jupyter-widgets/base",
          "model_name": "LayoutModel",
          "model_module_version": "1.2.0",
          "state": {
            "_model_module": "@jupyter-widgets/base",
            "_model_module_version": "1.2.0",
            "_model_name": "LayoutModel",
            "_view_count": null,
            "_view_module": "@jupyter-widgets/base",
            "_view_module_version": "1.2.0",
            "_view_name": "LayoutView",
            "align_content": null,
            "align_items": null,
            "align_self": null,
            "border": null,
            "bottom": null,
            "display": null,
            "flex": null,
            "flex_flow": null,
            "grid_area": null,
            "grid_auto_columns": null,
            "grid_auto_flow": null,
            "grid_auto_rows": null,
            "grid_column": null,
            "grid_gap": null,
            "grid_row": null,
            "grid_template_areas": null,
            "grid_template_columns": null,
            "grid_template_rows": null,
            "height": null,
            "justify_content": null,
            "justify_items": null,
            "left": null,
            "margin": null,
            "max_height": null,
            "max_width": null,
            "min_height": null,
            "min_width": null,
            "object_fit": null,
            "object_position": null,
            "order": null,
            "overflow": null,
            "overflow_x": null,
            "overflow_y": null,
            "padding": null,
            "right": null,
            "top": null,
            "visibility": null,
            "width": null
          }
        },
        "3e8eadb3621d4e0a8f4d6679a064cfdb": {
          "model_module": "@jupyter-widgets/controls",
          "model_name": "DescriptionStyleModel",
          "model_module_version": "1.5.0",
          "state": {
            "_model_module": "@jupyter-widgets/controls",
            "_model_module_version": "1.5.0",
            "_model_name": "DescriptionStyleModel",
            "_view_count": null,
            "_view_module": "@jupyter-widgets/base",
            "_view_module_version": "1.2.0",
            "_view_name": "StyleView",
            "description_width": ""
          }
        },
        "df350d5db0f540758c79673998162794": {
          "model_module": "@jupyter-widgets/controls",
          "model_name": "HBoxModel",
          "model_module_version": "1.5.0",
          "state": {
            "_dom_classes": [],
            "_model_module": "@jupyter-widgets/controls",
            "_model_module_version": "1.5.0",
            "_model_name": "HBoxModel",
            "_view_count": null,
            "_view_module": "@jupyter-widgets/controls",
            "_view_module_version": "1.5.0",
            "_view_name": "HBoxView",
            "box_style": "",
            "children": [
              "IPY_MODEL_2e8377a1244942449b9ecd5670baefe4",
              "IPY_MODEL_2bdc7bac339a4f8788d565251501357e",
              "IPY_MODEL_5a0b8d2d7cd9401f915735e3b6cf74c6"
            ],
            "layout": "IPY_MODEL_5d45ffbfed1a4d1fbc01a7914494dbdd"
          }
        },
        "2e8377a1244942449b9ecd5670baefe4": {
          "model_module": "@jupyter-widgets/controls",
          "model_name": "HTMLModel",
          "model_module_version": "1.5.0",
          "state": {
            "_dom_classes": [],
            "_model_module": "@jupyter-widgets/controls",
            "_model_module_version": "1.5.0",
            "_model_name": "HTMLModel",
            "_view_count": null,
            "_view_module": "@jupyter-widgets/controls",
            "_view_module_version": "1.5.0",
            "_view_name": "HTMLView",
            "description": "",
            "description_tooltip": null,
            "layout": "IPY_MODEL_c813c5b0e3f64591ba74a881e3334ffd",
            "placeholder": "​",
            "style": "IPY_MODEL_17f2b4375b9742c282d16d551cad0b4d",
            "value": "100%"
          }
        },
        "2bdc7bac339a4f8788d565251501357e": {
          "model_module": "@jupyter-widgets/controls",
          "model_name": "FloatProgressModel",
          "model_module_version": "1.5.0",
          "state": {
            "_dom_classes": [],
            "_model_module": "@jupyter-widgets/controls",
            "_model_module_version": "1.5.0",
            "_model_name": "FloatProgressModel",
            "_view_count": null,
            "_view_module": "@jupyter-widgets/controls",
            "_view_module_version": "1.5.0",
            "_view_name": "ProgressView",
            "bar_style": "success",
            "description": "",
            "description_tooltip": null,
            "layout": "IPY_MODEL_d0fd6fa24a57478dbe30b840c8f98a7f",
            "max": 4422102,
            "min": 0,
            "orientation": "horizontal",
            "style": "IPY_MODEL_3533903ae7414b99aa89dbbbcd7dfcdf",
            "value": 4422102
          }
        },
        "5a0b8d2d7cd9401f915735e3b6cf74c6": {
          "model_module": "@jupyter-widgets/controls",
          "model_name": "HTMLModel",
          "model_module_version": "1.5.0",
          "state": {
            "_dom_classes": [],
            "_model_module": "@jupyter-widgets/controls",
            "_model_module_version": "1.5.0",
            "_model_name": "HTMLModel",
            "_view_count": null,
            "_view_module": "@jupyter-widgets/controls",
            "_view_module_version": "1.5.0",
            "_view_name": "HTMLView",
            "description": "",
            "description_tooltip": null,
            "layout": "IPY_MODEL_e0f3e0c46e924cb2ae1725313b8f8c3e",
            "placeholder": "​",
            "style": "IPY_MODEL_b5c1456c19ac49c3b155aff66e8cc7d8",
            "value": " 4422102/4422102 [00:01&lt;00:00, 6699675.78it/s]"
          }
        },
        "5d45ffbfed1a4d1fbc01a7914494dbdd": {
          "model_module": "@jupyter-widgets/base",
          "model_name": "LayoutModel",
          "model_module_version": "1.2.0",
          "state": {
            "_model_module": "@jupyter-widgets/base",
            "_model_module_version": "1.2.0",
            "_model_name": "LayoutModel",
            "_view_count": null,
            "_view_module": "@jupyter-widgets/base",
            "_view_module_version": "1.2.0",
            "_view_name": "LayoutView",
            "align_content": null,
            "align_items": null,
            "align_self": null,
            "border": null,
            "bottom": null,
            "display": null,
            "flex": null,
            "flex_flow": null,
            "grid_area": null,
            "grid_auto_columns": null,
            "grid_auto_flow": null,
            "grid_auto_rows": null,
            "grid_column": null,
            "grid_gap": null,
            "grid_row": null,
            "grid_template_areas": null,
            "grid_template_columns": null,
            "grid_template_rows": null,
            "height": null,
            "justify_content": null,
            "justify_items": null,
            "left": null,
            "margin": null,
            "max_height": null,
            "max_width": null,
            "min_height": null,
            "min_width": null,
            "object_fit": null,
            "object_position": null,
            "order": null,
            "overflow": null,
            "overflow_x": null,
            "overflow_y": null,
            "padding": null,
            "right": null,
            "top": null,
            "visibility": null,
            "width": null
          }
        },
        "c813c5b0e3f64591ba74a881e3334ffd": {
          "model_module": "@jupyter-widgets/base",
          "model_name": "LayoutModel",
          "model_module_version": "1.2.0",
          "state": {
            "_model_module": "@jupyter-widgets/base",
            "_model_module_version": "1.2.0",
            "_model_name": "LayoutModel",
            "_view_count": null,
            "_view_module": "@jupyter-widgets/base",
            "_view_module_version": "1.2.0",
            "_view_name": "LayoutView",
            "align_content": null,
            "align_items": null,
            "align_self": null,
            "border": null,
            "bottom": null,
            "display": null,
            "flex": null,
            "flex_flow": null,
            "grid_area": null,
            "grid_auto_columns": null,
            "grid_auto_flow": null,
            "grid_auto_rows": null,
            "grid_column": null,
            "grid_gap": null,
            "grid_row": null,
            "grid_template_areas": null,
            "grid_template_columns": null,
            "grid_template_rows": null,
            "height": null,
            "justify_content": null,
            "justify_items": null,
            "left": null,
            "margin": null,
            "max_height": null,
            "max_width": null,
            "min_height": null,
            "min_width": null,
            "object_fit": null,
            "object_position": null,
            "order": null,
            "overflow": null,
            "overflow_x": null,
            "overflow_y": null,
            "padding": null,
            "right": null,
            "top": null,
            "visibility": null,
            "width": null
          }
        },
        "17f2b4375b9742c282d16d551cad0b4d": {
          "model_module": "@jupyter-widgets/controls",
          "model_name": "DescriptionStyleModel",
          "model_module_version": "1.5.0",
          "state": {
            "_model_module": "@jupyter-widgets/controls",
            "_model_module_version": "1.5.0",
            "_model_name": "DescriptionStyleModel",
            "_view_count": null,
            "_view_module": "@jupyter-widgets/base",
            "_view_module_version": "1.2.0",
            "_view_name": "StyleView",
            "description_width": ""
          }
        },
        "d0fd6fa24a57478dbe30b840c8f98a7f": {
          "model_module": "@jupyter-widgets/base",
          "model_name": "LayoutModel",
          "model_module_version": "1.2.0",
          "state": {
            "_model_module": "@jupyter-widgets/base",
            "_model_module_version": "1.2.0",
            "_model_name": "LayoutModel",
            "_view_count": null,
            "_view_module": "@jupyter-widgets/base",
            "_view_module_version": "1.2.0",
            "_view_name": "LayoutView",
            "align_content": null,
            "align_items": null,
            "align_self": null,
            "border": null,
            "bottom": null,
            "display": null,
            "flex": null,
            "flex_flow": null,
            "grid_area": null,
            "grid_auto_columns": null,
            "grid_auto_flow": null,
            "grid_auto_rows": null,
            "grid_column": null,
            "grid_gap": null,
            "grid_row": null,
            "grid_template_areas": null,
            "grid_template_columns": null,
            "grid_template_rows": null,
            "height": null,
            "justify_content": null,
            "justify_items": null,
            "left": null,
            "margin": null,
            "max_height": null,
            "max_width": null,
            "min_height": null,
            "min_width": null,
            "object_fit": null,
            "object_position": null,
            "order": null,
            "overflow": null,
            "overflow_x": null,
            "overflow_y": null,
            "padding": null,
            "right": null,
            "top": null,
            "visibility": null,
            "width": null
          }
        },
        "3533903ae7414b99aa89dbbbcd7dfcdf": {
          "model_module": "@jupyter-widgets/controls",
          "model_name": "ProgressStyleModel",
          "model_module_version": "1.5.0",
          "state": {
            "_model_module": "@jupyter-widgets/controls",
            "_model_module_version": "1.5.0",
            "_model_name": "ProgressStyleModel",
            "_view_count": null,
            "_view_module": "@jupyter-widgets/base",
            "_view_module_version": "1.2.0",
            "_view_name": "StyleView",
            "bar_color": null,
            "description_width": ""
          }
        },
        "e0f3e0c46e924cb2ae1725313b8f8c3e": {
          "model_module": "@jupyter-widgets/base",
          "model_name": "LayoutModel",
          "model_module_version": "1.2.0",
          "state": {
            "_model_module": "@jupyter-widgets/base",
            "_model_module_version": "1.2.0",
            "_model_name": "LayoutModel",
            "_view_count": null,
            "_view_module": "@jupyter-widgets/base",
            "_view_module_version": "1.2.0",
            "_view_name": "LayoutView",
            "align_content": null,
            "align_items": null,
            "align_self": null,
            "border": null,
            "bottom": null,
            "display": null,
            "flex": null,
            "flex_flow": null,
            "grid_area": null,
            "grid_auto_columns": null,
            "grid_auto_flow": null,
            "grid_auto_rows": null,
            "grid_column": null,
            "grid_gap": null,
            "grid_row": null,
            "grid_template_areas": null,
            "grid_template_columns": null,
            "grid_template_rows": null,
            "height": null,
            "justify_content": null,
            "justify_items": null,
            "left": null,
            "margin": null,
            "max_height": null,
            "max_width": null,
            "min_height": null,
            "min_width": null,
            "object_fit": null,
            "object_position": null,
            "order": null,
            "overflow": null,
            "overflow_x": null,
            "overflow_y": null,
            "padding": null,
            "right": null,
            "top": null,
            "visibility": null,
            "width": null
          }
        },
        "b5c1456c19ac49c3b155aff66e8cc7d8": {
          "model_module": "@jupyter-widgets/controls",
          "model_name": "DescriptionStyleModel",
          "model_module_version": "1.5.0",
          "state": {
            "_model_module": "@jupyter-widgets/controls",
            "_model_module_version": "1.5.0",
            "_model_name": "DescriptionStyleModel",
            "_view_count": null,
            "_view_module": "@jupyter-widgets/base",
            "_view_module_version": "1.2.0",
            "_view_name": "StyleView",
            "description_width": ""
          }
        },
        "9cdeaa4e03c24f469ce6514f3d23493a": {
          "model_module": "@jupyter-widgets/controls",
          "model_name": "HBoxModel",
          "model_module_version": "1.5.0",
          "state": {
            "_dom_classes": [],
            "_model_module": "@jupyter-widgets/controls",
            "_model_module_version": "1.5.0",
            "_model_name": "HBoxModel",
            "_view_count": null,
            "_view_module": "@jupyter-widgets/controls",
            "_view_module_version": "1.5.0",
            "_view_name": "HBoxView",
            "box_style": "",
            "children": [
              "IPY_MODEL_38d01a3b803f48808b1ade71503f7bd2",
              "IPY_MODEL_8b260abd56724a7d8191b7a674c3c3be",
              "IPY_MODEL_34eaad6a28b24d35b8b22253d48180bf"
            ],
            "layout": "IPY_MODEL_29a74eda924c4f969e6f012f464be6ec"
          }
        },
        "38d01a3b803f48808b1ade71503f7bd2": {
          "model_module": "@jupyter-widgets/controls",
          "model_name": "HTMLModel",
          "model_module_version": "1.5.0",
          "state": {
            "_dom_classes": [],
            "_model_module": "@jupyter-widgets/controls",
            "_model_module_version": "1.5.0",
            "_model_name": "HTMLModel",
            "_view_count": null,
            "_view_module": "@jupyter-widgets/controls",
            "_view_module_version": "1.5.0",
            "_view_name": "HTMLView",
            "description": "",
            "description_tooltip": null,
            "layout": "IPY_MODEL_7a6e9dbcaa9a4b69b1d2fc31eea3b4f1",
            "placeholder": "​",
            "style": "IPY_MODEL_aa9e8c4d453749a2a9baf8671e6605a0",
            "value": "100%"
          }
        },
        "8b260abd56724a7d8191b7a674c3c3be": {
          "model_module": "@jupyter-widgets/controls",
          "model_name": "FloatProgressModel",
          "model_module_version": "1.5.0",
          "state": {
            "_dom_classes": [],
            "_model_module": "@jupyter-widgets/controls",
            "_model_module_version": "1.5.0",
            "_model_name": "FloatProgressModel",
            "_view_count": null,
            "_view_module": "@jupyter-widgets/controls",
            "_view_module_version": "1.5.0",
            "_view_name": "ProgressView",
            "bar_style": "success",
            "description": "",
            "description_tooltip": null,
            "layout": "IPY_MODEL_030ef162cb6c451b9dd7d1c0bec1a239",
            "max": 5148,
            "min": 0,
            "orientation": "horizontal",
            "style": "IPY_MODEL_001b30f844154244bf17574c5faecc22",
            "value": 5148
          }
        },
        "34eaad6a28b24d35b8b22253d48180bf": {
          "model_module": "@jupyter-widgets/controls",
          "model_name": "HTMLModel",
          "model_module_version": "1.5.0",
          "state": {
            "_dom_classes": [],
            "_model_module": "@jupyter-widgets/controls",
            "_model_module_version": "1.5.0",
            "_model_name": "HTMLModel",
            "_view_count": null,
            "_view_module": "@jupyter-widgets/controls",
            "_view_module_version": "1.5.0",
            "_view_name": "HTMLView",
            "description": "",
            "description_tooltip": null,
            "layout": "IPY_MODEL_62ab5b70d49c4ceda8c2a7f58c1426b4",
            "placeholder": "​",
            "style": "IPY_MODEL_c709812c5a744a86b6f9741e9786681d",
            "value": " 5148/5148 [00:00&lt;00:00, 143729.09it/s]"
          }
        },
        "29a74eda924c4f969e6f012f464be6ec": {
          "model_module": "@jupyter-widgets/base",
          "model_name": "LayoutModel",
          "model_module_version": "1.2.0",
          "state": {
            "_model_module": "@jupyter-widgets/base",
            "_model_module_version": "1.2.0",
            "_model_name": "LayoutModel",
            "_view_count": null,
            "_view_module": "@jupyter-widgets/base",
            "_view_module_version": "1.2.0",
            "_view_name": "LayoutView",
            "align_content": null,
            "align_items": null,
            "align_self": null,
            "border": null,
            "bottom": null,
            "display": null,
            "flex": null,
            "flex_flow": null,
            "grid_area": null,
            "grid_auto_columns": null,
            "grid_auto_flow": null,
            "grid_auto_rows": null,
            "grid_column": null,
            "grid_gap": null,
            "grid_row": null,
            "grid_template_areas": null,
            "grid_template_columns": null,
            "grid_template_rows": null,
            "height": null,
            "justify_content": null,
            "justify_items": null,
            "left": null,
            "margin": null,
            "max_height": null,
            "max_width": null,
            "min_height": null,
            "min_width": null,
            "object_fit": null,
            "object_position": null,
            "order": null,
            "overflow": null,
            "overflow_x": null,
            "overflow_y": null,
            "padding": null,
            "right": null,
            "top": null,
            "visibility": null,
            "width": null
          }
        },
        "7a6e9dbcaa9a4b69b1d2fc31eea3b4f1": {
          "model_module": "@jupyter-widgets/base",
          "model_name": "LayoutModel",
          "model_module_version": "1.2.0",
          "state": {
            "_model_module": "@jupyter-widgets/base",
            "_model_module_version": "1.2.0",
            "_model_name": "LayoutModel",
            "_view_count": null,
            "_view_module": "@jupyter-widgets/base",
            "_view_module_version": "1.2.0",
            "_view_name": "LayoutView",
            "align_content": null,
            "align_items": null,
            "align_self": null,
            "border": null,
            "bottom": null,
            "display": null,
            "flex": null,
            "flex_flow": null,
            "grid_area": null,
            "grid_auto_columns": null,
            "grid_auto_flow": null,
            "grid_auto_rows": null,
            "grid_column": null,
            "grid_gap": null,
            "grid_row": null,
            "grid_template_areas": null,
            "grid_template_columns": null,
            "grid_template_rows": null,
            "height": null,
            "justify_content": null,
            "justify_items": null,
            "left": null,
            "margin": null,
            "max_height": null,
            "max_width": null,
            "min_height": null,
            "min_width": null,
            "object_fit": null,
            "object_position": null,
            "order": null,
            "overflow": null,
            "overflow_x": null,
            "overflow_y": null,
            "padding": null,
            "right": null,
            "top": null,
            "visibility": null,
            "width": null
          }
        },
        "aa9e8c4d453749a2a9baf8671e6605a0": {
          "model_module": "@jupyter-widgets/controls",
          "model_name": "DescriptionStyleModel",
          "model_module_version": "1.5.0",
          "state": {
            "_model_module": "@jupyter-widgets/controls",
            "_model_module_version": "1.5.0",
            "_model_name": "DescriptionStyleModel",
            "_view_count": null,
            "_view_module": "@jupyter-widgets/base",
            "_view_module_version": "1.2.0",
            "_view_name": "StyleView",
            "description_width": ""
          }
        },
        "030ef162cb6c451b9dd7d1c0bec1a239": {
          "model_module": "@jupyter-widgets/base",
          "model_name": "LayoutModel",
          "model_module_version": "1.2.0",
          "state": {
            "_model_module": "@jupyter-widgets/base",
            "_model_module_version": "1.2.0",
            "_model_name": "LayoutModel",
            "_view_count": null,
            "_view_module": "@jupyter-widgets/base",
            "_view_module_version": "1.2.0",
            "_view_name": "LayoutView",
            "align_content": null,
            "align_items": null,
            "align_self": null,
            "border": null,
            "bottom": null,
            "display": null,
            "flex": null,
            "flex_flow": null,
            "grid_area": null,
            "grid_auto_columns": null,
            "grid_auto_flow": null,
            "grid_auto_rows": null,
            "grid_column": null,
            "grid_gap": null,
            "grid_row": null,
            "grid_template_areas": null,
            "grid_template_columns": null,
            "grid_template_rows": null,
            "height": null,
            "justify_content": null,
            "justify_items": null,
            "left": null,
            "margin": null,
            "max_height": null,
            "max_width": null,
            "min_height": null,
            "min_width": null,
            "object_fit": null,
            "object_position": null,
            "order": null,
            "overflow": null,
            "overflow_x": null,
            "overflow_y": null,
            "padding": null,
            "right": null,
            "top": null,
            "visibility": null,
            "width": null
          }
        },
        "001b30f844154244bf17574c5faecc22": {
          "model_module": "@jupyter-widgets/controls",
          "model_name": "ProgressStyleModel",
          "model_module_version": "1.5.0",
          "state": {
            "_model_module": "@jupyter-widgets/controls",
            "_model_module_version": "1.5.0",
            "_model_name": "ProgressStyleModel",
            "_view_count": null,
            "_view_module": "@jupyter-widgets/base",
            "_view_module_version": "1.2.0",
            "_view_name": "StyleView",
            "bar_color": null,
            "description_width": ""
          }
        },
        "62ab5b70d49c4ceda8c2a7f58c1426b4": {
          "model_module": "@jupyter-widgets/base",
          "model_name": "LayoutModel",
          "model_module_version": "1.2.0",
          "state": {
            "_model_module": "@jupyter-widgets/base",
            "_model_module_version": "1.2.0",
            "_model_name": "LayoutModel",
            "_view_count": null,
            "_view_module": "@jupyter-widgets/base",
            "_view_module_version": "1.2.0",
            "_view_name": "LayoutView",
            "align_content": null,
            "align_items": null,
            "align_self": null,
            "border": null,
            "bottom": null,
            "display": null,
            "flex": null,
            "flex_flow": null,
            "grid_area": null,
            "grid_auto_columns": null,
            "grid_auto_flow": null,
            "grid_auto_rows": null,
            "grid_column": null,
            "grid_gap": null,
            "grid_row": null,
            "grid_template_areas": null,
            "grid_template_columns": null,
            "grid_template_rows": null,
            "height": null,
            "justify_content": null,
            "justify_items": null,
            "left": null,
            "margin": null,
            "max_height": null,
            "max_width": null,
            "min_height": null,
            "min_width": null,
            "object_fit": null,
            "object_position": null,
            "order": null,
            "overflow": null,
            "overflow_x": null,
            "overflow_y": null,
            "padding": null,
            "right": null,
            "top": null,
            "visibility": null,
            "width": null
          }
        },
        "c709812c5a744a86b6f9741e9786681d": {
          "model_module": "@jupyter-widgets/controls",
          "model_name": "DescriptionStyleModel",
          "model_module_version": "1.5.0",
          "state": {
            "_model_module": "@jupyter-widgets/controls",
            "_model_module_version": "1.5.0",
            "_model_name": "DescriptionStyleModel",
            "_view_count": null,
            "_view_module": "@jupyter-widgets/base",
            "_view_module_version": "1.2.0",
            "_view_name": "StyleView",
            "description_width": ""
          }
        },
        "0937e92cb3134d3aa8dcd2eaa7a887f1": {
          "model_module": "@jupyter-widgets/controls",
          "model_name": "HBoxModel",
          "model_module_version": "1.5.0",
          "state": {
            "_dom_classes": [],
            "_model_module": "@jupyter-widgets/controls",
            "_model_module_version": "1.5.0",
            "_model_name": "HBoxModel",
            "_view_count": null,
            "_view_module": "@jupyter-widgets/controls",
            "_view_module_version": "1.5.0",
            "_view_name": "HBoxView",
            "box_style": "",
            "children": [
              "IPY_MODEL_854e2a33449e43cc91bcf6161cf1c093",
              "IPY_MODEL_98c12255cb7c43a6a917018f4039e003",
              "IPY_MODEL_bf41d0e6f17f43c8820407e4d9669bd4"
            ],
            "layout": "IPY_MODEL_639957801dff4e01940af7cf369b4970"
          }
        },
        "854e2a33449e43cc91bcf6161cf1c093": {
          "model_module": "@jupyter-widgets/controls",
          "model_name": "HTMLModel",
          "model_module_version": "1.5.0",
          "state": {
            "_dom_classes": [],
            "_model_module": "@jupyter-widgets/controls",
            "_model_module_version": "1.5.0",
            "_model_name": "HTMLModel",
            "_view_count": null,
            "_view_module": "@jupyter-widgets/controls",
            "_view_module_version": "1.5.0",
            "_view_name": "HTMLView",
            "description": "",
            "description_tooltip": null,
            "layout": "IPY_MODEL_6e3cf1840ff84876b66c6a08b5d51170",
            "placeholder": "​",
            "style": "IPY_MODEL_e0c91ae35c0e4178842912449d6806e4",
            "value": "100%"
          }
        },
        "98c12255cb7c43a6a917018f4039e003": {
          "model_module": "@jupyter-widgets/controls",
          "model_name": "FloatProgressModel",
          "model_module_version": "1.5.0",
          "state": {
            "_dom_classes": [],
            "_model_module": "@jupyter-widgets/controls",
            "_model_module_version": "1.5.0",
            "_model_name": "FloatProgressModel",
            "_view_count": null,
            "_view_module": "@jupyter-widgets/controls",
            "_view_module_version": "1.5.0",
            "_view_name": "ProgressView",
            "bar_style": "success",
            "description": "",
            "description_tooltip": null,
            "layout": "IPY_MODEL_7374d136e4264f43aee4eebfd5755e86",
            "max": 170498071,
            "min": 0,
            "orientation": "horizontal",
            "style": "IPY_MODEL_c43c102fc3a34a72ab25be135b1205a2",
            "value": 170498071
          }
        },
        "bf41d0e6f17f43c8820407e4d9669bd4": {
          "model_module": "@jupyter-widgets/controls",
          "model_name": "HTMLModel",
          "model_module_version": "1.5.0",
          "state": {
            "_dom_classes": [],
            "_model_module": "@jupyter-widgets/controls",
            "_model_module_version": "1.5.0",
            "_model_name": "HTMLModel",
            "_view_count": null,
            "_view_module": "@jupyter-widgets/controls",
            "_view_module_version": "1.5.0",
            "_view_name": "HTMLView",
            "description": "",
            "description_tooltip": null,
            "layout": "IPY_MODEL_058c90ef6aa94d31bfceab30d96f5a29",
            "placeholder": "​",
            "style": "IPY_MODEL_867d0267d9574de5bf6767afa973b54c",
            "value": " 170498071/170498071 [00:03&lt;00:00, 52326508.30it/s]"
          }
        },
        "639957801dff4e01940af7cf369b4970": {
          "model_module": "@jupyter-widgets/base",
          "model_name": "LayoutModel",
          "model_module_version": "1.2.0",
          "state": {
            "_model_module": "@jupyter-widgets/base",
            "_model_module_version": "1.2.0",
            "_model_name": "LayoutModel",
            "_view_count": null,
            "_view_module": "@jupyter-widgets/base",
            "_view_module_version": "1.2.0",
            "_view_name": "LayoutView",
            "align_content": null,
            "align_items": null,
            "align_self": null,
            "border": null,
            "bottom": null,
            "display": null,
            "flex": null,
            "flex_flow": null,
            "grid_area": null,
            "grid_auto_columns": null,
            "grid_auto_flow": null,
            "grid_auto_rows": null,
            "grid_column": null,
            "grid_gap": null,
            "grid_row": null,
            "grid_template_areas": null,
            "grid_template_columns": null,
            "grid_template_rows": null,
            "height": null,
            "justify_content": null,
            "justify_items": null,
            "left": null,
            "margin": null,
            "max_height": null,
            "max_width": null,
            "min_height": null,
            "min_width": null,
            "object_fit": null,
            "object_position": null,
            "order": null,
            "overflow": null,
            "overflow_x": null,
            "overflow_y": null,
            "padding": null,
            "right": null,
            "top": null,
            "visibility": null,
            "width": null
          }
        },
        "6e3cf1840ff84876b66c6a08b5d51170": {
          "model_module": "@jupyter-widgets/base",
          "model_name": "LayoutModel",
          "model_module_version": "1.2.0",
          "state": {
            "_model_module": "@jupyter-widgets/base",
            "_model_module_version": "1.2.0",
            "_model_name": "LayoutModel",
            "_view_count": null,
            "_view_module": "@jupyter-widgets/base",
            "_view_module_version": "1.2.0",
            "_view_name": "LayoutView",
            "align_content": null,
            "align_items": null,
            "align_self": null,
            "border": null,
            "bottom": null,
            "display": null,
            "flex": null,
            "flex_flow": null,
            "grid_area": null,
            "grid_auto_columns": null,
            "grid_auto_flow": null,
            "grid_auto_rows": null,
            "grid_column": null,
            "grid_gap": null,
            "grid_row": null,
            "grid_template_areas": null,
            "grid_template_columns": null,
            "grid_template_rows": null,
            "height": null,
            "justify_content": null,
            "justify_items": null,
            "left": null,
            "margin": null,
            "max_height": null,
            "max_width": null,
            "min_height": null,
            "min_width": null,
            "object_fit": null,
            "object_position": null,
            "order": null,
            "overflow": null,
            "overflow_x": null,
            "overflow_y": null,
            "padding": null,
            "right": null,
            "top": null,
            "visibility": null,
            "width": null
          }
        },
        "e0c91ae35c0e4178842912449d6806e4": {
          "model_module": "@jupyter-widgets/controls",
          "model_name": "DescriptionStyleModel",
          "model_module_version": "1.5.0",
          "state": {
            "_model_module": "@jupyter-widgets/controls",
            "_model_module_version": "1.5.0",
            "_model_name": "DescriptionStyleModel",
            "_view_count": null,
            "_view_module": "@jupyter-widgets/base",
            "_view_module_version": "1.2.0",
            "_view_name": "StyleView",
            "description_width": ""
          }
        },
        "7374d136e4264f43aee4eebfd5755e86": {
          "model_module": "@jupyter-widgets/base",
          "model_name": "LayoutModel",
          "model_module_version": "1.2.0",
          "state": {
            "_model_module": "@jupyter-widgets/base",
            "_model_module_version": "1.2.0",
            "_model_name": "LayoutModel",
            "_view_count": null,
            "_view_module": "@jupyter-widgets/base",
            "_view_module_version": "1.2.0",
            "_view_name": "LayoutView",
            "align_content": null,
            "align_items": null,
            "align_self": null,
            "border": null,
            "bottom": null,
            "display": null,
            "flex": null,
            "flex_flow": null,
            "grid_area": null,
            "grid_auto_columns": null,
            "grid_auto_flow": null,
            "grid_auto_rows": null,
            "grid_column": null,
            "grid_gap": null,
            "grid_row": null,
            "grid_template_areas": null,
            "grid_template_columns": null,
            "grid_template_rows": null,
            "height": null,
            "justify_content": null,
            "justify_items": null,
            "left": null,
            "margin": null,
            "max_height": null,
            "max_width": null,
            "min_height": null,
            "min_width": null,
            "object_fit": null,
            "object_position": null,
            "order": null,
            "overflow": null,
            "overflow_x": null,
            "overflow_y": null,
            "padding": null,
            "right": null,
            "top": null,
            "visibility": null,
            "width": null
          }
        },
        "c43c102fc3a34a72ab25be135b1205a2": {
          "model_module": "@jupyter-widgets/controls",
          "model_name": "ProgressStyleModel",
          "model_module_version": "1.5.0",
          "state": {
            "_model_module": "@jupyter-widgets/controls",
            "_model_module_version": "1.5.0",
            "_model_name": "ProgressStyleModel",
            "_view_count": null,
            "_view_module": "@jupyter-widgets/base",
            "_view_module_version": "1.2.0",
            "_view_name": "StyleView",
            "bar_color": null,
            "description_width": ""
          }
        },
        "058c90ef6aa94d31bfceab30d96f5a29": {
          "model_module": "@jupyter-widgets/base",
          "model_name": "LayoutModel",
          "model_module_version": "1.2.0",
          "state": {
            "_model_module": "@jupyter-widgets/base",
            "_model_module_version": "1.2.0",
            "_model_name": "LayoutModel",
            "_view_count": null,
            "_view_module": "@jupyter-widgets/base",
            "_view_module_version": "1.2.0",
            "_view_name": "LayoutView",
            "align_content": null,
            "align_items": null,
            "align_self": null,
            "border": null,
            "bottom": null,
            "display": null,
            "flex": null,
            "flex_flow": null,
            "grid_area": null,
            "grid_auto_columns": null,
            "grid_auto_flow": null,
            "grid_auto_rows": null,
            "grid_column": null,
            "grid_gap": null,
            "grid_row": null,
            "grid_template_areas": null,
            "grid_template_columns": null,
            "grid_template_rows": null,
            "height": null,
            "justify_content": null,
            "justify_items": null,
            "left": null,
            "margin": null,
            "max_height": null,
            "max_width": null,
            "min_height": null,
            "min_width": null,
            "object_fit": null,
            "object_position": null,
            "order": null,
            "overflow": null,
            "overflow_x": null,
            "overflow_y": null,
            "padding": null,
            "right": null,
            "top": null,
            "visibility": null,
            "width": null
          }
        },
        "867d0267d9574de5bf6767afa973b54c": {
          "model_module": "@jupyter-widgets/controls",
          "model_name": "DescriptionStyleModel",
          "model_module_version": "1.5.0",
          "state": {
            "_model_module": "@jupyter-widgets/controls",
            "_model_module_version": "1.5.0",
            "_model_name": "DescriptionStyleModel",
            "_view_count": null,
            "_view_module": "@jupyter-widgets/base",
            "_view_module_version": "1.2.0",
            "_view_name": "StyleView",
            "description_width": ""
          }
        },
        "836f4f13a42b4dceb427c8e98903ae24": {
          "model_module": "@jupyter-widgets/controls",
          "model_name": "HBoxModel",
          "model_module_version": "1.5.0",
          "state": {
            "_dom_classes": [],
            "_model_module": "@jupyter-widgets/controls",
            "_model_module_version": "1.5.0",
            "_model_name": "HBoxModel",
            "_view_count": null,
            "_view_module": "@jupyter-widgets/controls",
            "_view_module_version": "1.5.0",
            "_view_name": "HBoxView",
            "box_style": "",
            "children": [
              "IPY_MODEL_36c9f815a2504e4e92c8c3bec82c1123",
              "IPY_MODEL_cc8c42fac8a24583b3dd4da7c7321ecb",
              "IPY_MODEL_f05d20d6f8dc4623bf24afd3aaf9af98"
            ],
            "layout": "IPY_MODEL_88179f12981c42d09f702a89712289b3"
          }
        },
        "36c9f815a2504e4e92c8c3bec82c1123": {
          "model_module": "@jupyter-widgets/controls",
          "model_name": "HTMLModel",
          "model_module_version": "1.5.0",
          "state": {
            "_dom_classes": [],
            "_model_module": "@jupyter-widgets/controls",
            "_model_module_version": "1.5.0",
            "_model_name": "HTMLModel",
            "_view_count": null,
            "_view_module": "@jupyter-widgets/controls",
            "_view_module_version": "1.5.0",
            "_view_name": "HTMLView",
            "description": "",
            "description_tooltip": null,
            "layout": "IPY_MODEL_4098d04238ff4174807c2f0d06fa63ac",
            "placeholder": "​",
            "style": "IPY_MODEL_258a8ac4ac6245ac9302dd4dae2013e1",
            "value": "100%"
          }
        },
        "cc8c42fac8a24583b3dd4da7c7321ecb": {
          "model_module": "@jupyter-widgets/controls",
          "model_name": "FloatProgressModel",
          "model_module_version": "1.5.0",
          "state": {
            "_dom_classes": [],
            "_model_module": "@jupyter-widgets/controls",
            "_model_module_version": "1.5.0",
            "_model_name": "FloatProgressModel",
            "_view_count": null,
            "_view_module": "@jupyter-widgets/controls",
            "_view_module_version": "1.5.0",
            "_view_name": "ProgressView",
            "bar_style": "success",
            "description": "",
            "description_tooltip": null,
            "layout": "IPY_MODEL_7aed4af15f81409db418cfb5bad27d22",
            "max": 64275384,
            "min": 0,
            "orientation": "horizontal",
            "style": "IPY_MODEL_dba23b84b6434dfc9bdc1e09a91ab51f",
            "value": 64275384
          }
        },
        "f05d20d6f8dc4623bf24afd3aaf9af98": {
          "model_module": "@jupyter-widgets/controls",
          "model_name": "HTMLModel",
          "model_module_version": "1.5.0",
          "state": {
            "_dom_classes": [],
            "_model_module": "@jupyter-widgets/controls",
            "_model_module_version": "1.5.0",
            "_model_name": "HTMLModel",
            "_view_count": null,
            "_view_module": "@jupyter-widgets/controls",
            "_view_module_version": "1.5.0",
            "_view_name": "HTMLView",
            "description": "",
            "description_tooltip": null,
            "layout": "IPY_MODEL_9e00e36be81d4f5fa21f7350b0ccb440",
            "placeholder": "​",
            "style": "IPY_MODEL_42a49ba8c155438ca942ca6a1ac1f6e9",
            "value": " 64275384/64275384 [00:02&lt;00:00, 29027757.82it/s]"
          }
        },
        "88179f12981c42d09f702a89712289b3": {
          "model_module": "@jupyter-widgets/base",
          "model_name": "LayoutModel",
          "model_module_version": "1.2.0",
          "state": {
            "_model_module": "@jupyter-widgets/base",
            "_model_module_version": "1.2.0",
            "_model_name": "LayoutModel",
            "_view_count": null,
            "_view_module": "@jupyter-widgets/base",
            "_view_module_version": "1.2.0",
            "_view_name": "LayoutView",
            "align_content": null,
            "align_items": null,
            "align_self": null,
            "border": null,
            "bottom": null,
            "display": null,
            "flex": null,
            "flex_flow": null,
            "grid_area": null,
            "grid_auto_columns": null,
            "grid_auto_flow": null,
            "grid_auto_rows": null,
            "grid_column": null,
            "grid_gap": null,
            "grid_row": null,
            "grid_template_areas": null,
            "grid_template_columns": null,
            "grid_template_rows": null,
            "height": null,
            "justify_content": null,
            "justify_items": null,
            "left": null,
            "margin": null,
            "max_height": null,
            "max_width": null,
            "min_height": null,
            "min_width": null,
            "object_fit": null,
            "object_position": null,
            "order": null,
            "overflow": null,
            "overflow_x": null,
            "overflow_y": null,
            "padding": null,
            "right": null,
            "top": null,
            "visibility": null,
            "width": null
          }
        },
        "4098d04238ff4174807c2f0d06fa63ac": {
          "model_module": "@jupyter-widgets/base",
          "model_name": "LayoutModel",
          "model_module_version": "1.2.0",
          "state": {
            "_model_module": "@jupyter-widgets/base",
            "_model_module_version": "1.2.0",
            "_model_name": "LayoutModel",
            "_view_count": null,
            "_view_module": "@jupyter-widgets/base",
            "_view_module_version": "1.2.0",
            "_view_name": "LayoutView",
            "align_content": null,
            "align_items": null,
            "align_self": null,
            "border": null,
            "bottom": null,
            "display": null,
            "flex": null,
            "flex_flow": null,
            "grid_area": null,
            "grid_auto_columns": null,
            "grid_auto_flow": null,
            "grid_auto_rows": null,
            "grid_column": null,
            "grid_gap": null,
            "grid_row": null,
            "grid_template_areas": null,
            "grid_template_columns": null,
            "grid_template_rows": null,
            "height": null,
            "justify_content": null,
            "justify_items": null,
            "left": null,
            "margin": null,
            "max_height": null,
            "max_width": null,
            "min_height": null,
            "min_width": null,
            "object_fit": null,
            "object_position": null,
            "order": null,
            "overflow": null,
            "overflow_x": null,
            "overflow_y": null,
            "padding": null,
            "right": null,
            "top": null,
            "visibility": null,
            "width": null
          }
        },
        "258a8ac4ac6245ac9302dd4dae2013e1": {
          "model_module": "@jupyter-widgets/controls",
          "model_name": "DescriptionStyleModel",
          "model_module_version": "1.5.0",
          "state": {
            "_model_module": "@jupyter-widgets/controls",
            "_model_module_version": "1.5.0",
            "_model_name": "DescriptionStyleModel",
            "_view_count": null,
            "_view_module": "@jupyter-widgets/base",
            "_view_module_version": "1.2.0",
            "_view_name": "StyleView",
            "description_width": ""
          }
        },
        "7aed4af15f81409db418cfb5bad27d22": {
          "model_module": "@jupyter-widgets/base",
          "model_name": "LayoutModel",
          "model_module_version": "1.2.0",
          "state": {
            "_model_module": "@jupyter-widgets/base",
            "_model_module_version": "1.2.0",
            "_model_name": "LayoutModel",
            "_view_count": null,
            "_view_module": "@jupyter-widgets/base",
            "_view_module_version": "1.2.0",
            "_view_name": "LayoutView",
            "align_content": null,
            "align_items": null,
            "align_self": null,
            "border": null,
            "bottom": null,
            "display": null,
            "flex": null,
            "flex_flow": null,
            "grid_area": null,
            "grid_auto_columns": null,
            "grid_auto_flow": null,
            "grid_auto_rows": null,
            "grid_column": null,
            "grid_gap": null,
            "grid_row": null,
            "grid_template_areas": null,
            "grid_template_columns": null,
            "grid_template_rows": null,
            "height": null,
            "justify_content": null,
            "justify_items": null,
            "left": null,
            "margin": null,
            "max_height": null,
            "max_width": null,
            "min_height": null,
            "min_width": null,
            "object_fit": null,
            "object_position": null,
            "order": null,
            "overflow": null,
            "overflow_x": null,
            "overflow_y": null,
            "padding": null,
            "right": null,
            "top": null,
            "visibility": null,
            "width": null
          }
        },
        "dba23b84b6434dfc9bdc1e09a91ab51f": {
          "model_module": "@jupyter-widgets/controls",
          "model_name": "ProgressStyleModel",
          "model_module_version": "1.5.0",
          "state": {
            "_model_module": "@jupyter-widgets/controls",
            "_model_module_version": "1.5.0",
            "_model_name": "ProgressStyleModel",
            "_view_count": null,
            "_view_module": "@jupyter-widgets/base",
            "_view_module_version": "1.2.0",
            "_view_name": "StyleView",
            "bar_color": null,
            "description_width": ""
          }
        },
        "9e00e36be81d4f5fa21f7350b0ccb440": {
          "model_module": "@jupyter-widgets/base",
          "model_name": "LayoutModel",
          "model_module_version": "1.2.0",
          "state": {
            "_model_module": "@jupyter-widgets/base",
            "_model_module_version": "1.2.0",
            "_model_name": "LayoutModel",
            "_view_count": null,
            "_view_module": "@jupyter-widgets/base",
            "_view_module_version": "1.2.0",
            "_view_name": "LayoutView",
            "align_content": null,
            "align_items": null,
            "align_self": null,
            "border": null,
            "bottom": null,
            "display": null,
            "flex": null,
            "flex_flow": null,
            "grid_area": null,
            "grid_auto_columns": null,
            "grid_auto_flow": null,
            "grid_auto_rows": null,
            "grid_column": null,
            "grid_gap": null,
            "grid_row": null,
            "grid_template_areas": null,
            "grid_template_columns": null,
            "grid_template_rows": null,
            "height": null,
            "justify_content": null,
            "justify_items": null,
            "left": null,
            "margin": null,
            "max_height": null,
            "max_width": null,
            "min_height": null,
            "min_width": null,
            "object_fit": null,
            "object_position": null,
            "order": null,
            "overflow": null,
            "overflow_x": null,
            "overflow_y": null,
            "padding": null,
            "right": null,
            "top": null,
            "visibility": null,
            "width": null
          }
        },
        "42a49ba8c155438ca942ca6a1ac1f6e9": {
          "model_module": "@jupyter-widgets/controls",
          "model_name": "DescriptionStyleModel",
          "model_module_version": "1.5.0",
          "state": {
            "_model_module": "@jupyter-widgets/controls",
            "_model_module_version": "1.5.0",
            "_model_name": "DescriptionStyleModel",
            "_view_count": null,
            "_view_module": "@jupyter-widgets/base",
            "_view_module_version": "1.2.0",
            "_view_name": "StyleView",
            "description_width": ""
          }
        },
        "e3a8e90e943f454e86da7b13dddc8d40": {
          "model_module": "@jupyter-widgets/controls",
          "model_name": "HBoxModel",
          "model_module_version": "1.5.0",
          "state": {
            "_dom_classes": [],
            "_model_module": "@jupyter-widgets/controls",
            "_model_module_version": "1.5.0",
            "_model_name": "HBoxModel",
            "_view_count": null,
            "_view_module": "@jupyter-widgets/controls",
            "_view_module_version": "1.5.0",
            "_view_name": "HBoxView",
            "box_style": "",
            "children": [
              "IPY_MODEL_111dc18c79a94af294530fe0151edd23",
              "IPY_MODEL_daa5f2da94a142fd836e3cdada4616a2",
              "IPY_MODEL_f351686f58524da1abc33f84c37325ef"
            ],
            "layout": "IPY_MODEL_2a35d85ea96d430cbdc1a2ca9e4d3be6"
          }
        },
        "111dc18c79a94af294530fe0151edd23": {
          "model_module": "@jupyter-widgets/controls",
          "model_name": "HTMLModel",
          "model_module_version": "1.5.0",
          "state": {
            "_dom_classes": [],
            "_model_module": "@jupyter-widgets/controls",
            "_model_module_version": "1.5.0",
            "_model_name": "HTMLModel",
            "_view_count": null,
            "_view_module": "@jupyter-widgets/controls",
            "_view_module_version": "1.5.0",
            "_view_name": "HTMLView",
            "description": "",
            "description_tooltip": null,
            "layout": "IPY_MODEL_f4a36283a12544ffb898923fb75e7e62",
            "placeholder": "​",
            "style": "IPY_MODEL_a49ea84df96f4400a72482fb7384ade8",
            "value": "100%"
          }
        },
        "daa5f2da94a142fd836e3cdada4616a2": {
          "model_module": "@jupyter-widgets/controls",
          "model_name": "FloatProgressModel",
          "model_module_version": "1.5.0",
          "state": {
            "_dom_classes": [],
            "_model_module": "@jupyter-widgets/controls",
            "_model_module_version": "1.5.0",
            "_model_name": "FloatProgressModel",
            "_view_count": null,
            "_view_module": "@jupyter-widgets/controls",
            "_view_module_version": "1.5.0",
            "_view_name": "ProgressView",
            "bar_style": "success",
            "description": "",
            "description_tooltip": null,
            "layout": "IPY_MODEL_583bd8c7411f42c4a2fa82fdf1303706",
            "max": 561753746,
            "min": 0,
            "orientation": "horizontal",
            "style": "IPY_MODEL_b6999e3d2413482993b28d05f7a0c7f7",
            "value": 561753746
          }
        },
        "f351686f58524da1abc33f84c37325ef": {
          "model_module": "@jupyter-widgets/controls",
          "model_name": "HTMLModel",
          "model_module_version": "1.5.0",
          "state": {
            "_dom_classes": [],
            "_model_module": "@jupyter-widgets/controls",
            "_model_module_version": "1.5.0",
            "_model_name": "HTMLModel",
            "_view_count": null,
            "_view_module": "@jupyter-widgets/controls",
            "_view_module_version": "1.5.0",
            "_view_name": "HTMLView",
            "description": "",
            "description_tooltip": null,
            "layout": "IPY_MODEL_7b2be8636f7e4cc09d8bee932ebe068d",
            "placeholder": "​",
            "style": "IPY_MODEL_ee28687b8edb4a72807a3004c4f828fa",
            "value": " 561753746/561753746 [00:11&lt;00:00, 48490558.96it/s]"
          }
        },
        "2a35d85ea96d430cbdc1a2ca9e4d3be6": {
          "model_module": "@jupyter-widgets/base",
          "model_name": "LayoutModel",
          "model_module_version": "1.2.0",
          "state": {
            "_model_module": "@jupyter-widgets/base",
            "_model_module_version": "1.2.0",
            "_model_name": "LayoutModel",
            "_view_count": null,
            "_view_module": "@jupyter-widgets/base",
            "_view_module_version": "1.2.0",
            "_view_name": "LayoutView",
            "align_content": null,
            "align_items": null,
            "align_self": null,
            "border": null,
            "bottom": null,
            "display": null,
            "flex": null,
            "flex_flow": null,
            "grid_area": null,
            "grid_auto_columns": null,
            "grid_auto_flow": null,
            "grid_auto_rows": null,
            "grid_column": null,
            "grid_gap": null,
            "grid_row": null,
            "grid_template_areas": null,
            "grid_template_columns": null,
            "grid_template_rows": null,
            "height": null,
            "justify_content": null,
            "justify_items": null,
            "left": null,
            "margin": null,
            "max_height": null,
            "max_width": null,
            "min_height": null,
            "min_width": null,
            "object_fit": null,
            "object_position": null,
            "order": null,
            "overflow": null,
            "overflow_x": null,
            "overflow_y": null,
            "padding": null,
            "right": null,
            "top": null,
            "visibility": null,
            "width": null
          }
        },
        "f4a36283a12544ffb898923fb75e7e62": {
          "model_module": "@jupyter-widgets/base",
          "model_name": "LayoutModel",
          "model_module_version": "1.2.0",
          "state": {
            "_model_module": "@jupyter-widgets/base",
            "_model_module_version": "1.2.0",
            "_model_name": "LayoutModel",
            "_view_count": null,
            "_view_module": "@jupyter-widgets/base",
            "_view_module_version": "1.2.0",
            "_view_name": "LayoutView",
            "align_content": null,
            "align_items": null,
            "align_self": null,
            "border": null,
            "bottom": null,
            "display": null,
            "flex": null,
            "flex_flow": null,
            "grid_area": null,
            "grid_auto_columns": null,
            "grid_auto_flow": null,
            "grid_auto_rows": null,
            "grid_column": null,
            "grid_gap": null,
            "grid_row": null,
            "grid_template_areas": null,
            "grid_template_columns": null,
            "grid_template_rows": null,
            "height": null,
            "justify_content": null,
            "justify_items": null,
            "left": null,
            "margin": null,
            "max_height": null,
            "max_width": null,
            "min_height": null,
            "min_width": null,
            "object_fit": null,
            "object_position": null,
            "order": null,
            "overflow": null,
            "overflow_x": null,
            "overflow_y": null,
            "padding": null,
            "right": null,
            "top": null,
            "visibility": null,
            "width": null
          }
        },
        "a49ea84df96f4400a72482fb7384ade8": {
          "model_module": "@jupyter-widgets/controls",
          "model_name": "DescriptionStyleModel",
          "model_module_version": "1.5.0",
          "state": {
            "_model_module": "@jupyter-widgets/controls",
            "_model_module_version": "1.5.0",
            "_model_name": "DescriptionStyleModel",
            "_view_count": null,
            "_view_module": "@jupyter-widgets/base",
            "_view_module_version": "1.2.0",
            "_view_name": "StyleView",
            "description_width": ""
          }
        },
        "583bd8c7411f42c4a2fa82fdf1303706": {
          "model_module": "@jupyter-widgets/base",
          "model_name": "LayoutModel",
          "model_module_version": "1.2.0",
          "state": {
            "_model_module": "@jupyter-widgets/base",
            "_model_module_version": "1.2.0",
            "_model_name": "LayoutModel",
            "_view_count": null,
            "_view_module": "@jupyter-widgets/base",
            "_view_module_version": "1.2.0",
            "_view_name": "LayoutView",
            "align_content": null,
            "align_items": null,
            "align_self": null,
            "border": null,
            "bottom": null,
            "display": null,
            "flex": null,
            "flex_flow": null,
            "grid_area": null,
            "grid_auto_columns": null,
            "grid_auto_flow": null,
            "grid_auto_rows": null,
            "grid_column": null,
            "grid_gap": null,
            "grid_row": null,
            "grid_template_areas": null,
            "grid_template_columns": null,
            "grid_template_rows": null,
            "height": null,
            "justify_content": null,
            "justify_items": null,
            "left": null,
            "margin": null,
            "max_height": null,
            "max_width": null,
            "min_height": null,
            "min_width": null,
            "object_fit": null,
            "object_position": null,
            "order": null,
            "overflow": null,
            "overflow_x": null,
            "overflow_y": null,
            "padding": null,
            "right": null,
            "top": null,
            "visibility": null,
            "width": null
          }
        },
        "b6999e3d2413482993b28d05f7a0c7f7": {
          "model_module": "@jupyter-widgets/controls",
          "model_name": "ProgressStyleModel",
          "model_module_version": "1.5.0",
          "state": {
            "_model_module": "@jupyter-widgets/controls",
            "_model_module_version": "1.5.0",
            "_model_name": "ProgressStyleModel",
            "_view_count": null,
            "_view_module": "@jupyter-widgets/base",
            "_view_module_version": "1.2.0",
            "_view_name": "StyleView",
            "bar_color": null,
            "description_width": ""
          }
        },
        "7b2be8636f7e4cc09d8bee932ebe068d": {
          "model_module": "@jupyter-widgets/base",
          "model_name": "LayoutModel",
          "model_module_version": "1.2.0",
          "state": {
            "_model_module": "@jupyter-widgets/base",
            "_model_module_version": "1.2.0",
            "_model_name": "LayoutModel",
            "_view_count": null,
            "_view_module": "@jupyter-widgets/base",
            "_view_module_version": "1.2.0",
            "_view_name": "LayoutView",
            "align_content": null,
            "align_items": null,
            "align_self": null,
            "border": null,
            "bottom": null,
            "display": null,
            "flex": null,
            "flex_flow": null,
            "grid_area": null,
            "grid_auto_columns": null,
            "grid_auto_flow": null,
            "grid_auto_rows": null,
            "grid_column": null,
            "grid_gap": null,
            "grid_row": null,
            "grid_template_areas": null,
            "grid_template_columns": null,
            "grid_template_rows": null,
            "height": null,
            "justify_content": null,
            "justify_items": null,
            "left": null,
            "margin": null,
            "max_height": null,
            "max_width": null,
            "min_height": null,
            "min_width": null,
            "object_fit": null,
            "object_position": null,
            "order": null,
            "overflow": null,
            "overflow_x": null,
            "overflow_y": null,
            "padding": null,
            "right": null,
            "top": null,
            "visibility": null,
            "width": null
          }
        },
        "ee28687b8edb4a72807a3004c4f828fa": {
          "model_module": "@jupyter-widgets/controls",
          "model_name": "DescriptionStyleModel",
          "model_module_version": "1.5.0",
          "state": {
            "_model_module": "@jupyter-widgets/controls",
            "_model_module_version": "1.5.0",
            "_model_name": "DescriptionStyleModel",
            "_view_count": null,
            "_view_module": "@jupyter-widgets/base",
            "_view_module_version": "1.2.0",
            "_view_name": "StyleView",
            "description_width": ""
          }
        },
        "1b68792c461142d5866cd1b962b3dcad": {
          "model_module": "@jupyter-widgets/controls",
          "model_name": "HBoxModel",
          "model_module_version": "1.5.0",
          "state": {
            "_dom_classes": [],
            "_model_module": "@jupyter-widgets/controls",
            "_model_module_version": "1.5.0",
            "_model_name": "HBoxModel",
            "_view_count": null,
            "_view_module": "@jupyter-widgets/controls",
            "_view_module_version": "1.5.0",
            "_view_name": "HBoxView",
            "box_style": "",
            "children": [
              "IPY_MODEL_6edc5bde9159480099eb0a9f29589c38",
              "IPY_MODEL_9b11918153084e5bbd065dfafbba81a2",
              "IPY_MODEL_a9e544b4bc4f4381b6fd2918138034b7"
            ],
            "layout": "IPY_MODEL_0ceee875408d4695b2ee6616730788ca"
          }
        },
        "6edc5bde9159480099eb0a9f29589c38": {
          "model_module": "@jupyter-widgets/controls",
          "model_name": "HTMLModel",
          "model_module_version": "1.5.0",
          "state": {
            "_dom_classes": [],
            "_model_module": "@jupyter-widgets/controls",
            "_model_module_version": "1.5.0",
            "_model_name": "HTMLModel",
            "_view_count": null,
            "_view_module": "@jupyter-widgets/controls",
            "_view_module_version": "1.5.0",
            "_view_name": "HTMLView",
            "description": "",
            "description_tooltip": null,
            "layout": "IPY_MODEL_401110d300b94f599d5eea29423a0609",
            "placeholder": "​",
            "style": "IPY_MODEL_aedebb533ceb40c3a407e42ca2171865",
            "value": "100%"
          }
        },
        "9b11918153084e5bbd065dfafbba81a2": {
          "model_module": "@jupyter-widgets/controls",
          "model_name": "FloatProgressModel",
          "model_module_version": "1.5.0",
          "state": {
            "_dom_classes": [],
            "_model_module": "@jupyter-widgets/controls",
            "_model_module_version": "1.5.0",
            "_model_name": "FloatProgressModel",
            "_view_count": null,
            "_view_module": "@jupyter-widgets/controls",
            "_view_module_version": "1.5.0",
            "_view_name": "ProgressView",
            "bar_style": "success",
            "description": "",
            "description_tooltip": null,
            "layout": "IPY_MODEL_9634cf9d585a44e6a774a505b977bf72",
            "max": 9912422,
            "min": 0,
            "orientation": "horizontal",
            "style": "IPY_MODEL_76baf5922def407b91099f46df2d543b",
            "value": 9912422
          }
        },
        "a9e544b4bc4f4381b6fd2918138034b7": {
          "model_module": "@jupyter-widgets/controls",
          "model_name": "HTMLModel",
          "model_module_version": "1.5.0",
          "state": {
            "_dom_classes": [],
            "_model_module": "@jupyter-widgets/controls",
            "_model_module_version": "1.5.0",
            "_model_name": "HTMLModel",
            "_view_count": null,
            "_view_module": "@jupyter-widgets/controls",
            "_view_module_version": "1.5.0",
            "_view_name": "HTMLView",
            "description": "",
            "description_tooltip": null,
            "layout": "IPY_MODEL_75770c44d77f4ed3a2526863545e86dd",
            "placeholder": "​",
            "style": "IPY_MODEL_6b4b82b9f9e444878a40f64988cfac2c",
            "value": " 9912422/9912422 [00:00&lt;00:00, 13605314.60it/s]"
          }
        },
        "0ceee875408d4695b2ee6616730788ca": {
          "model_module": "@jupyter-widgets/base",
          "model_name": "LayoutModel",
          "model_module_version": "1.2.0",
          "state": {
            "_model_module": "@jupyter-widgets/base",
            "_model_module_version": "1.2.0",
            "_model_name": "LayoutModel",
            "_view_count": null,
            "_view_module": "@jupyter-widgets/base",
            "_view_module_version": "1.2.0",
            "_view_name": "LayoutView",
            "align_content": null,
            "align_items": null,
            "align_self": null,
            "border": null,
            "bottom": null,
            "display": null,
            "flex": null,
            "flex_flow": null,
            "grid_area": null,
            "grid_auto_columns": null,
            "grid_auto_flow": null,
            "grid_auto_rows": null,
            "grid_column": null,
            "grid_gap": null,
            "grid_row": null,
            "grid_template_areas": null,
            "grid_template_columns": null,
            "grid_template_rows": null,
            "height": null,
            "justify_content": null,
            "justify_items": null,
            "left": null,
            "margin": null,
            "max_height": null,
            "max_width": null,
            "min_height": null,
            "min_width": null,
            "object_fit": null,
            "object_position": null,
            "order": null,
            "overflow": null,
            "overflow_x": null,
            "overflow_y": null,
            "padding": null,
            "right": null,
            "top": null,
            "visibility": null,
            "width": null
          }
        },
        "401110d300b94f599d5eea29423a0609": {
          "model_module": "@jupyter-widgets/base",
          "model_name": "LayoutModel",
          "model_module_version": "1.2.0",
          "state": {
            "_model_module": "@jupyter-widgets/base",
            "_model_module_version": "1.2.0",
            "_model_name": "LayoutModel",
            "_view_count": null,
            "_view_module": "@jupyter-widgets/base",
            "_view_module_version": "1.2.0",
            "_view_name": "LayoutView",
            "align_content": null,
            "align_items": null,
            "align_self": null,
            "border": null,
            "bottom": null,
            "display": null,
            "flex": null,
            "flex_flow": null,
            "grid_area": null,
            "grid_auto_columns": null,
            "grid_auto_flow": null,
            "grid_auto_rows": null,
            "grid_column": null,
            "grid_gap": null,
            "grid_row": null,
            "grid_template_areas": null,
            "grid_template_columns": null,
            "grid_template_rows": null,
            "height": null,
            "justify_content": null,
            "justify_items": null,
            "left": null,
            "margin": null,
            "max_height": null,
            "max_width": null,
            "min_height": null,
            "min_width": null,
            "object_fit": null,
            "object_position": null,
            "order": null,
            "overflow": null,
            "overflow_x": null,
            "overflow_y": null,
            "padding": null,
            "right": null,
            "top": null,
            "visibility": null,
            "width": null
          }
        },
        "aedebb533ceb40c3a407e42ca2171865": {
          "model_module": "@jupyter-widgets/controls",
          "model_name": "DescriptionStyleModel",
          "model_module_version": "1.5.0",
          "state": {
            "_model_module": "@jupyter-widgets/controls",
            "_model_module_version": "1.5.0",
            "_model_name": "DescriptionStyleModel",
            "_view_count": null,
            "_view_module": "@jupyter-widgets/base",
            "_view_module_version": "1.2.0",
            "_view_name": "StyleView",
            "description_width": ""
          }
        },
        "9634cf9d585a44e6a774a505b977bf72": {
          "model_module": "@jupyter-widgets/base",
          "model_name": "LayoutModel",
          "model_module_version": "1.2.0",
          "state": {
            "_model_module": "@jupyter-widgets/base",
            "_model_module_version": "1.2.0",
            "_model_name": "LayoutModel",
            "_view_count": null,
            "_view_module": "@jupyter-widgets/base",
            "_view_module_version": "1.2.0",
            "_view_name": "LayoutView",
            "align_content": null,
            "align_items": null,
            "align_self": null,
            "border": null,
            "bottom": null,
            "display": null,
            "flex": null,
            "flex_flow": null,
            "grid_area": null,
            "grid_auto_columns": null,
            "grid_auto_flow": null,
            "grid_auto_rows": null,
            "grid_column": null,
            "grid_gap": null,
            "grid_row": null,
            "grid_template_areas": null,
            "grid_template_columns": null,
            "grid_template_rows": null,
            "height": null,
            "justify_content": null,
            "justify_items": null,
            "left": null,
            "margin": null,
            "max_height": null,
            "max_width": null,
            "min_height": null,
            "min_width": null,
            "object_fit": null,
            "object_position": null,
            "order": null,
            "overflow": null,
            "overflow_x": null,
            "overflow_y": null,
            "padding": null,
            "right": null,
            "top": null,
            "visibility": null,
            "width": null
          }
        },
        "76baf5922def407b91099f46df2d543b": {
          "model_module": "@jupyter-widgets/controls",
          "model_name": "ProgressStyleModel",
          "model_module_version": "1.5.0",
          "state": {
            "_model_module": "@jupyter-widgets/controls",
            "_model_module_version": "1.5.0",
            "_model_name": "ProgressStyleModel",
            "_view_count": null,
            "_view_module": "@jupyter-widgets/base",
            "_view_module_version": "1.2.0",
            "_view_name": "StyleView",
            "bar_color": null,
            "description_width": ""
          }
        },
        "75770c44d77f4ed3a2526863545e86dd": {
          "model_module": "@jupyter-widgets/base",
          "model_name": "LayoutModel",
          "model_module_version": "1.2.0",
          "state": {
            "_model_module": "@jupyter-widgets/base",
            "_model_module_version": "1.2.0",
            "_model_name": "LayoutModel",
            "_view_count": null,
            "_view_module": "@jupyter-widgets/base",
            "_view_module_version": "1.2.0",
            "_view_name": "LayoutView",
            "align_content": null,
            "align_items": null,
            "align_self": null,
            "border": null,
            "bottom": null,
            "display": null,
            "flex": null,
            "flex_flow": null,
            "grid_area": null,
            "grid_auto_columns": null,
            "grid_auto_flow": null,
            "grid_auto_rows": null,
            "grid_column": null,
            "grid_gap": null,
            "grid_row": null,
            "grid_template_areas": null,
            "grid_template_columns": null,
            "grid_template_rows": null,
            "height": null,
            "justify_content": null,
            "justify_items": null,
            "left": null,
            "margin": null,
            "max_height": null,
            "max_width": null,
            "min_height": null,
            "min_width": null,
            "object_fit": null,
            "object_position": null,
            "order": null,
            "overflow": null,
            "overflow_x": null,
            "overflow_y": null,
            "padding": null,
            "right": null,
            "top": null,
            "visibility": null,
            "width": null
          }
        },
        "6b4b82b9f9e444878a40f64988cfac2c": {
          "model_module": "@jupyter-widgets/controls",
          "model_name": "DescriptionStyleModel",
          "model_module_version": "1.5.0",
          "state": {
            "_model_module": "@jupyter-widgets/controls",
            "_model_module_version": "1.5.0",
            "_model_name": "DescriptionStyleModel",
            "_view_count": null,
            "_view_module": "@jupyter-widgets/base",
            "_view_module_version": "1.2.0",
            "_view_name": "StyleView",
            "description_width": ""
          }
        },
        "9cf95e182e85487f8ba025e8583933a1": {
          "model_module": "@jupyter-widgets/controls",
          "model_name": "HBoxModel",
          "model_module_version": "1.5.0",
          "state": {
            "_dom_classes": [],
            "_model_module": "@jupyter-widgets/controls",
            "_model_module_version": "1.5.0",
            "_model_name": "HBoxModel",
            "_view_count": null,
            "_view_module": "@jupyter-widgets/controls",
            "_view_module_version": "1.5.0",
            "_view_name": "HBoxView",
            "box_style": "",
            "children": [
              "IPY_MODEL_4dcd7be4b5c14a46bb723a756c164d96",
              "IPY_MODEL_d2989899277f445199a1c19ca7879a33",
              "IPY_MODEL_7707ab6bdfc7465bb1e0af891c8a42bb"
            ],
            "layout": "IPY_MODEL_ba9a4eda4e5c4d0ba46110e5a12e27e6"
          }
        },
        "4dcd7be4b5c14a46bb723a756c164d96": {
          "model_module": "@jupyter-widgets/controls",
          "model_name": "HTMLModel",
          "model_module_version": "1.5.0",
          "state": {
            "_dom_classes": [],
            "_model_module": "@jupyter-widgets/controls",
            "_model_module_version": "1.5.0",
            "_model_name": "HTMLModel",
            "_view_count": null,
            "_view_module": "@jupyter-widgets/controls",
            "_view_module_version": "1.5.0",
            "_view_name": "HTMLView",
            "description": "",
            "description_tooltip": null,
            "layout": "IPY_MODEL_49f847e714ef4e1b8f4f643a642f410c",
            "placeholder": "​",
            "style": "IPY_MODEL_f63b73dc352e4d08ac34661181ce4833",
            "value": "100%"
          }
        },
        "d2989899277f445199a1c19ca7879a33": {
          "model_module": "@jupyter-widgets/controls",
          "model_name": "FloatProgressModel",
          "model_module_version": "1.5.0",
          "state": {
            "_dom_classes": [],
            "_model_module": "@jupyter-widgets/controls",
            "_model_module_version": "1.5.0",
            "_model_name": "FloatProgressModel",
            "_view_count": null,
            "_view_module": "@jupyter-widgets/controls",
            "_view_module_version": "1.5.0",
            "_view_name": "ProgressView",
            "bar_style": "success",
            "description": "",
            "description_tooltip": null,
            "layout": "IPY_MODEL_a3b637d2ea98429a8896e8a3ef8a475a",
            "max": 28881,
            "min": 0,
            "orientation": "horizontal",
            "style": "IPY_MODEL_a82e5d953b784fb2ab146fd7790c7d25",
            "value": 28881
          }
        },
        "7707ab6bdfc7465bb1e0af891c8a42bb": {
          "model_module": "@jupyter-widgets/controls",
          "model_name": "HTMLModel",
          "model_module_version": "1.5.0",
          "state": {
            "_dom_classes": [],
            "_model_module": "@jupyter-widgets/controls",
            "_model_module_version": "1.5.0",
            "_model_name": "HTMLModel",
            "_view_count": null,
            "_view_module": "@jupyter-widgets/controls",
            "_view_module_version": "1.5.0",
            "_view_name": "HTMLView",
            "description": "",
            "description_tooltip": null,
            "layout": "IPY_MODEL_6953feb796704442934aec513fa35ccb",
            "placeholder": "​",
            "style": "IPY_MODEL_c319f8cc40f848b8975ab4e9ec8b0211",
            "value": " 28881/28881 [00:00&lt;00:00, 1080738.84it/s]"
          }
        },
        "ba9a4eda4e5c4d0ba46110e5a12e27e6": {
          "model_module": "@jupyter-widgets/base",
          "model_name": "LayoutModel",
          "model_module_version": "1.2.0",
          "state": {
            "_model_module": "@jupyter-widgets/base",
            "_model_module_version": "1.2.0",
            "_model_name": "LayoutModel",
            "_view_count": null,
            "_view_module": "@jupyter-widgets/base",
            "_view_module_version": "1.2.0",
            "_view_name": "LayoutView",
            "align_content": null,
            "align_items": null,
            "align_self": null,
            "border": null,
            "bottom": null,
            "display": null,
            "flex": null,
            "flex_flow": null,
            "grid_area": null,
            "grid_auto_columns": null,
            "grid_auto_flow": null,
            "grid_auto_rows": null,
            "grid_column": null,
            "grid_gap": null,
            "grid_row": null,
            "grid_template_areas": null,
            "grid_template_columns": null,
            "grid_template_rows": null,
            "height": null,
            "justify_content": null,
            "justify_items": null,
            "left": null,
            "margin": null,
            "max_height": null,
            "max_width": null,
            "min_height": null,
            "min_width": null,
            "object_fit": null,
            "object_position": null,
            "order": null,
            "overflow": null,
            "overflow_x": null,
            "overflow_y": null,
            "padding": null,
            "right": null,
            "top": null,
            "visibility": null,
            "width": null
          }
        },
        "49f847e714ef4e1b8f4f643a642f410c": {
          "model_module": "@jupyter-widgets/base",
          "model_name": "LayoutModel",
          "model_module_version": "1.2.0",
          "state": {
            "_model_module": "@jupyter-widgets/base",
            "_model_module_version": "1.2.0",
            "_model_name": "LayoutModel",
            "_view_count": null,
            "_view_module": "@jupyter-widgets/base",
            "_view_module_version": "1.2.0",
            "_view_name": "LayoutView",
            "align_content": null,
            "align_items": null,
            "align_self": null,
            "border": null,
            "bottom": null,
            "display": null,
            "flex": null,
            "flex_flow": null,
            "grid_area": null,
            "grid_auto_columns": null,
            "grid_auto_flow": null,
            "grid_auto_rows": null,
            "grid_column": null,
            "grid_gap": null,
            "grid_row": null,
            "grid_template_areas": null,
            "grid_template_columns": null,
            "grid_template_rows": null,
            "height": null,
            "justify_content": null,
            "justify_items": null,
            "left": null,
            "margin": null,
            "max_height": null,
            "max_width": null,
            "min_height": null,
            "min_width": null,
            "object_fit": null,
            "object_position": null,
            "order": null,
            "overflow": null,
            "overflow_x": null,
            "overflow_y": null,
            "padding": null,
            "right": null,
            "top": null,
            "visibility": null,
            "width": null
          }
        },
        "f63b73dc352e4d08ac34661181ce4833": {
          "model_module": "@jupyter-widgets/controls",
          "model_name": "DescriptionStyleModel",
          "model_module_version": "1.5.0",
          "state": {
            "_model_module": "@jupyter-widgets/controls",
            "_model_module_version": "1.5.0",
            "_model_name": "DescriptionStyleModel",
            "_view_count": null,
            "_view_module": "@jupyter-widgets/base",
            "_view_module_version": "1.2.0",
            "_view_name": "StyleView",
            "description_width": ""
          }
        },
        "a3b637d2ea98429a8896e8a3ef8a475a": {
          "model_module": "@jupyter-widgets/base",
          "model_name": "LayoutModel",
          "model_module_version": "1.2.0",
          "state": {
            "_model_module": "@jupyter-widgets/base",
            "_model_module_version": "1.2.0",
            "_model_name": "LayoutModel",
            "_view_count": null,
            "_view_module": "@jupyter-widgets/base",
            "_view_module_version": "1.2.0",
            "_view_name": "LayoutView",
            "align_content": null,
            "align_items": null,
            "align_self": null,
            "border": null,
            "bottom": null,
            "display": null,
            "flex": null,
            "flex_flow": null,
            "grid_area": null,
            "grid_auto_columns": null,
            "grid_auto_flow": null,
            "grid_auto_rows": null,
            "grid_column": null,
            "grid_gap": null,
            "grid_row": null,
            "grid_template_areas": null,
            "grid_template_columns": null,
            "grid_template_rows": null,
            "height": null,
            "justify_content": null,
            "justify_items": null,
            "left": null,
            "margin": null,
            "max_height": null,
            "max_width": null,
            "min_height": null,
            "min_width": null,
            "object_fit": null,
            "object_position": null,
            "order": null,
            "overflow": null,
            "overflow_x": null,
            "overflow_y": null,
            "padding": null,
            "right": null,
            "top": null,
            "visibility": null,
            "width": null
          }
        },
        "a82e5d953b784fb2ab146fd7790c7d25": {
          "model_module": "@jupyter-widgets/controls",
          "model_name": "ProgressStyleModel",
          "model_module_version": "1.5.0",
          "state": {
            "_model_module": "@jupyter-widgets/controls",
            "_model_module_version": "1.5.0",
            "_model_name": "ProgressStyleModel",
            "_view_count": null,
            "_view_module": "@jupyter-widgets/base",
            "_view_module_version": "1.2.0",
            "_view_name": "StyleView",
            "bar_color": null,
            "description_width": ""
          }
        },
        "6953feb796704442934aec513fa35ccb": {
          "model_module": "@jupyter-widgets/base",
          "model_name": "LayoutModel",
          "model_module_version": "1.2.0",
          "state": {
            "_model_module": "@jupyter-widgets/base",
            "_model_module_version": "1.2.0",
            "_model_name": "LayoutModel",
            "_view_count": null,
            "_view_module": "@jupyter-widgets/base",
            "_view_module_version": "1.2.0",
            "_view_name": "LayoutView",
            "align_content": null,
            "align_items": null,
            "align_self": null,
            "border": null,
            "bottom": null,
            "display": null,
            "flex": null,
            "flex_flow": null,
            "grid_area": null,
            "grid_auto_columns": null,
            "grid_auto_flow": null,
            "grid_auto_rows": null,
            "grid_column": null,
            "grid_gap": null,
            "grid_row": null,
            "grid_template_areas": null,
            "grid_template_columns": null,
            "grid_template_rows": null,
            "height": null,
            "justify_content": null,
            "justify_items": null,
            "left": null,
            "margin": null,
            "max_height": null,
            "max_width": null,
            "min_height": null,
            "min_width": null,
            "object_fit": null,
            "object_position": null,
            "order": null,
            "overflow": null,
            "overflow_x": null,
            "overflow_y": null,
            "padding": null,
            "right": null,
            "top": null,
            "visibility": null,
            "width": null
          }
        },
        "c319f8cc40f848b8975ab4e9ec8b0211": {
          "model_module": "@jupyter-widgets/controls",
          "model_name": "DescriptionStyleModel",
          "model_module_version": "1.5.0",
          "state": {
            "_model_module": "@jupyter-widgets/controls",
            "_model_module_version": "1.5.0",
            "_model_name": "DescriptionStyleModel",
            "_view_count": null,
            "_view_module": "@jupyter-widgets/base",
            "_view_module_version": "1.2.0",
            "_view_name": "StyleView",
            "description_width": ""
          }
        },
        "35098732df95470887f39c79c2b1a74d": {
          "model_module": "@jupyter-widgets/controls",
          "model_name": "HBoxModel",
          "model_module_version": "1.5.0",
          "state": {
            "_dom_classes": [],
            "_model_module": "@jupyter-widgets/controls",
            "_model_module_version": "1.5.0",
            "_model_name": "HBoxModel",
            "_view_count": null,
            "_view_module": "@jupyter-widgets/controls",
            "_view_module_version": "1.5.0",
            "_view_name": "HBoxView",
            "box_style": "",
            "children": [
              "IPY_MODEL_8fac1f8aae064f89aa54901ebe786151",
              "IPY_MODEL_febb8eed648d493cbaf28c79262b7fff",
              "IPY_MODEL_f49656168e394e9a9405f4d440ab8755"
            ],
            "layout": "IPY_MODEL_82692529b9e6439597f2514a5fbffaf6"
          }
        },
        "8fac1f8aae064f89aa54901ebe786151": {
          "model_module": "@jupyter-widgets/controls",
          "model_name": "HTMLModel",
          "model_module_version": "1.5.0",
          "state": {
            "_dom_classes": [],
            "_model_module": "@jupyter-widgets/controls",
            "_model_module_version": "1.5.0",
            "_model_name": "HTMLModel",
            "_view_count": null,
            "_view_module": "@jupyter-widgets/controls",
            "_view_module_version": "1.5.0",
            "_view_name": "HTMLView",
            "description": "",
            "description_tooltip": null,
            "layout": "IPY_MODEL_8aa88c7c86cf4f53b74a5de26df9bffd",
            "placeholder": "​",
            "style": "IPY_MODEL_de31dfcc55ef4208a9399100c960ed8d",
            "value": "100%"
          }
        },
        "febb8eed648d493cbaf28c79262b7fff": {
          "model_module": "@jupyter-widgets/controls",
          "model_name": "FloatProgressModel",
          "model_module_version": "1.5.0",
          "state": {
            "_dom_classes": [],
            "_model_module": "@jupyter-widgets/controls",
            "_model_module_version": "1.5.0",
            "_model_name": "FloatProgressModel",
            "_view_count": null,
            "_view_module": "@jupyter-widgets/controls",
            "_view_module_version": "1.5.0",
            "_view_name": "ProgressView",
            "bar_style": "success",
            "description": "",
            "description_tooltip": null,
            "layout": "IPY_MODEL_6a0bc554e2e44f69a2450d8c6cf78ed9",
            "max": 1648877,
            "min": 0,
            "orientation": "horizontal",
            "style": "IPY_MODEL_5da1122fe69d4fe4b75df42456f9d80d",
            "value": 1648877
          }
        },
        "f49656168e394e9a9405f4d440ab8755": {
          "model_module": "@jupyter-widgets/controls",
          "model_name": "HTMLModel",
          "model_module_version": "1.5.0",
          "state": {
            "_dom_classes": [],
            "_model_module": "@jupyter-widgets/controls",
            "_model_module_version": "1.5.0",
            "_model_name": "HTMLModel",
            "_view_count": null,
            "_view_module": "@jupyter-widgets/controls",
            "_view_module_version": "1.5.0",
            "_view_name": "HTMLView",
            "description": "",
            "description_tooltip": null,
            "layout": "IPY_MODEL_b3384939d3d342c28bec92a35fff8af5",
            "placeholder": "​",
            "style": "IPY_MODEL_ff97a226d6d345e381a2ed6426ea75ff",
            "value": " 1648877/1648877 [00:00&lt;00:00, 5858986.62it/s]"
          }
        },
        "82692529b9e6439597f2514a5fbffaf6": {
          "model_module": "@jupyter-widgets/base",
          "model_name": "LayoutModel",
          "model_module_version": "1.2.0",
          "state": {
            "_model_module": "@jupyter-widgets/base",
            "_model_module_version": "1.2.0",
            "_model_name": "LayoutModel",
            "_view_count": null,
            "_view_module": "@jupyter-widgets/base",
            "_view_module_version": "1.2.0",
            "_view_name": "LayoutView",
            "align_content": null,
            "align_items": null,
            "align_self": null,
            "border": null,
            "bottom": null,
            "display": null,
            "flex": null,
            "flex_flow": null,
            "grid_area": null,
            "grid_auto_columns": null,
            "grid_auto_flow": null,
            "grid_auto_rows": null,
            "grid_column": null,
            "grid_gap": null,
            "grid_row": null,
            "grid_template_areas": null,
            "grid_template_columns": null,
            "grid_template_rows": null,
            "height": null,
            "justify_content": null,
            "justify_items": null,
            "left": null,
            "margin": null,
            "max_height": null,
            "max_width": null,
            "min_height": null,
            "min_width": null,
            "object_fit": null,
            "object_position": null,
            "order": null,
            "overflow": null,
            "overflow_x": null,
            "overflow_y": null,
            "padding": null,
            "right": null,
            "top": null,
            "visibility": null,
            "width": null
          }
        },
        "8aa88c7c86cf4f53b74a5de26df9bffd": {
          "model_module": "@jupyter-widgets/base",
          "model_name": "LayoutModel",
          "model_module_version": "1.2.0",
          "state": {
            "_model_module": "@jupyter-widgets/base",
            "_model_module_version": "1.2.0",
            "_model_name": "LayoutModel",
            "_view_count": null,
            "_view_module": "@jupyter-widgets/base",
            "_view_module_version": "1.2.0",
            "_view_name": "LayoutView",
            "align_content": null,
            "align_items": null,
            "align_self": null,
            "border": null,
            "bottom": null,
            "display": null,
            "flex": null,
            "flex_flow": null,
            "grid_area": null,
            "grid_auto_columns": null,
            "grid_auto_flow": null,
            "grid_auto_rows": null,
            "grid_column": null,
            "grid_gap": null,
            "grid_row": null,
            "grid_template_areas": null,
            "grid_template_columns": null,
            "grid_template_rows": null,
            "height": null,
            "justify_content": null,
            "justify_items": null,
            "left": null,
            "margin": null,
            "max_height": null,
            "max_width": null,
            "min_height": null,
            "min_width": null,
            "object_fit": null,
            "object_position": null,
            "order": null,
            "overflow": null,
            "overflow_x": null,
            "overflow_y": null,
            "padding": null,
            "right": null,
            "top": null,
            "visibility": null,
            "width": null
          }
        },
        "de31dfcc55ef4208a9399100c960ed8d": {
          "model_module": "@jupyter-widgets/controls",
          "model_name": "DescriptionStyleModel",
          "model_module_version": "1.5.0",
          "state": {
            "_model_module": "@jupyter-widgets/controls",
            "_model_module_version": "1.5.0",
            "_model_name": "DescriptionStyleModel",
            "_view_count": null,
            "_view_module": "@jupyter-widgets/base",
            "_view_module_version": "1.2.0",
            "_view_name": "StyleView",
            "description_width": ""
          }
        },
        "6a0bc554e2e44f69a2450d8c6cf78ed9": {
          "model_module": "@jupyter-widgets/base",
          "model_name": "LayoutModel",
          "model_module_version": "1.2.0",
          "state": {
            "_model_module": "@jupyter-widgets/base",
            "_model_module_version": "1.2.0",
            "_model_name": "LayoutModel",
            "_view_count": null,
            "_view_module": "@jupyter-widgets/base",
            "_view_module_version": "1.2.0",
            "_view_name": "LayoutView",
            "align_content": null,
            "align_items": null,
            "align_self": null,
            "border": null,
            "bottom": null,
            "display": null,
            "flex": null,
            "flex_flow": null,
            "grid_area": null,
            "grid_auto_columns": null,
            "grid_auto_flow": null,
            "grid_auto_rows": null,
            "grid_column": null,
            "grid_gap": null,
            "grid_row": null,
            "grid_template_areas": null,
            "grid_template_columns": null,
            "grid_template_rows": null,
            "height": null,
            "justify_content": null,
            "justify_items": null,
            "left": null,
            "margin": null,
            "max_height": null,
            "max_width": null,
            "min_height": null,
            "min_width": null,
            "object_fit": null,
            "object_position": null,
            "order": null,
            "overflow": null,
            "overflow_x": null,
            "overflow_y": null,
            "padding": null,
            "right": null,
            "top": null,
            "visibility": null,
            "width": null
          }
        },
        "5da1122fe69d4fe4b75df42456f9d80d": {
          "model_module": "@jupyter-widgets/controls",
          "model_name": "ProgressStyleModel",
          "model_module_version": "1.5.0",
          "state": {
            "_model_module": "@jupyter-widgets/controls",
            "_model_module_version": "1.5.0",
            "_model_name": "ProgressStyleModel",
            "_view_count": null,
            "_view_module": "@jupyter-widgets/base",
            "_view_module_version": "1.2.0",
            "_view_name": "StyleView",
            "bar_color": null,
            "description_width": ""
          }
        },
        "b3384939d3d342c28bec92a35fff8af5": {
          "model_module": "@jupyter-widgets/base",
          "model_name": "LayoutModel",
          "model_module_version": "1.2.0",
          "state": {
            "_model_module": "@jupyter-widgets/base",
            "_model_module_version": "1.2.0",
            "_model_name": "LayoutModel",
            "_view_count": null,
            "_view_module": "@jupyter-widgets/base",
            "_view_module_version": "1.2.0",
            "_view_name": "LayoutView",
            "align_content": null,
            "align_items": null,
            "align_self": null,
            "border": null,
            "bottom": null,
            "display": null,
            "flex": null,
            "flex_flow": null,
            "grid_area": null,
            "grid_auto_columns": null,
            "grid_auto_flow": null,
            "grid_auto_rows": null,
            "grid_column": null,
            "grid_gap": null,
            "grid_row": null,
            "grid_template_areas": null,
            "grid_template_columns": null,
            "grid_template_rows": null,
            "height": null,
            "justify_content": null,
            "justify_items": null,
            "left": null,
            "margin": null,
            "max_height": null,
            "max_width": null,
            "min_height": null,
            "min_width": null,
            "object_fit": null,
            "object_position": null,
            "order": null,
            "overflow": null,
            "overflow_x": null,
            "overflow_y": null,
            "padding": null,
            "right": null,
            "top": null,
            "visibility": null,
            "width": null
          }
        },
        "ff97a226d6d345e381a2ed6426ea75ff": {
          "model_module": "@jupyter-widgets/controls",
          "model_name": "DescriptionStyleModel",
          "model_module_version": "1.5.0",
          "state": {
            "_model_module": "@jupyter-widgets/controls",
            "_model_module_version": "1.5.0",
            "_model_name": "DescriptionStyleModel",
            "_view_count": null,
            "_view_module": "@jupyter-widgets/base",
            "_view_module_version": "1.2.0",
            "_view_name": "StyleView",
            "description_width": ""
          }
        },
        "851b17e681c546ffbc631890c6a66b54": {
          "model_module": "@jupyter-widgets/controls",
          "model_name": "HBoxModel",
          "model_module_version": "1.5.0",
          "state": {
            "_dom_classes": [],
            "_model_module": "@jupyter-widgets/controls",
            "_model_module_version": "1.5.0",
            "_model_name": "HBoxModel",
            "_view_count": null,
            "_view_module": "@jupyter-widgets/controls",
            "_view_module_version": "1.5.0",
            "_view_name": "HBoxView",
            "box_style": "",
            "children": [
              "IPY_MODEL_ad5c804bc5044eb098f20f97bfe788b7",
              "IPY_MODEL_940a8412a8af42cc90ef1dd88dc45fef",
              "IPY_MODEL_02234b8912734835819a07c8b7df1c9c"
            ],
            "layout": "IPY_MODEL_7fdd64898f49474bb3798967522776a0"
          }
        },
        "ad5c804bc5044eb098f20f97bfe788b7": {
          "model_module": "@jupyter-widgets/controls",
          "model_name": "HTMLModel",
          "model_module_version": "1.5.0",
          "state": {
            "_dom_classes": [],
            "_model_module": "@jupyter-widgets/controls",
            "_model_module_version": "1.5.0",
            "_model_name": "HTMLModel",
            "_view_count": null,
            "_view_module": "@jupyter-widgets/controls",
            "_view_module_version": "1.5.0",
            "_view_name": "HTMLView",
            "description": "",
            "description_tooltip": null,
            "layout": "IPY_MODEL_9071b3109c9d4591b20c5b39be1a3a54",
            "placeholder": "​",
            "style": "IPY_MODEL_e9c2fb044e7e4b6eb59b6c1223d18a71",
            "value": "100%"
          }
        },
        "940a8412a8af42cc90ef1dd88dc45fef": {
          "model_module": "@jupyter-widgets/controls",
          "model_name": "FloatProgressModel",
          "model_module_version": "1.5.0",
          "state": {
            "_dom_classes": [],
            "_model_module": "@jupyter-widgets/controls",
            "_model_module_version": "1.5.0",
            "_model_name": "FloatProgressModel",
            "_view_count": null,
            "_view_module": "@jupyter-widgets/controls",
            "_view_module_version": "1.5.0",
            "_view_name": "ProgressView",
            "bar_style": "success",
            "description": "",
            "description_tooltip": null,
            "layout": "IPY_MODEL_21b1cbf2cf9d4b51a7f3c47f09acef26",
            "max": 4542,
            "min": 0,
            "orientation": "horizontal",
            "style": "IPY_MODEL_4983366814644c9a873cb9a86bec840a",
            "value": 4542
          }
        },
        "02234b8912734835819a07c8b7df1c9c": {
          "model_module": "@jupyter-widgets/controls",
          "model_name": "HTMLModel",
          "model_module_version": "1.5.0",
          "state": {
            "_dom_classes": [],
            "_model_module": "@jupyter-widgets/controls",
            "_model_module_version": "1.5.0",
            "_model_name": "HTMLModel",
            "_view_count": null,
            "_view_module": "@jupyter-widgets/controls",
            "_view_module_version": "1.5.0",
            "_view_name": "HTMLView",
            "description": "",
            "description_tooltip": null,
            "layout": "IPY_MODEL_3eac85b7fa734b918422e3cd3b0745c4",
            "placeholder": "​",
            "style": "IPY_MODEL_6e706275f08a4d13859cfc2a69749631",
            "value": " 4542/4542 [00:00&lt;00:00, 161046.64it/s]"
          }
        },
        "7fdd64898f49474bb3798967522776a0": {
          "model_module": "@jupyter-widgets/base",
          "model_name": "LayoutModel",
          "model_module_version": "1.2.0",
          "state": {
            "_model_module": "@jupyter-widgets/base",
            "_model_module_version": "1.2.0",
            "_model_name": "LayoutModel",
            "_view_count": null,
            "_view_module": "@jupyter-widgets/base",
            "_view_module_version": "1.2.0",
            "_view_name": "LayoutView",
            "align_content": null,
            "align_items": null,
            "align_self": null,
            "border": null,
            "bottom": null,
            "display": null,
            "flex": null,
            "flex_flow": null,
            "grid_area": null,
            "grid_auto_columns": null,
            "grid_auto_flow": null,
            "grid_auto_rows": null,
            "grid_column": null,
            "grid_gap": null,
            "grid_row": null,
            "grid_template_areas": null,
            "grid_template_columns": null,
            "grid_template_rows": null,
            "height": null,
            "justify_content": null,
            "justify_items": null,
            "left": null,
            "margin": null,
            "max_height": null,
            "max_width": null,
            "min_height": null,
            "min_width": null,
            "object_fit": null,
            "object_position": null,
            "order": null,
            "overflow": null,
            "overflow_x": null,
            "overflow_y": null,
            "padding": null,
            "right": null,
            "top": null,
            "visibility": null,
            "width": null
          }
        },
        "9071b3109c9d4591b20c5b39be1a3a54": {
          "model_module": "@jupyter-widgets/base",
          "model_name": "LayoutModel",
          "model_module_version": "1.2.0",
          "state": {
            "_model_module": "@jupyter-widgets/base",
            "_model_module_version": "1.2.0",
            "_model_name": "LayoutModel",
            "_view_count": null,
            "_view_module": "@jupyter-widgets/base",
            "_view_module_version": "1.2.0",
            "_view_name": "LayoutView",
            "align_content": null,
            "align_items": null,
            "align_self": null,
            "border": null,
            "bottom": null,
            "display": null,
            "flex": null,
            "flex_flow": null,
            "grid_area": null,
            "grid_auto_columns": null,
            "grid_auto_flow": null,
            "grid_auto_rows": null,
            "grid_column": null,
            "grid_gap": null,
            "grid_row": null,
            "grid_template_areas": null,
            "grid_template_columns": null,
            "grid_template_rows": null,
            "height": null,
            "justify_content": null,
            "justify_items": null,
            "left": null,
            "margin": null,
            "max_height": null,
            "max_width": null,
            "min_height": null,
            "min_width": null,
            "object_fit": null,
            "object_position": null,
            "order": null,
            "overflow": null,
            "overflow_x": null,
            "overflow_y": null,
            "padding": null,
            "right": null,
            "top": null,
            "visibility": null,
            "width": null
          }
        },
        "e9c2fb044e7e4b6eb59b6c1223d18a71": {
          "model_module": "@jupyter-widgets/controls",
          "model_name": "DescriptionStyleModel",
          "model_module_version": "1.5.0",
          "state": {
            "_model_module": "@jupyter-widgets/controls",
            "_model_module_version": "1.5.0",
            "_model_name": "DescriptionStyleModel",
            "_view_count": null,
            "_view_module": "@jupyter-widgets/base",
            "_view_module_version": "1.2.0",
            "_view_name": "StyleView",
            "description_width": ""
          }
        },
        "21b1cbf2cf9d4b51a7f3c47f09acef26": {
          "model_module": "@jupyter-widgets/base",
          "model_name": "LayoutModel",
          "model_module_version": "1.2.0",
          "state": {
            "_model_module": "@jupyter-widgets/base",
            "_model_module_version": "1.2.0",
            "_model_name": "LayoutModel",
            "_view_count": null,
            "_view_module": "@jupyter-widgets/base",
            "_view_module_version": "1.2.0",
            "_view_name": "LayoutView",
            "align_content": null,
            "align_items": null,
            "align_self": null,
            "border": null,
            "bottom": null,
            "display": null,
            "flex": null,
            "flex_flow": null,
            "grid_area": null,
            "grid_auto_columns": null,
            "grid_auto_flow": null,
            "grid_auto_rows": null,
            "grid_column": null,
            "grid_gap": null,
            "grid_row": null,
            "grid_template_areas": null,
            "grid_template_columns": null,
            "grid_template_rows": null,
            "height": null,
            "justify_content": null,
            "justify_items": null,
            "left": null,
            "margin": null,
            "max_height": null,
            "max_width": null,
            "min_height": null,
            "min_width": null,
            "object_fit": null,
            "object_position": null,
            "order": null,
            "overflow": null,
            "overflow_x": null,
            "overflow_y": null,
            "padding": null,
            "right": null,
            "top": null,
            "visibility": null,
            "width": null
          }
        },
        "4983366814644c9a873cb9a86bec840a": {
          "model_module": "@jupyter-widgets/controls",
          "model_name": "ProgressStyleModel",
          "model_module_version": "1.5.0",
          "state": {
            "_model_module": "@jupyter-widgets/controls",
            "_model_module_version": "1.5.0",
            "_model_name": "ProgressStyleModel",
            "_view_count": null,
            "_view_module": "@jupyter-widgets/base",
            "_view_module_version": "1.2.0",
            "_view_name": "StyleView",
            "bar_color": null,
            "description_width": ""
          }
        },
        "3eac85b7fa734b918422e3cd3b0745c4": {
          "model_module": "@jupyter-widgets/base",
          "model_name": "LayoutModel",
          "model_module_version": "1.2.0",
          "state": {
            "_model_module": "@jupyter-widgets/base",
            "_model_module_version": "1.2.0",
            "_model_name": "LayoutModel",
            "_view_count": null,
            "_view_module": "@jupyter-widgets/base",
            "_view_module_version": "1.2.0",
            "_view_name": "LayoutView",
            "align_content": null,
            "align_items": null,
            "align_self": null,
            "border": null,
            "bottom": null,
            "display": null,
            "flex": null,
            "flex_flow": null,
            "grid_area": null,
            "grid_auto_columns": null,
            "grid_auto_flow": null,
            "grid_auto_rows": null,
            "grid_column": null,
            "grid_gap": null,
            "grid_row": null,
            "grid_template_areas": null,
            "grid_template_columns": null,
            "grid_template_rows": null,
            "height": null,
            "justify_content": null,
            "justify_items": null,
            "left": null,
            "margin": null,
            "max_height": null,
            "max_width": null,
            "min_height": null,
            "min_width": null,
            "object_fit": null,
            "object_position": null,
            "order": null,
            "overflow": null,
            "overflow_x": null,
            "overflow_y": null,
            "padding": null,
            "right": null,
            "top": null,
            "visibility": null,
            "width": null
          }
        },
        "6e706275f08a4d13859cfc2a69749631": {
          "model_module": "@jupyter-widgets/controls",
          "model_name": "DescriptionStyleModel",
          "model_module_version": "1.5.0",
          "state": {
            "_model_module": "@jupyter-widgets/controls",
            "_model_module_version": "1.5.0",
            "_model_name": "DescriptionStyleModel",
            "_view_count": null,
            "_view_module": "@jupyter-widgets/base",
            "_view_module_version": "1.2.0",
            "_view_name": "StyleView",
            "description_width": ""
          }
        }
      }
    }
  },
  "cells": [
    {
      "cell_type": "markdown",
      "source": [
        "# Implementation of Open Set Recognition (OSR)\n",
        "\n",
        "     * VAE-GAN - Images generated by a VAE and a DCGAN. \n",
        "          - First row: samples from a VAE\n",
        "          - Second row: samples from a DCGAN \n",
        "     * LR - Liklihood Regret(OOD DETECTION)\n",
        "     * CNN - Classification Problem(OSR Classification)"
      ],
      "metadata": {
        "id": "_6N-8mmD1j_2"
      }
    },
    {
      "cell_type": "code",
      "source": [
        "# clone the github repository to access source code\n",
        "!git clone https://github.com/AvihaiNaa/gmdl_final.git\n",
        "\n",
        "# set the correct directory\n",
        "%cd gmdl_final"
      ],
      "metadata": {
        "colab": {
          "base_uri": "https://localhost:8080/"
        },
        "id": "LJ0690bE4tnU",
        "outputId": "0d30b222-1217-4c0e-f8bc-c0559318557a"
      },
      "execution_count": null,
      "outputs": [
        {
          "output_type": "stream",
          "name": "stdout",
          "text": [
            "Cloning into 'gmdl_final'...\n",
            "remote: Enumerating objects: 18, done.\u001b[K\n",
            "remote: Counting objects: 100% (18/18), done.\u001b[K\n",
            "remote: Compressing objects: 100% (15/15), done.\u001b[K\n",
            "remote: Total 18 (delta 1), reused 18 (delta 1), pack-reused 0\u001b[K\n",
            "Unpacking objects: 100% (18/18), done.\n",
            "/content/gmdl_final/gmdl_final\n"
          ]
        }
      ]
    },
    {
      "cell_type": "markdown",
      "source": [
        "##### Imports"
      ],
      "metadata": {
        "id": "N0c9KDdXcHO3"
      }
    },
    {
      "cell_type": "code",
      "execution_count": null,
      "metadata": {
        "id": "70g4bmtKtak2"
      },
      "outputs": [],
      "source": [
        "import torch\n",
        "import torch.nn as nn\n",
        "import random\n",
        "import numpy as np\n",
        "import torch.nn.functional as F\n",
        "import gmdl_final.utils as utils\n",
        "from tqdm import tqdm\n",
        "from torchvision.utils import save_image, make_grid\n",
        "import torch.optim as optim\n",
        "from torch.autograd import Variable\n",
        "import os\n",
        "import copy"
      ]
    },
    {
      "cell_type": "markdown",
      "source": [
        "### Config"
      ],
      "metadata": {
        "id": "ZDUQFz9ncKAo"
      }
    },
    {
      "cell_type": "code",
      "source": [
        "dataset_path = './datasets'\n",
        "config = {\n",
        "    \"batch_size\": 100,\n",
        "    \"device\": \"cuda\",\n",
        "    \"learning_rate\": 0.001,\n",
        "    \"num_epochs\": 30,#30,\n",
        "    \"split_dataset\": 0.8,\n",
        "    \"cnn_path\":\"cnn_models.pt\",\n",
        "    \"h-dvae_path\":\"hdvae_models.pt\",\n",
        "    #\"image_size\": (28, 28)\n",
        "    \"image_size\": (32, 32),\n",
        "    \"experiment\": 'models/mnist'\n",
        "}\n",
        "device = 'cuda:0' if torch.cuda.is_available() else 'cpu'"
      ],
      "metadata": {
        "id": "9FFSGaaT21DE"
      },
      "execution_count": null,
      "outputs": []
    },
    {
      "cell_type": "markdown",
      "source": [
        "###    Step 1. Load (or download) Dataset\n",
        "     * Added Data Augmentation\n"
      ],
      "metadata": {
        "id": "SejpgptdcM8i"
      }
    },
    {
      "cell_type": "code",
      "source": [
        "class AddGaussianNoise(object):\n",
        "    def __init__(self, mean=0., std=1.):\n",
        "        self.std = std\n",
        "        self.mean = mean\n",
        "        \n",
        "    def __call__(self, tensor):\n",
        "        return tensor + torch.randn(tensor.size()) * self.std + self.mean\n",
        "    \n",
        "    def __repr__(self):\n",
        "        return self.__class__.__name__ + '(mean={0}, std={1})'.format(self.mean, self.std)"
      ],
      "metadata": {
        "id": "z0N3Pxak230N"
      },
      "execution_count": null,
      "outputs": []
    },
    {
      "cell_type": "code",
      "source": [
        "from torchvision.datasets import MNIST\n",
        "import torchvision.transforms as transforms\n",
        "from torch.utils.data import DataLoader\n",
        "\n",
        "\n",
        "mnist_transform = transforms.Compose([\n",
        "        transforms.ToTensor(),\n",
        "        transforms.Resize(config[\"image_size\"]),\n",
        "        transforms.Normalize((0.1307,), (0.3081,)),\n",
        "        transforms.RandomRotation(50),\n",
        "        #AddGaussianNoise(0.1, 0.08),\n",
        "        transforms.ColorJitter(brightness=0.1, contrast=0.2, saturation=0, hue=0),\n",
        "        transforms.GaussianBlur(kernel_size=(7, 7), sigma=(0.5, 1))\n",
        "])\n",
        "\n",
        "kwargs = {'num_workers': 1, 'pin_memory': True} \n",
        "\n",
        "train_dataset = MNIST(dataset_path, transform=mnist_transform, train=True, download=True)\n",
        "test_dataset  = MNIST(dataset_path, transform=mnist_transform, train=False, download=True)\n",
        "\n",
        "train_loader = DataLoader(dataset=train_dataset, batch_size=config[\"batch_size\"], shuffle=True, **kwargs)\n",
        "test_loader  = DataLoader(dataset=test_dataset,  batch_size=config[\"batch_size\"], shuffle=False, **kwargs)"
      ],
      "metadata": {
        "colab": {
          "base_uri": "https://localhost:8080/",
          "height": 443,
          "referenced_widgets": [
            "4eb247a8c4d444429c16b129324b6c65",
            "b74c7834bbd6490fa2c7d545918a4960",
            "07a7f942af4b48aa8f8377358e64a45e",
            "4053149b35734fba9e14887c6fb2038c",
            "7ce19a92fa9e441396c8f09f1b46cf88",
            "27683e5a3775465c8b49793fd7ac5469",
            "848fc196cfb04a5084e6eae4e5acbd47",
            "c770cd94b92e4b85bd358c1c8d098a02",
            "a1a2a7d156674768a8048218b09d7120",
            "b80c1631cd4b4d2cbf6c942e84c9b08b",
            "e48a6e7363b0413486a1cdf283fb17ab",
            "d69401b1988346ddb1931891fa2127ce",
            "3cecc85c816d42f18f191a9715f89125",
            "a783f812f7d944e483c1e80d6788b7ee",
            "88b174e8b41f45a3b7cc3452549acd42",
            "fbc23dc9996d48daaff534a839a35ca4",
            "96041884df0e4b3d9937961a8a63cbc9",
            "c2226c6f32404fa996dcf92e955868e1",
            "629d6ac635ed4890ad90d1b5473e1ba7",
            "b65e3977390c426788ef8ed22d97c222",
            "4c1fdc946ec340c68dd1d4bc237dc604",
            "339f56a729cc462c97289d6a55b3970f",
            "937b9968a7cf4d569888d145c00a3e91",
            "b78a863cb5274efc965e26abae395e06",
            "5d41f3181a094765920550dc7e783e00",
            "48e947b1e4104a6b8e4394e69ae4d85d",
            "83463d91b7714f798665c58c05599024",
            "aca0baf756cc47bdaad85fb55799c5d1",
            "cf9769d39e514dd6800a61fe741d850d",
            "1fc80ba354934de7a9a9ee9de70c0140",
            "32ed1b41bf23416ea2e95aec2e580663",
            "91c67f2f6fb14f2aa128bd6eeca9a4d9",
            "5f73d35e13854e98810d91b9f600333d",
            "7d949168e5c94d0ebdc5c1a6304f0428",
            "219dc8bbe6cd46fd983fa68689a4fac0",
            "33238ac932674740a109fec0cf27f28b",
            "cbad2b5674e345019063385b76b525a4",
            "65dac0a21c1143ca959ec55c79251948",
            "b727db75f1e64022ad011348dab00627",
            "252e1ab9dc13425faa2de8d86fb727bb",
            "573511b1c35c4dc79ce2cdc6904db2bc",
            "a4612906e23e4ff888f2dc2323ff0b82",
            "a073fdc23d734297b71bceb7ecea6e7a",
            "5d222255b69f42d2a8e447d7db7d27ea"
          ]
        },
        "id": "OEwBPPg-25CU",
        "outputId": "b02b6621-b2a6-4473-fec0-43cf134806d2"
      },
      "execution_count": null,
      "outputs": [
        {
          "output_type": "stream",
          "name": "stdout",
          "text": [
            "Downloading http://yann.lecun.com/exdb/mnist/train-images-idx3-ubyte.gz\n",
            "Downloading http://yann.lecun.com/exdb/mnist/train-images-idx3-ubyte.gz to ./datasets/MNIST/raw/train-images-idx3-ubyte.gz\n"
          ]
        },
        {
          "output_type": "display_data",
          "data": {
            "text/plain": [
              "  0%|          | 0/9912422 [00:00<?, ?it/s]"
            ],
            "application/vnd.jupyter.widget-view+json": {
              "version_major": 2,
              "version_minor": 0,
              "model_id": "4eb247a8c4d444429c16b129324b6c65"
            }
          },
          "metadata": {}
        },
        {
          "output_type": "stream",
          "name": "stdout",
          "text": [
            "Extracting ./datasets/MNIST/raw/train-images-idx3-ubyte.gz to ./datasets/MNIST/raw\n",
            "\n",
            "Downloading http://yann.lecun.com/exdb/mnist/train-labels-idx1-ubyte.gz\n",
            "Downloading http://yann.lecun.com/exdb/mnist/train-labels-idx1-ubyte.gz to ./datasets/MNIST/raw/train-labels-idx1-ubyte.gz\n"
          ]
        },
        {
          "output_type": "display_data",
          "data": {
            "text/plain": [
              "  0%|          | 0/28881 [00:00<?, ?it/s]"
            ],
            "application/vnd.jupyter.widget-view+json": {
              "version_major": 2,
              "version_minor": 0,
              "model_id": "d69401b1988346ddb1931891fa2127ce"
            }
          },
          "metadata": {}
        },
        {
          "output_type": "stream",
          "name": "stdout",
          "text": [
            "Extracting ./datasets/MNIST/raw/train-labels-idx1-ubyte.gz to ./datasets/MNIST/raw\n",
            "\n",
            "Downloading http://yann.lecun.com/exdb/mnist/t10k-images-idx3-ubyte.gz\n",
            "Downloading http://yann.lecun.com/exdb/mnist/t10k-images-idx3-ubyte.gz to ./datasets/MNIST/raw/t10k-images-idx3-ubyte.gz\n"
          ]
        },
        {
          "output_type": "display_data",
          "data": {
            "text/plain": [
              "  0%|          | 0/1648877 [00:00<?, ?it/s]"
            ],
            "application/vnd.jupyter.widget-view+json": {
              "version_major": 2,
              "version_minor": 0,
              "model_id": "937b9968a7cf4d569888d145c00a3e91"
            }
          },
          "metadata": {}
        },
        {
          "output_type": "stream",
          "name": "stdout",
          "text": [
            "Extracting ./datasets/MNIST/raw/t10k-images-idx3-ubyte.gz to ./datasets/MNIST/raw\n",
            "\n",
            "Downloading http://yann.lecun.com/exdb/mnist/t10k-labels-idx1-ubyte.gz\n",
            "Downloading http://yann.lecun.com/exdb/mnist/t10k-labels-idx1-ubyte.gz to ./datasets/MNIST/raw/t10k-labels-idx1-ubyte.gz\n"
          ]
        },
        {
          "output_type": "display_data",
          "data": {
            "text/plain": [
              "  0%|          | 0/4542 [00:00<?, ?it/s]"
            ],
            "application/vnd.jupyter.widget-view+json": {
              "version_major": 2,
              "version_minor": 0,
              "model_id": "7d949168e5c94d0ebdc5c1a6304f0428"
            }
          },
          "metadata": {}
        },
        {
          "output_type": "stream",
          "name": "stdout",
          "text": [
            "Extracting ./datasets/MNIST/raw/t10k-labels-idx1-ubyte.gz to ./datasets/MNIST/raw\n",
            "\n"
          ]
        }
      ]
    },
    {
      "cell_type": "code",
      "source": [
        "imgs, _ = next(iter(train_loader))\n"
      ],
      "metadata": {
        "id": "mln_zRQW27EO"
      },
      "execution_count": null,
      "outputs": []
    },
    {
      "cell_type": "code",
      "source": [
        "utils.show_image(imgs, idx = 71)"
      ],
      "metadata": {
        "colab": {
          "base_uri": "https://localhost:8080/",
          "height": 266
        },
        "id": "psfnqEcR28Dm",
        "outputId": "fed81208-2e37-413f-b325-cd5353c7dfa5"
      },
      "execution_count": null,
      "outputs": [
        {
          "output_type": "display_data",
          "data": {
            "text/plain": [
              "<Figure size 432x288 with 1 Axes>"
            ],
            "image/png": "[encoded data removed]"
          },
          "metadata": {
            "needs_background": "light"
          }
        }
      ]
    },
    {
      "cell_type": "code",
      "source": [
        "utils.show_image(imgs, idx = 15)"
      ],
      "metadata": {
        "colab": {
          "base_uri": "https://localhost:8080/",
          "height": 266
        },
        "id": "ORZz4nXt29V0",
        "outputId": "f44fbcc9-df35-494c-cafd-e8c9c372af99"
      },
      "execution_count": null,
      "outputs": [
        {
          "output_type": "display_data",
          "data": {
            "text/plain": [
              "<Figure size 432x288 with 1 Axes>"
            ],
            "image/png": "[encoded data removed]"
          },
          "metadata": {
            "needs_background": "light"
          }
        }
      ]
    },
    {
      "cell_type": "markdown",
      "source": [
        "### Step 2. Define our model: (VAE) Variational AutoEncoder  - (DCGAN) Deep Convolutional Generative Adversarial Network\n",
        "\n",
        "    *Network structure for VAE based on DCGAN"
      ],
      "metadata": {
        "id": "cfzfUuD93AWE"
      }
    },
    {
      "cell_type": "code",
      "source": [
        "import gmdl_final.model as DVAE\n"
      ],
      "metadata": {
        "id": "euP43vRj3BBt"
      },
      "execution_count": null,
      "outputs": []
    },
    {
      "cell_type": "code",
      "source": [
        "config_model ={\n",
        "    \"beta-vae\": 1.,\n",
        "    \"beta-adam\": 0.9,\n",
        "    \"number_gpu\": 1,\n",
        "    \"latent_z_vector\": 100,\n",
        "    \"input_image_channels\": 1,\n",
        "    \"hidden_channel_size\": 32,\n",
        "    #\"image_size\": 28,\n",
        "    \"image_size\": 32,\n",
        "    \"learning_rate\": 3e-4,\n",
        "    \"learning_rate_regret\": 2e-4,\n",
        "    \"epochs\": 50,\n",
        "    \"perturbed\": False,\n",
        "    \"ratio\": 0.2,\n",
        "    \"dataroot\": './data',\n",
        "    \"repeat\":100,\n",
        "    \"num_iter_samples\": 100    \n",
        "}"
      ],
      "metadata": {
        "id": "NpVqAqCN3DXf"
      },
      "execution_count": null,
      "outputs": []
    },
    {
      "cell_type": "markdown",
      "source": [
        "### Step 3. Define Loss function (reprod. loss) and optimizer"
      ],
      "metadata": {
        "id": "laue2lMt3E6u"
      }
    },
    {
      "cell_type": "code",
      "source": [
        "def loss_function(x_src, recon, target, mean, log_var):\n",
        "    loss_fn = nn.CrossEntropyLoss(reduction='none')\n",
        "    b = x_src.size(0)\n",
        "    recl = loss_fn(recon, target)\n",
        "    recl = torch.sum(recl) / b\n",
        "    kld = KL_div(mean, log_var)\n",
        "    return recl + config_model[\"beta-vae\"] * kld.mean(), recl, kld\n",
        "\n",
        "\n",
        "def KL_div(mu, logvar, reduction='avg'):\n",
        "    mu = mu.view(mu.size(0), mu.size(1))\n",
        "    logvar = logvar.view(logvar.size(0), logvar.size(1))\n",
        "    if reduction == 'sum':\n",
        "        return -0.5 * torch.sum(1 + logvar - mu.pow(2) - logvar.exp())\n",
        "    else:\n",
        "        KL = -0.5 * torch.sum(1 + logvar - mu.pow(2) - logvar.exp(), 1)\n",
        "        return KL"
      ],
      "metadata": {
        "id": "qZJgWvsL3GVd"
      },
      "execution_count": null,
      "outputs": []
    },
    {
      "cell_type": "markdown",
      "source": [
        "### Pre-Train"
      ],
      "metadata": {
        "id": "rs0o3hFS3IL1"
      }
    },
    {
      "cell_type": "code",
      "source": [
        "manualSeed = random.randint(1, 10000)  # fix seed\n",
        "print(\"Random Seed: \", manualSeed)\n",
        "random.seed(manualSeed)\n",
        "torch.manual_seed(manualSeed)"
      ],
      "metadata": {
        "colab": {
          "base_uri": "https://localhost:8080/"
        },
        "id": "4VnMR72T3JLV",
        "outputId": "d749e9ad-e550-4529-88fc-b4acdc9f8202"
      },
      "execution_count": null,
      "outputs": [
        {
          "output_type": "stream",
          "name": "stdout",
          "text": [
            "Random Seed:  6084\n"
          ]
        },
        {
          "output_type": "execute_result",
          "data": {
            "text/plain": [
              "<torch._C.Generator at 0x7f383f220210>"
            ]
          },
          "metadata": {},
          "execution_count": 20
        }
      ]
    },
    {
      "cell_type": "markdown",
      "source": [
        "### Step 4. Train VAE-DCGAN\n",
        "    * Init model weights\n",
        "    * Init optimizer\n",
        "    * Train model\n"
      ],
      "metadata": {
        "id": "UQ1mkd-C3Kz_"
      }
    },
    {
      "cell_type": "code",
      "source": [
        "netG = DVAE.DCGAN_G(config_model[\"image_size\"], config_model[\"latent_z_vector\"], config_model[\"input_image_channels\"],config_model[\"hidden_channel_size\"],  config_model[\"number_gpu\"])\n",
        "netG.apply(utils.weights_init)\n",
        "netE = DVAE.Encoder(config_model[\"image_size\"], config_model[\"latent_z_vector\"], config_model[\"input_image_channels\"],config_model[\"hidden_channel_size\"],  config_model[\"number_gpu\"])\n",
        "netE.apply(utils.weights_init)\n",
        "netE.to(device)\n",
        "netG.to(device)"
      ],
      "metadata": {
        "colab": {
          "base_uri": "https://localhost:8080/"
        },
        "id": "BjIb8yDd3LrE",
        "outputId": "2b9ac151-11a3-4707-c7fd-541d400e7314"
      },
      "execution_count": null,
      "outputs": [
        {
          "output_type": "execute_result",
          "data": {
            "text/plain": [
              "DCGAN_G(\n",
              "  (main): Sequential(\n",
              "    (initial:100-128:convt): ConvTranspose2d(100, 128, kernel_size=(4, 4), stride=(1, 1), bias=False)\n",
              "    (initial:128:batchnorm): BatchNorm2d(128, eps=1e-05, momentum=0.1, affine=True, track_running_stats=True)\n",
              "    (initial:128:relu): ReLU(inplace=True)\n",
              "    (pyramid:128-64:convt): ConvTranspose2d(128, 64, kernel_size=(4, 4), stride=(2, 2), padding=(1, 1), bias=False)\n",
              "    (pyramid:64:batchnorm): BatchNorm2d(64, eps=1e-05, momentum=0.1, affine=True, track_running_stats=True)\n",
              "    (pyramid:64:relu): ReLU(inplace=True)\n",
              "    (pyramid:64-32:convt): ConvTranspose2d(64, 32, kernel_size=(4, 4), stride=(2, 2), padding=(1, 1), bias=False)\n",
              "    (pyramid:32:batchnorm): BatchNorm2d(32, eps=1e-05, momentum=0.1, affine=True, track_running_stats=True)\n",
              "    (pyramid:32:relu): ReLU(inplace=True)\n",
              "    (final:32-1:convt): ConvTranspose2d(32, 256, kernel_size=(4, 4), stride=(2, 2), padding=(1, 1), bias=False)\n",
              "  )\n",
              ")"
            ]
          },
          "metadata": {},
          "execution_count": 21
        }
      ]
    },
    {
      "cell_type": "code",
      "source": [
        "# setup optimizer\n",
        "optimizer1 = optim.Adam(netE.parameters(), lr=config_model[\"learning_rate\"], weight_decay=3e-5)\n",
        "optimizer2 = optim.Adam(netG.parameters(), lr=config_model[\"learning_rate\"], weight_decay=3e-5)"
      ],
      "metadata": {
        "id": "in7OWn_y3NPF"
      },
      "execution_count": null,
      "outputs": []
    },
    {
      "cell_type": "code",
      "source": [
        "netE.train()\n",
        "netG.train()"
      ],
      "metadata": {
        "colab": {
          "base_uri": "https://localhost:8080/"
        },
        "id": "WZOeuasq3OVe",
        "outputId": "9927e95f-2840-4786-8bce-96602fdf6d87"
      },
      "execution_count": null,
      "outputs": [
        {
          "output_type": "execute_result",
          "data": {
            "text/plain": [
              "DCGAN_G(\n",
              "  (main): Sequential(\n",
              "    (initial:100-128:convt): ConvTranspose2d(100, 128, kernel_size=(4, 4), stride=(1, 1), bias=False)\n",
              "    (initial:128:batchnorm): BatchNorm2d(128, eps=1e-05, momentum=0.1, affine=True, track_running_stats=True)\n",
              "    (initial:128:relu): ReLU(inplace=True)\n",
              "    (pyramid:128-64:convt): ConvTranspose2d(128, 64, kernel_size=(4, 4), stride=(2, 2), padding=(1, 1), bias=False)\n",
              "    (pyramid:64:batchnorm): BatchNorm2d(64, eps=1e-05, momentum=0.1, affine=True, track_running_stats=True)\n",
              "    (pyramid:64:relu): ReLU(inplace=True)\n",
              "    (pyramid:64-32:convt): ConvTranspose2d(64, 32, kernel_size=(4, 4), stride=(2, 2), padding=(1, 1), bias=False)\n",
              "    (pyramid:32:batchnorm): BatchNorm2d(32, eps=1e-05, momentum=0.1, affine=True, track_running_stats=True)\n",
              "    (pyramid:32:relu): ReLU(inplace=True)\n",
              "    (final:32-1:convt): ConvTranspose2d(32, 256, kernel_size=(4, 4), stride=(2, 2), padding=(1, 1), bias=False)\n",
              "  )\n",
              ")"
            ]
          },
          "metadata": {},
          "execution_count": 23
        }
      ]
    },
    {
      "cell_type": "code",
      "source": [
        "rec_l = []\n",
        "kl = []\n",
        "tloss = []\n",
        "for epoch in range(config_model[\"epochs\"]):\n",
        "    for i, (x, _) in enumerate(train_loader):\n",
        "        x = x.to(device)\n",
        "        if config_model[\"perturbed\"]:\n",
        "            x = utils.perturb(x, config_model[\"ratio\"], device)\n",
        "        target = Variable(x.data.view(-1) * 255).long()\n",
        "        [z, mu, logvar] = netE(x)\n",
        "        recon = netG(z)\n",
        "        recon = recon.contiguous()\n",
        "        recon = recon.view(-1, 256)\n",
        "        loss, recl, kld = loss_function(x, recon, target, mu, logvar)\n",
        "        optimizer1.zero_grad()\n",
        "        optimizer2.zero_grad()\n",
        "        total_loss = loss\n",
        "        loss.backward(retain_graph=True)\n",
        "        optimizer1.step()\n",
        "        optimizer2.step()\n",
        "        rec_l.append(recl.detach().item())\n",
        "        kl.append(kld.mean().detach().item())\n",
        "        tloss.append(loss.detach().item())\n",
        "        if not i % 100:\n",
        "            print('epoch:{} recon:{} kl:{}'.format(epoch, np.mean(rec_l), np.mean(kl)))"
      ],
      "metadata": {
        "colab": {
          "base_uri": "https://localhost:8080/"
        },
        "id": "HEiLnD753PjM",
        "outputId": "3cc92e7e-1f8d-4541-be82-32207349b137"
      },
      "execution_count": null,
      "outputs": [
        {
          "output_type": "stream",
          "name": "stdout",
          "text": [
            "epoch:0 recon:5677.35498046875 kl:32.013309478759766\n",
            "epoch:0 recon:4398.636479443843 kl:16.73746100982817\n",
            "epoch:0 recon:3681.307017160292 kl:26.848160404471024\n",
            "epoch:0 recon:3323.381430388289 kl:33.28423434000871\n",
            "epoch:0 recon:3104.8906858829487 kl:37.73174275781151\n",
            "epoch:0 recon:2953.5665227162863 kl:40.92057610224345\n",
            "epoch:1 recon:2841.8284719152975 kl:43.56879448771675\n",
            "epoch:1 recon:2752.2224897746523 kl:45.6621090178823\n",
            "epoch:1 recon:2681.516410760963 kl:47.392009694031564\n",
            "epoch:1 recon:2623.1326529008566 kl:48.84573165849099\n",
            "epoch:1 recon:2575.4701389918673 kl:50.06558758919532\n",
            "epoch:1 recon:2534.3278716569807 kl:51.05921064778743\n",
            "epoch:2 recon:2497.127369343093 kl:51.94880233299325\n",
            "epoch:2 recon:2464.8293034804956 kl:52.70886560149783\n",
            "epoch:2 recon:2436.919646541533 kl:53.440592176653844\n",
            "epoch:2 recon:2413.389047845056 kl:54.143111911636446\n",
            "epoch:2 recon:2390.43883553004 kl:54.708940634349226\n",
            "epoch:2 recon:2369.7633878336733 kl:55.20383496960074\n",
            "epoch:3 recon:2351.3794924721724 kl:55.6908584763645\n",
            "epoch:3 recon:2333.843719305834 kl:56.14023965010826\n",
            "epoch:3 recon:2318.7577888301944 kl:56.57847102673753\n",
            "epoch:3 recon:2304.6089011278114 kl:57.00106755850827\n",
            "epoch:3 recon:2291.2025727718756 kl:57.38356475340459\n",
            "epoch:3 recon:2278.5516537264707 kl:57.72890865548908\n",
            "epoch:4 recon:2266.4733936543366 kl:58.077363235262325\n",
            "epoch:4 recon:2255.321450472545 kl:58.42346602828442\n",
            "epoch:4 recon:2244.2369589858768 kl:58.755291314181896\n",
            "epoch:4 recon:2234.4462949377835 kl:59.0729380107641\n",
            "epoch:4 recon:2224.985752551056 kl:59.39257774009146\n",
            "epoch:4 recon:2215.8693193332447 kl:59.70031837347005\n",
            "epoch:5 recon:2207.0451917638784 kl:60.003565659407016\n",
            "epoch:5 recon:2198.7507654489605 kl:60.300988618191965\n",
            "epoch:5 recon:2190.5029457804935 kl:60.61089121807519\n",
            "epoch:5 recon:2182.92442793732 kl:60.913509360084895\n",
            "epoch:5 recon:2176.0685039498953 kl:61.228507178350604\n",
            "epoch:5 recon:2168.8455037190824 kl:61.53196139840935\n",
            "epoch:6 recon:2161.6748482477196 kl:61.83549908987849\n",
            "epoch:6 recon:2154.688087725182 kl:62.140816595901576\n",
            "epoch:6 recon:2147.759298154474 kl:62.45830522578379\n",
            "epoch:6 recon:2139.3790140198425 kl:62.82221998296863\n",
            "epoch:6 recon:2130.136325720816 kl:63.22664503644806\n",
            "epoch:6 recon:2121.0024127118386 kl:63.65217592320306\n",
            "epoch:7 recon:2111.636204026478 kl:64.09387921424344\n",
            "epoch:7 recon:2102.798804965415 kl:64.56401733364291\n",
            "epoch:7 recon:2093.813428799474 kl:65.03112046617292\n",
            "epoch:7 recon:2085.0839387037254 kl:65.50473873489726\n",
            "epoch:7 recon:2076.4604855665716 kl:65.98746302054774\n",
            "epoch:7 recon:2067.6344789246555 kl:66.467453130634\n",
            "epoch:8 recon:2059.284866749359 kl:66.94882127250936\n",
            "epoch:8 recon:2051.2918599550394 kl:67.44130854313774\n",
            "epoch:8 recon:2043.2984295963074 kl:67.91408260506026\n",
            "epoch:8 recon:2035.525269655498 kl:68.38715085355096\n",
            "epoch:8 recon:2027.9199291978105 kl:68.85710867770106\n",
            "epoch:8 recon:2020.5360550937103 kl:69.33014641058173\n",
            "epoch:9 recon:2013.1946728795883 kl:69.7870164798644\n",
            "epoch:9 recon:2005.9205366424856 kl:70.24743919696749\n",
            "epoch:9 recon:1998.849846890134 kl:70.69862036993622\n",
            "epoch:9 recon:1992.3231830044892 kl:71.15532949660414\n",
            "epoch:9 recon:1985.7646510257862 kl:71.60220297943455\n",
            "epoch:9 recon:1979.1740217908643 kl:72.0412213467396\n",
            "epoch:10 recon:1972.7688702273579 kl:72.47335440467704\n",
            "epoch:10 recon:1966.4095463786355 kl:72.89500479853714\n",
            "epoch:10 recon:1960.4397396880606 kl:73.32344683599634\n",
            "epoch:10 recon:1954.3744973051153 kl:73.74203217769309\n",
            "epoch:10 recon:1948.4555757317278 kl:74.1578030313594\n",
            "epoch:10 recon:1942.5690787843037 kl:74.56595554147898\n",
            "epoch:11 recon:1937.0424648978967 kl:74.97170185757449\n",
            "epoch:11 recon:1931.6421841335482 kl:75.37836523551297\n",
            "epoch:11 recon:1926.1278357969245 kl:75.78085068313011\n",
            "epoch:11 recon:1920.8895480182616 kl:76.17652208033618\n",
            "epoch:11 recon:1915.6451190217804 kl:76.56617509458869\n",
            "epoch:11 recon:1910.6216503294265 kl:76.9470962200882\n",
            "epoch:12 recon:1905.5665938731383 kl:77.32229372872659\n",
            "epoch:12 recon:1900.6729450421765 kl:77.69579458837558\n",
            "epoch:12 recon:1895.8670406560611 kl:78.06538734872862\n",
            "epoch:12 recon:1891.1171881672287 kl:78.4302094851378\n",
            "epoch:12 recon:1886.401585054341 kl:78.78620648136297\n",
            "epoch:12 recon:1881.8249629017844 kl:79.138811592374\n",
            "epoch:13 recon:1877.4112545698517 kl:79.48988199955285\n",
            "epoch:13 recon:1873.0224899680172 kl:79.84096004087523\n",
            "epoch:13 recon:1868.8604711917114 kl:80.18533466291672\n",
            "epoch:13 recon:1864.6019295849133 kl:80.52121220092953\n",
            "epoch:13 recon:1860.5235734429539 kl:80.85646907952686\n",
            "epoch:13 recon:1856.5184045296924 kl:81.18634831590863\n",
            "epoch:14 recon:1852.5432661156642 kl:81.50959526154416\n",
            "epoch:14 recon:1848.7049745353947 kl:81.83084532177149\n",
            "epoch:14 recon:1844.8509032976044 kl:82.14677214952364\n",
            "epoch:14 recon:1840.969645752823 kl:82.45401029271129\n",
            "epoch:14 recon:1837.0915373247492 kl:82.76092004548445\n",
            "epoch:14 recon:1833.4693524247407 kl:83.06815011709436\n",
            "epoch:15 recon:1829.7832880358128 kl:83.37312469523744\n",
            "epoch:15 recon:1826.218804831715 kl:83.66962028437821\n",
            "epoch:15 recon:1822.6312324184787 kl:83.9622537058704\n",
            "epoch:15 recon:1819.1444941078664 kl:84.25279218998536\n",
            "epoch:15 recon:1815.797433633016 kl:84.54229318029182\n",
            "epoch:15 recon:1812.445203380627 kl:84.82799715097923\n",
            "epoch:16 recon:1809.134172730217 kl:85.10943048351221\n",
            "epoch:16 recon:1805.9624505502613 kl:85.38846440414045\n",
            "epoch:16 recon:1802.7345244710561 kl:85.66318700396519\n",
            "epoch:16 recon:1799.6207747718033 kl:85.93885557233246\n",
            "epoch:16 recon:1796.4523847053772 kl:86.20747266985299\n",
            "epoch:16 recon:1793.3547226721055 kl:86.47509089296094\n",
            "epoch:17 recon:1790.3686556106056 kl:86.74189164514414\n",
            "epoch:17 recon:1787.3743907031173 kl:87.00662444506024\n",
            "epoch:17 recon:1784.5239926670024 kl:87.26576930249543\n",
            "epoch:17 recon:1781.7179285915292 kl:87.52702965353593\n",
            "epoch:17 recon:1778.8699053118514 kl:87.78616458210739\n",
            "epoch:17 recon:1776.0500288766273 kl:88.03551531969838\n",
            "epoch:18 recon:1773.2030194867664 kl:88.28122208725688\n",
            "epoch:18 recon:1770.508005633353 kl:88.52849476023142\n",
            "epoch:18 recon:1767.8189854722013 kl:88.76960003708679\n",
            "epoch:18 recon:1765.1547586330905 kl:89.00945739614653\n",
            "epoch:18 recon:1762.5285731498582 kl:89.24815317818378\n",
            "epoch:18 recon:1759.9135559098233 kl:89.48395879846075\n",
            "epoch:19 recon:1757.3271608683071 kl:89.71632873872927\n",
            "epoch:19 recon:1754.794731185909 kl:89.95030637799465\n",
            "epoch:19 recon:1752.3638955685058 kl:90.17885658434984\n",
            "epoch:19 recon:1749.979751674286 kl:90.40359870401899\n",
            "epoch:19 recon:1747.5551131169034 kl:90.62881851660964\n",
            "epoch:19 recon:1745.0902670522205 kl:90.849234626069\n",
            "epoch:20 recon:1742.7102311583085 kl:91.06879064570109\n",
            "epoch:20 recon:1740.39994684025 kl:91.28957658645072\n",
            "epoch:20 recon:1738.2528168817648 kl:91.51042036267248\n",
            "epoch:20 recon:1735.9355930892464 kl:91.72559950536038\n",
            "epoch:20 recon:1733.6648451241647 kl:91.93944360421422\n",
            "epoch:20 recon:1731.505187592805 kl:92.151443506277\n",
            "epoch:21 recon:1729.2590393739677 kl:92.3590728991581\n",
            "epoch:21 recon:1727.075838495508 kl:92.56506189535231\n",
            "epoch:21 recon:1724.9781481934547 kl:92.77079645327018\n",
            "epoch:21 recon:1722.8691173009693 kl:92.97930618526676\n",
            "epoch:21 recon:1720.7405651694912 kl:93.18069688731565\n",
            "epoch:21 recon:1718.6177111509855 kl:93.376892759949\n",
            "epoch:22 recon:1716.5467356192091 kl:93.57218565054802\n",
            "epoch:22 recon:1714.482501967295 kl:93.76821273259225\n",
            "epoch:22 recon:1712.4269820316435 kl:93.96111754522103\n",
            "epoch:22 recon:1710.3791245859682 kl:94.1539982824394\n",
            "epoch:22 recon:1708.3962832699715 kl:94.34582721004678\n",
            "epoch:22 recon:1706.493772026292 kl:94.53648619512234\n",
            "epoch:23 recon:1704.5507692207539 kl:94.7251914543446\n",
            "epoch:23 recon:1702.6431438933687 kl:94.91104262235842\n",
            "epoch:23 recon:1700.7766988026942 kl:95.09909570204361\n",
            "epoch:23 recon:1698.9483966257933 kl:95.28160526038789\n",
            "epoch:23 recon:1697.0739512887103 kl:95.46494377006083\n",
            "epoch:23 recon:1695.267372745391 kl:95.64545163724166\n",
            "epoch:24 recon:1693.4188751438974 kl:95.82433960641575\n",
            "epoch:24 recon:1691.5776096125915 kl:96.00314461781267\n",
            "epoch:24 recon:1689.7751831949251 kl:96.17865057623833\n",
            "epoch:24 recon:1687.9853410419173 kl:96.35218285145496\n",
            "epoch:24 recon:1686.2458271103674 kl:96.52689519649212\n",
            "epoch:24 recon:1684.540579027637 kl:96.70193789195842\n",
            "epoch:25 recon:1682.8248625303236 kl:96.87418106385655\n",
            "epoch:25 recon:1681.135523461686 kl:97.04390496663262\n",
            "epoch:25 recon:1679.4001248745328 kl:97.21105695475043\n",
            "epoch:25 recon:1677.8151851559564 kl:97.37964210023476\n",
            "epoch:25 recon:1676.220701087985 kl:97.54650471636354\n",
            "epoch:25 recon:1674.67479502488 kl:97.71172969195621\n",
            "epoch:26 recon:1673.137852194095 kl:97.8768128209615\n",
            "epoch:26 recon:1671.5582603637781 kl:98.04038617720414\n",
            "epoch:26 recon:1669.9903301709544 kl:98.20102884772307\n",
            "epoch:26 recon:1668.4095694972136 kl:98.36053067535343\n",
            "epoch:26 recon:1666.9143876063288 kl:98.51749616500385\n",
            "epoch:26 recon:1665.3626665997065 kl:98.67328847490418\n",
            "epoch:27 recon:1663.8871992177253 kl:98.82802569905179\n",
            "epoch:27 recon:1662.3889815626126 kl:98.98080327781268\n",
            "epoch:27 recon:1660.8635946687464 kl:99.1350068790463\n",
            "epoch:27 recon:1659.4387700239404 kl:99.289126575488\n",
            "epoch:27 recon:1657.978531691721 kl:99.44031799561245\n",
            "epoch:27 recon:1656.5566980896306 kl:99.59415685475983\n",
            "epoch:28 recon:1655.094709698909 kl:99.74346191935167\n",
            "epoch:28 recon:1653.7204851232107 kl:99.89238783102982\n",
            "epoch:28 recon:1652.2759882676364 kl:100.03985494268998\n",
            "epoch:28 recon:1650.859696083254 kl:100.18595440569945\n",
            "epoch:28 recon:1649.5218512672207 kl:100.33325675345945\n",
            "epoch:28 recon:1648.141150055452 kl:100.4785146361851\n",
            "epoch:29 recon:1646.7846788702652 kl:100.62222531389747\n",
            "epoch:29 recon:1645.4159439842836 kl:100.76430984064072\n",
            "epoch:29 recon:1644.0420118979612 kl:100.90614158539235\n",
            "epoch:29 recon:1642.6935941781185 kl:101.04802019478514\n",
            "epoch:29 recon:1641.385773286251 kl:101.19065366309115\n",
            "epoch:29 recon:1640.095585562172 kl:101.33009826108122\n",
            "epoch:30 recon:1638.8569324748344 kl:101.47012516040483\n",
            "epoch:30 recon:1637.6229258971903 kl:101.60731974483676\n",
            "epoch:30 recon:1636.3271435683694 kl:101.74347029782332\n",
            "epoch:30 recon:1635.1219555526657 kl:101.882025834713\n",
            "epoch:30 recon:1633.9042729001014 kl:102.01712884678024\n",
            "epoch:30 recon:1632.707572328755 kl:102.15183463490182\n",
            "epoch:31 recon:1631.5346424600514 kl:102.28410027374613\n",
            "epoch:31 recon:1630.2889980085456 kl:102.41463044161313\n",
            "epoch:31 recon:1629.0909831378442 kl:102.54735617398974\n",
            "epoch:31 recon:1627.8644922784345 kl:102.67757082626268\n",
            "epoch:31 recon:1626.6641101498872 kl:102.8080628779642\n",
            "epoch:31 recon:1625.4777412476462 kl:102.94088626475829\n",
            "epoch:32 recon:1624.2941068183704 kl:103.06959394767665\n",
            "epoch:32 recon:1623.1422260873992 kl:103.19856952283118\n",
            "epoch:32 recon:1621.9690460052498 kl:103.32753370469467\n",
            "epoch:32 recon:1620.8899888334552 kl:103.45746361953186\n",
            "epoch:32 recon:1619.714899488447 kl:103.58300526872787\n",
            "epoch:32 recon:1618.5874712077393 kl:103.70946676088138\n",
            "epoch:33 recon:1617.5320354149767 kl:103.83639411419114\n",
            "epoch:33 recon:1616.425099181132 kl:103.96205744791988\n",
            "epoch:33 recon:1615.3100262711473 kl:104.0855853190798\n",
            "epoch:33 recon:1614.1582444689475 kl:104.20908593566885\n",
            "epoch:33 recon:1613.0216752303413 kl:104.32979463930207\n",
            "epoch:33 recon:1611.9562100579155 kl:104.4536011509928\n",
            "epoch:34 recon:1610.8911383343552 kl:104.57452926597878\n",
            "epoch:34 recon:1609.7953748409473 kl:104.6958831827627\n",
            "epoch:34 recon:1608.7376907901921 kl:104.81697741714903\n",
            "epoch:34 recon:1607.659770544137 kl:104.93685955494753\n",
            "epoch:34 recon:1606.599945721228 kl:105.05418252793649\n",
            "epoch:34 recon:1605.6134721845322 kl:105.17295807860387\n",
            "epoch:35 recon:1604.6058163257571 kl:105.29248374221746\n",
            "epoch:35 recon:1603.5865092479326 kl:105.40936873554703\n",
            "epoch:35 recon:1602.572328701283 kl:105.52314936384312\n",
            "epoch:35 recon:1601.5953414642634 kl:105.64126609395991\n",
            "epoch:35 recon:1600.6079845928455 kl:105.75750258768682\n",
            "epoch:35 recon:1599.5997033988335 kl:105.87282869145069\n",
            "epoch:36 recon:1598.600427688578 kl:105.98834798987345\n",
            "epoch:36 recon:1597.61326981417 kl:106.10211090503006\n",
            "epoch:36 recon:1596.6678530740867 kl:106.21693139734369\n",
            "epoch:36 recon:1595.7020001037606 kl:106.33178816095976\n",
            "epoch:36 recon:1594.7682920873535 kl:106.44547017982487\n",
            "epoch:36 recon:1593.7726198260877 kl:106.5562166544567\n",
            "epoch:37 recon:1592.8539237338603 kl:106.66884451888444\n",
            "epoch:37 recon:1591.936491651378 kl:106.7782376907817\n",
            "epoch:37 recon:1591.0181177061884 kl:106.8899634253643\n",
            "epoch:37 recon:1590.1100619323604 kl:106.99955868853458\n",
            "epoch:37 recon:1589.1554189756018 kl:107.10882753876689\n",
            "epoch:37 recon:1588.24329341369 kl:107.2178466168696\n",
            "epoch:38 recon:1587.325482561329 kl:107.32572254903076\n",
            "epoch:38 recon:1586.435665560541 kl:107.43425606869229\n",
            "epoch:38 recon:1585.5094354975395 kl:107.54037496306721\n",
            "epoch:38 recon:1584.6275163256428 kl:107.64716530785375\n",
            "epoch:38 recon:1583.7520708546372 kl:107.75448015721562\n",
            "epoch:38 recon:1582.8361992850528 kl:107.85942860899205\n",
            "epoch:39 recon:1581.9845958282783 kl:107.9653140112231\n",
            "epoch:39 recon:1581.1307456258926 kl:108.07014346438253\n",
            "epoch:39 recon:1580.2935611072987 kl:108.17689969114245\n",
            "epoch:39 recon:1579.4314666950202 kl:108.28274203662575\n",
            "epoch:39 recon:1578.5949570195153 kl:108.38796374104733\n",
            "epoch:39 recon:1577.7315244097315 kl:108.49153323933837\n",
            "epoch:40 recon:1576.8638912658832 kl:108.59509916841166\n",
            "epoch:40 recon:1576.0237934189631 kl:108.69744400667267\n",
            "epoch:40 recon:1575.177725532834 kl:108.79976521038397\n",
            "epoch:40 recon:1574.327940616111 kl:108.90018003653373\n",
            "epoch:40 recon:1573.518982911617 kl:109.00190937649515\n",
            "epoch:40 recon:1572.7121277316328 kl:109.10337549764027\n",
            "epoch:41 recon:1571.9062814045367 kl:109.20555697089846\n",
            "epoch:41 recon:1571.0930258953726 kl:109.3061955706088\n",
            "epoch:41 recon:1570.2922091734977 kl:109.40605030793883\n",
            "epoch:41 recon:1569.5139659594965 kl:109.50466099957721\n",
            "epoch:41 recon:1568.7758828562874 kl:109.60589755477393\n",
            "epoch:41 recon:1567.9835575213638 kl:109.70351175224489\n",
            "epoch:42 recon:1567.183486095038 kl:109.80064973828907\n",
            "epoch:42 recon:1566.4029316859003 kl:109.89694540250264\n",
            "epoch:42 recon:1565.633335507445 kl:109.99483669805205\n",
            "epoch:42 recon:1564.8478536323485 kl:110.09241956944774\n",
            "epoch:42 recon:1564.0703759502421 kl:110.1891026555372\n",
            "epoch:42 recon:1563.3012702959409 kl:110.28565778560126\n",
            "epoch:43 recon:1562.5501603004955 kl:110.38200719589125\n",
            "epoch:43 recon:1561.791250113488 kl:110.47638350178167\n",
            "epoch:43 recon:1561.0224956276095 kl:110.57202640446667\n",
            "epoch:43 recon:1560.3059320877687 kl:110.66657622244792\n",
            "epoch:43 recon:1559.5603098067286 kl:110.7608090952277\n",
            "epoch:43 recon:1558.8152895301182 kl:110.85501501080763\n",
            "epoch:44 recon:1558.0650193387191 kl:110.94841367640932\n",
            "epoch:44 recon:1557.2888378576442 kl:111.04153590810321\n",
            "epoch:44 recon:1556.5629146196336 kl:111.13327360432837\n",
            "epoch:44 recon:1555.8174585846944 kl:111.2260973625766\n",
            "epoch:44 recon:1555.0960183279367 kl:111.31766616779942\n",
            "epoch:44 recon:1554.4153129663002 kl:111.4107600580223\n",
            "epoch:45 recon:1553.6988780010824 kl:111.50268430295888\n",
            "epoch:45 recon:1553.005885125931 kl:111.59514343460118\n",
            "epoch:45 recon:1552.2980208301021 kl:111.68671203303839\n",
            "epoch:45 recon:1551.5843040310094 kl:111.77714807345079\n",
            "epoch:45 recon:1550.8668846742094 kl:111.86639465989346\n",
            "epoch:46 recon:1549.5100613915356 kl:112.04707029649198\n",
            "epoch:46 recon:1548.806287202339 kl:112.13463191702746\n",
            "epoch:46 recon:1548.1336099988184 kl:112.22328216982147\n",
            "epoch:46 recon:1547.4616650523628 kl:112.31157921640715\n",
            "epoch:46 recon:1546.7709407586378 kl:112.40009457138385\n",
            "epoch:46 recon:1546.111841279906 kl:112.48647068363124\n",
            "epoch:47 recon:1545.4691547050083 kl:112.57424183532002\n",
            "epoch:47 recon:1544.782672991934 kl:112.66233445944236\n",
            "epoch:47 recon:1544.1276179334782 kl:112.7498833554164\n",
            "epoch:47 recon:1543.4466916619633 kl:112.83610747257939\n",
            "epoch:47 recon:1542.80354263574 kl:112.92256992649588\n",
            "epoch:47 recon:1542.1357688038554 kl:113.00769770518815\n",
            "epoch:48 recon:1541.4831790915464 kl:113.09405633861094\n",
            "epoch:48 recon:1540.8367041088272 kl:113.18001495909556\n",
            "epoch:48 recon:1540.1765282945523 kl:113.26512730116269\n",
            "epoch:48 recon:1539.5543420654708 kl:113.35018564025125\n",
            "epoch:48 recon:1538.9302549110382 kl:113.43408598943441\n",
            "epoch:48 recon:1538.2647657709795 kl:113.51775215145736\n",
            "epoch:49 recon:1537.6479797186826 kl:113.60227883833167\n",
            "epoch:49 recon:1536.960838940874 kl:113.68512597212867\n",
            "epoch:49 recon:1536.330904863625 kl:113.76810580653712\n",
            "epoch:49 recon:1535.7176572485591 kl:113.85060146387079\n",
            "epoch:49 recon:1535.110578466392 kl:113.93431261240934\n",
            "epoch:49 recon:1534.4910484301972 kl:114.01608425267767\n"
          ]
        }
      ]
    },
    {
      "cell_type": "markdown",
      "source": [
        "#### Save Model"
      ],
      "metadata": {
        "id": "YA9vXACjct9O"
      }
    },
    {
      "cell_type": "code",
      "source": [
        "current_directory = os.getcwd()\n",
        "current_directory = os.path.join(current_directory, r'saved_models')\n",
        "if not os.path.exists(current_directory):\n",
        "    os.makedirs(current_directory)\n",
        "current_directory = os.path.join(current_directory, config[\"experiment\"])\n",
        "if not os.path.exists(current_directory):\n",
        "    os.makedirs(current_directory)# os.mkdir('./saved_models'+ opt.experiment)\n",
        "torch.save(netG.state_dict(), './saved_models/{}/netG_pixel.pth'.format(config[\"experiment\"], config_model[\"hidden_channel_size\"]))\n",
        "torch.save(netE.state_dict(), './saved_models/{}/netE_pixel.pth'.format(config[\"experiment\"], config_model[\"hidden_channel_size\"]))"
      ],
      "metadata": {
        "id": "QUtcx_mp6wPa"
      },
      "execution_count": null,
      "outputs": []
    },
    {
      "cell_type": "markdown",
      "source": [
        "### Load Datasets - Test step"
      ],
      "metadata": {
        "id": "WItkm1xPczPJ"
      }
    },
    {
      "cell_type": "markdown",
      "source": [
        "##### Load Models"
      ],
      "metadata": {
        "id": "7avdu9u0c11j"
      }
    },
    {
      "cell_type": "code",
      "source": [
        "print('Building models...')\n",
        "netG = DVAE.DCGAN_G(config_model[\"image_size\"], config_model[\"latent_z_vector\"], config_model[\"input_image_channels\"],config_model[\"hidden_channel_size\"],  config_model[\"number_gpu\"])\n",
        "state_G = torch.load('./saved_models/models/mnist/netG_pixel.pth', map_location = device)\n",
        "netG.load_state_dict(state_G)\n",
        "netG.to(device)\n",
        "\n",
        "netE = DVAE.Encoder(config_model[\"image_size\"], config_model[\"latent_z_vector\"], config_model[\"input_image_channels\"],config_model[\"hidden_channel_size\"],  config_model[\"number_gpu\"])\n",
        "state_E = torch.load('./saved_models/models/mnist/netE_pixel.pth', map_location = device)\n",
        "netE.load_state_dict(state_E)\n",
        "netE.to(device)\n"
      ],
      "metadata": {
        "colab": {
          "base_uri": "https://localhost:8080/"
        },
        "id": "PkUjtSL1cz7H",
        "outputId": "ffc24f25-9b25-4063-e7dc-e4fafbe1ff40"
      },
      "execution_count": null,
      "outputs": [
        {
          "output_type": "stream",
          "name": "stdout",
          "text": [
            "Building models...\n"
          ]
        },
        {
          "output_type": "execute_result",
          "data": {
            "text/plain": [
              "Encoder(\n",
              "  (conv1): Conv2d(128, 100, kernel_size=(4, 4), stride=(1, 1))\n",
              "  (conv2): Conv2d(128, 100, kernel_size=(4, 4), stride=(1, 1))\n",
              "  (main): Sequential(\n",
              "    (input-conv): Conv2d(1, 32, kernel_size=(4, 4), stride=(2, 2), padding=(1, 1), bias=False)\n",
              "    (input-BN): BatchNorm2d(32, eps=1e-05, momentum=0.1, affine=True, track_running_stats=True)\n",
              "    (input-relu): ReLU(inplace=True)\n",
              "    (pyramid:32-64:conv): Conv2d(32, 64, kernel_size=(4, 4), stride=(2, 2), padding=(1, 1), bias=False)\n",
              "    (pyramid:64:batchnorm): BatchNorm2d(64, eps=1e-05, momentum=0.1, affine=True, track_running_stats=True)\n",
              "    (pyramid:64:relu): ReLU(inplace=True)\n",
              "    (pyramid:64-128:conv): Conv2d(64, 128, kernel_size=(4, 4), stride=(2, 2), padding=(1, 1), bias=False)\n",
              "    (pyramid:128:batchnorm): BatchNorm2d(128, eps=1e-05, momentum=0.1, affine=True, track_running_stats=True)\n",
              "    (pyramid:128:relu): ReLU(inplace=True)\n",
              "  )\n",
              ")"
            ]
          },
          "metadata": {},
          "execution_count": 26
        }
      ]
    },
    {
      "cell_type": "code",
      "source": [
        "import ssl\n",
        "ssl._create_default_https_context = ssl._create_unverified_context\n"
      ],
      "metadata": {
        "id": "mp4DMpKHc5xx"
      },
      "execution_count": null,
      "outputs": []
    },
    {
      "cell_type": "code",
      "source": [
        "\n",
        "import gmdl_final.loader as loader\n",
        "fmnist_data_loader = loader.load_fmnist(config_model[\"dataroot\"], config[\"image_size\"], config[\"batch_size\"], kwargs['num_workers'])\n",
        "cifar_data_loader = loader.load_cifar(config_model[\"dataroot\"], config[\"image_size\"], config[\"batch_size\"], kwargs['num_workers'])\n",
        "svhn_data_loader = loader.load_svhn(config_model[\"dataroot\"], config[\"image_size\"], config[\"batch_size\"], kwargs['num_workers'])\n",
        "emnist_letters_data_loader = loader.load_emnist_letters(config_model[\"dataroot\"], config[\"image_size\"], config[\"batch_size\"], kwargs['num_workers'])\n",
        "mnist_test_data_loader = loader.load_mnist_test(config_model[\"dataroot\"], config[\"image_size\"], config[\"batch_size\"], kwargs['num_workers'])"
      ],
      "metadata": {
        "colab": {
          "base_uri": "https://localhost:8080/",
          "height": 1000,
          "referenced_widgets": [
            "2c39a015cae54645bcf204373af8a9d2",
            "129d9b0693ab43e3a96a05d70136d464",
            "ec47d21bf57b4149949cbbc38a915859",
            "e072c03cb33f4366811a532d5c926e53",
            "82fb8291db9c4a12aed30a472b3b278d",
            "b902e0f5b64d47c3a1ceae0d024af90c",
            "fc8aaa3dbd2c4d19b8333aa76a6f2703",
            "1e8699ea8ce34561bb00d3460cd08c17",
            "69712d1d9eae428fb6544ca2073b505f",
            "f623331fc501430e902bce15989566c8",
            "792f549364734e4097691c11b09ada5c",
            "1610d01e11e64c55a40c5dbf09bf8beb",
            "fa5adf26af2f4569aeab22b88a3db45c",
            "ada21be5fc3d4eb8a8b5fb2146356091",
            "dd089bdf0b43424d8ce8edd0fea248b1",
            "4b3c11aba4604ffea77da718cacd72a2",
            "07da1e8b73494a929cc833f6ba9d4a71",
            "589d1d0757824b7d98b8c2e1f0bbd260",
            "fb801eb37e8a4114b63f46974104cad6",
            "1a511600aae746c3af7cd1a278014991",
            "948dc56fd6d74d079594f8e6860a75cb",
            "9c8bcd016c7844448dd76eec157b0d86",
            "fe647ac3808a4b0a9f7f88ffe1fb2136",
            "72115201339843a4aa27b7dcff71513e",
            "a8aa7dbc45884e03ac80106d2f1f2279",
            "d7c5dd998b40482fa1a8e861f0fb7f9a",
            "b2a94fef0ea143908f7ae8df947a12e1",
            "425c65e2e45b456f845e49858d2d21e7",
            "4cf6e2150c064f9cb10e7a664b8b93f5",
            "aa52a4cc70d24c9a9b2a3ac179096ace",
            "189b77d787884924946953db28ef122a",
            "5639586b87a14f558e01a6fdf34bd786",
            "036e0dd5e1024e2db9e739f864a71c10",
            "b20964a6c61043bd83b70b52d78f3230",
            "9bfad3976e2e46f389a78322d44bfdaf",
            "0a2f0f1ac79040c9acf483bd68947f82",
            "1e85f372587340719df1acbfac9556d3",
            "9c880f13390d4f00a6381442987737ed",
            "ff6555f18dd14e218d65881d4358dbdc",
            "4907e7659da94ec89a4f1361b6661eb0",
            "f56700aa951c490b995ce6fcbceb86fe",
            "c16b5123dc3f4577b3a207203e66602c",
            "b5bd641cdd0043b2bc8283e63bf63887",
            "1e9384a46e8b48ac9f1f26f218bcf4e1",
            "9e66c67ae4664fb1b33c9d101940061e",
            "41c55b1c86264ec9b65d0895230281cc",
            "1e1d6818c9cd491f9992cb326e006740",
            "717f4d98f3804b70be6ede448f27719f",
            "bc3b524bf7b24facbb756e035d66beae",
            "a1a3749f389449c891d6a707fae953fc",
            "d5df357b6816414a93ffc570a7b32d89",
            "5dfd846e3f854c90923d180f9b43dc4b",
            "6eedbdaad488466eb7f446ae267b7c31",
            "1cbb272370a64975bf477aca147d316a",
            "f6e548d1041c45a1b257d5fa64bebc29",
            "851c34477de649769380a9078a1280fd",
            "dced17671aaa47fd9132586925a33e81",
            "1d25a8fb1487457e8a3c43b21e04a828",
            "67fe55d2b44946298744a77c3a2dfe4e",
            "fe5e188b7478493a8a3f16f839a1e62a",
            "35710cf113b6448397efe92a18ad1f4f",
            "3d57fe5a102f46aaa59c99125a207d8d",
            "97a766eff67246fab0e9a2efe91dda05",
            "4f83cd087eff44abb4becbed61cd9657",
            "624bb22401e7477ca1faeb31ced9c07f",
            "f5ac5ebdea614803993bf63559731ab6",
            "5763108ab1d84d60a0e6d777c35ab085",
            "95350c04effa42c29aff3912ba058503",
            "f8bffd7ee22b436dab5d459d185f3504",
            "bde7ba4836c9461ca9646a50989e1b87",
            "adac25e3c23647ecaa250444594ea89c",
            "be1ea4422dd24c62bfbe9e144351bbcc",
            "e53ffb1e6acb416ba5cfb7560c70bbfe",
            "2cb4a43844f94770b578bd35747f8033",
            "018b4c47c5d3490b984f2e4a2289528e",
            "66c0cdb02dc645058e3ae72787b12593",
            "8f0ef8677b76463cb155028ffed296e0",
            "bb05980d939f4427b253e5ecae1c12ee",
            "6be171ed1db049f7b4b0bbe56efef2d6",
            "b46dc558a9cc469d845b1c6c25584d70",
            "8f6e96f9e0ce4a75b705585a129499e7",
            "0c28a737afca4f9da8a29515613958d3",
            "ad94fc0fb0e845b4a57f5eef61088804",
            "65b3961982a4421d9dbe860fa237d485",
            "39907912a0f2422391d3a2c6d99df491",
            "f58a876cf7e04e00bf29a702bcb635e4",
            "dd1b048bd69f4458a0ef0d2360760e27",
            "7312ca345e714eb8844bc94767796bc6",
            "9fcd2642a71a4de2a1b0bc550b55b740",
            "0977a8d463814af79d7cee4590d34048",
            "c358c3eebe8249e58c1f82f35a96fcd4",
            "8a0fbb557f604396a3e8956e98f20be6",
            "5c8751456d044e0d85bcf67f320a9496",
            "1f669130ae4e47a5858860c9c24f6543",
            "69caff695bec4ab29323faa2c0809654",
            "f3a4ccb1c975471e924dc3afb4d8628a",
            "46fbd87f0bc449e9add09ab547c0ff7f",
            "09708875740147bbae6dfb513914d810",
            "877953af5ec94061800f2ad2b5b6f67a",
            "ba219db8a6a74db28ae6b9a8de2dcd72",
            "1274977bb5754d9c823559cd8d80dd21",
            "8ab1764b823e42b78c3ee994a514c868",
            "c13577bfc98d4873879ddb9305fa9a48",
            "d04e521707ad45f98b359abec612acec",
            "58f64889228042f89c5d7b492c5e6ffe",
            "7ee0eb6cd3a34a54aa6fcb2d0459eab3",
            "b1e8c248f30949c1bf95a3df7a915b92",
            "20d845af0eda4d058e41e7aac4026e4d",
            "f558f51557364417821152c82bda6567",
            "68fd9a7500e54683b91a232e5d3552ad",
            "48a8c6cbd68f4b87893bbb776c2ab5ca",
            "647d46af33a6446c8909c03a04d8e964",
            "65fe6cbe48c94eb2b505e50acff4e941",
            "28c8680227fd4e32ab7fb09f8c0cad28",
            "40e37bb5a63a4051a7c82376c409defd",
            "84b303174b0c412b872202615ef62b74",
            "d074f6e3e8a64387b4a474fb64e54d37",
            "0814203b152744eba9970a7c63b2666a",
            "95683ee271c645f3a77517ba951af83a",
            "3ff3205f26344f5997879e6c251dbd64",
            "95e4a38ff4cf464697a8562df7c7380d"
          ]
        },
        "id": "8Sh-iwBec6O0",
        "outputId": "b3d9e9ab-14e1-4819-c123-bb5662024d93"
      },
      "execution_count": null,
      "outputs": [
        {
          "output_type": "stream",
          "name": "stdout",
          "text": [
            "Downloading http://fashion-mnist.s3-website.eu-central-1.amazonaws.com/train-images-idx3-ubyte.gz\n",
            "Downloading http://fashion-mnist.s3-website.eu-central-1.amazonaws.com/train-images-idx3-ubyte.gz to ./data/FashionMNIST/raw/train-images-idx3-ubyte.gz\n"
          ]
        },
        {
          "output_type": "display_data",
          "data": {
            "text/plain": [
              "  0%|          | 0/26421880 [00:00<?, ?it/s]"
            ],
            "application/vnd.jupyter.widget-view+json": {
              "version_major": 2,
              "version_minor": 0,
              "model_id": "2c39a015cae54645bcf204373af8a9d2"
            }
          },
          "metadata": {}
        },
        {
          "output_type": "stream",
          "name": "stdout",
          "text": [
            "Extracting ./data/FashionMNIST/raw/train-images-idx3-ubyte.gz to ./data/FashionMNIST/raw\n",
            "\n",
            "Downloading http://fashion-mnist.s3-website.eu-central-1.amazonaws.com/train-labels-idx1-ubyte.gz\n",
            "Downloading http://fashion-mnist.s3-website.eu-central-1.amazonaws.com/train-labels-idx1-ubyte.gz to ./data/FashionMNIST/raw/train-labels-idx1-ubyte.gz\n"
          ]
        },
        {
          "output_type": "display_data",
          "data": {
            "text/plain": [
              "  0%|          | 0/29515 [00:00<?, ?it/s]"
            ],
            "application/vnd.jupyter.widget-view+json": {
              "version_major": 2,
              "version_minor": 0,
              "model_id": "1610d01e11e64c55a40c5dbf09bf8beb"
            }
          },
          "metadata": {}
        },
        {
          "output_type": "stream",
          "name": "stdout",
          "text": [
            "Extracting ./data/FashionMNIST/raw/train-labels-idx1-ubyte.gz to ./data/FashionMNIST/raw\n",
            "\n",
            "Downloading http://fashion-mnist.s3-website.eu-central-1.amazonaws.com/t10k-images-idx3-ubyte.gz\n",
            "Downloading http://fashion-mnist.s3-website.eu-central-1.amazonaws.com/t10k-images-idx3-ubyte.gz to ./data/FashionMNIST/raw/t10k-images-idx3-ubyte.gz\n"
          ]
        },
        {
          "output_type": "display_data",
          "data": {
            "text/plain": [
              "  0%|          | 0/4422102 [00:00<?, ?it/s]"
            ],
            "application/vnd.jupyter.widget-view+json": {
              "version_major": 2,
              "version_minor": 0,
              "model_id": "fe647ac3808a4b0a9f7f88ffe1fb2136"
            }
          },
          "metadata": {}
        },
        {
          "output_type": "stream",
          "name": "stdout",
          "text": [
            "Extracting ./data/FashionMNIST/raw/t10k-images-idx3-ubyte.gz to ./data/FashionMNIST/raw\n",
            "\n",
            "Downloading http://fashion-mnist.s3-website.eu-central-1.amazonaws.com/t10k-labels-idx1-ubyte.gz\n",
            "Downloading http://fashion-mnist.s3-website.eu-central-1.amazonaws.com/t10k-labels-idx1-ubyte.gz to ./data/FashionMNIST/raw/t10k-labels-idx1-ubyte.gz\n"
          ]
        },
        {
          "output_type": "display_data",
          "data": {
            "text/plain": [
              "  0%|          | 0/5148 [00:00<?, ?it/s]"
            ],
            "application/vnd.jupyter.widget-view+json": {
              "version_major": 2,
              "version_minor": 0,
              "model_id": "b20964a6c61043bd83b70b52d78f3230"
            }
          },
          "metadata": {}
        },
        {
          "output_type": "stream",
          "name": "stdout",
          "text": [
            "Extracting ./data/FashionMNIST/raw/t10k-labels-idx1-ubyte.gz to ./data/FashionMNIST/raw\n",
            "\n",
            "Downloading https://www.cs.toronto.edu/~kriz/cifar-10-python.tar.gz to ./data/cifar-10-python.tar.gz\n"
          ]
        },
        {
          "output_type": "display_data",
          "data": {
            "text/plain": [
              "  0%|          | 0/170498071 [00:00<?, ?it/s]"
            ],
            "application/vnd.jupyter.widget-view+json": {
              "version_major": 2,
              "version_minor": 0,
              "model_id": "9e66c67ae4664fb1b33c9d101940061e"
            }
          },
          "metadata": {}
        },
        {
          "output_type": "stream",
          "name": "stdout",
          "text": [
            "Extracting ./data/cifar-10-python.tar.gz to ./data\n",
            "Downloading http://ufldl.stanford.edu/housenumbers/test_32x32.mat to ./data/test_32x32.mat\n"
          ]
        },
        {
          "output_type": "display_data",
          "data": {
            "text/plain": [
              "  0%|          | 0/64275384 [00:00<?, ?it/s]"
            ],
            "application/vnd.jupyter.widget-view+json": {
              "version_major": 2,
              "version_minor": 0,
              "model_id": "851c34477de649769380a9078a1280fd"
            }
          },
          "metadata": {}
        },
        {
          "output_type": "stream",
          "name": "stdout",
          "text": [
            "Downloading https://www.itl.nist.gov/iaui/vip/cs_links/EMNIST/gzip.zip to ./data/EMNIST/raw/gzip.zip\n"
          ]
        },
        {
          "output_type": "display_data",
          "data": {
            "text/plain": [
              "  0%|          | 0/561753746 [00:00<?, ?it/s]"
            ],
            "application/vnd.jupyter.widget-view+json": {
              "version_major": 2,
              "version_minor": 0,
              "model_id": "5763108ab1d84d60a0e6d777c35ab085"
            }
          },
          "metadata": {}
        },
        {
          "output_type": "stream",
          "name": "stdout",
          "text": [
            "Extracting ./data/EMNIST/raw/gzip.zip to ./data/EMNIST/raw\n",
            "Downloading http://yann.lecun.com/exdb/mnist/train-images-idx3-ubyte.gz\n",
            "Downloading http://yann.lecun.com/exdb/mnist/train-images-idx3-ubyte.gz to ./data/MNIST/raw/train-images-idx3-ubyte.gz\n"
          ]
        },
        {
          "output_type": "display_data",
          "data": {
            "text/plain": [
              "  0%|          | 0/9912422 [00:00<?, ?it/s]"
            ],
            "application/vnd.jupyter.widget-view+json": {
              "version_major": 2,
              "version_minor": 0,
              "model_id": "bb05980d939f4427b253e5ecae1c12ee"
            }
          },
          "metadata": {}
        },
        {
          "output_type": "stream",
          "name": "stdout",
          "text": [
            "Extracting ./data/MNIST/raw/train-images-idx3-ubyte.gz to ./data/MNIST/raw\n",
            "\n",
            "Downloading http://yann.lecun.com/exdb/mnist/train-labels-idx1-ubyte.gz\n",
            "Downloading http://yann.lecun.com/exdb/mnist/train-labels-idx1-ubyte.gz to ./data/MNIST/raw/train-labels-idx1-ubyte.gz\n"
          ]
        },
        {
          "output_type": "display_data",
          "data": {
            "text/plain": [
              "  0%|          | 0/28881 [00:00<?, ?it/s]"
            ],
            "application/vnd.jupyter.widget-view+json": {
              "version_major": 2,
              "version_minor": 0,
              "model_id": "9fcd2642a71a4de2a1b0bc550b55b740"
            }
          },
          "metadata": {}
        },
        {
          "output_type": "stream",
          "name": "stdout",
          "text": [
            "Extracting ./data/MNIST/raw/train-labels-idx1-ubyte.gz to ./data/MNIST/raw\n",
            "\n",
            "Downloading http://yann.lecun.com/exdb/mnist/t10k-images-idx3-ubyte.gz\n",
            "Downloading http://yann.lecun.com/exdb/mnist/t10k-images-idx3-ubyte.gz to ./data/MNIST/raw/t10k-images-idx3-ubyte.gz\n"
          ]
        },
        {
          "output_type": "display_data",
          "data": {
            "text/plain": [
              "  0%|          | 0/1648877 [00:00<?, ?it/s]"
            ],
            "application/vnd.jupyter.widget-view+json": {
              "version_major": 2,
              "version_minor": 0,
              "model_id": "ba219db8a6a74db28ae6b9a8de2dcd72"
            }
          },
          "metadata": {}
        },
        {
          "output_type": "stream",
          "name": "stdout",
          "text": [
            "Extracting ./data/MNIST/raw/t10k-images-idx3-ubyte.gz to ./data/MNIST/raw\n",
            "\n",
            "Downloading http://yann.lecun.com/exdb/mnist/t10k-labels-idx1-ubyte.gz\n",
            "Downloading http://yann.lecun.com/exdb/mnist/t10k-labels-idx1-ubyte.gz to ./data/MNIST/raw/t10k-labels-idx1-ubyte.gz\n"
          ]
        },
        {
          "output_type": "display_data",
          "data": {
            "text/plain": [
              "  0%|          | 0/4542 [00:00<?, ?it/s]"
            ],
            "application/vnd.jupyter.widget-view+json": {
              "version_major": 2,
              "version_minor": 0,
              "model_id": "48a8c6cbd68f4b87893bbb776c2ab5ca"
            }
          },
          "metadata": {}
        },
        {
          "output_type": "stream",
          "name": "stdout",
          "text": [
            "Extracting ./data/MNIST/raw/t10k-labels-idx1-ubyte.gz to ./data/MNIST/raw\n",
            "\n"
          ]
        }
      ]
    },
    {
      "cell_type": "markdown",
      "source": [
        "### Computing Likelihood Regret (LR)"
      ],
      "metadata": {
        "id": "Lcrd5UmBc4vR"
      }
    },
    {
      "cell_type": "code",
      "source": [
        "netG.eval()\n",
        "netE.eval()\n",
        "loss_fn = nn.CrossEntropyLoss(reduction = 'none')"
      ],
      "metadata": {
        "id": "fH0cOjyEdAHs"
      },
      "execution_count": null,
      "outputs": []
    },
    {
      "cell_type": "markdown",
      "source": [
        "### Likleihood Regret Algorithm"
      ],
      "metadata": {
        "id": "GucaS_ARdB3w"
      }
    },
    {
      "cell_type": "code",
      "source": [
        "def likleihood_regret(data_loader, samples, netE, netG):\n",
        "    NLL_regret_indist = []\n",
        "    NLL_indist = []\n",
        "\n",
        "    for i, (xi, _) in enumerate(data_loader):\n",
        "       \n",
        "        x = xi.expand(config_model[\"repeat\"],-1,-1,-1).contiguous()\n",
        "        weights_agg  = []\n",
        "        with torch.no_grad():\n",
        "            #NLL ALG.\n",
        "            for batch_number in range(5):\n",
        "                \n",
        "                x = x.to(device)\n",
        "                b = x.size(0)\n",
        "        \n",
        "                [z,mu,logvar] = netE(x)\n",
        "                recon = netG(z)\n",
        "                mu = mu.view(mu.size(0),mu.size(1))\n",
        "                logvar = logvar.view(logvar.size(0), logvar.size(1))\n",
        "                z = z.view(z.size(0),z.size(1))\n",
        "                weights = utils.store_NLL(x, recon, mu, logvar, z, config_model[\"repeat\"])\n",
        "              \n",
        "                weights_agg.append(weights)\n",
        "            \n",
        "            weights_agg = torch.stack(weights_agg).view(-1) \n",
        "            \n",
        "            NLL_loss_before = utils.compute_NLL(weights_agg) \n",
        "            NLL_indist = np.append(NLL_indist, NLL_loss_before.detach().cpu().numpy())\n",
        "\n",
        "            \n",
        "        #Likelihood Regret ALG.\n",
        "        xi = xi.to(device)\n",
        "        b = xi.size(0)\n",
        "        netE_copy = copy.deepcopy(netE)\n",
        "        netE_copy.eval()\n",
        "        optimizer = optim.Adam(netE_copy.parameters(), lr=config_model[\"learning_rate\"], betas=(config_model[\"beta-adam\"], 0.999),weight_decay=5e-5)\n",
        "        target = Variable(xi.data.view(-1) * 255).long()\n",
        "        for it in range(config_model[\"num_iter_samples\"]):\n",
        "            \n",
        "            [z,mu,logvar] = netE_copy(xi)\n",
        "            recon = netG(z)\n",
        "            \n",
        "            recon = recon.contiguous()\n",
        "            recon = recon.view(-1,256)\n",
        "            recl = loss_fn(recon, target)\n",
        "            \n",
        "            recl = torch.sum(recl) / b\n",
        "            kld = KL_div(mu,logvar)\n",
        "            \n",
        "            loss =  recl + kld.mean()\n",
        "\n",
        "            optimizer.zero_grad()\n",
        "            loss.backward()\n",
        "            optimizer.step()\n",
        "        \n",
        "        weights_agg  = []\n",
        "        with torch.no_grad():\n",
        "            xi = xi.expand(config_model[\"repeat\"],-1,-1,-1).contiguous()\n",
        "            target = Variable(xi.data.view(-1) * 255).long()\n",
        "            for batch_number in range(5):\n",
        "                [z,mu,logvar] = netE_copy(xi)\n",
        "                recon = netG(z)\n",
        "                recon = recon.contiguous()\n",
        "                mu = mu.view(mu.size(0),mu.size(1))\n",
        "                logvar = logvar.view(logvar.size(0), logvar.size(1))\n",
        "                z = z.view(z.size(0),z.size(1))\n",
        "                weights = utils.store_NLL(x, recon, mu, logvar, z, config_model[\"repeat\"])\n",
        "                \n",
        "                weights_agg.append(weights)\n",
        "         \n",
        "            \n",
        "            weights_agg = torch.stack(weights_agg).view(-1) \n",
        "            NLL_loss_after = utils.compute_NLL(weights_agg) \n",
        "            print('In-dist image {} OPT: {} VAE: {} diff:{}'.format(i, NLL_loss_after.item(), NLL_loss_before.item(), NLL_loss_before.item()  - NLL_loss_after.item()))\n",
        "            regret = NLL_loss_before  - NLL_loss_after\n",
        "            NLL_regret_indist = np.append(NLL_regret_indist, regret.detach().cpu().numpy())\n",
        "        if i >= samples: #test for 500 samples\n",
        "            break\n",
        "    return NLL_regret_indist, NLL_indist"
      ],
      "metadata": {
        "id": "qEJnKaNqdCi8"
      },
      "execution_count": null,
      "outputs": []
    },
    {
      "cell_type": "markdown",
      "source": [
        "### Compute Likelihood Regret VS NLL - In Distribution(MNIST)"
      ],
      "metadata": {
        "id": "4tbZUrjqc_jg"
      }
    },
    {
      "cell_type": "code",
      "source": [
        "samples = 299"
      ],
      "metadata": {
        "id": "7sm_4FJsdGoD"
      },
      "execution_count": null,
      "outputs": []
    },
    {
      "cell_type": "code",
      "source": [
        "NLL_regret_indist, NLL_indist = likleihood_regret(mnist_test_data_loader, samples, netE, netG)"
      ],
      "metadata": {
        "id": "TBP9B9RKdKdR",
        "colab": {
          "base_uri": "https://localhost:8080/"
        },
        "outputId": "8eb03efa-56d1-4598-acee-2f87a089d823"
      },
      "execution_count": null,
      "outputs": [
        {
          "output_type": "stream",
          "name": "stdout",
          "text": [
            "In-dist image 0 OPT: 630.8939208984375 VAE: 663.3642578125 diff:32.4703369140625\n",
            "In-dist image 1 OPT: 668.0514526367188 VAE: 698.5006103515625 diff:30.44915771484375\n",
            "In-dist image 2 OPT: 637.9470825195312 VAE: 649.933349609375 diff:11.98626708984375\n",
            "In-dist image 3 OPT: 654.666015625 VAE: 672.4020385742188 diff:17.73602294921875\n",
            "In-dist image 4 OPT: 574.1522827148438 VAE: 624.3987426757812 diff:50.2464599609375\n",
            "In-dist image 5 OPT: 660.1686401367188 VAE: 688.3626098632812 diff:28.1939697265625\n",
            "In-dist image 6 OPT: 626.7936401367188 VAE: 643.8450317382812 diff:17.0513916015625\n",
            "In-dist image 7 OPT: 646.7097778320312 VAE: 663.0609741210938 diff:16.3511962890625\n",
            "In-dist image 8 OPT: 644.5147094726562 VAE: 698.6309814453125 diff:54.11627197265625\n",
            "In-dist image 9 OPT: 602.9508666992188 VAE: 625.66259765625 diff:22.71173095703125\n",
            "In-dist image 10 OPT: 691.6239013671875 VAE: 695.9757080078125 diff:4.351806640625\n",
            "In-dist image 11 OPT: 578.6361083984375 VAE: 628.03125 diff:49.3951416015625\n",
            "In-dist image 12 OPT: 647.4662475585938 VAE: 648.5108642578125 diff:1.04461669921875\n",
            "In-dist image 13 OPT: 659.8317260742188 VAE: 691.9364013671875 diff:32.10467529296875\n",
            "In-dist image 14 OPT: 639.7779541015625 VAE: 687.2047119140625 diff:47.4267578125\n",
            "In-dist image 15 OPT: 666.7716674804688 VAE: 669.8500366210938 diff:3.078369140625\n",
            "In-dist image 16 OPT: 612.2515258789062 VAE: 633.8563232421875 diff:21.60479736328125\n",
            "In-dist image 17 OPT: 658.9320678710938 VAE: 694.0807495117188 diff:35.148681640625\n",
            "In-dist image 18 OPT: 565.0700073242188 VAE: 581.0882568359375 diff:16.01824951171875\n",
            "In-dist image 19 OPT: 709.218994140625 VAE: 732.3468017578125 diff:23.1278076171875\n",
            "In-dist image 20 OPT: 671.0943603515625 VAE: 684.597412109375 diff:13.5030517578125\n",
            "In-dist image 21 OPT: 670.2233276367188 VAE: 704.80029296875 diff:34.57696533203125\n",
            "In-dist image 22 OPT: 596.7027587890625 VAE: 661.789306640625 diff:65.0865478515625\n",
            "In-dist image 23 OPT: 694.3108520507812 VAE: 743.0106201171875 diff:48.69976806640625\n",
            "In-dist image 24 OPT: 573.7963256835938 VAE: 623.3748779296875 diff:49.57855224609375\n",
            "In-dist image 25 OPT: 593.1300048828125 VAE: 659.630859375 diff:66.5008544921875\n",
            "In-dist image 26 OPT: 619.5864868164062 VAE: 669.4383544921875 diff:49.85186767578125\n",
            "In-dist image 27 OPT: 670.1585693359375 VAE: 722.9481811523438 diff:52.78961181640625\n",
            "In-dist image 28 OPT: 646.6644897460938 VAE: 663.6713256835938 diff:17.0068359375\n",
            "In-dist image 29 OPT: 636.0118408203125 VAE: 664.5517578125 diff:28.5399169921875\n",
            "In-dist image 30 OPT: 649.2174072265625 VAE: 673.589599609375 diff:24.3721923828125\n",
            "In-dist image 31 OPT: 663.8225708007812 VAE: 689.4732055664062 diff:25.650634765625\n",
            "In-dist image 32 OPT: 662.177978515625 VAE: 682.3497314453125 diff:20.1717529296875\n",
            "In-dist image 33 OPT: 687.538818359375 VAE: 709.1072387695312 diff:21.56842041015625\n",
            "In-dist image 34 OPT: 665.02197265625 VAE: 692.2290649414062 diff:27.20709228515625\n",
            "In-dist image 35 OPT: 666.8123168945312 VAE: 680.1375732421875 diff:13.32525634765625\n",
            "In-dist image 36 OPT: 643.1185913085938 VAE: 674.7183227539062 diff:31.5997314453125\n",
            "In-dist image 37 OPT: 658.0636596679688 VAE: 676.986083984375 diff:18.92242431640625\n",
            "In-dist image 38 OPT: 620.34521484375 VAE: 675.697021484375 diff:55.351806640625\n",
            "In-dist image 39 OPT: 598.498046875 VAE: 644.5090942382812 diff:46.01104736328125\n",
            "In-dist image 40 OPT: 623.322509765625 VAE: 642.6798095703125 diff:19.3572998046875\n",
            "In-dist image 41 OPT: 638.0739135742188 VAE: 647.5101928710938 diff:9.436279296875\n",
            "In-dist image 42 OPT: 632.6650390625 VAE: 684.6338500976562 diff:51.96881103515625\n",
            "In-dist image 43 OPT: 626.93359375 VAE: 662.9259643554688 diff:35.99237060546875\n",
            "In-dist image 44 OPT: 584.8052978515625 VAE: 622.1716918945312 diff:37.36639404296875\n",
            "In-dist image 45 OPT: 577.5317993164062 VAE: 663.8135375976562 diff:86.28173828125\n",
            "In-dist image 46 OPT: 572.727294921875 VAE: 579.1793823242188 diff:6.45208740234375\n",
            "In-dist image 47 OPT: 608.3958740234375 VAE: 665.681396484375 diff:57.2855224609375\n",
            "In-dist image 48 OPT: 656.9075927734375 VAE: 674.6593627929688 diff:17.75177001953125\n",
            "In-dist image 49 OPT: 643.94921875 VAE: 667.2594604492188 diff:23.31024169921875\n",
            "In-dist image 50 OPT: 698.6848754882812 VAE: 734.4940795898438 diff:35.8092041015625\n",
            "In-dist image 51 OPT: 545.1370239257812 VAE: 568.2086791992188 diff:23.0716552734375\n",
            "In-dist image 52 OPT: 670.2522583007812 VAE: 718.5235595703125 diff:48.27130126953125\n",
            "In-dist image 53 OPT: 597.9194946289062 VAE: 624.5281982421875 diff:26.60870361328125\n",
            "In-dist image 54 OPT: 615.6412963867188 VAE: 623.177978515625 diff:7.53668212890625\n",
            "In-dist image 55 OPT: 628.923583984375 VAE: 648.1190795898438 diff:19.19549560546875\n",
            "In-dist image 56 OPT: 680.9392700195312 VAE: 684.3485107421875 diff:3.40924072265625\n",
            "In-dist image 57 OPT: 607.7960815429688 VAE: 664.9764404296875 diff:57.18035888671875\n",
            "In-dist image 58 OPT: 603.126220703125 VAE: 643.804931640625 diff:40.6787109375\n",
            "In-dist image 59 OPT: 644.1876220703125 VAE: 670.3272094726562 diff:26.13958740234375\n",
            "In-dist image 60 OPT: 638.4151611328125 VAE: 689.45556640625 diff:51.0404052734375\n",
            "In-dist image 61 OPT: 652.4931640625 VAE: 655.1640625 diff:2.6708984375\n",
            "In-dist image 62 OPT: 640.5062255859375 VAE: 669.358642578125 diff:28.8524169921875\n",
            "In-dist image 63 OPT: 586.5051879882812 VAE: 600.9282836914062 diff:14.423095703125\n",
            "In-dist image 64 OPT: 628.0463256835938 VAE: 654.3883666992188 diff:26.342041015625\n",
            "In-dist image 65 OPT: 668.4568481445312 VAE: 699.2568969726562 diff:30.800048828125\n",
            "In-dist image 66 OPT: 630.194580078125 VAE: 687.9210205078125 diff:57.7264404296875\n",
            "In-dist image 67 OPT: 631.8651733398438 VAE: 658.9717407226562 diff:27.1065673828125\n",
            "In-dist image 68 OPT: 580.5840454101562 VAE: 664.2659301757812 diff:83.681884765625\n",
            "In-dist image 69 OPT: 627.3148803710938 VAE: 646.1735229492188 diff:18.858642578125\n",
            "In-dist image 70 OPT: 672.4532470703125 VAE: 697.7076416015625 diff:25.25439453125\n",
            "In-dist image 71 OPT: 642.2911987304688 VAE: 677.8309936523438 diff:35.539794921875\n",
            "In-dist image 72 OPT: 659.1884765625 VAE: 671.6968994140625 diff:12.5084228515625\n",
            "In-dist image 73 OPT: 665.5125732421875 VAE: 686.0006713867188 diff:20.48809814453125\n",
            "In-dist image 74 OPT: 679.6171875 VAE: 730.7410278320312 diff:51.12384033203125\n",
            "In-dist image 75 OPT: 654.5961303710938 VAE: 689.2023315429688 diff:34.606201171875\n",
            "In-dist image 76 OPT: 615.0441284179688 VAE: 644.55029296875 diff:29.50616455078125\n",
            "In-dist image 77 OPT: 702.9617309570312 VAE: 719.237060546875 diff:16.27532958984375\n",
            "In-dist image 78 OPT: 639.2888793945312 VAE: 662.0686645507812 diff:22.77978515625\n",
            "In-dist image 79 OPT: 683.3233032226562 VAE: 709.9812622070312 diff:26.657958984375\n",
            "In-dist image 80 OPT: 653.1344604492188 VAE: 668.8964233398438 diff:15.761962890625\n",
            "In-dist image 81 OPT: 647.6522216796875 VAE: 707.7285766601562 diff:60.07635498046875\n",
            "In-dist image 82 OPT: 608.8197631835938 VAE: 635.290283203125 diff:26.47052001953125\n",
            "In-dist image 83 OPT: 611.926025390625 VAE: 649.3507080078125 diff:37.4246826171875\n",
            "In-dist image 84 OPT: 619.83203125 VAE: 676.3217163085938 diff:56.48968505859375\n",
            "In-dist image 85 OPT: 632.3150634765625 VAE: 667.12255859375 diff:34.8074951171875\n",
            "In-dist image 86 OPT: 637.7603759765625 VAE: 706.7546997070312 diff:68.99432373046875\n",
            "In-dist image 87 OPT: 682.7086791992188 VAE: 716.160888671875 diff:33.45220947265625\n",
            "In-dist image 88 OPT: 608.78759765625 VAE: 661.4459228515625 diff:52.6583251953125\n",
            "In-dist image 89 OPT: 615.7498779296875 VAE: 677.787841796875 diff:62.0379638671875\n",
            "In-dist image 90 OPT: 618.604736328125 VAE: 712.2116088867188 diff:93.60687255859375\n",
            "In-dist image 91 OPT: 658.4782104492188 VAE: 667.7377319335938 diff:9.259521484375\n",
            "In-dist image 92 OPT: 612.9295654296875 VAE: 636.6224365234375 diff:23.69287109375\n",
            "In-dist image 93 OPT: 625.4193115234375 VAE: 645.3623657226562 diff:19.94305419921875\n",
            "In-dist image 94 OPT: 665.71728515625 VAE: 690.5945434570312 diff:24.87725830078125\n",
            "In-dist image 95 OPT: 673.42333984375 VAE: 711.3637084960938 diff:37.94036865234375\n",
            "In-dist image 96 OPT: 646.5581665039062 VAE: 683.5291137695312 diff:36.970947265625\n",
            "In-dist image 97 OPT: 627.7230224609375 VAE: 659.6235961914062 diff:31.90057373046875\n",
            "In-dist image 98 OPT: 636.5923461914062 VAE: 660.1861572265625 diff:23.59381103515625\n",
            "In-dist image 99 OPT: 645.947021484375 VAE: 665.6493530273438 diff:19.70233154296875\n"
          ]
        }
      ]
    },
    {
      "cell_type": "code",
      "source": [
        "current_directory = os.getcwd()\n",
        "current_directory = os.path.join(current_directory, r'array')\n",
        "if not os.path.exists(current_directory):\n",
        "    os.makedirs(current_directory)\n",
        "np.save('./array/indist_nll.npy', NLL_indist)\n",
        "np.save('./array/indist_regret.npy', NLL_regret_indist)"
      ],
      "metadata": {
        "id": "_-kDmZOydMDo"
      },
      "execution_count": null,
      "outputs": []
    },
    {
      "cell_type": "markdown",
      "source": [
        "### Compute Likelihood Regret VS NLL - Out Of Distribution(FMNIST)"
      ],
      "metadata": {
        "id": "fTGmhDXGdNMC"
      }
    },
    {
      "cell_type": "code",
      "source": [
        "NLL_regret_ood_fash, NLL_ood_fash = likleihood_regret(fmnist_data_loader, samples, netE, netG)"
      ],
      "metadata": {
        "id": "wktjOdNCdOXS",
        "colab": {
          "base_uri": "https://localhost:8080/"
        },
        "outputId": "81b8af6e-eb97-4ac3-b053-d8550d1da1a1"
      },
      "execution_count": null,
      "outputs": [
        {
          "output_type": "stream",
          "name": "stdout",
          "text": [
            "In-dist image 0 OPT: 1459.166259765625 VAE: 1841.6826171875 diff:382.516357421875\n",
            "In-dist image 1 OPT: 1573.2197265625 VAE: 1799.99462890625 diff:226.77490234375\n",
            "In-dist image 2 OPT: 1848.091552734375 VAE: 1893.76806640625 diff:45.676513671875\n",
            "In-dist image 3 OPT: 1121.89208984375 VAE: 1289.39794921875 diff:167.505859375\n",
            "In-dist image 4 OPT: 1552.9896240234375 VAE: 1819.212646484375 diff:266.2230224609375\n",
            "In-dist image 5 OPT: 1541.0718994140625 VAE: 1777.439208984375 diff:236.3673095703125\n",
            "In-dist image 6 OPT: 1170.5985107421875 VAE: 1463.8336181640625 diff:293.235107421875\n",
            "In-dist image 7 OPT: 1225.0291748046875 VAE: 1392.7835693359375 diff:167.75439453125\n",
            "In-dist image 8 OPT: 1431.043701171875 VAE: 1804.74658203125 diff:373.702880859375\n",
            "In-dist image 9 OPT: 1368.5748291015625 VAE: 1588.9359130859375 diff:220.361083984375\n",
            "In-dist image 10 OPT: 1462.544189453125 VAE: 1881.6907958984375 diff:419.1466064453125\n",
            "In-dist image 11 OPT: 1417.9608154296875 VAE: 1584.0882568359375 diff:166.12744140625\n",
            "In-dist image 12 OPT: 1793.976318359375 VAE: 2084.63623046875 diff:290.659912109375\n",
            "In-dist image 13 OPT: 1363.0272216796875 VAE: 1636.98046875 diff:273.9532470703125\n",
            "In-dist image 14 OPT: 1383.09716796875 VAE: 1762.479248046875 diff:379.382080078125\n",
            "In-dist image 15 OPT: 1269.4677734375 VAE: 1496.1348876953125 diff:226.6671142578125\n",
            "In-dist image 16 OPT: 1347.071533203125 VAE: 1519.0966796875 diff:172.025146484375\n",
            "In-dist image 17 OPT: 1159.1781005859375 VAE: 1436.759521484375 diff:277.5814208984375\n",
            "In-dist image 18 OPT: 1507.5496826171875 VAE: 1782.1070556640625 diff:274.557373046875\n",
            "In-dist image 19 OPT: 1381.7947998046875 VAE: 1607.4727783203125 diff:225.677978515625\n",
            "In-dist image 20 OPT: 1158.00439453125 VAE: 1340.1083984375 diff:182.10400390625\n",
            "In-dist image 21 OPT: 1682.223388671875 VAE: 1914.6302490234375 diff:232.4068603515625\n",
            "In-dist image 22 OPT: 1557.7440185546875 VAE: 1779.780029296875 diff:222.0360107421875\n",
            "In-dist image 23 OPT: 1530.6329345703125 VAE: 1857.48779296875 diff:326.8548583984375\n",
            "In-dist image 24 OPT: 1334.452880859375 VAE: 1476.2501220703125 diff:141.7972412109375\n",
            "In-dist image 25 OPT: 1201.66259765625 VAE: 1254.5596923828125 diff:52.8970947265625\n",
            "In-dist image 26 OPT: 1371.7320556640625 VAE: 1694.3779296875 diff:322.6458740234375\n",
            "In-dist image 27 OPT: 1238.0552978515625 VAE: 1393.4166259765625 diff:155.361328125\n",
            "In-dist image 28 OPT: 1545.7623291015625 VAE: 1756.9072265625 diff:211.1448974609375\n",
            "In-dist image 29 OPT: 1539.783203125 VAE: 1655.67529296875 diff:115.89208984375\n",
            "In-dist image 30 OPT: 1584.3104248046875 VAE: 1788.3875732421875 diff:204.0771484375\n",
            "In-dist image 31 OPT: 1301.21826171875 VAE: 1426.425537109375 diff:125.207275390625\n",
            "In-dist image 32 OPT: 1564.3367919921875 VAE: 1880.27490234375 diff:315.9381103515625\n",
            "In-dist image 33 OPT: 1222.3040771484375 VAE: 1355.8741455078125 diff:133.570068359375\n",
            "In-dist image 34 OPT: 1427.193359375 VAE: 1573.748291015625 diff:146.554931640625\n",
            "In-dist image 35 OPT: 1434.785888671875 VAE: 1577.806884765625 diff:143.02099609375\n",
            "In-dist image 36 OPT: 1427.6514892578125 VAE: 1564.305419921875 diff:136.6539306640625\n",
            "In-dist image 37 OPT: 1482.050537109375 VAE: 1752.09765625 diff:270.047119140625\n",
            "In-dist image 38 OPT: 1395.116455078125 VAE: 1649.2816162109375 diff:254.1651611328125\n",
            "In-dist image 39 OPT: 1294.4337158203125 VAE: 1718.0714111328125 diff:423.6376953125\n",
            "In-dist image 40 OPT: 1203.967529296875 VAE: 1381.89599609375 diff:177.928466796875\n",
            "In-dist image 41 OPT: 1419.6893310546875 VAE: 1543.0445556640625 diff:123.355224609375\n",
            "In-dist image 42 OPT: 1320.3226318359375 VAE: 1580.403564453125 diff:260.0809326171875\n",
            "In-dist image 43 OPT: 1305.397216796875 VAE: 1472.8572998046875 diff:167.4600830078125\n",
            "In-dist image 44 OPT: 1428.29248046875 VAE: 1730.6278076171875 diff:302.3353271484375\n",
            "In-dist image 45 OPT: 1360.5635986328125 VAE: 1552.3238525390625 diff:191.76025390625\n",
            "In-dist image 46 OPT: 1521.10205078125 VAE: 1562.0518798828125 diff:40.9498291015625\n",
            "In-dist image 47 OPT: 1475.4156494140625 VAE: 1744.499267578125 diff:269.0836181640625\n",
            "In-dist image 48 OPT: 1309.3583984375 VAE: 1391.5791015625 diff:82.220703125\n",
            "In-dist image 49 OPT: 1622.8623046875 VAE: 1960.3021240234375 diff:337.4398193359375\n",
            "In-dist image 50 OPT: 1476.9779052734375 VAE: 1722.119873046875 diff:245.1419677734375\n",
            "In-dist image 51 OPT: 1624.11962890625 VAE: 1832.1573486328125 diff:208.0377197265625\n",
            "In-dist image 52 OPT: 1500.4071044921875 VAE: 1798.49560546875 diff:298.0885009765625\n",
            "In-dist image 53 OPT: 1299.4993896484375 VAE: 1491.6846923828125 diff:192.185302734375\n",
            "In-dist image 54 OPT: 1200.30712890625 VAE: 1450.0284423828125 diff:249.7213134765625\n",
            "In-dist image 55 OPT: 1719.52099609375 VAE: 2010.8992919921875 diff:291.3782958984375\n",
            "In-dist image 56 OPT: 1428.7769775390625 VAE: 1612.0009765625 diff:183.2239990234375\n",
            "In-dist image 57 OPT: 1413.5245361328125 VAE: 1559.3302001953125 diff:145.8056640625\n",
            "In-dist image 58 OPT: 1169.0069580078125 VAE: 1358.0213623046875 diff:189.014404296875\n",
            "In-dist image 59 OPT: 1594.718994140625 VAE: 1812.8873291015625 diff:218.1683349609375\n",
            "In-dist image 60 OPT: 1343.03662109375 VAE: 1464.9400634765625 diff:121.9034423828125\n",
            "In-dist image 61 OPT: 1483.098388671875 VAE: 1709.4744873046875 diff:226.3760986328125\n",
            "In-dist image 62 OPT: 1558.2572021484375 VAE: 1949.8841552734375 diff:391.626953125\n",
            "In-dist image 63 OPT: 1601.1470947265625 VAE: 1759.930419921875 diff:158.7833251953125\n",
            "In-dist image 64 OPT: 1159.797607421875 VAE: 1421.8072509765625 diff:262.0096435546875\n",
            "In-dist image 65 OPT: 1600.057373046875 VAE: 1831.50732421875 diff:231.449951171875\n",
            "In-dist image 66 OPT: 1181.970703125 VAE: 1359.744384765625 diff:177.773681640625\n",
            "In-dist image 67 OPT: 1486.1512451171875 VAE: 1694.676025390625 diff:208.5247802734375\n",
            "In-dist image 68 OPT: 1319.3189697265625 VAE: 1420.5799560546875 diff:101.260986328125\n",
            "In-dist image 69 OPT: 1547.751953125 VAE: 1865.643310546875 diff:317.891357421875\n",
            "In-dist image 70 OPT: 1144.54833984375 VAE: 1290.962158203125 diff:146.413818359375\n",
            "In-dist image 72 OPT: 1249.9937744140625 VAE: 1498.5982666015625 diff:248.6044921875\n",
            "In-dist image 73 OPT: 1597.7152099609375 VAE: 1846.351318359375 diff:248.6361083984375\n",
            "In-dist image 74 OPT: 1439.8675537109375 VAE: 2054.00732421875 diff:614.1397705078125\n",
            "In-dist image 75 OPT: 1854.0780029296875 VAE: 1979.5057373046875 diff:125.427734375\n",
            "In-dist image 76 OPT: 1762.5894775390625 VAE: 1965.7989501953125 diff:203.20947265625\n",
            "In-dist image 77 OPT: 1666.26171875 VAE: 1876.052490234375 diff:209.790771484375\n",
            "In-dist image 78 OPT: 1237.96142578125 VAE: 1380.298095703125 diff:142.336669921875\n",
            "In-dist image 79 OPT: 1472.7474365234375 VAE: 1586.999267578125 diff:114.2518310546875\n",
            "In-dist image 80 OPT: 1190.02392578125 VAE: 1377.9642333984375 diff:187.9403076171875\n",
            "In-dist image 81 OPT: 1270.6876220703125 VAE: 1462.6685791015625 diff:191.98095703125\n",
            "In-dist image 82 OPT: 1368.054443359375 VAE: 1568.1839599609375 diff:200.1295166015625\n",
            "In-dist image 83 OPT: 1330.9764404296875 VAE: 1445.1669921875 diff:114.1905517578125\n",
            "In-dist image 84 OPT: 1677.559326171875 VAE: 1955.5999755859375 diff:278.0406494140625\n",
            "In-dist image 85 OPT: 1180.515380859375 VAE: 1333.81103515625 diff:153.295654296875\n",
            "In-dist image 86 OPT: 1129.2022705078125 VAE: 1330.3685302734375 diff:201.166259765625\n",
            "In-dist image 87 OPT: 1181.7374267578125 VAE: 1502.054443359375 diff:320.3170166015625\n",
            "In-dist image 88 OPT: 1607.4520263671875 VAE: 1815.136474609375 diff:207.6844482421875\n",
            "In-dist image 89 OPT: 1258.841796875 VAE: 1422.3690185546875 diff:163.5272216796875\n",
            "In-dist image 90 OPT: 1468.8155517578125 VAE: 1681.4921875 diff:212.6766357421875\n",
            "In-dist image 91 OPT: 1513.5677490234375 VAE: 1918.4603271484375 diff:404.892578125\n",
            "In-dist image 92 OPT: 1514.8673095703125 VAE: 1733.57275390625 diff:218.7054443359375\n",
            "In-dist image 93 OPT: 1154.565673828125 VAE: 1250.545654296875 diff:95.97998046875\n",
            "In-dist image 94 OPT: 1302.7506103515625 VAE: 1397.4014892578125 diff:94.65087890625\n",
            "In-dist image 95 OPT: 1312.351318359375 VAE: 1678.801513671875 diff:366.4501953125\n",
            "In-dist image 96 OPT: 1392.6669921875 VAE: 1635.02197265625 diff:242.35498046875\n",
            "In-dist image 97 OPT: 1297.2305908203125 VAE: 1451.9869384765625 diff:154.75634765625\n",
            "In-dist image 98 OPT: 1701.20458984375 VAE: 1860.1241455078125 diff:158.9195556640625\n",
            "In-dist image 99 OPT: 1630.56982421875 VAE: 1735.3853759765625 diff:104.8155517578125\n"
          ]
        }
      ]
    },
    {
      "cell_type": "code",
      "source": [
        "current_directory = os.getcwd()\n",
        "current_directory = os.path.join(current_directory, r'array')\n",
        "if not os.path.exists(current_directory):\n",
        "    os.makedirs(current_directory)\n",
        "np.save('./array/ood_fash_regret.npy', NLL_regret_ood_fash)\n",
        "np.save('./array/ood_fash_nll.npy', NLL_ood_fash)"
      ],
      "metadata": {
        "id": "hEwSXHIAdPu5"
      },
      "execution_count": null,
      "outputs": []
    },
    {
      "cell_type": "markdown",
      "source": [
        "### Compute Likelihood Regret VS NLL - Out Of Distribution(CIFAR10)"
      ],
      "metadata": {
        "id": "NbK-bGy2dROj"
      }
    },
    {
      "cell_type": "code",
      "source": [
        "NLL_regret_ood_cifar, NLL_ood_cifar = likleihood_regret(cifar_data_loader, samples, netE, netG)"
      ],
      "metadata": {
        "id": "6KX3wQJqdSH6",
        "colab": {
          "base_uri": "https://localhost:8080/"
        },
        "outputId": "c42f2a35-23d2-4415-943e-bb97a10ef720"
      },
      "execution_count": null,
      "outputs": [
        {
          "output_type": "stream",
          "name": "stdout",
          "text": [
            "In-dist image 0 OPT: 4509.17529296875 VAE: 7640.13232421875 diff:3130.95703125\n",
            "In-dist image 1 OPT: 4056.34326171875 VAE: 5622.134765625 diff:1565.79150390625\n",
            "In-dist image 2 OPT: 3822.041015625 VAE: 5466.189453125 diff:1644.1484375\n",
            "In-dist image 3 OPT: 5062.4013671875 VAE: 6589.78564453125 diff:1527.38427734375\n",
            "In-dist image 4 OPT: 4976.21240234375 VAE: 5481.55419921875 diff:505.341796875\n",
            "In-dist image 5 OPT: 4366.15576171875 VAE: 5832.73779296875 diff:1466.58203125\n",
            "In-dist image 6 OPT: 5407.61474609375 VAE: 6865.12451171875 diff:1457.509765625\n",
            "In-dist image 7 OPT: 3371.51171875 VAE: 5791.521484375 diff:2420.009765625\n",
            "In-dist image 8 OPT: 5170.150390625 VAE: 7460.80859375 diff:2290.658203125\n",
            "In-dist image 9 OPT: 4048.506591796875 VAE: 6283.62060546875 diff:2235.114013671875\n",
            "In-dist image 10 OPT: 5047.607421875 VAE: 7270.15478515625 diff:2222.54736328125\n",
            "In-dist image 11 OPT: 4849.8671875 VAE: 6914.41015625 diff:2064.54296875\n",
            "In-dist image 12 OPT: 2390.98681640625 VAE: 3234.44775390625 diff:843.4609375\n",
            "In-dist image 13 OPT: 3941.982177734375 VAE: 4896.19189453125 diff:954.209716796875\n",
            "In-dist image 14 OPT: 2276.49609375 VAE: 2968.29296875 diff:691.796875\n",
            "In-dist image 15 OPT: 5059.544921875 VAE: 7279.435546875 diff:2219.890625\n",
            "In-dist image 16 OPT: 4352.19189453125 VAE: 6423.64599609375 diff:2071.4541015625\n",
            "In-dist image 17 OPT: 3523.96435546875 VAE: 6134.33056640625 diff:2610.3662109375\n",
            "In-dist image 18 OPT: 3673.1279296875 VAE: 5088.44384765625 diff:1415.31591796875\n",
            "In-dist image 19 OPT: 4485.341796875 VAE: 6221.951171875 diff:1736.609375\n",
            "In-dist image 20 OPT: 3806.35205078125 VAE: 5889.48486328125 diff:2083.1328125\n",
            "In-dist image 21 OPT: 4870.8857421875 VAE: 7043.20751953125 diff:2172.32177734375\n",
            "In-dist image 22 OPT: 4897.6953125 VAE: 6654.201171875 diff:1756.505859375\n",
            "In-dist image 23 OPT: 3007.02685546875 VAE: 5665.88623046875 diff:2658.859375\n",
            "In-dist image 24 OPT: 3574.361083984375 VAE: 7302.33349609375 diff:3727.972412109375\n",
            "In-dist image 25 OPT: 5140.0869140625 VAE: 6213.69921875 diff:1073.6123046875\n",
            "In-dist image 26 OPT: 4846.7666015625 VAE: 6318.8408203125 diff:1472.07421875\n",
            "In-dist image 27 OPT: 4660.8447265625 VAE: 6604.171875 diff:1943.3271484375\n",
            "In-dist image 28 OPT: 4235.20166015625 VAE: 6817.8193359375 diff:2582.61767578125\n",
            "In-dist image 29 OPT: 4999.46435546875 VAE: 6412.49169921875 diff:1413.02734375\n",
            "In-dist image 30 OPT: 4460.3857421875 VAE: 5126.15869140625 diff:665.77294921875\n",
            "In-dist image 31 OPT: 4478.1181640625 VAE: 5862.5673828125 diff:1384.44921875\n",
            "In-dist image 32 OPT: 5159.375 VAE: 7218.8125 diff:2059.4375\n",
            "In-dist image 33 OPT: 5155.97607421875 VAE: 7172.96484375 diff:2016.98876953125\n",
            "In-dist image 34 OPT: 5287.01513671875 VAE: 7168.13916015625 diff:1881.1240234375\n",
            "In-dist image 35 OPT: 5207.61376953125 VAE: 6806.4951171875 diff:1598.88134765625\n",
            "In-dist image 36 OPT: 3670.573974609375 VAE: 4748.21044921875 diff:1077.636474609375\n",
            "In-dist image 37 OPT: 3693.436279296875 VAE: 4925.84716796875 diff:1232.410888671875\n",
            "In-dist image 38 OPT: 5142.9921875 VAE: 7707.673828125 diff:2564.681640625\n",
            "In-dist image 39 OPT: 4573.552734375 VAE: 6765.2666015625 diff:2191.7138671875\n",
            "In-dist image 40 OPT: 3263.9140625 VAE: 4631.7109375 diff:1367.796875\n",
            "In-dist image 41 OPT: 3103.263671875 VAE: 4242.3779296875 diff:1139.1142578125\n",
            "In-dist image 42 OPT: 4360.96630859375 VAE: 7049.45703125 diff:2688.49072265625\n",
            "In-dist image 43 OPT: 4156.50732421875 VAE: 5021.2294921875 diff:864.72216796875\n",
            "In-dist image 44 OPT: 4725.39501953125 VAE: 6925.32373046875 diff:2199.9287109375\n",
            "In-dist image 45 OPT: 5064.876953125 VAE: 7176.0498046875 diff:2111.1728515625\n",
            "In-dist image 46 OPT: 3862.726318359375 VAE: 3686.87060546875 diff:-175.855712890625\n",
            "In-dist image 47 OPT: 5113.83203125 VAE: 7400.73876953125 diff:2286.90673828125\n",
            "In-dist image 48 OPT: 2014.96337890625 VAE: 2615.131103515625 diff:600.167724609375\n",
            "In-dist image 49 OPT: 3892.068359375 VAE: 3652.8125 diff:-239.255859375\n",
            "In-dist image 50 OPT: 4977.41845703125 VAE: 7443.5712890625 diff:2466.15283203125\n",
            "In-dist image 51 OPT: 4417.08447265625 VAE: 6394.3564453125 diff:1977.27197265625\n",
            "In-dist image 52 OPT: 5005.85986328125 VAE: 7390.32080078125 diff:2384.4609375\n",
            "In-dist image 53 OPT: 4827.271484375 VAE: 6346.966796875 diff:1519.6953125\n",
            "In-dist image 54 OPT: 3639.7861328125 VAE: 6343.8515625 diff:2704.0654296875\n",
            "In-dist image 55 OPT: 3617.754638671875 VAE: 5490.10009765625 diff:1872.345458984375\n",
            "In-dist image 56 OPT: 4938.52001953125 VAE: 7746.72314453125 diff:2808.203125\n",
            "In-dist image 57 OPT: 3580.60986328125 VAE: 5341.568359375 diff:1760.95849609375\n",
            "In-dist image 58 OPT: 2698.29736328125 VAE: 5793.8408203125 diff:3095.54345703125\n",
            "In-dist image 59 OPT: 3882.90234375 VAE: 6627.6748046875 diff:2744.7724609375\n",
            "In-dist image 60 OPT: 4062.63623046875 VAE: 5926.45458984375 diff:1863.818359375\n",
            "In-dist image 61 OPT: 4975.7578125 VAE: 6863.53466796875 diff:1887.77685546875\n",
            "In-dist image 62 OPT: 5071.57470703125 VAE: 6631.7958984375 diff:1560.22119140625\n",
            "In-dist image 63 OPT: 3397.596923828125 VAE: 5633.86376953125 diff:2236.266845703125\n",
            "In-dist image 64 OPT: 3841.255615234375 VAE: 7117.96728515625 diff:3276.711669921875\n",
            "In-dist image 65 OPT: 4449.6298828125 VAE: 6378.296875 diff:1928.6669921875\n",
            "In-dist image 66 OPT: 3475.847900390625 VAE: 5862.35302734375 diff:2386.505126953125\n",
            "In-dist image 67 OPT: 4699.89892578125 VAE: 6352.95263671875 diff:1653.0537109375\n",
            "In-dist image 68 OPT: 3228.67333984375 VAE: 4290.09228515625 diff:1061.4189453125\n",
            "In-dist image 69 OPT: 4212.77392578125 VAE: 5765.66357421875 diff:1552.8896484375\n",
            "In-dist image 70 OPT: 4886.005859375 VAE: 6339.36474609375 diff:1453.35888671875\n",
            "In-dist image 71 OPT: 4887.03369140625 VAE: 6084.58203125 diff:1197.54833984375\n",
            "In-dist image 72 OPT: 4304.923828125 VAE: 6209.8671875 diff:1904.943359375\n",
            "In-dist image 73 OPT: 5180.64306640625 VAE: 6856.42724609375 diff:1675.7841796875\n",
            "In-dist image 74 OPT: 5262.52294921875 VAE: 7640.013671875 diff:2377.49072265625\n",
            "In-dist image 75 OPT: 4627.26611328125 VAE: 5921.7265625 diff:1294.46044921875\n",
            "In-dist image 76 OPT: 5203.5048828125 VAE: 7534.17138671875 diff:2330.66650390625\n",
            "In-dist image 77 OPT: 5148.82421875 VAE: 6882.341796875 diff:1733.517578125\n",
            "In-dist image 78 OPT: 3513.222412109375 VAE: 6384.32666015625 diff:2871.104248046875\n",
            "In-dist image 79 OPT: 4638.0771484375 VAE: 5875.15478515625 diff:1237.07763671875\n",
            "In-dist image 80 OPT: 2218.649169921875 VAE: 3048.6826171875 diff:830.033447265625\n",
            "In-dist image 81 OPT: 4105.12451171875 VAE: 6190.60498046875 diff:2085.48046875\n",
            "In-dist image 82 OPT: 4354.85546875 VAE: 6047.5908203125 diff:1692.7353515625\n",
            "In-dist image 83 OPT: 4597.99462890625 VAE: 6371.08642578125 diff:1773.091796875\n",
            "In-dist image 84 OPT: 4441.05126953125 VAE: 5904.796875 diff:1463.74560546875\n",
            "In-dist image 85 OPT: 4498.02783203125 VAE: 7572.416015625 diff:3074.38818359375\n",
            "In-dist image 86 OPT: 4797.41455078125 VAE: 7376.01220703125 diff:2578.59765625\n",
            "In-dist image 87 OPT: 3978.925048828125 VAE: 5507.36767578125 diff:1528.442626953125\n",
            "In-dist image 88 OPT: 4915.529296875 VAE: 7819.01806640625 diff:2903.48876953125\n",
            "In-dist image 89 OPT: 4792.86572265625 VAE: 7154.1103515625 diff:2361.24462890625\n",
            "In-dist image 90 OPT: 4606.7041015625 VAE: 7425.34375 diff:2818.6396484375\n",
            "In-dist image 91 OPT: 3913.1064453125 VAE: 5971.93017578125 diff:2058.82373046875\n",
            "In-dist image 92 OPT: 3627.965576171875 VAE: 7617.65283203125 diff:3989.687255859375\n",
            "In-dist image 93 OPT: 5161.20263671875 VAE: 6826.19287109375 diff:1664.990234375\n",
            "In-dist image 94 OPT: 5337.9873046875 VAE: 7806.544921875 diff:2468.5576171875\n",
            "In-dist image 95 OPT: 4814.978515625 VAE: 6957.0771484375 diff:2142.0986328125\n",
            "In-dist image 96 OPT: 3622.902099609375 VAE: 5959.34716796875 diff:2336.445068359375\n",
            "In-dist image 97 OPT: 4511.03125 VAE: 6906.36767578125 diff:2395.33642578125\n",
            "In-dist image 98 OPT: 4875.134765625 VAE: 6938.41357421875 diff:2063.27880859375\n",
            "In-dist image 99 OPT: 4035.600830078125 VAE: 4633.50927734375 diff:597.908447265625\n"
          ]
        }
      ]
    },
    {
      "cell_type": "code",
      "source": [
        "current_directory = os.getcwd()\n",
        "current_directory = os.path.join(current_directory, r'array')\n",
        "if not os.path.exists(current_directory):\n",
        "    os.makedirs(current_directory)\n",
        "np.save('./array/ood_cifar_regret.npy', NLL_regret_ood_cifar)\n",
        "np.save('./array/ood_cifar_nll.npy', NLL_ood_cifar)"
      ],
      "metadata": {
        "id": "s8KBpWtXdTIe"
      },
      "execution_count": null,
      "outputs": []
    },
    {
      "cell_type": "markdown",
      "source": [
        "### Plot Likelihood Regret Results"
      ],
      "metadata": {
        "id": "Oj3AlIgEdU_q"
      }
    },
    {
      "cell_type": "code",
      "source": [
        "import numpy as np\n",
        "import matplotlib.pyplot as plt\n",
        "\n",
        "\n",
        "ll_indist = -np.load('./array/indist_nll.npy')\n",
        "ll_ood_fash = -np.load('./array/ood_fash_nll.npy')\n",
        "ll_ood_cifar = -np.load('./array/ood_cifar_nll.npy')\n",
        "\n",
        "\n",
        "min_ll = min(ll_indist.min(), ll_ood_fash.min(), ll_ood_cifar.min())\n",
        "max_ll = max(ll_indist.max(), ll_ood_fash.max(), ll_ood_cifar.max())\n",
        "bins_ll = np.linspace(min_ll, max_ll, 50)\n",
        "\n",
        "plt.hist(ll_indist, bins_ll, alpha=0.5, label='In-distribution - MNIST')\n",
        "plt.hist(ll_ood_fash, bins_ll, alpha=0.5, label='OOD - FMNIST')\n",
        "plt.hist(ll_ood_cifar, bins_ll, alpha=0.5, label='OOD - CIFAR10')\n",
        "\n",
        "plt.legend(loc='upper right')\n",
        "plt.show()"
      ],
      "metadata": {
        "id": "jV9QPiY5dWTq",
        "colab": {
          "base_uri": "https://localhost:8080/",
          "height": 265
        },
        "outputId": "8aac1f3a-b39f-4bef-d574-1433927483f5"
      },
      "execution_count": null,
      "outputs": [
        {
          "output_type": "display_data",
          "data": {
            "text/plain": [
              "<Figure size 432x288 with 1 Axes>"
            ],
            "image/png": "[encoded data removed]"
          },
          "metadata": {
            "needs_background": "light"
          }
        }
      ]
    },
    {
      "cell_type": "code",
      "source": [
        "import numpy as np\n",
        "import matplotlib.pyplot as plt\n",
        "\n",
        "\n",
        "regret_indist = np.load('./array/indist_regret.npy')\n",
        "regret_ood_fash = np.load('./array/ood_fash_regret.npy')\n",
        "regret_ood_cifar = np.load('./array/ood_cifar_regret.npy')\n",
        "\n",
        "\n",
        "min_ll = min(regret_indist.min(), regret_ood_fash.min(), regret_ood_cifar.min())\n",
        "max_ll = max(regret_indist.max(), regret_ood_fash.max(), regret_ood_cifar.max())\n",
        "bins_ll = np.linspace(min_ll, max_ll, 50)\n",
        "\n",
        "plt.hist(regret_indist, bins_ll, alpha=0.5, label='In-distribution - MNIST')\n",
        "plt.hist(regret_ood_fash, bins_ll, alpha=0.5, label='OOD - FMNIST')\n",
        "plt.hist(regret_ood_cifar, bins_ll, alpha=0.5, label='OOD - CIFAR10')\n",
        "\n",
        "plt.legend(loc='upper right')\n",
        "plt.show()"
      ],
      "metadata": {
        "id": "bkNOWXK9dYS3",
        "colab": {
          "base_uri": "https://localhost:8080/",
          "height": 265
        },
        "outputId": "05bc03e0-5805-4f0d-a380-ef2f1fb23395"
      },
      "execution_count": null,
      "outputs": [
        {
          "output_type": "display_data",
          "data": {
            "text/plain": [
              "<Figure size 432x288 with 1 Axes>"
            ],
            "image/png": "[encoded data removed]"
          },
          "metadata": {
            "needs_background": "light"
          }
        }
      ]
    },
    {
      "cell_type": "markdown",
      "source": [
        "#### Plot AUC-ROC"
      ],
      "metadata": {
        "id": "FiWnO4m6daMz"
      }
    },
    {
      "cell_type": "code",
      "source": [
        "def plot_roc_curve(fpr, tpr):\n",
        "    plt.plot(fpr, tpr, color='orange', label='ROC')\n",
        "    plt.plot([0, 1], [0, 1], color='darkblue', linestyle='--')\n",
        "    plt.xlabel('False Positive Rate')\n",
        "    plt.ylabel('True Positive Rate')\n",
        "    plt.title('Receiver Operating Characteristic (ROC) Curve')\n",
        "    plt.legend()\n",
        "    plt.show()"
      ],
      "metadata": {
        "id": "mr555McjdbGI"
      },
      "execution_count": null,
      "outputs": []
    },
    {
      "cell_type": "markdown",
      "source": [
        "### AUC for likelihood regret MNIST VS CIFAR10"
      ],
      "metadata": {
        "id": "flr6cGbGdcLZ"
      }
    },
    {
      "cell_type": "code",
      "source": [
        "from sklearn import metrics\n",
        "\n",
        "regret_indist = np.load('./array/indist_regret.npy')\n",
        "regret_ood_cifar = np.load('./array/ood_cifar_regret.npy')\n",
        "\n",
        "combined = np.concatenate((regret_indist, regret_ood_cifar))\n",
        "label_1 = np.ones(len(regret_indist))\n",
        "label_2 = np.zeros(len(regret_ood_cifar))\n",
        "label = np.concatenate((label_1, label_2))\n",
        "\n",
        "fpr, tpr, thresholds = metrics.roc_curve(label, combined, pos_label=0)\n",
        "\n",
        "plot_roc_curve(fpr, tpr)\n",
        "\n",
        "rocauc = metrics.auc(fpr, tpr)\n",
        "print('AUC for likelihood regret is: ', rocauc)"
      ],
      "metadata": {
        "id": "GYg2gEj4ddHv",
        "colab": {
          "base_uri": "https://localhost:8080/",
          "height": 312
        },
        "outputId": "145c62b1-1afb-4a84-979a-2536ccdd98a9"
      },
      "execution_count": null,
      "outputs": [
        {
          "output_type": "display_data",
          "data": {
            "text/plain": [
              "<Figure size 432x288 with 1 Axes>"
            ],
            "image/png": "[encoded data removed]"
          },
          "metadata": {
            "needs_background": "light"
          }
        },
        {
          "output_type": "stream",
          "name": "stdout",
          "text": [
            "AUC for likelihood regret is:  0.98\n"
          ]
        }
      ]
    },
    {
      "cell_type": "markdown",
      "source": [
        "### AUC for likelihood regret MNIST VS FASHION MNIST"
      ],
      "metadata": {
        "id": "jag4gQFVdebT"
      }
    },
    {
      "cell_type": "code",
      "source": [
        "from sklearn import metrics\n",
        "\n",
        "regret_indist = np.load('./array/indist_regret.npy')\n",
        "regret_ood_fash = np.load('./array/ood_fash_regret.npy')\n",
        "\n",
        "combined = np.concatenate((regret_indist, regret_ood_fash))\n",
        "label_1 = np.ones(len(regret_indist))\n",
        "label_2 = np.zeros(len(regret_ood_fash))\n",
        "label = np.concatenate((label_1, label_2))\n",
        "\n",
        "fpr, tpr, thresholds = metrics.roc_curve(label, combined, pos_label=0)\n",
        "\n",
        "plot_roc_curve(fpr, tpr)\n",
        "\n",
        "rocauc = metrics.auc(fpr, tpr)\n",
        "print('AUC for likelihood regret is: ', rocauc)"
      ],
      "metadata": {
        "id": "WMNqjs-vdfQI",
        "colab": {
          "base_uri": "https://localhost:8080/",
          "height": 312
        },
        "outputId": "366896b8-cf60-4bac-acd3-033e54214d76"
      },
      "execution_count": null,
      "outputs": [
        {
          "output_type": "display_data",
          "data": {
            "text/plain": [
              "<Figure size 432x288 with 1 Axes>"
            ],
            "image/png": "[encoded data removed]"
          },
          "metadata": {
            "needs_background": "light"
          }
        },
        {
          "output_type": "stream",
          "name": "stdout",
          "text": [
            "AUC for likelihood regret is:  0.9929\n"
          ]
        }
      ]
    },
    {
      "cell_type": "code",
      "source": [
        "def likleihood_regret_single(xi, netG, netE):\n",
        "    NLL_regret_indist = []\n",
        "    NLL_indist = []\n",
        "    x = xi.expand(config_model[\"repeat\"],-1,-1,-1).contiguous()\n",
        "    weights_agg  = []\n",
        "    with torch.no_grad():\n",
        "        #NLL ALG.\n",
        "        for batch_number in range(5):\n",
        "            \n",
        "            x = x.to(device)\n",
        "            b = x.size(0)\n",
        "    \n",
        "            [z,mu,logvar] = netE(x)\n",
        "            recon = netG(z)\n",
        "            mu = mu.view(mu.size(0),mu.size(1))\n",
        "            logvar = logvar.view(logvar.size(0), logvar.size(1))\n",
        "            z = z.view(z.size(0),z.size(1))\n",
        "            weights = utils.store_NLL(x, recon, mu, logvar, z, config_model[\"repeat\"])\n",
        "          \n",
        "            weights_agg.append(weights)\n",
        "        \n",
        "        weights_agg = torch.stack(weights_agg).view(-1) \n",
        "        \n",
        "        NLL_loss_before = utils.compute_NLL(weights_agg) \n",
        "        NLL_indist = np.append(NLL_indist, NLL_loss_before.detach().cpu().numpy())\n",
        "\n",
        "\n",
        "                #Likelihood Regret ALG.\n",
        "    xi = xi.to(device)\n",
        "    b = xi.size(0)\n",
        "    netE_copy = copy.deepcopy(netE)\n",
        "    netE_copy.eval()\n",
        "    optimizer = optim.Adam(netE_copy.parameters(), lr=config_model[\"learning_rate\"], betas=(config_model[\"beta-adam\"], 0.999),weight_decay=5e-5)\n",
        "    target = Variable(xi.data.view(-1) * 255).long()\n",
        "    for it in range(config_model[\"num_iter_samples\"]):\n",
        "        \n",
        "        [z,mu,logvar] = netE_copy(xi)\n",
        "        recon = netG(z)\n",
        "        \n",
        "        recon = recon.contiguous()\n",
        "        recon = recon.view(-1,256)\n",
        "        recl = loss_fn(recon, target)\n",
        "        \n",
        "        recl = torch.sum(recl) / b\n",
        "        kld = KL_div(mu,logvar)\n",
        "        \n",
        "        loss =  recl + kld.mean()\n",
        "        optimizer.zero_grad()\n",
        "        loss.backward()\n",
        "        optimizer.step()\n",
        "    \n",
        "    weights_agg  = []\n",
        "    with torch.no_grad():\n",
        "        xi = xi.expand(config_model[\"repeat\"],-1,-1,-1).contiguous()\n",
        "        target = Variable(xi.data.view(-1) * 255).long()\n",
        "        for batch_number in range(5):\n",
        "            [z,mu,logvar] = netE_copy(xi)\n",
        "            recon = netG(z)\n",
        "            recon = recon.contiguous()\n",
        "            mu = mu.view(mu.size(0),mu.size(1))\n",
        "            logvar = logvar.view(logvar.size(0), logvar.size(1))\n",
        "            z = z.view(z.size(0),z.size(1))\n",
        "            weights = utils.store_NLL(x, recon, mu, logvar, z, config_model[\"repeat\"])\n",
        "            \n",
        "            weights_agg.append(weights)\n",
        "     \n",
        "        \n",
        "        weights_agg = torch.stack(weights_agg).view(-1) \n",
        "        NLL_loss_after = utils.compute_NLL(weights_agg) \n",
        "        print('In-dist image OPT: {} VAE: {} diff:{}'.format( NLL_loss_after.item(), NLL_loss_before.item(), NLL_loss_before.item()  - NLL_loss_after.item()))\n",
        "        regret = NLL_loss_before  - NLL_loss_after\n",
        "        NLL_regret_indist = np.append(NLL_regret_indist, regret.detach().cpu().numpy())\n",
        "\n",
        "    return NLL_regret_indist, NLL_indist   "
      ],
      "metadata": {
        "id": "9BkyQNGDdg6H"
      },
      "execution_count": null,
      "outputs": []
    },
    {
      "cell_type": "markdown",
      "source": [
        "### Implementation of Variational AutoEncoder (VAE)\n",
        "\n",
        "    * VAE from \"Auto-Encoding Variational Bayes\" \n",
        "\n"
      ],
      "metadata": {
        "id": "LpasU3sMdiW5"
      }
    },
    {
      "cell_type": "code",
      "source": [
        "other_config = {\n",
        "    \"batch_size\": 100,\n",
        "    \"device\": \"cuda\",\n",
        "    \"learning_rate\": 0.001,\n",
        "    \"num_epochs\": 30,#30,\n",
        "    \"split_dataset\": 0.8,\n",
        "    \"cnn_path\":\"cnn_models.pt\",\n",
        "    \"h-dvae_path\":\"hdvae_models.pt\",\n",
        "}"
      ],
      "metadata": {
        "id": "a5B325YDdjS_"
      },
      "execution_count": null,
      "outputs": []
    },
    {
      "cell_type": "code",
      "source": [
        "batch_size = 100\n",
        "\n",
        "x_dim  = 784\n",
        "hidden_dim = 400\n",
        "latent_dim = 200\n",
        "\n",
        "lr = 1e-3\n",
        "\n",
        "epochs = 30"
      ],
      "metadata": {
        "id": "5Rv-Z67fdkOG"
      },
      "execution_count": null,
      "outputs": []
    },
    {
      "cell_type": "markdown",
      "source": [
        "###    Step 1. Load (or download) Dataset"
      ],
      "metadata": {
        "id": "j77x55mMdlVe"
      }
    },
    {
      "cell_type": "code",
      "source": [
        "from torchvision.datasets import MNIST\n",
        "import torchvision.transforms as transforms\n",
        "from torch.utils.data import DataLoader\n",
        "\n",
        "dataset_path = './datasets'\n",
        "\n",
        "mnist_transform = transforms.Compose([\n",
        "        transforms.ToTensor(),\n",
        "        #transforms.Normalize((0.1307,), (0.3081,)),\n",
        "        transforms.RandomRotation(50),\n",
        "        transforms.Resize((28, 28)),\n",
        "])\n",
        "\n",
        "kwargs = {'num_workers': 1, 'pin_memory': True} \n",
        "\n",
        "train_dataset_for_vae = MNIST(dataset_path, transform=mnist_transform, train=True, download=True)\n",
        "test_dataset_for_vae  = MNIST(dataset_path, transform=mnist_transform, train=False, download=True)\n",
        "\n",
        "train_loader_for_vae = DataLoader(dataset=train_dataset_for_vae, batch_size=batch_size, shuffle=True, **kwargs)\n",
        "test_loader_for_vae  = DataLoader(dataset=test_dataset_for_vae,  batch_size=batch_size, shuffle=False, **kwargs)"
      ],
      "metadata": {
        "id": "tb8Xe9BBdmcQ"
      },
      "execution_count": null,
      "outputs": []
    },
    {
      "cell_type": "markdown",
      "source": [
        "### Step 2. Define our model: Variational AutoEncoder (VAE)"
      ],
      "metadata": {
        "id": "mBPWMw5adoC9"
      }
    },
    {
      "cell_type": "code",
      "source": [
        "\"\"\"\n",
        "    A simple implementation of Gaussian MLP Encoder and Decoder\n",
        "\"\"\"\n",
        "\n",
        "class Encoder(nn.Module):\n",
        "    \n",
        "    def __init__(self, input_dim, hidden_dim, latent_dim):\n",
        "        super(Encoder, self).__init__()\n",
        "\n",
        "        self.FC_input = nn.Linear(input_dim, hidden_dim)\n",
        "        self.FC_input2 = nn.Linear(hidden_dim, hidden_dim)\n",
        "        self.FC_mean  = nn.Linear(hidden_dim, latent_dim)\n",
        "        self.FC_var   = nn.Linear (hidden_dim, latent_dim)\n",
        "        \n",
        "        self.LeakyReLU = nn.LeakyReLU(0.2)\n",
        "        \n",
        "        self.training = True\n",
        "        \n",
        "    def forward(self, x):\n",
        "        h_       = self.LeakyReLU(self.FC_input(x))\n",
        "        h_       = self.LeakyReLU(self.FC_input2(h_))\n",
        "        mean     = self.FC_mean(h_)\n",
        "        log_var  = self.FC_var(h_)                   \n",
        "        return mean, log_var"
      ],
      "metadata": {
        "id": "fIdOm3qJdo8L"
      },
      "execution_count": null,
      "outputs": []
    },
    {
      "cell_type": "code",
      "source": [
        "class Decoder(nn.Module):\n",
        "    def __init__(self, latent_dim, hidden_dim, output_dim):\n",
        "        super(Decoder, self).__init__()\n",
        "        self.FC_hidden = nn.Linear(latent_dim, hidden_dim)\n",
        "        self.FC_hidden2 = nn.Linear(hidden_dim, hidden_dim)\n",
        "        self.FC_output = nn.Linear(hidden_dim, output_dim)\n",
        "        \n",
        "        self.LeakyReLU = nn.LeakyReLU(0.2)\n",
        "        \n",
        "    def forward(self, x):\n",
        "        h     = self.LeakyReLU(self.FC_hidden(x))\n",
        "        h     = self.LeakyReLU(self.FC_hidden2(h))\n",
        "        \n",
        "        x_hat = torch.sigmoid(self.FC_output(h))\n",
        "        return x_hat\n",
        "        "
      ],
      "metadata": {
        "id": "alnvpzQjdqBE"
      },
      "execution_count": null,
      "outputs": []
    },
    {
      "cell_type": "code",
      "source": [
        "class Model(nn.Module):\n",
        "    def __init__(self, Encoder, Decoder):\n",
        "        super(Model, self).__init__()\n",
        "        self.Encoder = Encoder\n",
        "        self.Decoder = Decoder\n",
        "        \n",
        "    def reparameterization(self, mean, var):\n",
        "        epsilon = torch.randn_like(var).to(device)        # sampling epsilon        \n",
        "        z = mean + var*epsilon                          # reparameterization trick\n",
        "        return z\n",
        "        \n",
        "                \n",
        "    def forward(self, x):\n",
        "        mean, log_var = self.Encoder(x)\n",
        "        z = self.reparameterization(mean, torch.exp(0.5 * log_var)) # takes exponential function (log var -> var)\n",
        "        x_hat            = self.Decoder(z)\n",
        "        \n",
        "        return x_hat, mean, log_var"
      ],
      "metadata": {
        "id": "n--bjPxgdq_c"
      },
      "execution_count": null,
      "outputs": []
    },
    {
      "cell_type": "code",
      "source": [
        "encoder = Encoder(input_dim=x_dim, hidden_dim=hidden_dim, latent_dim=latent_dim)\n",
        "decoder = Decoder(latent_dim=latent_dim, hidden_dim = hidden_dim, output_dim = x_dim)\n",
        "\n",
        "model = Model(Encoder=encoder, Decoder=decoder).to(device)"
      ],
      "metadata": {
        "id": "c_vYxHVpdsHd"
      },
      "execution_count": null,
      "outputs": []
    },
    {
      "cell_type": "markdown",
      "source": [
        "### Step 3. Define Loss function (reprod. loss) and optimizer"
      ],
      "metadata": {
        "id": "6toABINzdtLJ"
      }
    },
    {
      "cell_type": "code",
      "source": [
        "from torch.optim import Adam\n",
        "\n",
        "BCE_loss = nn.BCELoss()\n",
        "\n",
        "def loss_function_beta_vae(x, x_hat, mean, log_var):\n",
        "    reproduction_loss = nn.functional.binary_cross_entropy(x_hat, x, reduction='sum')\n",
        "    KLD      = - 0.5 * torch.sum(1+ log_var - mean.pow(2) - log_var.exp())\n",
        "\n",
        "    return reproduction_loss + KLD\n",
        "\n",
        "def rec_loss(x, x_hat, mean, log_var):\n",
        "    reproduction_loss = nn.functional.binary_cross_entropy(x_hat, x, reduction='sum')\n",
        "    return reproduction_loss\n",
        "\n",
        "optimizer = Adam(model.parameters(), lr=lr)"
      ],
      "metadata": {
        "id": "pyte88GMdtw_"
      },
      "execution_count": null,
      "outputs": []
    },
    {
      "cell_type": "markdown",
      "source": [
        "### Step 4. Train Variational AutoEncoder (VAE)"
      ],
      "metadata": {
        "id": "jxlozKy4dvr6"
      }
    },
    {
      "cell_type": "code",
      "source": [
        "print(\"Start training VAE...\")\n",
        "model.train()\n",
        "\n",
        "for epoch in range(epochs):\n",
        "    overall_loss = 0\n",
        "    for batch_idx, (x, _) in enumerate(train_loader_for_vae):\n",
        "        x = x.view(batch_size, x_dim)\n",
        "        x = x.to(device)\n",
        "\n",
        "        optimizer.zero_grad()\n",
        "\n",
        "        x_hat, mean, log_var = model(x)\n",
        "        loss = loss_function_beta_vae(x, x_hat, mean, log_var)\n",
        "        \n",
        "        overall_loss += loss.item()\n",
        "        \n",
        "        loss.backward()\n",
        "        optimizer.step()\n",
        "        \n",
        "    print(\"\\tEpoch\", epoch + 1, \"complete!\", \"\\tAverage Loss: \", overall_loss / (batch_idx*batch_size))\n",
        "    \n",
        "print(\"Finish!!\")"
      ],
      "metadata": {
        "id": "xL6ccv8jdwe6",
        "colab": {
          "base_uri": "https://localhost:8080/"
        },
        "outputId": "fc278957-ed28-414a-fd5b-c763bb94d8b8"
      },
      "execution_count": null,
      "outputs": [
        {
          "output_type": "stream",
          "name": "stdout",
          "text": [
            "Start training VAE...\n",
            "\tEpoch 1 complete! \tAverage Loss:  191.3471493830864\n",
            "\tEpoch 2 complete! \tAverage Loss:  146.81151181330864\n",
            "\tEpoch 3 complete! \tAverage Loss:  132.97187848888774\n",
            "\tEpoch 4 complete! \tAverage Loss:  127.83200094232575\n",
            "\tEpoch 5 complete! \tAverage Loss:  124.77434837685205\n",
            "\tEpoch 6 complete! \tAverage Loss:  122.8943646311561\n",
            "\tEpoch 7 complete! \tAverage Loss:  121.50109614657241\n",
            "\tEpoch 8 complete! \tAverage Loss:  120.53248707155154\n",
            "\tEpoch 9 complete! \tAverage Loss:  119.81402244300396\n",
            "\tEpoch 10 complete! \tAverage Loss:  119.29763984896702\n",
            "\tEpoch 11 complete! \tAverage Loss:  118.82808215515442\n",
            "\tEpoch 12 complete! \tAverage Loss:  118.44507970641173\n",
            "\tEpoch 13 complete! \tAverage Loss:  118.06051117096202\n",
            "\tEpoch 14 complete! \tAverage Loss:  117.78859644003026\n",
            "\tEpoch 15 complete! \tAverage Loss:  117.58848089915485\n",
            "\tEpoch 16 complete! \tAverage Loss:  117.26714087280885\n",
            "\tEpoch 17 complete! \tAverage Loss:  117.04950591480592\n",
            "\tEpoch 18 complete! \tAverage Loss:  116.92402989357262\n",
            "\tEpoch 19 complete! \tAverage Loss:  116.73955942195326\n",
            "\tEpoch 20 complete! \tAverage Loss:  116.57456191634495\n",
            "\tEpoch 21 complete! \tAverage Loss:  116.43902141590151\n",
            "\tEpoch 22 complete! \tAverage Loss:  116.32779631090881\n",
            "\tEpoch 23 complete! \tAverage Loss:  116.15911947973184\n",
            "\tEpoch 24 complete! \tAverage Loss:  116.04280446251565\n",
            "\tEpoch 25 complete! \tAverage Loss:  115.94139689195534\n",
            "\tEpoch 26 complete! \tAverage Loss:  115.8074562910841\n",
            "\tEpoch 27 complete! \tAverage Loss:  115.73199518729132\n",
            "\tEpoch 28 complete! \tAverage Loss:  115.62249126147746\n",
            "\tEpoch 29 complete! \tAverage Loss:  115.50241284301961\n",
            "\tEpoch 30 complete! \tAverage Loss:  115.42153268142216\n",
            "Finish!!\n"
          ]
        }
      ]
    },
    {
      "cell_type": "markdown",
      "source": [
        "### Step 5. Generate images from test dataset"
      ],
      "metadata": {
        "id": "drf1qQF2dx3g"
      }
    },
    {
      "cell_type": "code",
      "source": [
        "model.eval()\n",
        "\n",
        "with torch.no_grad():\n",
        "    for batch_idx, (x, _) in enumerate(tqdm(test_loader_for_vae)):\n",
        "        x = x.view(batch_size, x_dim)\n",
        "        x = x.to(device)\n",
        "        \n",
        "        x_hat, _, _ = model(x)\n",
        "\n",
        "\n",
        "        break"
      ],
      "metadata": {
        "id": "C5KfDWRadzA0",
        "colab": {
          "base_uri": "https://localhost:8080/"
        },
        "outputId": "8233e38e-a9e0-47ac-f10e-ccb4c85a90f0"
      },
      "execution_count": null,
      "outputs": [
        {
          "output_type": "stream",
          "name": "stderr",
          "text": [
            "  0%|          | 0/100 [00:00<?, ?it/s]\n"
          ]
        }
      ]
    },
    {
      "cell_type": "code",
      "source": [
        "utils.show_image_28(x, idx=0)"
      ],
      "metadata": {
        "id": "OI-1MbBqd0Fy",
        "colab": {
          "base_uri": "https://localhost:8080/",
          "height": 265
        },
        "outputId": "ae2c9a23-7168-4f82-cd2e-23762d0f8e3c"
      },
      "execution_count": null,
      "outputs": [
        {
          "output_type": "display_data",
          "data": {
            "text/plain": [
              "<Figure size 432x288 with 1 Axes>"
            ],
            "image/png": "[encoded data removed]"
          },
          "metadata": {
            "needs_background": "light"
          }
        }
      ]
    },
    {
      "cell_type": "code",
      "source": [
        "utils.show_image_28(x_hat, idx=0)"
      ],
      "metadata": {
        "id": "gCnbgglYd1P4",
        "colab": {
          "base_uri": "https://localhost:8080/",
          "height": 265
        },
        "outputId": "c5d59773-5e83-4b54-9e43-439b28ba5a7c"
      },
      "execution_count": null,
      "outputs": [
        {
          "output_type": "display_data",
          "data": {
            "text/plain": [
              "<Figure size 432x288 with 1 Axes>"
            ],
            "image/png": "[encoded data removed]"
          },
          "metadata": {
            "needs_background": "light"
          }
        }
      ]
    },
    {
      "cell_type": "markdown",
      "source": [
        "### Step 6. Generate image from noise vector"
      ],
      "metadata": {
        "id": "8wWRfiYSd29z"
      }
    },
    {
      "cell_type": "code",
      "source": [
        "with torch.no_grad():\n",
        "    noise = torch.randn(batch_size, latent_dim).to(device)\n",
        "    generated_images = decoder(noise)"
      ],
      "metadata": {
        "id": "TjJzdKtvd1J9"
      },
      "execution_count": null,
      "outputs": []
    },
    {
      "cell_type": "code",
      "source": [
        "save_image(generated_images.view(batch_size, 1, 28, 28), 'generated_sample_2.png')"
      ],
      "metadata": {
        "id": "IuZpuA8Ld4zB"
      },
      "execution_count": null,
      "outputs": []
    },
    {
      "cell_type": "code",
      "source": [
        "utils.show_image_28(generated_images, idx=12)"
      ],
      "metadata": {
        "id": "n-W0Y_RCd6jz",
        "colab": {
          "base_uri": "https://localhost:8080/",
          "height": 265
        },
        "outputId": "dc20de3e-5b86-4e7d-cbe8-f24fe77a1c44"
      },
      "execution_count": null,
      "outputs": [
        {
          "output_type": "display_data",
          "data": {
            "text/plain": [
              "<Figure size 432x288 with 1 Axes>"
            ],
            "image/png": "[encoded data removed]"
          },
          "metadata": {
            "needs_background": "light"
          }
        }
      ]
    },
    {
      "cell_type": "code",
      "source": [
        "utils.show_image_28(generated_images, idx=0)"
      ],
      "metadata": {
        "id": "H2Ph50DAd7qC",
        "colab": {
          "base_uri": "https://localhost:8080/",
          "height": 265
        },
        "outputId": "4fd7db17-14eb-4088-875c-2ef145be0cde"
      },
      "execution_count": null,
      "outputs": [
        {
          "output_type": "display_data",
          "data": {
            "text/plain": [
              "<Figure size 432x288 with 1 Axes>"
            ],
            "image/png": "[encoded data removed]"
          },
          "metadata": {
            "needs_background": "light"
          }
        }
      ]
    },
    {
      "cell_type": "code",
      "source": [
        "utils.show_image_28(generated_images, idx=1)"
      ],
      "metadata": {
        "id": "76cVdmfDd8Xq",
        "colab": {
          "base_uri": "https://localhost:8080/",
          "height": 265
        },
        "outputId": "268d7200-678d-434a-f6c6-e09d921e3116"
      },
      "execution_count": null,
      "outputs": [
        {
          "output_type": "display_data",
          "data": {
            "text/plain": [
              "<Figure size 432x288 with 1 Axes>"
            ],
            "image/png": "[encoded data removed]"
          },
          "metadata": {
            "needs_background": "light"
          }
        }
      ]
    },
    {
      "cell_type": "code",
      "source": [
        "utils.show_image_28(generated_images, idx=10)"
      ],
      "metadata": {
        "id": "B8h4LbCdd-1v",
        "colab": {
          "base_uri": "https://localhost:8080/",
          "height": 265
        },
        "outputId": "84ea2239-182f-4f38-dcdf-08a04b1564f4"
      },
      "execution_count": null,
      "outputs": [
        {
          "output_type": "display_data",
          "data": {
            "text/plain": [
              "<Figure size 432x288 with 1 Axes>"
            ],
            "image/png": "[encoded data removed]"
          },
          "metadata": {
            "needs_background": "light"
          }
        }
      ]
    },
    {
      "cell_type": "code",
      "source": [
        "utils.show_image_28(generated_images, idx=20)"
      ],
      "metadata": {
        "id": "-iWRa5zfeAVk",
        "colab": {
          "base_uri": "https://localhost:8080/",
          "height": 265
        },
        "outputId": "f00ccd0c-7260-4e22-f567-6629fd971fb7"
      },
      "execution_count": null,
      "outputs": [
        {
          "output_type": "display_data",
          "data": {
            "text/plain": [
              "<Figure size 432x288 with 1 Axes>"
            ],
            "image/png": "[encoded data removed]"
          },
          "metadata": {
            "needs_background": "light"
          }
        }
      ]
    },
    {
      "cell_type": "code",
      "source": [
        "utils.show_image_28(generated_images, idx=50)"
      ],
      "metadata": {
        "id": "K3A_6ae8eBzx",
        "colab": {
          "base_uri": "https://localhost:8080/",
          "height": 265
        },
        "outputId": "d633ffc4-eafe-455e-92e7-c3de90dc5470"
      },
      "execution_count": null,
      "outputs": [
        {
          "output_type": "display_data",
          "data": {
            "text/plain": [
              "<Figure size 432x288 with 1 Axes>"
            ],
            "image/png": "[encoded data removed]"
          },
          "metadata": {
            "needs_background": "light"
          }
        }
      ]
    },
    {
      "cell_type": "code",
      "source": [
        "from torchvision.datasets import FashionMNIST\n",
        "\n",
        "fash_set = FashionMNIST(\n",
        "    root = './datasets/FashionMNIST',\n",
        "    train = True,\n",
        "    download = True,\n",
        "    transform = transforms.Compose([\n",
        "        transforms.ToTensor()                                 \n",
        "    ])\n",
        ")\n",
        "loader_fash = DataLoader(dataset=fash_set, batch_size=batch_size, shuffle=True, **kwargs)"
      ],
      "metadata": {
        "id": "pWIFtsdFeDYk",
        "colab": {
          "base_uri": "https://localhost:8080/",
          "height": 423,
          "referenced_widgets": [
            "90d9c22683f54f2f8d559a07588285ab",
            "8a70877ac31342f89512af6b4e6c0d4a",
            "16484c4cc781457085915130762bae69",
            "84ea4beb2baf4f88a1679afed99dde61",
            "7d2e0ca4762846db9a43f86726e02463",
            "0b3bfcc874bb409bac403b6d328350b8",
            "8c3c435a7c1d44d286f4bfa7f0288fe8",
            "980ebc9c80bd4abebfaa9abb851e1cf9",
            "2dcae5cbac994d45a078c201458a3174",
            "7eae4f6d72a7452eb06f204593a3c6d2",
            "76e73f8a315948379a6799b66d989521",
            "0b17def8c725407fa26df4deee72ffd8",
            "c876aeb67f2d42de98eff82aee6b5a70",
            "31908524ca36495eb9683c3ba29602d2",
            "939f0c6adbbf4ac6a760e4bc40fe0b03",
            "3469ef53879049c8becc90076c5c3b90",
            "3639b9be16614b3eb4ec08bf4e92ed13",
            "02f8e68db8aa4e2f91ca68d9db14117d",
            "44264edafd42432c8c2f9acca610181c",
            "b5fa5c6e56204ea69fa72eccda0008b4",
            "b4163b7676b847079e3251867ff23270",
            "2fcda479190d4b4eb347b6a98e1c65b9",
            "3a0740131b954e3fba1c92d7ed7fcaa5",
            "0c01ce6544854140a59d0330c8e27d09",
            "525a296460fd47bdac2a1701d3ca3712",
            "dcde508d00fb490b834edc3df0b7d4d3",
            "ee064391dbcb41acad2f50252a90c2a1",
            "48e9a5ec32cf42d688c3242159b2f53b",
            "ba1272cfa497445bb45f6e9fc2494461",
            "6105457fde6848e99f9b195e1e2dc36f",
            "2a445773a2914120890fa94eb0a41c0f",
            "5104f6177f4f4e3b9e9127a9248569cc",
            "f6868336fa7840f19db6ddc0035ae498",
            "8e9e8a09ed2e4c2abb3e98feaa0274f8",
            "5a53e6c60ee84add92d2dbbf16c8facd",
            "c755156a5fb3461aa317c487b2583c88",
            "d07fbb1dae3348698c271d3098d60958",
            "01ceaa3801c24180afdc1bcbe689156e",
            "8c63e933bb4b4082ac3a8544c03f585d",
            "9c98b350f2544d27b5f55d7e449bc72f",
            "c475e7e8b49f4d66929b86024b8aa12f",
            "e56d3064ac094f32bff0e51258d54d60",
            "188159807e9f425c87472bf0fa5e666e",
            "fa1b5d9c3d494baf8fda0d745e55de49"
          ]
        },
        "outputId": "400de771-2266-4ff8-c3a2-5400ef07ea64"
      },
      "execution_count": 54,
      "outputs": [
        {
          "output_type": "stream",
          "name": "stdout",
          "text": [
            "Downloading http://fashion-mnist.s3-website.eu-central-1.amazonaws.com/train-images-idx3-ubyte.gz\n",
            "Downloading http://fashion-mnist.s3-website.eu-central-1.amazonaws.com/train-images-idx3-ubyte.gz to ./datasets/FashionMNIST/FashionMNIST/raw/train-images-idx3-ubyte.gz\n"
          ]
        },
        {
          "output_type": "display_data",
          "data": {
            "text/plain": [
              "  0%|          | 0/26421880 [00:00<?, ?it/s]"
            ],
            "application/vnd.jupyter.widget-view+json": {
              "version_major": 2,
              "version_minor": 0,
              "model_id": "90d9c22683f54f2f8d559a07588285ab"
            }
          },
          "metadata": {}
        },
        {
          "output_type": "stream",
          "name": "stdout",
          "text": [
            "Extracting ./datasets/FashionMNIST/FashionMNIST/raw/train-images-idx3-ubyte.gz to ./datasets/FashionMNIST/FashionMNIST/raw\n",
            "\n",
            "Downloading http://fashion-mnist.s3-website.eu-central-1.amazonaws.com/train-labels-idx1-ubyte.gz\n",
            "Downloading http://fashion-mnist.s3-website.eu-central-1.amazonaws.com/train-labels-idx1-ubyte.gz to ./datasets/FashionMNIST/FashionMNIST/raw/train-labels-idx1-ubyte.gz\n"
          ]
        },
        {
          "output_type": "display_data",
          "data": {
            "text/plain": [
              "  0%|          | 0/29515 [00:00<?, ?it/s]"
            ],
            "application/vnd.jupyter.widget-view+json": {
              "version_major": 2,
              "version_minor": 0,
              "model_id": "0b17def8c725407fa26df4deee72ffd8"
            }
          },
          "metadata": {}
        },
        {
          "output_type": "stream",
          "name": "stdout",
          "text": [
            "Extracting ./datasets/FashionMNIST/FashionMNIST/raw/train-labels-idx1-ubyte.gz to ./datasets/FashionMNIST/FashionMNIST/raw\n",
            "\n",
            "Downloading http://fashion-mnist.s3-website.eu-central-1.amazonaws.com/t10k-images-idx3-ubyte.gz\n",
            "Downloading http://fashion-mnist.s3-website.eu-central-1.amazonaws.com/t10k-images-idx3-ubyte.gz to ./datasets/FashionMNIST/FashionMNIST/raw/t10k-images-idx3-ubyte.gz\n"
          ]
        },
        {
          "output_type": "display_data",
          "data": {
            "text/plain": [
              "  0%|          | 0/4422102 [00:00<?, ?it/s]"
            ],
            "application/vnd.jupyter.widget-view+json": {
              "version_major": 2,
              "version_minor": 0,
              "model_id": "3a0740131b954e3fba1c92d7ed7fcaa5"
            }
          },
          "metadata": {}
        },
        {
          "output_type": "stream",
          "name": "stdout",
          "text": [
            "Extracting ./datasets/FashionMNIST/FashionMNIST/raw/t10k-images-idx3-ubyte.gz to ./datasets/FashionMNIST/FashionMNIST/raw\n",
            "\n",
            "Downloading http://fashion-mnist.s3-website.eu-central-1.amazonaws.com/t10k-labels-idx1-ubyte.gz\n",
            "Downloading http://fashion-mnist.s3-website.eu-central-1.amazonaws.com/t10k-labels-idx1-ubyte.gz to ./datasets/FashionMNIST/FashionMNIST/raw/t10k-labels-idx1-ubyte.gz\n"
          ]
        },
        {
          "output_type": "display_data",
          "data": {
            "text/plain": [
              "  0%|          | 0/5148 [00:00<?, ?it/s]"
            ],
            "application/vnd.jupyter.widget-view+json": {
              "version_major": 2,
              "version_minor": 0,
              "model_id": "8e9e8a09ed2e4c2abb3e98feaa0274f8"
            }
          },
          "metadata": {}
        },
        {
          "output_type": "stream",
          "name": "stdout",
          "text": [
            "Extracting ./datasets/FashionMNIST/FashionMNIST/raw/t10k-labels-idx1-ubyte.gz to ./datasets/FashionMNIST/FashionMNIST/raw\n",
            "\n"
          ]
        }
      ]
    },
    {
      "cell_type": "code",
      "source": [
        "fash_images, _ = next(iter(loader_fash))"
      ],
      "metadata": {
        "id": "ZyG07A02eFvN"
      },
      "execution_count": null,
      "outputs": []
    },
    {
      "cell_type": "code",
      "source": [
        "utils.show_image_28(fash_images, idx=50)"
      ],
      "metadata": {
        "id": "thqW6CgweIax",
        "colab": {
          "base_uri": "https://localhost:8080/",
          "height": 265
        },
        "outputId": "69227b9f-67f0-4dd5-e055-b1624d02f2be"
      },
      "execution_count": null,
      "outputs": [
        {
          "output_type": "display_data",
          "data": {
            "text/plain": [
              "<Figure size 432x288 with 1 Axes>"
            ],
            "image/png": "[encoded data removed]"
          },
          "metadata": {
            "needs_background": "light"
          }
        }
      ]
    },
    {
      "cell_type": "code",
      "source": [
        "utils.show_image_28(fash_images, idx=17)"
      ],
      "metadata": {
        "id": "cAepB5AQeJZN",
        "colab": {
          "base_uri": "https://localhost:8080/",
          "height": 265
        },
        "outputId": "c4878e9b-1b9c-4afa-aec3-6371a6f91bfc"
      },
      "execution_count": null,
      "outputs": [
        {
          "output_type": "display_data",
          "data": {
            "text/plain": [
              "<Figure size 432x288 with 1 Axes>"
            ],
            "image/png": "[encoded data removed]"
          },
          "metadata": {
            "needs_background": "light"
          }
        }
      ]
    },
    {
      "cell_type": "code",
      "source": [
        "from sklearn.metrics import mean_squared_error"
      ],
      "metadata": {
        "id": "nR2uuSA-eKMm"
      },
      "execution_count": null,
      "outputs": []
    },
    {
      "cell_type": "code",
      "source": [
        "model.eval()\n",
        "ood_fashion_loss = np.array([])\n",
        "with torch.no_grad():\n",
        "    for batch_idx, (x, _) in enumerate(tqdm(loader_fash)):\n",
        "        x = x.view(batch_size, x_dim)\n",
        "        x = x.to(device)\n",
        "    \n",
        "        x_hat, mean, log_var = model(x)\n",
        "        #loss = rec_loss(x, x_hat, mean, log_var)\n",
        "        for i in np.arange(0,batch_size, 1):\n",
        "            err = mean_squared_error(x[i].cpu(),x_hat[i].cpu())\n",
        "            #err = nn.functional.binary_cross_entropy(x_hat[i].cpu(), x[i].cpu(), reduction='sum')\n",
        "            ood_fashion_loss = np.append(ood_fashion_loss, err)"
      ],
      "metadata": {
        "id": "evy-XiiCeLI_",
        "colab": {
          "base_uri": "https://localhost:8080/"
        },
        "outputId": "5dcc0a92-177a-4132-f92d-54a062276a53"
      },
      "execution_count": null,
      "outputs": [
        {
          "output_type": "stream",
          "name": "stderr",
          "text": [
            "100%|██████████| 600/600 [00:23<00:00, 25.77it/s]\n"
          ]
        }
      ]
    },
    {
      "cell_type": "code",
      "source": [
        "plt.hist(ood_fashion_loss) \n",
        "plt.title(\"FASHION-MNIST-TEST mse histogram\") \n",
        "plt.show()"
      ],
      "metadata": {
        "id": "iMWv8SR8eL8n",
        "colab": {
          "base_uri": "https://localhost:8080/",
          "height": 281
        },
        "outputId": "29f2a29f-e20d-4db4-fced-13d295fe2e83"
      },
      "execution_count": null,
      "outputs": [
        {
          "output_type": "display_data",
          "data": {
            "text/plain": [
              "<Figure size 432x288 with 1 Axes>"
            ],
            "image/png": "[encoded data removed]"
          },
          "metadata": {
            "needs_background": "light"
          }
        }
      ]
    },
    {
      "cell_type": "code",
      "source": [
        "utils.show_image_28(x, idx=15)"
      ],
      "metadata": {
        "id": "RHDXY1xeeNAm",
        "colab": {
          "base_uri": "https://localhost:8080/",
          "height": 265
        },
        "outputId": "995c80cb-0da3-4826-e904-e2cd723edcd6"
      },
      "execution_count": null,
      "outputs": [
        {
          "output_type": "display_data",
          "data": {
            "text/plain": [
              "<Figure size 432x288 with 1 Axes>"
            ],
            "image/png": "[encoded data removed]"
          },
          "metadata": {
            "needs_background": "light"
          }
        }
      ]
    },
    {
      "cell_type": "code",
      "source": [
        "utils.show_image_28(x_hat, idx=15)"
      ],
      "metadata": {
        "id": "72ASxywdeODd",
        "colab": {
          "base_uri": "https://localhost:8080/",
          "height": 265
        },
        "outputId": "d103e685-812b-4c13-9125-9040b58f7a5c"
      },
      "execution_count": null,
      "outputs": [
        {
          "output_type": "display_data",
          "data": {
            "text/plain": [
              "<Figure size 432x288 with 1 Axes>"
            ],
            "image/png": "[encoded data removed]"
          },
          "metadata": {
            "needs_background": "light"
          }
        }
      ]
    },
    {
      "cell_type": "code",
      "source": [
        "model.eval()\n",
        "iod_loss = np.array([])\n",
        "with torch.no_grad():\n",
        "    for batch_idx, (x, _) in enumerate(tqdm(test_loader_for_vae)):\n",
        "        x = x.view(batch_size, x_dim)\n",
        "        x = x.to(device)\n",
        "        x_hat, mean, log_var = model(x)\n",
        "        #loss = rec_loss(x, x_hat, mean, log_var)\n",
        "        for i in np.arange(0,batch_size, 1):\n",
        "            err = mean_squared_error(x[i].cpu(),x_hat[i].cpu())\n",
        "            #err = nn.functional.binary_cross_entropy(x_hat[i].cpu(), x[i].cpu(), reduction='sum')\n",
        "            iod_loss = np.append(iod_loss, err)"
      ],
      "metadata": {
        "id": "gfNb5VBoeO9h",
        "colab": {
          "base_uri": "https://localhost:8080/"
        },
        "outputId": "b060a1a6-9e6c-423e-cdef-badabf688c79"
      },
      "execution_count": null,
      "outputs": [
        {
          "output_type": "stream",
          "name": "stderr",
          "text": [
            "100%|██████████| 100/100 [00:05<00:00, 18.90it/s]\n"
          ]
        }
      ]
    },
    {
      "cell_type": "code",
      "source": [
        "plt.hist(iod_loss) \n",
        "plt.title(\"MNIST-TEST mse histogram\") \n",
        "plt.show()"
      ],
      "metadata": {
        "id": "Nj9PmzWXeP6f",
        "colab": {
          "base_uri": "https://localhost:8080/",
          "height": 281
        },
        "outputId": "0b4eaffa-17dd-43d9-faff-65e8e73d5aa0"
      },
      "execution_count": null,
      "outputs": [
        {
          "output_type": "display_data",
          "data": {
            "text/plain": [
              "<Figure size 432x288 with 1 Axes>"
            ],
            "image/png": "[encoded data removed]"
          },
          "metadata": {
            "needs_background": "light"
          }
        }
      ]
    },
    {
      "cell_type": "code",
      "source": [
        "from torchvision.datasets import CIFAR10\n",
        "\n",
        "cifar_set = CIFAR10(\n",
        "    root = './datasets/CIFAR10',\n",
        "    train = True,\n",
        "    download = True,\n",
        "    transform = transforms.Compose([\n",
        "        transforms.ToTensor() ,\n",
        "        transforms.Grayscale(),\n",
        "\t\ttransforms.Resize((28, 28)),\n",
        "        #transforms.Normalize((0.5,), (0.5,))                            \n",
        "    ])\n",
        ")\n",
        "loader_cifar = DataLoader(dataset=cifar_set, batch_size=batch_size, shuffle=True, **kwargs)"
      ],
      "metadata": {
        "id": "7ZPewZvheQqP",
        "colab": {
          "base_uri": "https://localhost:8080/",
          "height": 84,
          "referenced_widgets": [
            "d1e6e32bd9cd461caab696b00d1778eb",
            "a623cfb60a17498888020b328c5cddd4",
            "88fde1d592de46adba88f88ddbb22fda",
            "d06a8891d3f34aadb10b17ef66511978",
            "75aae9ad25a44ac7bcd7282c47f30b1f",
            "538ac646745e421abc634d70a2216ab3",
            "6bf966f7070b40eabb0f0bd5e76a0c48",
            "cb05bd74bb85462eabe9b769460a8f33",
            "56b40a0224fe430892d5b9348615d31b",
            "f2318765869a48b0a94bbe424549c1e0",
            "554842963bb242649279a678d2a74615"
          ]
        },
        "outputId": "b1064526-a5db-479b-dfaa-7f18c92ede62"
      },
      "execution_count": 43,
      "outputs": [
        {
          "output_type": "stream",
          "name": "stdout",
          "text": [
            "Downloading https://www.cs.toronto.edu/~kriz/cifar-10-python.tar.gz to ./datasets/CIFAR10/cifar-10-python.tar.gz\n"
          ]
        },
        {
          "output_type": "display_data",
          "data": {
            "text/plain": [
              "  0%|          | 0/170498071 [00:00<?, ?it/s]"
            ],
            "application/vnd.jupyter.widget-view+json": {
              "version_major": 2,
              "version_minor": 0,
              "model_id": "d1e6e32bd9cd461caab696b00d1778eb"
            }
          },
          "metadata": {}
        },
        {
          "output_type": "stream",
          "name": "stdout",
          "text": [
            "Extracting ./datasets/CIFAR10/cifar-10-python.tar.gz to ./datasets/CIFAR10\n"
          ]
        }
      ]
    },
    {
      "cell_type": "code",
      "source": [
        "cifar_images, _ = next(iter(loader_cifar))"
      ],
      "metadata": {
        "id": "5dBcyEgUeR06"
      },
      "execution_count": null,
      "outputs": []
    },
    {
      "cell_type": "code",
      "source": [
        "utils.show_image_28(cifar_images, idx=50)"
      ],
      "metadata": {
        "id": "6ySLa_1PeS0f",
        "colab": {
          "base_uri": "https://localhost:8080/",
          "height": 265
        },
        "outputId": "f9bb5b49-df85-4527-a717-0b57e0aa5dd2"
      },
      "execution_count": null,
      "outputs": [
        {
          "output_type": "display_data",
          "data": {
            "text/plain": [
              "<Figure size 432x288 with 1 Axes>"
            ],
            "image/png": "[encoded data removed]"
          },
          "metadata": {
            "needs_background": "light"
          }
        }
      ]
    },
    {
      "cell_type": "code",
      "source": [
        "utils.show_image_28(cifar_images, idx=20)"
      ],
      "metadata": {
        "id": "woAj192CeTpw",
        "colab": {
          "base_uri": "https://localhost:8080/",
          "height": 265
        },
        "outputId": "05b87027-226c-4d12-f392-c35ba2080507"
      },
      "execution_count": null,
      "outputs": [
        {
          "output_type": "display_data",
          "data": {
            "text/plain": [
              "<Figure size 432x288 with 1 Axes>"
            ],
            "image/png": "[encoded data removed]"
          },
          "metadata": {
            "needs_background": "light"
          }
        }
      ]
    },
    {
      "cell_type": "code",
      "source": [
        "model.eval()\n",
        "ood_cifar_loss = np.array([])\n",
        "with torch.no_grad():\n",
        "    for batch_idx, (x, _) in enumerate(tqdm(loader_cifar)):\n",
        "        x = x.view(batch_size, x_dim)\n",
        "        x = x.to(device)\n",
        "    \n",
        "        x_hat, mean, log_var = model(x)\n",
        "        #loss = rec_loss(x, x_hat, mean, log_var)\n",
        "        for i in np.arange(0,batch_size, 1):\n",
        "            err = mean_squared_error(x[i].cpu(),x_hat[i].cpu())\n",
        "            #err = nn.functional.binary_cross_entropy(x_hat[i].cpu(), x[i].cpu(), reduction='sum')\n",
        "            ood_cifar_loss = np.append(ood_cifar_loss, err)"
      ],
      "metadata": {
        "id": "5UVu70j0eUWV",
        "colab": {
          "base_uri": "https://localhost:8080/"
        },
        "outputId": "28dc4bef-73c6-4002-8a02-21b371081dfe"
      },
      "execution_count": null,
      "outputs": [
        {
          "output_type": "stream",
          "name": "stderr",
          "text": [
            "100%|██████████| 500/500 [00:19<00:00, 25.99it/s]\n"
          ]
        }
      ]
    },
    {
      "cell_type": "code",
      "source": [
        "utils.show_image_28(x, idx=10)"
      ],
      "metadata": {
        "id": "8ir5r6j1eVWV",
        "colab": {
          "base_uri": "https://localhost:8080/",
          "height": 265
        },
        "outputId": "92b8bb09-9ad1-4795-acda-cbefb31f6f15"
      },
      "execution_count": null,
      "outputs": [
        {
          "output_type": "display_data",
          "data": {
            "text/plain": [
              "<Figure size 432x288 with 1 Axes>"
            ],
            "image/png": "[encoded data removed]"
          },
          "metadata": {
            "needs_background": "light"
          }
        }
      ]
    },
    {
      "cell_type": "code",
      "source": [
        "utils.show_image_28(x_hat, idx=10)"
      ],
      "metadata": {
        "id": "ukyD3YNeeWoI",
        "colab": {
          "base_uri": "https://localhost:8080/",
          "height": 265
        },
        "outputId": "8d9084c1-d284-4318-c86f-3a038583066d"
      },
      "execution_count": null,
      "outputs": [
        {
          "output_type": "display_data",
          "data": {
            "text/plain": [
              "<Figure size 432x288 with 1 Axes>"
            ],
            "image/png": "[encoded data removed]"
          },
          "metadata": {
            "needs_background": "light"
          }
        }
      ]
    },
    {
      "cell_type": "code",
      "source": [
        "plt.hist(ood_cifar_loss) \n",
        "plt.title(\"CIFAR mse histogram\") \n",
        "plt.show()"
      ],
      "metadata": {
        "id": "4y_WLKbAeXbs",
        "colab": {
          "base_uri": "https://localhost:8080/",
          "height": 281
        },
        "outputId": "c475d6b4-f1a0-47cc-d940-e09f2faeea95"
      },
      "execution_count": null,
      "outputs": [
        {
          "output_type": "display_data",
          "data": {
            "text/plain": [
              "<Figure size 432x288 with 1 Axes>"
            ],
            "image/png": "[encoded data removed]"
          },
          "metadata": {
            "needs_background": "light"
          }
        }
      ]
    },
    {
      "cell_type": "code",
      "source": [
        "plt.hist(ood_fashion_loss, bins= 200, color=\"purple\")\n",
        "plt.hist(ood_cifar_loss, bins= 200, color=\"green\")\n",
        "plt.hist(iod_loss, color=\"orange\") \n",
        "plt.title(\"FASHION-MNIST VS MNIST(orange) VS CIFAR10 mse histogram\") \n",
        "plt.show()"
      ],
      "metadata": {
        "id": "iFJ5vhY7eYI-",
        "colab": {
          "base_uri": "https://localhost:8080/",
          "height": 281
        },
        "outputId": "981607b5-b1e6-4478-8cca-dd6bf46c51b9"
      },
      "execution_count": null,
      "outputs": [
        {
          "output_type": "display_data",
          "data": {
            "text/plain": [
              "<Figure size 432x288 with 1 Axes>"
            ],
            "image/png": "[encoded data removed]"
          },
          "metadata": {
            "needs_background": "light"
          }
        }
      ]
    },
    {
      "cell_type": "code",
      "source": [
        "sorted(iod_loss, reverse=True)\n",
        "min(ood_fashion_loss)"
      ],
      "metadata": {
        "id": "e8ecoqX4eZC-",
        "colab": {
          "base_uri": "https://localhost:8080/"
        },
        "outputId": "fc68ea97-d872-45c9-db51-f96e50260921"
      },
      "execution_count": null,
      "outputs": [
        {
          "output_type": "execute_result",
          "data": {
            "text/plain": [
              "0.0042302049696445465"
            ]
          },
          "metadata": {},
          "execution_count": 92
        }
      ]
    },
    {
      "cell_type": "markdown",
      "source": [
        "### Save Model"
      ],
      "metadata": {
        "id": "I-Biqap6ea1W"
      }
    },
    {
      "cell_type": "code",
      "source": [
        "torch.save(copy.deepcopy(model), \"beta_vae.pt\")"
      ],
      "metadata": {
        "id": "kY1uDb5LebuT"
      },
      "execution_count": null,
      "outputs": []
    },
    {
      "cell_type": "markdown",
      "source": [
        "### CNN Model"
      ],
      "metadata": {
        "id": "KXC9Etg7ed_T"
      }
    },
    {
      "cell_type": "code",
      "source": [
        "class cnn(nn.Module):\n",
        "    def __init__(self, input_layer, kernel_size, output_layer):\n",
        "        super(cnn, self).__init__()\n",
        "        self.conv1 = nn.Sequential(         \n",
        "            nn.Conv2d(\n",
        "                in_channels=1,              \n",
        "                out_channels=16,            \n",
        "                kernel_size=5,              \n",
        "                stride=1,                   \n",
        "                padding=2,                  \n",
        "            ),                              \n",
        "            nn.ReLU(),                      \n",
        "            nn.MaxPool2d(kernel_size=2),    \n",
        "        )\n",
        "        self.conv2 = nn.Sequential(         \n",
        "            nn.Conv2d(16, 32, 5, 1, 2),     \n",
        "            nn.ReLU(),                      \n",
        "            nn.MaxPool2d(2),                \n",
        "        )\n",
        "        # fully connected layer, output 10 classes\n",
        "        self.out = nn.Linear(32 * 7 * 7, output_layer)\n",
        "    def forward(self, x):\n",
        "        x = self.conv1(x)\n",
        "        x = self.conv2(x)\n",
        "        # flatten the output of conv2 to (batch_size, 32 * 7 * 7)\n",
        "        x = x.view(x.size(0), -1)       \n",
        "        output = self.out(x)\n",
        "        return output   "
      ],
      "metadata": {
        "id": "tkO5lMRNee4T"
      },
      "execution_count": null,
      "outputs": []
    },
    {
      "cell_type": "code",
      "source": [
        "criterion = nn.CrossEntropyLoss()\n",
        "def train_model(model, trainloader, optimizer, num_epochs = 30, is_cnn = False):\n",
        "  train_loss_arr = np.zeros(num_epochs)\n",
        "  valid_loss_arr = np.zeros(num_epochs)\n",
        "  train_acc_arr = np.zeros(num_epochs)\n",
        "  valid_acc_arr = np.zeros(num_epochs)\n",
        "  for epoch in range(num_epochs):  # loop over the dataset multiple times\n",
        "      \n",
        "\n",
        "      # Each epoch has a training and validation phase\n",
        "    for phase in ['train']:\n",
        "      if phase == 'train':\n",
        "          model.train()  # Set model to training mode\n",
        "      else:\n",
        "          model.eval()   # Set model to evaluate mod \n",
        "\n",
        "\n",
        "      epoch_loss = 0.0\n",
        "      running_loss = 0.0\n",
        "      valid_loss = 0.0 \n",
        "      train_running_corrects = 0.0\n",
        "      valid_running_corrects = 0.0\n",
        "      train_total = 0\n",
        "      val_total = 0\n",
        "      for i, data in enumerate(trainloader[phase], 0):\n",
        "          # get the inputs; data is a list of [inputs, labels]\n",
        "          inputs, labels = data\n",
        "          if is_cnn == False:\n",
        "            inputs = inputs.view(inputs.shape[0], -1)\n",
        "          # mode to device/cuda\n",
        "          inputs, labels = inputs.to(device), labels.to(device)\n",
        "\n",
        "          # zero the parameter gradients\n",
        "          optimizer.zero_grad()\n",
        "          with torch.set_grad_enabled(phase == 'train'):\n",
        "              target = model(inputs)\n",
        "              _, preds = torch.max(target, 1)\n",
        "              loss = criterion(target, labels)\n",
        "              if phase == 'train':\n",
        "                loss.backward()\n",
        "                optimizer.step()\n",
        "\n",
        "          if phase == 'val':\n",
        "            valid_loss += loss.item()# * inputs.size(0)\n",
        "            val_total += labels.size(0)\n",
        "            valid_running_corrects += (preds == labels).sum().item() \n",
        "          # print statistics\n",
        "          if phase == 'train':\n",
        "              train_total += labels.size(0)\n",
        "              train_running_corrects += (preds == labels).sum().item()   \n",
        "              running_loss += loss.item()\n",
        "              epoch_loss += loss.item()\n",
        "              if i % 100 == 1:    # print every 100 mini-batches\n",
        "                print('epoch: %2d, minibatch: %2d, loss: %.3f' %\n",
        "                    (epoch + 1, i / 100, running_loss / 100))\n",
        "                running_loss = 0.0\n",
        "      if phase == 'train':\n",
        "        train_loss_arr[epoch] = epoch_loss/len(trainloader[phase])\n",
        "        train_acc_arr[epoch] = 100*(train_running_corrects / train_total)\n",
        "      else:\n",
        "        valid_loss_arr[epoch] = valid_loss/len(trainloader[phase])\n",
        "        valid_acc_arr[epoch] = 100*(valid_running_corrects / val_total)\n",
        "  print('Finished Training')\n",
        "  return model, train_loss_arr, valid_loss_arr, train_acc_arr, valid_acc_arr"
      ],
      "metadata": {
        "id": "wrSOyVDfef-9"
      },
      "execution_count": null,
      "outputs": []
    },
    {
      "cell_type": "code",
      "source": [
        "mnist_data_loader = {\n",
        "    \"train\":  train_loader_for_vae,\n",
        "    \"test\": test_loader_for_vae,\n",
        "}"
      ],
      "metadata": {
        "id": "TkvVEFNJeg7I"
      },
      "execution_count": null,
      "outputs": []
    },
    {
      "cell_type": "code",
      "source": [
        "kernel_size = 5\n",
        "input_layer = 784\n",
        "output_layer = 10\n",
        "cnn_model = cnn(input_layer, kernel_size, output_layer).to(device)\n",
        "optimizer = torch.optim.Adam(cnn_model.parameters(), lr=other_config[\"learning_rate\"])  \n",
        "cnn_model, *_ = train_model(cnn_model, mnist_data_loader, optimizer,other_config[\"num_epochs\"], True)"
      ],
      "metadata": {
        "id": "h6U5JGJTehtV",
        "colab": {
          "base_uri": "https://localhost:8080/"
        },
        "outputId": "9ff2db0d-8aaa-4529-8e12-a30ca516631f"
      },
      "execution_count": null,
      "outputs": [
        {
          "output_type": "stream",
          "name": "stdout",
          "text": [
            "epoch:  1, minibatch:  0, loss: 0.046\n",
            "epoch:  1, minibatch:  1, loss: 1.080\n",
            "epoch:  1, minibatch:  2, loss: 0.400\n",
            "epoch:  1, minibatch:  3, loss: 0.285\n",
            "epoch:  1, minibatch:  4, loss: 0.242\n",
            "epoch:  1, minibatch:  5, loss: 0.210\n",
            "epoch:  2, minibatch:  0, loss: 0.003\n",
            "epoch:  2, minibatch:  1, loss: 0.174\n",
            "epoch:  2, minibatch:  2, loss: 0.162\n",
            "epoch:  2, minibatch:  3, loss: 0.163\n",
            "epoch:  2, minibatch:  4, loss: 0.149\n",
            "epoch:  2, minibatch:  5, loss: 0.144\n",
            "epoch:  3, minibatch:  0, loss: 0.002\n",
            "epoch:  3, minibatch:  1, loss: 0.133\n",
            "epoch:  3, minibatch:  2, loss: 0.137\n",
            "epoch:  3, minibatch:  3, loss: 0.117\n",
            "epoch:  3, minibatch:  4, loss: 0.120\n",
            "epoch:  3, minibatch:  5, loss: 0.107\n",
            "epoch:  4, minibatch:  0, loss: 0.004\n",
            "epoch:  4, minibatch:  1, loss: 0.110\n",
            "epoch:  4, minibatch:  2, loss: 0.110\n",
            "epoch:  4, minibatch:  3, loss: 0.104\n",
            "epoch:  4, minibatch:  4, loss: 0.104\n",
            "epoch:  4, minibatch:  5, loss: 0.090\n",
            "epoch:  5, minibatch:  0, loss: 0.001\n",
            "epoch:  5, minibatch:  1, loss: 0.087\n",
            "epoch:  5, minibatch:  2, loss: 0.095\n",
            "epoch:  5, minibatch:  3, loss: 0.094\n",
            "epoch:  5, minibatch:  4, loss: 0.099\n",
            "epoch:  5, minibatch:  5, loss: 0.084\n",
            "epoch:  6, minibatch:  0, loss: 0.002\n",
            "epoch:  6, minibatch:  1, loss: 0.087\n",
            "epoch:  6, minibatch:  2, loss: 0.082\n",
            "epoch:  6, minibatch:  3, loss: 0.087\n",
            "epoch:  6, minibatch:  4, loss: 0.079\n",
            "epoch:  6, minibatch:  5, loss: 0.085\n",
            "epoch:  7, minibatch:  0, loss: 0.002\n",
            "epoch:  7, minibatch:  1, loss: 0.085\n",
            "epoch:  7, minibatch:  2, loss: 0.075\n",
            "epoch:  7, minibatch:  3, loss: 0.078\n",
            "epoch:  7, minibatch:  4, loss: 0.079\n",
            "epoch:  7, minibatch:  5, loss: 0.085\n",
            "epoch:  8, minibatch:  0, loss: 0.002\n",
            "epoch:  8, minibatch:  1, loss: 0.080\n",
            "epoch:  8, minibatch:  2, loss: 0.072\n",
            "epoch:  8, minibatch:  3, loss: 0.068\n",
            "epoch:  8, minibatch:  4, loss: 0.071\n",
            "epoch:  8, minibatch:  5, loss: 0.069\n",
            "epoch:  9, minibatch:  0, loss: 0.003\n",
            "epoch:  9, minibatch:  1, loss: 0.064\n",
            "epoch:  9, minibatch:  2, loss: 0.068\n",
            "epoch:  9, minibatch:  3, loss: 0.068\n",
            "epoch:  9, minibatch:  4, loss: 0.068\n",
            "epoch:  9, minibatch:  5, loss: 0.072\n",
            "epoch: 10, minibatch:  0, loss: 0.001\n",
            "epoch: 10, minibatch:  1, loss: 0.074\n",
            "epoch: 10, minibatch:  2, loss: 0.065\n",
            "epoch: 10, minibatch:  3, loss: 0.068\n",
            "epoch: 10, minibatch:  4, loss: 0.062\n",
            "epoch: 10, minibatch:  5, loss: 0.061\n",
            "epoch: 11, minibatch:  0, loss: 0.002\n",
            "epoch: 11, minibatch:  1, loss: 0.059\n",
            "epoch: 11, minibatch:  2, loss: 0.063\n",
            "epoch: 11, minibatch:  3, loss: 0.062\n",
            "epoch: 11, minibatch:  4, loss: 0.064\n",
            "epoch: 11, minibatch:  5, loss: 0.064\n",
            "epoch: 12, minibatch:  0, loss: 0.002\n",
            "epoch: 12, minibatch:  1, loss: 0.058\n",
            "epoch: 12, minibatch:  2, loss: 0.060\n",
            "epoch: 12, minibatch:  3, loss: 0.060\n",
            "epoch: 12, minibatch:  4, loss: 0.060\n",
            "epoch: 12, minibatch:  5, loss: 0.055\n",
            "epoch: 13, minibatch:  0, loss: 0.001\n",
            "epoch: 13, minibatch:  1, loss: 0.059\n",
            "epoch: 13, minibatch:  2, loss: 0.057\n",
            "epoch: 13, minibatch:  3, loss: 0.054\n",
            "epoch: 13, minibatch:  4, loss: 0.058\n",
            "epoch: 13, minibatch:  5, loss: 0.064\n",
            "epoch: 14, minibatch:  0, loss: 0.002\n",
            "epoch: 14, minibatch:  1, loss: 0.060\n",
            "epoch: 14, minibatch:  2, loss: 0.064\n",
            "epoch: 14, minibatch:  3, loss: 0.051\n",
            "epoch: 14, minibatch:  4, loss: 0.053\n",
            "epoch: 14, minibatch:  5, loss: 0.057\n",
            "epoch: 15, minibatch:  0, loss: 0.001\n",
            "epoch: 15, minibatch:  1, loss: 0.052\n",
            "epoch: 15, minibatch:  2, loss: 0.048\n",
            "epoch: 15, minibatch:  3, loss: 0.052\n",
            "epoch: 15, minibatch:  4, loss: 0.061\n",
            "epoch: 15, minibatch:  5, loss: 0.058\n",
            "epoch: 16, minibatch:  0, loss: 0.001\n",
            "epoch: 16, minibatch:  1, loss: 0.054\n",
            "epoch: 16, minibatch:  2, loss: 0.064\n",
            "epoch: 16, minibatch:  3, loss: 0.049\n",
            "epoch: 16, minibatch:  4, loss: 0.047\n",
            "epoch: 16, minibatch:  5, loss: 0.055\n",
            "epoch: 17, minibatch:  0, loss: 0.001\n",
            "epoch: 17, minibatch:  1, loss: 0.047\n",
            "epoch: 17, minibatch:  2, loss: 0.047\n",
            "epoch: 17, minibatch:  3, loss: 0.052\n",
            "epoch: 17, minibatch:  4, loss: 0.048\n",
            "epoch: 17, minibatch:  5, loss: 0.055\n",
            "epoch: 18, minibatch:  0, loss: 0.001\n",
            "epoch: 18, minibatch:  1, loss: 0.048\n",
            "epoch: 18, minibatch:  2, loss: 0.053\n",
            "epoch: 18, minibatch:  3, loss: 0.050\n",
            "epoch: 18, minibatch:  4, loss: 0.049\n",
            "epoch: 18, minibatch:  5, loss: 0.050\n",
            "epoch: 19, minibatch:  0, loss: 0.001\n",
            "epoch: 19, minibatch:  1, loss: 0.049\n",
            "epoch: 19, minibatch:  2, loss: 0.047\n",
            "epoch: 19, minibatch:  3, loss: 0.050\n",
            "epoch: 19, minibatch:  4, loss: 0.050\n",
            "epoch: 19, minibatch:  5, loss: 0.054\n",
            "epoch: 20, minibatch:  0, loss: 0.000\n",
            "epoch: 20, minibatch:  1, loss: 0.044\n",
            "epoch: 20, minibatch:  2, loss: 0.044\n",
            "epoch: 20, minibatch:  3, loss: 0.050\n",
            "epoch: 20, minibatch:  4, loss: 0.048\n",
            "epoch: 20, minibatch:  5, loss: 0.060\n",
            "epoch: 21, minibatch:  0, loss: 0.001\n",
            "epoch: 21, minibatch:  1, loss: 0.039\n",
            "epoch: 21, minibatch:  2, loss: 0.043\n",
            "epoch: 21, minibatch:  3, loss: 0.051\n",
            "epoch: 21, minibatch:  4, loss: 0.049\n",
            "epoch: 21, minibatch:  5, loss: 0.057\n",
            "epoch: 22, minibatch:  0, loss: 0.001\n",
            "epoch: 22, minibatch:  1, loss: 0.045\n",
            "epoch: 22, minibatch:  2, loss: 0.045\n",
            "epoch: 22, minibatch:  3, loss: 0.052\n",
            "epoch: 22, minibatch:  4, loss: 0.048\n",
            "epoch: 22, minibatch:  5, loss: 0.046\n",
            "epoch: 23, minibatch:  0, loss: 0.000\n",
            "epoch: 23, minibatch:  1, loss: 0.048\n",
            "epoch: 23, minibatch:  2, loss: 0.053\n",
            "epoch: 23, minibatch:  3, loss: 0.042\n",
            "epoch: 23, minibatch:  4, loss: 0.043\n",
            "epoch: 23, minibatch:  5, loss: 0.045\n",
            "epoch: 24, minibatch:  0, loss: 0.002\n",
            "epoch: 24, minibatch:  1, loss: 0.043\n",
            "epoch: 24, minibatch:  2, loss: 0.046\n",
            "epoch: 24, minibatch:  3, loss: 0.042\n",
            "epoch: 24, minibatch:  4, loss: 0.042\n",
            "epoch: 24, minibatch:  5, loss: 0.049\n",
            "epoch: 25, minibatch:  0, loss: 0.001\n",
            "epoch: 25, minibatch:  1, loss: 0.043\n",
            "epoch: 25, minibatch:  2, loss: 0.043\n",
            "epoch: 25, minibatch:  3, loss: 0.040\n",
            "epoch: 25, minibatch:  4, loss: 0.048\n",
            "epoch: 25, minibatch:  5, loss: 0.042\n",
            "epoch: 26, minibatch:  0, loss: 0.002\n",
            "epoch: 26, minibatch:  1, loss: 0.048\n",
            "epoch: 26, minibatch:  2, loss: 0.037\n",
            "epoch: 26, minibatch:  3, loss: 0.046\n",
            "epoch: 26, minibatch:  4, loss: 0.038\n",
            "epoch: 26, minibatch:  5, loss: 0.036\n",
            "epoch: 27, minibatch:  0, loss: 0.000\n",
            "epoch: 27, minibatch:  1, loss: 0.042\n",
            "epoch: 27, minibatch:  2, loss: 0.053\n",
            "epoch: 27, minibatch:  3, loss: 0.038\n",
            "epoch: 27, minibatch:  4, loss: 0.039\n",
            "epoch: 27, minibatch:  5, loss: 0.049\n",
            "epoch: 28, minibatch:  0, loss: 0.001\n",
            "epoch: 28, minibatch:  1, loss: 0.041\n",
            "epoch: 28, minibatch:  2, loss: 0.039\n",
            "epoch: 28, minibatch:  3, loss: 0.036\n",
            "epoch: 28, minibatch:  4, loss: 0.042\n",
            "epoch: 28, minibatch:  5, loss: 0.051\n",
            "epoch: 29, minibatch:  0, loss: 0.001\n",
            "epoch: 29, minibatch:  1, loss: 0.039\n",
            "epoch: 29, minibatch:  2, loss: 0.040\n",
            "epoch: 29, minibatch:  3, loss: 0.043\n",
            "epoch: 29, minibatch:  4, loss: 0.042\n",
            "epoch: 29, minibatch:  5, loss: 0.042\n",
            "epoch: 30, minibatch:  0, loss: 0.001\n",
            "epoch: 30, minibatch:  1, loss: 0.044\n",
            "epoch: 30, minibatch:  2, loss: 0.035\n",
            "epoch: 30, minibatch:  3, loss: 0.045\n",
            "epoch: 30, minibatch:  4, loss: 0.040\n",
            "epoch: 30, minibatch:  5, loss: 0.034\n",
            "Finished Training\n"
          ]
        }
      ]
    },
    {
      "cell_type": "code",
      "source": [
        "def cnn_acc(model, data_iter):\n",
        "    with torch.no_grad():\n",
        "        correct = 0\n",
        "        total = 0\n",
        "        for images, labels in data_iter:\n",
        "            images = images.to(device)\n",
        "            labels = labels.to(device)\n",
        "            outputs = model(images)\n",
        "            _, predicted = torch.max(outputs.data, 1)\n",
        "            total += labels.size(0)\n",
        "            correct += (predicted == labels).sum().item()\n",
        "        print('Accuracy of the network: {} %'.format(100 * correct / total))\n",
        "    return correct / total"
      ],
      "metadata": {
        "id": "gltFs84eeihs"
      },
      "execution_count": null,
      "outputs": []
    },
    {
      "cell_type": "code",
      "source": [
        "cnn_acc(cnn_model, mnist_data_loader[\"test\"])"
      ],
      "metadata": {
        "id": "5_PJCQaXejag",
        "colab": {
          "base_uri": "https://localhost:8080/"
        },
        "outputId": "cead7572-017a-4c9a-a107-49f50050a9c4"
      },
      "execution_count": null,
      "outputs": [
        {
          "output_type": "stream",
          "name": "stdout",
          "text": [
            "Accuracy of the network: 98.56 %\n"
          ]
        },
        {
          "output_type": "execute_result",
          "data": {
            "text/plain": [
              "0.9856"
            ]
          },
          "metadata": {},
          "execution_count": 99
        }
      ]
    },
    {
      "cell_type": "markdown",
      "source": [
        "### Save Model"
      ],
      "metadata": {
        "id": "MotDSmGTens1"
      }
    },
    {
      "cell_type": "code",
      "source": [
        "torch.save(copy.deepcopy(cnn_model), \"cnn_model.pt\")"
      ],
      "metadata": {
        "id": "on7OoDZoem1C"
      },
      "execution_count": null,
      "outputs": []
    },
    {
      "cell_type": "markdown",
      "source": [
        "## Test Section - Start Here"
      ],
      "metadata": {
        "id": "QVvfyHFnvr7s"
      }
    },
    {
      "cell_type": "code",
      "source": [
        "# clone the github repository to access source code\n",
        "!git clone https://github.com/AvihaiNaa/gmdl_final.git\n",
        "\n",
        "# set the correct directory\n",
        "%cd gmdl_final"
      ],
      "metadata": {
        "colab": {
          "base_uri": "https://localhost:8080/"
        },
        "id": "EX80YHZy7iM8",
        "outputId": "70db2736-520d-46a1-8c8c-a51844ac95f3"
      },
      "execution_count": 1,
      "outputs": [
        {
          "output_type": "stream",
          "name": "stdout",
          "text": [
            "Cloning into 'gmdl_final'...\n",
            "remote: Enumerating objects: 21, done.\u001b[K\n",
            "remote: Counting objects: 100% (21/21), done.\u001b[K\n",
            "remote: Compressing objects: 100% (17/17), done.\u001b[K\n",
            "remote: Total 21 (delta 2), reused 21 (delta 2), pack-reused 0\u001b[K\n",
            "Unpacking objects: 100% (21/21), done.\n",
            "/content/gmdl_final\n"
          ]
        }
      ]
    },
    {
      "cell_type": "code",
      "source": [
        "import torch\n",
        "import torch.nn as nn\n",
        "import random\n",
        "import numpy as np\n",
        "import torch.nn.functional as F\n",
        "import gmdl_final.utils as utils\n",
        "from tqdm import tqdm\n",
        "from torchvision.utils import save_image, make_grid\n",
        "import torch.optim as optim\n",
        "from torch.autograd import Variable\n",
        "import os\n",
        "import copy"
      ],
      "metadata": {
        "id": "1rLRpf1Fvzga"
      },
      "execution_count": 2,
      "outputs": []
    },
    {
      "cell_type": "code",
      "source": [
        "dataset_path = './datasets'\n",
        "config = {\n",
        "    \"batch_size\": 100,\n",
        "    \"device\": \"cuda\",\n",
        "    \"learning_rate\": 0.001,\n",
        "    \"num_epochs\": 30,#30,\n",
        "    \"split_dataset\": 0.8,\n",
        "    \"cnn_path\":\"cnn_models.pt\",\n",
        "    \"h-dvae_path\":\"hdvae_models.pt\",\n",
        "    #\"image_size\": (28, 28)\n",
        "    \"image_size\": (32, 32),\n",
        "    \"experiment\": 'models/mnist'\n",
        "}\n",
        "device = 'cuda:0' if torch.cuda.is_available() else 'cpu'"
      ],
      "metadata": {
        "id": "1jkicYuev8sB"
      },
      "execution_count": 3,
      "outputs": []
    },
    {
      "cell_type": "code",
      "source": [
        "from torchvision.datasets import MNIST\n",
        "import torchvision.transforms as transforms\n",
        "from torch.utils.data import DataLoader\n",
        "\n",
        "\n",
        "mnist_transform = transforms.Compose([\n",
        "        transforms.ToTensor(),\n",
        "        transforms.Resize(config[\"image_size\"]),\n",
        "        transforms.Normalize((0.1307,), (0.3081,)),\n",
        "        transforms.RandomRotation(50),\n",
        "        #AddGaussianNoise(0.1, 0.08),\n",
        "        transforms.ColorJitter(brightness=0.1, contrast=0.2, saturation=0, hue=0),\n",
        "        transforms.GaussianBlur(kernel_size=(7, 7), sigma=(0.5, 1))\n",
        "])\n",
        "\n",
        "kwargs = {'num_workers': 1, 'pin_memory': True} \n",
        "\n",
        "train_dataset = MNIST(dataset_path, transform=mnist_transform, train=True, download=True)\n",
        "test_dataset  = MNIST(dataset_path, transform=mnist_transform, train=False, download=True)\n",
        "\n",
        "train_loader = DataLoader(dataset=train_dataset, batch_size=config[\"batch_size\"], shuffle=True, **kwargs)\n",
        "test_loader  = DataLoader(dataset=test_dataset,  batch_size=config[\"batch_size\"], shuffle=False, **kwargs)"
      ],
      "metadata": {
        "id": "x-ct1GEJwCBN",
        "colab": {
          "base_uri": "https://localhost:8080/",
          "height": 423,
          "referenced_widgets": [
            "dac072a792124ff6a2c1e901034db82d",
            "ea67a44544fc4b14929eedd411956296",
            "e56b7a4b20da4b23832b0c3ad4d36229",
            "e630277281234c8e81fe62c1b95a8a1b",
            "d7b53653688d4cbf90fdf6c5cfc271c6",
            "9b2df74169f54cff92ade61ae407873b",
            "49c952ed0a42472eabf3cc661eb38104",
            "3ce84abec9ce460689b92e8b579a6cc4",
            "a7ad3ea52e2b406cad9111276b3a91d1",
            "f774a6d630ab4a0c8990cf3923596521",
            "b773606ae1104d489ec2e3e2a6c7542d",
            "176a5fbe10104118957a6902ec04803c",
            "853c787878484d8eb275abc5baac6a40",
            "448a8b216b654b889827f612898460f2",
            "433e4a509a5e4036991ffdeb29d9907b",
            "39a10b77da7d4e9b9d0dc4a3709b25ad",
            "9408bcedeb2048258d490aff494255fd",
            "ed1b7e538dc54d62a2819e8d19d4e9c5",
            "c31b2a9e48b147efb54d859032d736ea",
            "98bf6bf65f584addbec26b8dd5604a23",
            "b057f571baae4d63970fc60a447c6a63",
            "bf535df1ad204f118a5b0d6fe45f8b70",
            "0628dbc227984df89c8725b66dcdc432",
            "c3dfe5b6091e4ffda7aefc1b94f6c460",
            "9087dd96b4ea47fd9a5a6333630d0191",
            "d3857e23baf24768b455423e96129eee",
            "afa51fb8967f44edb30df9eb9d54e2ea",
            "7ed406d1c6d24c4f9266c1368fbb83d5",
            "d2477f99a4734dc39d6e7fa98f26cc5b",
            "c337cf54501e43eb8b745ffc16f2b9bc",
            "5b767c0825c74ab78b834b4c47e7a72f",
            "e91d83335b824380ac7ee9bc91c991c4",
            "ab202c8b52494ae2b18f2cc59a5d2257",
            "891606f1d53844d2a313bbd1713c3194",
            "fe4afe0100234e66a69784c62bac80c0",
            "9af7a2d1c9644156af486573c9e339ae",
            "43465368f4594b7d8ecede324673d862",
            "c66f414cea014606b98d5f6a92816c41",
            "5f7d1ca027dd41a882be72c73289c89f",
            "5aa85d5eccee40a684eb61f4fca4ac09",
            "0a93be6b462544bf886055a093c9a126",
            "e10aeaf7aa844b6ab7d6e6cf9f932d6c",
            "edc25fbc3c6e4f69b5c78113645431ce",
            "f077e890e0b54919b2b2a351b22d416f"
          ]
        },
        "outputId": "4d6b9de3-dc52-4119-b51b-7db5b2b4a917"
      },
      "execution_count": 4,
      "outputs": [
        {
          "output_type": "stream",
          "name": "stdout",
          "text": [
            "Downloading http://yann.lecun.com/exdb/mnist/train-images-idx3-ubyte.gz\n",
            "Downloading http://yann.lecun.com/exdb/mnist/train-images-idx3-ubyte.gz to ./datasets/MNIST/raw/train-images-idx3-ubyte.gz\n"
          ]
        },
        {
          "output_type": "display_data",
          "data": {
            "text/plain": [
              "  0%|          | 0/9912422 [00:00<?, ?it/s]"
            ],
            "application/vnd.jupyter.widget-view+json": {
              "version_major": 2,
              "version_minor": 0,
              "model_id": "dac072a792124ff6a2c1e901034db82d"
            }
          },
          "metadata": {}
        },
        {
          "output_type": "stream",
          "name": "stdout",
          "text": [
            "Extracting ./datasets/MNIST/raw/train-images-idx3-ubyte.gz to ./datasets/MNIST/raw\n",
            "\n",
            "Downloading http://yann.lecun.com/exdb/mnist/train-labels-idx1-ubyte.gz\n",
            "Downloading http://yann.lecun.com/exdb/mnist/train-labels-idx1-ubyte.gz to ./datasets/MNIST/raw/train-labels-idx1-ubyte.gz\n"
          ]
        },
        {
          "output_type": "display_data",
          "data": {
            "text/plain": [
              "  0%|          | 0/28881 [00:00<?, ?it/s]"
            ],
            "application/vnd.jupyter.widget-view+json": {
              "version_major": 2,
              "version_minor": 0,
              "model_id": "176a5fbe10104118957a6902ec04803c"
            }
          },
          "metadata": {}
        },
        {
          "output_type": "stream",
          "name": "stdout",
          "text": [
            "Extracting ./datasets/MNIST/raw/train-labels-idx1-ubyte.gz to ./datasets/MNIST/raw\n",
            "\n",
            "Downloading http://yann.lecun.com/exdb/mnist/t10k-images-idx3-ubyte.gz\n",
            "Downloading http://yann.lecun.com/exdb/mnist/t10k-images-idx3-ubyte.gz to ./datasets/MNIST/raw/t10k-images-idx3-ubyte.gz\n"
          ]
        },
        {
          "output_type": "display_data",
          "data": {
            "text/plain": [
              "  0%|          | 0/1648877 [00:00<?, ?it/s]"
            ],
            "application/vnd.jupyter.widget-view+json": {
              "version_major": 2,
              "version_minor": 0,
              "model_id": "0628dbc227984df89c8725b66dcdc432"
            }
          },
          "metadata": {}
        },
        {
          "output_type": "stream",
          "name": "stdout",
          "text": [
            "Extracting ./datasets/MNIST/raw/t10k-images-idx3-ubyte.gz to ./datasets/MNIST/raw\n",
            "\n",
            "Downloading http://yann.lecun.com/exdb/mnist/t10k-labels-idx1-ubyte.gz\n",
            "Downloading http://yann.lecun.com/exdb/mnist/t10k-labels-idx1-ubyte.gz to ./datasets/MNIST/raw/t10k-labels-idx1-ubyte.gz\n"
          ]
        },
        {
          "output_type": "display_data",
          "data": {
            "text/plain": [
              "  0%|          | 0/4542 [00:00<?, ?it/s]"
            ],
            "application/vnd.jupyter.widget-view+json": {
              "version_major": 2,
              "version_minor": 0,
              "model_id": "891606f1d53844d2a313bbd1713c3194"
            }
          },
          "metadata": {}
        },
        {
          "output_type": "stream",
          "name": "stdout",
          "text": [
            "Extracting ./datasets/MNIST/raw/t10k-labels-idx1-ubyte.gz to ./datasets/MNIST/raw\n",
            "\n"
          ]
        }
      ]
    },
    {
      "cell_type": "code",
      "source": [
        "import gmdl_final.model as DVAE"
      ],
      "metadata": {
        "id": "vM_610tQwFi_"
      },
      "execution_count": 5,
      "outputs": []
    },
    {
      "cell_type": "code",
      "source": [
        "config_model ={\n",
        "    \"beta-vae\": 1.,\n",
        "    \"beta-adam\": 0.9,\n",
        "    \"number_gpu\": 1,\n",
        "    \"latent_z_vector\": 100,\n",
        "    \"input_image_channels\": 1,\n",
        "    \"hidden_channel_size\": 32,\n",
        "    #\"image_size\": 28,\n",
        "    \"image_size\": 32,\n",
        "    \"learning_rate\": 3e-4,\n",
        "    \"learning_rate_regret\": 2e-4,\n",
        "    \"epochs\": 1,#30,\n",
        "    \"perturbed\": False,\n",
        "    \"ratio\": 0.2,\n",
        "    \"dataroot\": './data',\n",
        "    \"repeat\":100,\n",
        "    \"num_iter_samples\": 100    \n",
        "}"
      ],
      "metadata": {
        "id": "Lv4A0gFMwIIh"
      },
      "execution_count": 6,
      "outputs": []
    },
    {
      "cell_type": "code",
      "source": [
        "loss_fn = nn.CrossEntropyLoss(reduction = 'none')"
      ],
      "metadata": {
        "id": "xVKNHC97xRXH"
      },
      "execution_count": 7,
      "outputs": []
    },
    {
      "cell_type": "code",
      "source": [
        "def loss_function(x_src, recon, target, mean, log_var):\n",
        "    loss_fn = nn.CrossEntropyLoss(reduction='none')\n",
        "    b = x_src.size(0)\n",
        "    recl = loss_fn(recon, target)\n",
        "    recl = torch.sum(recl) / b\n",
        "    kld = KL_div(mean, log_var)\n",
        "    return recl + config_model[\"beta-vae\"] * kld.mean(), recl, kld\n",
        "\n",
        "\n",
        "def KL_div(mu, logvar, reduction='avg'):\n",
        "    mu = mu.view(mu.size(0), mu.size(1))\n",
        "    logvar = logvar.view(logvar.size(0), logvar.size(1))\n",
        "    if reduction == 'sum':\n",
        "        return -0.5 * torch.sum(1 + logvar - mu.pow(2) - logvar.exp())\n",
        "    else:\n",
        "        KL = -0.5 * torch.sum(1 + logvar - mu.pow(2) - logvar.exp(), 1)\n",
        "        return KL"
      ],
      "metadata": {
        "id": "5sqWA32CwNbV"
      },
      "execution_count": 8,
      "outputs": []
    },
    {
      "cell_type": "code",
      "source": [
        "def likleihood_regret_single(xi, netG, netE):\n",
        "    netG.eval()\n",
        "    netE.eval()\n",
        "    loss_fn = nn.CrossEntropyLoss(reduction = 'none')\n",
        "    NLL_regret_indist = []\n",
        "    NLL_indist = []\n",
        "    x = xi.expand(config_model[\"repeat\"],-1,-1,-1).contiguous()\n",
        "    weights_agg  = []\n",
        "    with torch.no_grad():\n",
        "        #NLL ALG.\n",
        "        for batch_number in range(5):\n",
        "            \n",
        "            x = x.to(device)\n",
        "            b = x.size(0)\n",
        "    \n",
        "            [z,mu,logvar] = netE(x)\n",
        "            recon = netG(z)\n",
        "            mu = mu.view(mu.size(0),mu.size(1))\n",
        "            logvar = logvar.view(logvar.size(0), logvar.size(1))\n",
        "            z = z.view(z.size(0),z.size(1))\n",
        "            weights = utils.store_NLL(x, recon, mu, logvar, z, config_model[\"repeat\"])\n",
        "          \n",
        "            weights_agg.append(weights)\n",
        "        \n",
        "        weights_agg = torch.stack(weights_agg).view(-1) \n",
        "        \n",
        "        NLL_loss_before = utils.compute_NLL(weights_agg) \n",
        "        NLL_indist = np.append(NLL_indist, NLL_loss_before.detach().cpu().numpy())\n",
        "\n",
        "\n",
        "                #Likelihood Regret ALG.\n",
        "    xi = xi.to(device)\n",
        "    b = xi.size(0)\n",
        "    netE_copy = copy.deepcopy(netE)\n",
        "    netE_copy.eval()\n",
        "    optimizer = optim.Adam(netE_copy.parameters(), lr=config_model[\"learning_rate\"], betas=(config_model[\"beta-adam\"], 0.999),weight_decay=5e-5)\n",
        "    target = Variable(xi.data.view(-1) * 255).long()\n",
        "    for it in range(config_model[\"num_iter_samples\"]):\n",
        "        \n",
        "        [z,mu,logvar] = netE_copy(xi)\n",
        "        recon = netG(z)\n",
        "        \n",
        "        recon = recon.contiguous()\n",
        "        recon = recon.view(-1,256)\n",
        "        recl = loss_fn(recon, target)\n",
        "        \n",
        "        recl = torch.sum(recl) / b\n",
        "        kld = KL_div(mu,logvar)\n",
        "        \n",
        "        loss =  recl + kld.mean()\n",
        "        optimizer.zero_grad()\n",
        "        loss.backward()\n",
        "        optimizer.step()\n",
        "    \n",
        "    weights_agg  = []\n",
        "    with torch.no_grad():\n",
        "        xi = xi.expand(config_model[\"repeat\"],-1,-1,-1).contiguous()\n",
        "        target = Variable(xi.data.view(-1) * 255).long()\n",
        "        for batch_number in range(5):\n",
        "            [z,mu,logvar] = netE_copy(xi)\n",
        "            recon = netG(z)\n",
        "            recon = recon.contiguous()\n",
        "            mu = mu.view(mu.size(0),mu.size(1))\n",
        "            logvar = logvar.view(logvar.size(0), logvar.size(1))\n",
        "            z = z.view(z.size(0),z.size(1))\n",
        "            weights = utils.store_NLL(x, recon, mu, logvar, z, config_model[\"repeat\"])\n",
        "            \n",
        "            weights_agg.append(weights)\n",
        "     \n",
        "        \n",
        "        weights_agg = torch.stack(weights_agg).view(-1) \n",
        "        NLL_loss_after = utils.compute_NLL(weights_agg) \n",
        "        print('In-dist image OPT: {} VAE: {} diff:{}'.format(NLL_loss_after.item(), NLL_loss_before.item(), NLL_loss_before.item()  - NLL_loss_after.item()))\n",
        "        regret = NLL_loss_before  - NLL_loss_after\n",
        "        NLL_regret_indist = np.append(NLL_regret_indist, regret.detach().cpu().numpy())\n",
        "\n",
        "    return NLL_regret_indist, NLL_indist   "
      ],
      "metadata": {
        "id": "sZk7OTmVwkkI"
      },
      "execution_count": 9,
      "outputs": []
    },
    {
      "cell_type": "code",
      "source": [
        "other_config = {\n",
        "    \"batch_size\": 100,\n",
        "    \"device\": \"cuda\",\n",
        "    \"learning_rate\": 0.001,\n",
        "    \"num_epochs\": 30,#30,\n",
        "    \"split_dataset\": 0.8,\n",
        "    \"cnn_path\":\"cnn_models.pt\",\n",
        "    \"h-dvae_path\":\"hdvae_models.pt\",\n",
        "}"
      ],
      "metadata": {
        "id": "A2nNDyu-wm5O"
      },
      "execution_count": 10,
      "outputs": []
    },
    {
      "cell_type": "code",
      "source": [
        "batch_size = 100\n",
        "\n",
        "x_dim  = 784\n",
        "hidden_dim = 400\n",
        "latent_dim = 200\n",
        "\n",
        "lr = 1e-3\n",
        "\n",
        "epochs =  30"
      ],
      "metadata": {
        "id": "Q6wAv__Xwohx"
      },
      "execution_count": 11,
      "outputs": []
    },
    {
      "cell_type": "code",
      "source": [
        "from torchvision.datasets import MNIST\n",
        "import torchvision.transforms as transforms\n",
        "from torch.utils.data import DataLoader\n",
        "\n",
        "dataset_path = './datasets'\n",
        "\n",
        "mnist_transform = transforms.Compose([\n",
        "        transforms.ToTensor(),\n",
        "        #transforms.Normalize((0.1307,), (0.3081,)),\n",
        "        transforms.RandomRotation(50),\n",
        "        transforms.Resize((28, 28)),\n",
        "        #transforms.Resize((32, 32)),\n",
        "])\n",
        "\n",
        "kwargs = {'num_workers': 1, 'pin_memory': True} \n",
        "\n",
        "train_dataset_for_vae = MNIST(dataset_path, transform=mnist_transform, train=True, download=True)\n",
        "test_dataset_for_vae  = MNIST(dataset_path, transform=mnist_transform, train=False, download=True)\n",
        "\n",
        "train_loader_for_vae = DataLoader(dataset=train_dataset_for_vae, batch_size=batch_size, shuffle=True, **kwargs)\n",
        "test_loader_for_vae  = DataLoader(dataset=test_dataset_for_vae,  batch_size=batch_size, shuffle=False, **kwargs)"
      ],
      "metadata": {
        "id": "V8biD_Bx9FqP"
      },
      "execution_count": 12,
      "outputs": []
    },
    {
      "cell_type": "code",
      "source": [
        "\"\"\"\n",
        "    A simple implementation of Gaussian MLP Encoder and Decoder\n",
        "\"\"\"\n",
        "\n",
        "class Encoder(nn.Module):\n",
        "    \n",
        "    def __init__(self, input_dim, hidden_dim, latent_dim):\n",
        "        super(Encoder, self).__init__()\n",
        "\n",
        "        self.FC_input = nn.Linear(input_dim, hidden_dim)\n",
        "        self.FC_input2 = nn.Linear(hidden_dim, hidden_dim)\n",
        "        self.FC_mean  = nn.Linear(hidden_dim, latent_dim)\n",
        "        self.FC_var   = nn.Linear (hidden_dim, latent_dim)\n",
        "        \n",
        "        self.LeakyReLU = nn.LeakyReLU(0.2)\n",
        "        \n",
        "        self.training = True\n",
        "        \n",
        "    def forward(self, x):\n",
        "        h_       = self.LeakyReLU(self.FC_input(x))\n",
        "        h_       = self.LeakyReLU(self.FC_input2(h_))\n",
        "        mean     = self.FC_mean(h_)\n",
        "        log_var  = self.FC_var(h_)                   \n",
        "        return mean, log_var"
      ],
      "metadata": {
        "id": "cEa5CzKq7_Nz"
      },
      "execution_count": 13,
      "outputs": []
    },
    {
      "cell_type": "code",
      "source": [
        "class Decoder(nn.Module):\n",
        "    def __init__(self, latent_dim, hidden_dim, output_dim):\n",
        "        super(Decoder, self).__init__()\n",
        "        self.FC_hidden = nn.Linear(latent_dim, hidden_dim)\n",
        "        self.FC_hidden2 = nn.Linear(hidden_dim, hidden_dim)\n",
        "        self.FC_output = nn.Linear(hidden_dim, output_dim)\n",
        "        \n",
        "        self.LeakyReLU = nn.LeakyReLU(0.2)\n",
        "        \n",
        "    def forward(self, x):\n",
        "        h     = self.LeakyReLU(self.FC_hidden(x))\n",
        "        h     = self.LeakyReLU(self.FC_hidden2(h))\n",
        "        \n",
        "        x_hat = torch.sigmoid(self.FC_output(h))\n",
        "        return x_hat\n",
        "        "
      ],
      "metadata": {
        "id": "yxELQraF8BE_"
      },
      "execution_count": 14,
      "outputs": []
    },
    {
      "cell_type": "code",
      "source": [
        "class Model(nn.Module):\n",
        "    def __init__(self, Encoder, Decoder):\n",
        "        super(Model, self).__init__()\n",
        "        self.Encoder = Encoder\n",
        "        self.Decoder = Decoder\n",
        "        \n",
        "    def reparameterization(self, mean, var):\n",
        "        epsilon = torch.randn_like(var).to(device)        # sampling epsilon        \n",
        "        z = mean + var*epsilon                          # reparameterization trick\n",
        "        return z\n",
        "        \n",
        "                \n",
        "    def forward(self, x):\n",
        "        mean, log_var = self.Encoder(x)\n",
        "        z = self.reparameterization(mean, torch.exp(0.5 * log_var)) # takes exponential function (log var -> var)\n",
        "        x_hat            = self.Decoder(z)\n",
        "        \n",
        "        return x_hat, mean, log_var"
      ],
      "metadata": {
        "id": "VdDRQ-HS8Co-"
      },
      "execution_count": 15,
      "outputs": []
    },
    {
      "cell_type": "code",
      "source": [
        "encoder = Encoder(input_dim=x_dim, hidden_dim=hidden_dim, latent_dim=latent_dim)\n",
        "decoder = Decoder(latent_dim=latent_dim, hidden_dim = hidden_dim, output_dim = x_dim)\n",
        "\n",
        "model = Model(Encoder=encoder, Decoder=decoder).to(device)"
      ],
      "metadata": {
        "id": "SgccBGM78Eez"
      },
      "execution_count": 16,
      "outputs": []
    },
    {
      "cell_type": "code",
      "source": [
        "from torch.optim import Adam\n",
        "\n",
        "BCE_loss = nn.BCELoss()\n",
        "\n",
        "def loss_function_beta_vae(x, x_hat, mean, log_var):\n",
        "    reproduction_loss = nn.functional.binary_cross_entropy(x_hat, x, reduction='sum')\n",
        "    KLD      = - 0.5 * torch.sum(1+ log_var - mean.pow(2) - log_var.exp())\n",
        "\n",
        "    return reproduction_loss + KLD\n",
        "\n",
        "def rec_loss(x, x_hat, mean, log_var):\n",
        "    reproduction_loss = nn.functional.binary_cross_entropy(x_hat, x, reduction='sum')\n",
        "    return reproduction_loss\n",
        "\n",
        "optimizer = Adam(model.parameters(), lr=lr)"
      ],
      "metadata": {
        "id": "vcejEyPv8F5B"
      },
      "execution_count": 17,
      "outputs": []
    },
    {
      "cell_type": "code",
      "source": [
        "class cnn(nn.Module):\n",
        "    def __init__(self, input_layer, kernel_size, output_layer):\n",
        "        super(cnn, self).__init__()\n",
        "        self.conv1 = nn.Sequential(         \n",
        "            nn.Conv2d(\n",
        "                in_channels=1,              \n",
        "                out_channels=16,            \n",
        "                kernel_size=5,              \n",
        "                stride=1,                   \n",
        "                padding=2,                  \n",
        "            ),                              \n",
        "            nn.ReLU(),                      \n",
        "            nn.MaxPool2d(kernel_size=2),    \n",
        "        )\n",
        "        self.conv2 = nn.Sequential(         \n",
        "            nn.Conv2d(16, 32, 5, 1, 2),     \n",
        "            nn.ReLU(),                      \n",
        "            nn.MaxPool2d(2),                \n",
        "        )\n",
        "        # fully connected layer, output 10 classes\n",
        "        self.out = nn.Linear(32 * 7 * 7, output_layer)\n",
        "    def forward(self, x):\n",
        "        x = self.conv1(x)\n",
        "        x = self.conv2(x)\n",
        "        # flatten the output of conv2 to (batch_size, 32 * 7 * 7)\n",
        "        x = x.view(x.size(0), -1)       \n",
        "        output = self.out(x)\n",
        "        return output   "
      ],
      "metadata": {
        "id": "1FBAzsjM8WpV"
      },
      "execution_count": 18,
      "outputs": []
    },
    {
      "cell_type": "code",
      "source": [
        "mnist_data_loader = {\n",
        "    \"train\":  train_loader_for_vae,\n",
        "    \"test\": test_loader_for_vae,\n",
        "}"
      ],
      "metadata": {
        "id": "omy6rfK-8aqF"
      },
      "execution_count": 19,
      "outputs": []
    },
    {
      "cell_type": "code",
      "source": [
        "kernel_size = 5\n",
        "input_layer = 784\n",
        "output_layer = 10"
      ],
      "metadata": {
        "id": "w99I0RFT8cv1"
      },
      "execution_count": 20,
      "outputs": []
    },
    {
      "cell_type": "code",
      "source": [
        "from sklearn.metrics import mean_squared_error"
      ],
      "metadata": {
        "id": "k4K4SxG-9Unf"
      },
      "execution_count": 21,
      "outputs": []
    },
    {
      "cell_type": "code",
      "source": [
        "import ssl\n",
        "ssl._create_default_https_context = ssl._create_unverified_context\n"
      ],
      "metadata": {
        "id": "Pf5alXAhABse"
      },
      "execution_count": 22,
      "outputs": []
    },
    {
      "cell_type": "code",
      "source": [
        "import gmdl_final.loader as loader\n",
        "fmnist_data_loader = loader.load_fmnist(config_model[\"dataroot\"], config[\"image_size\"], config[\"batch_size\"], kwargs['num_workers'])\n",
        "cifar_data_loader = loader.load_cifar(config_model[\"dataroot\"], config[\"image_size\"], config[\"batch_size\"], kwargs['num_workers'])\n",
        "svhn_data_loader = loader.load_svhn(config_model[\"dataroot\"], config[\"image_size\"], config[\"batch_size\"], kwargs['num_workers'])\n",
        "emnist_letters_data_loader = loader.load_emnist_letters(config_model[\"dataroot\"], config[\"image_size\"], config[\"batch_size\"], kwargs['num_workers'])\n",
        "mnist_test_data_loader = loader.load_mnist_test(config_model[\"dataroot\"], config[\"image_size\"], config[\"batch_size\"], kwargs['num_workers'])"
      ],
      "metadata": {
        "colab": {
          "base_uri": "https://localhost:8080/",
          "height": 1000,
          "referenced_widgets": [
            "2e43ae4d41c7451a93da32b554356e72",
            "84183a2f031e4e49b58a5c15743a52d3",
            "6ca3c93bbc174afeac860bcfddb3ef3d",
            "d103b533ce3e4ce3b2509b54c3c18e41",
            "dab8b1cb92474c5ab366e6fb14ffcc8f",
            "69c3b83ab6404c6e9f7d15984dbdffb8",
            "2c69e6f9c2d84471a3d318c2abcc7a12",
            "4b01cda09f014f6d87e675bb7dd6b110",
            "b5778e5b4da24012b284fb80de9a7576",
            "da455dbe81cf43f0bbdfd5427bcae541",
            "18bd401f1eab4b81a386f82c4113c853",
            "78050be761024cfb801ce841e8a08b63",
            "8419be731f5a4b78a7a8a984404bec9f",
            "6844ed4a88d946c196173c68041f1e8d",
            "da2d8b05e733493f931d08092f3b9fd4",
            "330d715af1b1408791e469c29f348aa6",
            "8ba919a374c54167b9d224c3eef11331",
            "ca1a85bc048c4a9cbc5be2623395e64b",
            "c5d4b9bc6f574468aa0a993215cf1664",
            "abe06be09543478889b002187de68b9a",
            "3eb1ef7ef5084eb3b6f83c208ca25f26",
            "3e8eadb3621d4e0a8f4d6679a064cfdb",
            "df350d5db0f540758c79673998162794",
            "2e8377a1244942449b9ecd5670baefe4",
            "2bdc7bac339a4f8788d565251501357e",
            "5a0b8d2d7cd9401f915735e3b6cf74c6",
            "5d45ffbfed1a4d1fbc01a7914494dbdd",
            "c813c5b0e3f64591ba74a881e3334ffd",
            "17f2b4375b9742c282d16d551cad0b4d",
            "d0fd6fa24a57478dbe30b840c8f98a7f",
            "3533903ae7414b99aa89dbbbcd7dfcdf",
            "e0f3e0c46e924cb2ae1725313b8f8c3e",
            "b5c1456c19ac49c3b155aff66e8cc7d8",
            "9cdeaa4e03c24f469ce6514f3d23493a",
            "38d01a3b803f48808b1ade71503f7bd2",
            "8b260abd56724a7d8191b7a674c3c3be",
            "34eaad6a28b24d35b8b22253d48180bf",
            "29a74eda924c4f969e6f012f464be6ec",
            "7a6e9dbcaa9a4b69b1d2fc31eea3b4f1",
            "aa9e8c4d453749a2a9baf8671e6605a0",
            "030ef162cb6c451b9dd7d1c0bec1a239",
            "001b30f844154244bf17574c5faecc22",
            "62ab5b70d49c4ceda8c2a7f58c1426b4",
            "c709812c5a744a86b6f9741e9786681d",
            "0937e92cb3134d3aa8dcd2eaa7a887f1",
            "854e2a33449e43cc91bcf6161cf1c093",
            "98c12255cb7c43a6a917018f4039e003",
            "bf41d0e6f17f43c8820407e4d9669bd4",
            "639957801dff4e01940af7cf369b4970",
            "6e3cf1840ff84876b66c6a08b5d51170",
            "e0c91ae35c0e4178842912449d6806e4",
            "7374d136e4264f43aee4eebfd5755e86",
            "c43c102fc3a34a72ab25be135b1205a2",
            "058c90ef6aa94d31bfceab30d96f5a29",
            "867d0267d9574de5bf6767afa973b54c",
            "836f4f13a42b4dceb427c8e98903ae24",
            "36c9f815a2504e4e92c8c3bec82c1123",
            "cc8c42fac8a24583b3dd4da7c7321ecb",
            "f05d20d6f8dc4623bf24afd3aaf9af98",
            "88179f12981c42d09f702a89712289b3",
            "4098d04238ff4174807c2f0d06fa63ac",
            "258a8ac4ac6245ac9302dd4dae2013e1",
            "7aed4af15f81409db418cfb5bad27d22",
            "dba23b84b6434dfc9bdc1e09a91ab51f",
            "9e00e36be81d4f5fa21f7350b0ccb440",
            "42a49ba8c155438ca942ca6a1ac1f6e9",
            "e3a8e90e943f454e86da7b13dddc8d40",
            "111dc18c79a94af294530fe0151edd23",
            "daa5f2da94a142fd836e3cdada4616a2",
            "f351686f58524da1abc33f84c37325ef",
            "2a35d85ea96d430cbdc1a2ca9e4d3be6",
            "f4a36283a12544ffb898923fb75e7e62",
            "a49ea84df96f4400a72482fb7384ade8",
            "583bd8c7411f42c4a2fa82fdf1303706",
            "b6999e3d2413482993b28d05f7a0c7f7",
            "7b2be8636f7e4cc09d8bee932ebe068d",
            "ee28687b8edb4a72807a3004c4f828fa",
            "1b68792c461142d5866cd1b962b3dcad",
            "6edc5bde9159480099eb0a9f29589c38",
            "9b11918153084e5bbd065dfafbba81a2",
            "a9e544b4bc4f4381b6fd2918138034b7",
            "0ceee875408d4695b2ee6616730788ca",
            "401110d300b94f599d5eea29423a0609",
            "aedebb533ceb40c3a407e42ca2171865",
            "9634cf9d585a44e6a774a505b977bf72",
            "76baf5922def407b91099f46df2d543b",
            "75770c44d77f4ed3a2526863545e86dd",
            "6b4b82b9f9e444878a40f64988cfac2c",
            "9cf95e182e85487f8ba025e8583933a1",
            "4dcd7be4b5c14a46bb723a756c164d96",
            "d2989899277f445199a1c19ca7879a33",
            "7707ab6bdfc7465bb1e0af891c8a42bb",
            "ba9a4eda4e5c4d0ba46110e5a12e27e6",
            "49f847e714ef4e1b8f4f643a642f410c",
            "f63b73dc352e4d08ac34661181ce4833",
            "a3b637d2ea98429a8896e8a3ef8a475a",
            "a82e5d953b784fb2ab146fd7790c7d25",
            "6953feb796704442934aec513fa35ccb",
            "c319f8cc40f848b8975ab4e9ec8b0211",
            "35098732df95470887f39c79c2b1a74d",
            "8fac1f8aae064f89aa54901ebe786151",
            "febb8eed648d493cbaf28c79262b7fff",
            "f49656168e394e9a9405f4d440ab8755",
            "82692529b9e6439597f2514a5fbffaf6",
            "8aa88c7c86cf4f53b74a5de26df9bffd",
            "de31dfcc55ef4208a9399100c960ed8d",
            "6a0bc554e2e44f69a2450d8c6cf78ed9",
            "5da1122fe69d4fe4b75df42456f9d80d",
            "b3384939d3d342c28bec92a35fff8af5",
            "ff97a226d6d345e381a2ed6426ea75ff",
            "851b17e681c546ffbc631890c6a66b54",
            "ad5c804bc5044eb098f20f97bfe788b7",
            "940a8412a8af42cc90ef1dd88dc45fef",
            "02234b8912734835819a07c8b7df1c9c",
            "7fdd64898f49474bb3798967522776a0",
            "9071b3109c9d4591b20c5b39be1a3a54",
            "e9c2fb044e7e4b6eb59b6c1223d18a71",
            "21b1cbf2cf9d4b51a7f3c47f09acef26",
            "4983366814644c9a873cb9a86bec840a",
            "3eac85b7fa734b918422e3cd3b0745c4",
            "6e706275f08a4d13859cfc2a69749631"
          ]
        },
        "id": "wpOC-mUPADBd",
        "outputId": "1b78df7d-1c83-45d9-c89f-ae90b53f874d"
      },
      "execution_count": 23,
      "outputs": [
        {
          "output_type": "stream",
          "name": "stdout",
          "text": [
            "Downloading http://fashion-mnist.s3-website.eu-central-1.amazonaws.com/train-images-idx3-ubyte.gz\n",
            "Downloading http://fashion-mnist.s3-website.eu-central-1.amazonaws.com/train-images-idx3-ubyte.gz to ./data/FashionMNIST/raw/train-images-idx3-ubyte.gz\n"
          ]
        },
        {
          "output_type": "display_data",
          "data": {
            "text/plain": [
              "  0%|          | 0/26421880 [00:00<?, ?it/s]"
            ],
            "application/vnd.jupyter.widget-view+json": {
              "version_major": 2,
              "version_minor": 0,
              "model_id": "2e43ae4d41c7451a93da32b554356e72"
            }
          },
          "metadata": {}
        },
        {
          "output_type": "stream",
          "name": "stdout",
          "text": [
            "Extracting ./data/FashionMNIST/raw/train-images-idx3-ubyte.gz to ./data/FashionMNIST/raw\n",
            "\n",
            "Downloading http://fashion-mnist.s3-website.eu-central-1.amazonaws.com/train-labels-idx1-ubyte.gz\n",
            "Downloading http://fashion-mnist.s3-website.eu-central-1.amazonaws.com/train-labels-idx1-ubyte.gz to ./data/FashionMNIST/raw/train-labels-idx1-ubyte.gz\n"
          ]
        },
        {
          "output_type": "display_data",
          "data": {
            "text/plain": [
              "  0%|          | 0/29515 [00:00<?, ?it/s]"
            ],
            "application/vnd.jupyter.widget-view+json": {
              "version_major": 2,
              "version_minor": 0,
              "model_id": "78050be761024cfb801ce841e8a08b63"
            }
          },
          "metadata": {}
        },
        {
          "output_type": "stream",
          "name": "stdout",
          "text": [
            "Extracting ./data/FashionMNIST/raw/train-labels-idx1-ubyte.gz to ./data/FashionMNIST/raw\n",
            "\n",
            "Downloading http://fashion-mnist.s3-website.eu-central-1.amazonaws.com/t10k-images-idx3-ubyte.gz\n",
            "Downloading http://fashion-mnist.s3-website.eu-central-1.amazonaws.com/t10k-images-idx3-ubyte.gz to ./data/FashionMNIST/raw/t10k-images-idx3-ubyte.gz\n"
          ]
        },
        {
          "output_type": "display_data",
          "data": {
            "text/plain": [
              "  0%|          | 0/4422102 [00:00<?, ?it/s]"
            ],
            "application/vnd.jupyter.widget-view+json": {
              "version_major": 2,
              "version_minor": 0,
              "model_id": "df350d5db0f540758c79673998162794"
            }
          },
          "metadata": {}
        },
        {
          "output_type": "stream",
          "name": "stdout",
          "text": [
            "Extracting ./data/FashionMNIST/raw/t10k-images-idx3-ubyte.gz to ./data/FashionMNIST/raw\n",
            "\n",
            "Downloading http://fashion-mnist.s3-website.eu-central-1.amazonaws.com/t10k-labels-idx1-ubyte.gz\n",
            "Downloading http://fashion-mnist.s3-website.eu-central-1.amazonaws.com/t10k-labels-idx1-ubyte.gz to ./data/FashionMNIST/raw/t10k-labels-idx1-ubyte.gz\n"
          ]
        },
        {
          "output_type": "display_data",
          "data": {
            "text/plain": [
              "  0%|          | 0/5148 [00:00<?, ?it/s]"
            ],
            "application/vnd.jupyter.widget-view+json": {
              "version_major": 2,
              "version_minor": 0,
              "model_id": "9cdeaa4e03c24f469ce6514f3d23493a"
            }
          },
          "metadata": {}
        },
        {
          "output_type": "stream",
          "name": "stdout",
          "text": [
            "Extracting ./data/FashionMNIST/raw/t10k-labels-idx1-ubyte.gz to ./data/FashionMNIST/raw\n",
            "\n",
            "Downloading https://www.cs.toronto.edu/~kriz/cifar-10-python.tar.gz to ./data/cifar-10-python.tar.gz\n"
          ]
        },
        {
          "output_type": "display_data",
          "data": {
            "text/plain": [
              "  0%|          | 0/170498071 [00:00<?, ?it/s]"
            ],
            "application/vnd.jupyter.widget-view+json": {
              "version_major": 2,
              "version_minor": 0,
              "model_id": "0937e92cb3134d3aa8dcd2eaa7a887f1"
            }
          },
          "metadata": {}
        },
        {
          "output_type": "stream",
          "name": "stdout",
          "text": [
            "Extracting ./data/cifar-10-python.tar.gz to ./data\n",
            "Downloading http://ufldl.stanford.edu/housenumbers/test_32x32.mat to ./data/test_32x32.mat\n"
          ]
        },
        {
          "output_type": "display_data",
          "data": {
            "text/plain": [
              "  0%|          | 0/64275384 [00:00<?, ?it/s]"
            ],
            "application/vnd.jupyter.widget-view+json": {
              "version_major": 2,
              "version_minor": 0,
              "model_id": "836f4f13a42b4dceb427c8e98903ae24"
            }
          },
          "metadata": {}
        },
        {
          "output_type": "stream",
          "name": "stdout",
          "text": [
            "Downloading https://www.itl.nist.gov/iaui/vip/cs_links/EMNIST/gzip.zip to ./data/EMNIST/raw/gzip.zip\n"
          ]
        },
        {
          "output_type": "display_data",
          "data": {
            "text/plain": [
              "  0%|          | 0/561753746 [00:00<?, ?it/s]"
            ],
            "application/vnd.jupyter.widget-view+json": {
              "version_major": 2,
              "version_minor": 0,
              "model_id": "e3a8e90e943f454e86da7b13dddc8d40"
            }
          },
          "metadata": {}
        },
        {
          "output_type": "stream",
          "name": "stdout",
          "text": [
            "Extracting ./data/EMNIST/raw/gzip.zip to ./data/EMNIST/raw\n",
            "Downloading http://yann.lecun.com/exdb/mnist/train-images-idx3-ubyte.gz\n",
            "Downloading http://yann.lecun.com/exdb/mnist/train-images-idx3-ubyte.gz to ./data/MNIST/raw/train-images-idx3-ubyte.gz\n"
          ]
        },
        {
          "output_type": "display_data",
          "data": {
            "text/plain": [
              "  0%|          | 0/9912422 [00:00<?, ?it/s]"
            ],
            "application/vnd.jupyter.widget-view+json": {
              "version_major": 2,
              "version_minor": 0,
              "model_id": "1b68792c461142d5866cd1b962b3dcad"
            }
          },
          "metadata": {}
        },
        {
          "output_type": "stream",
          "name": "stdout",
          "text": [
            "Extracting ./data/MNIST/raw/train-images-idx3-ubyte.gz to ./data/MNIST/raw\n",
            "\n",
            "Downloading http://yann.lecun.com/exdb/mnist/train-labels-idx1-ubyte.gz\n",
            "Downloading http://yann.lecun.com/exdb/mnist/train-labels-idx1-ubyte.gz to ./data/MNIST/raw/train-labels-idx1-ubyte.gz\n"
          ]
        },
        {
          "output_type": "display_data",
          "data": {
            "text/plain": [
              "  0%|          | 0/28881 [00:00<?, ?it/s]"
            ],
            "application/vnd.jupyter.widget-view+json": {
              "version_major": 2,
              "version_minor": 0,
              "model_id": "9cf95e182e85487f8ba025e8583933a1"
            }
          },
          "metadata": {}
        },
        {
          "output_type": "stream",
          "name": "stdout",
          "text": [
            "Extracting ./data/MNIST/raw/train-labels-idx1-ubyte.gz to ./data/MNIST/raw\n",
            "\n",
            "Downloading http://yann.lecun.com/exdb/mnist/t10k-images-idx3-ubyte.gz\n",
            "Downloading http://yann.lecun.com/exdb/mnist/t10k-images-idx3-ubyte.gz to ./data/MNIST/raw/t10k-images-idx3-ubyte.gz\n"
          ]
        },
        {
          "output_type": "display_data",
          "data": {
            "text/plain": [
              "  0%|          | 0/1648877 [00:00<?, ?it/s]"
            ],
            "application/vnd.jupyter.widget-view+json": {
              "version_major": 2,
              "version_minor": 0,
              "model_id": "35098732df95470887f39c79c2b1a74d"
            }
          },
          "metadata": {}
        },
        {
          "output_type": "stream",
          "name": "stdout",
          "text": [
            "Extracting ./data/MNIST/raw/t10k-images-idx3-ubyte.gz to ./data/MNIST/raw\n",
            "\n",
            "Downloading http://yann.lecun.com/exdb/mnist/t10k-labels-idx1-ubyte.gz\n",
            "Downloading http://yann.lecun.com/exdb/mnist/t10k-labels-idx1-ubyte.gz to ./data/MNIST/raw/t10k-labels-idx1-ubyte.gz\n"
          ]
        },
        {
          "output_type": "display_data",
          "data": {
            "text/plain": [
              "  0%|          | 0/4542 [00:00<?, ?it/s]"
            ],
            "application/vnd.jupyter.widget-view+json": {
              "version_major": 2,
              "version_minor": 0,
              "model_id": "851b17e681c546ffbc631890c6a66b54"
            }
          },
          "metadata": {}
        },
        {
          "output_type": "stream",
          "name": "stdout",
          "text": [
            "Extracting ./data/MNIST/raw/t10k-labels-idx1-ubyte.gz to ./data/MNIST/raw\n",
            "\n"
          ]
        }
      ]
    },
    {
      "cell_type": "markdown",
      "source": [
        "### OSR ALGORITHM"
      ],
      "metadata": {
        "id": "2r-y0FS8epum"
      }
    },
    {
      "cell_type": "markdown",
      "source": [
        "OSR ALG\n",
        "calc liklihoodregret\n",
        "calc mse\n",
        "is ood -> unkown\n",
        "is not ood -> cnn -> classify"
      ],
      "metadata": {
        "id": "WZ2uAff6etyO"
      }
    },
    {
      "cell_type": "code",
      "source": [
        "x_dim  = 784\n",
        "hidden_dim = 400\n",
        "latent_dim = 200\n",
        "\n",
        "def load_model_dcgan():\n",
        "    netG = DVAE.DCGAN_G(config_model[\"image_size\"], config_model[\"latent_z_vector\"], config_model[\"input_image_channels\"],config_model[\"hidden_channel_size\"],  config_model[\"number_gpu\"])\n",
        "    state_G = torch.load('./saved_models/models/mnist/netG_pixel.pth', map_location = device)\n",
        "    netG.load_state_dict(state_G)\n",
        "    netG.to(device)\n",
        "    return netG.eval()\n",
        "\n",
        "def load_model_vae():\n",
        "    netE = DVAE.Encoder(config_model[\"image_size\"], config_model[\"latent_z_vector\"], config_model[\"input_image_channels\"],config_model[\"hidden_channel_size\"],  config_model[\"number_gpu\"])\n",
        "    state_E = torch.load('./saved_models/models/mnist/netE_pixel.pth', map_location = device)\n",
        "    netE.load_state_dict(state_E)\n",
        "    netE.to(device)\n",
        "    return netE.eval()\n",
        "\n",
        "def load_beta_vae():\n",
        "    encoder = Encoder(x_dim, hidden_dim, latent_dim)\n",
        "    decoder = Decoder(latent_dim, hidden_dim, x_dim)\n",
        "    beta_vae = Model(encoder, decoder)\n",
        "    state_E = torch.load('./beta_vae.pt')\n",
        "    beta_vae.load_state_dict(torch.load('./beta_vae.pt'))\n",
        "    beta_vae.to(device)\n",
        "    return beta_vae.eval()\n",
        "\n",
        "def load_model_cnn():\n",
        "    cnn_class = cnn(input_layer, kernel_size, output_layer)\n",
        "    cnn_class.load_state_dict(torch.load('./cnn_model.pt'))\n",
        "    cnn_class.to(device)\n",
        "    return cnn_class.eval()\n"
      ],
      "metadata": {
        "id": "XmLeIlZieu8L"
      },
      "execution_count": 24,
      "outputs": []
    },
    {
      "cell_type": "code",
      "source": [
        "def mse_via_vae_beta(xi, vae_b, batch_size, x_dim):\n",
        "    vae_b.eval()\n",
        "    mse_res = np.array([])\n",
        "    with torch.no_grad():\n",
        "            x = xi.view(batch_size, x_dim)\n",
        "            x = x.to(device)\n",
        "            x_hat, mean, log_var = vae_b(x)\n",
        "            for i in np.arange(0,batch_size, 1):\n",
        "                err = mean_squared_error(x[i].cpu(),x_hat[i].cpu())\n",
        "                #err = nn.functional.binary_cross_entropy(x_hat[i].cpu(), x[i].cpu(), reduction='sum')\n",
        "                mse_res = np.append(mse_res, err)\n",
        "    return mse_res"
      ],
      "metadata": {
        "id": "rmsipP7_exCe"
      },
      "execution_count": 25,
      "outputs": []
    },
    {
      "cell_type": "code",
      "source": [
        "def OSR(dataloader, ood = False, limited = False):\n",
        "    classifier = np.array([])\n",
        "    dataset_labels = np.array([])\n",
        "    netG = load_model_dcgan()\n",
        "    netE = load_model_vae()\n",
        "    beta_vae =  load_beta_vae()\n",
        "\n",
        "    cnn_model = load_model_cnn()\n",
        "    threshold_reg = 75\n",
        "    threshold_mse = 0.05\n",
        "    correct = 0\n",
        "    total = 0\n",
        "    j = 0\n",
        "    img_size = 28\n",
        "    unknowm_cnt = 0\n",
        "    for images, labels in dataloader:\n",
        "        if transforms.functional.get_image_size(images)[0] == img_size:\n",
        "           threshold_reg = 87\n",
        "        j = j + 1\n",
        "        out = F.interpolate(images, size=(28, 28), mode='bilinear')  \n",
        "        lik_inp = F.interpolate(images, size=(32, 32), mode='bilinear')  \n",
        "        likleli_regret, l2 = likleihood_regret_single(lik_inp, netG, netE)\n",
        "        #utils.show_image_28(out, idx = 31)\n",
        "        mse_ = mse_via_vae_beta(out, beta_vae, 100, 784)\n",
        "        if likleli_regret > threshold_reg and mse_.all() > threshold_mse:\n",
        "                classifier = np.append(classifier, np.ones(len(images)) * 10)\n",
        "                if ood:\n",
        "                    dataset_labels = np.append(dataset_labels, np.ones(len(images)) * 10)\n",
        "                else:\n",
        "                    dataset_labels = np.append(dataset_labels, labels.cpu())\n",
        "                unknowm_cnt += 1\n",
        "        else:\n",
        "            with torch.no_grad():                \n",
        "                images = out.to(device)\n",
        "                labels = labels.to(device)\n",
        "                outputs = cnn_model(images)\n",
        "                _, predicted = torch.max(outputs.data, 1)\n",
        "                total += labels.size(0)\n",
        "                correct += (predicted == labels).sum().item()\n",
        "                classifier = np.append(classifier, predicted.cpu())\n",
        "                dataset_labels = np.append(dataset_labels, labels.cpu())\n",
        "        if j == 15 and limited == True:\n",
        "            break\n",
        "    if total > 0:\n",
        "        print('Accuracy of the network(known): {} %'.format(100 * correct / total))\n",
        "        \n",
        "    return classifier, dataset_labels, correct, total, unknowm_cnt, len(dataloader)"
      ],
      "metadata": {
        "id": "hGbPZPbQex43"
      },
      "execution_count": 26,
      "outputs": []
    },
    {
      "cell_type": "markdown",
      "source": [
        "## Computer Exercise 1"
      ],
      "metadata": {
        "id": "abqpNxBYey_d"
      }
    },
    {
      "cell_type": "code",
      "source": [
        "iod_classifier, iod_true, correct, total, unknowm_cnt, len_data = OSR(test_loader, False)"
      ],
      "metadata": {
        "id": "dp6hJuZbe0Kb",
        "colab": {
          "base_uri": "https://localhost:8080/"
        },
        "outputId": "08885ea1-ccd5-4637-d941-10b9fb7e4cd9"
      },
      "execution_count": 27,
      "outputs": [
        {
          "output_type": "stream",
          "name": "stdout",
          "text": [
            "In-dist image OPT: 717.8999633789062 VAE: 728.8864135742188 diff:10.9864501953125\n",
            "In-dist image OPT: 674.0372314453125 VAE: 688.6641235351562 diff:14.62689208984375\n",
            "In-dist image OPT: 642.8595581054688 VAE: 653.1843872070312 diff:10.3248291015625\n",
            "In-dist image OPT: 650.4967041015625 VAE: 660.20361328125 diff:9.7069091796875\n",
            "In-dist image OPT: 659.96044921875 VAE: 662.869384765625 diff:2.908935546875\n",
            "In-dist image OPT: 629.3888549804688 VAE: 622.6128540039062 diff:-6.7760009765625\n",
            "In-dist image OPT: 732.6654663085938 VAE: 734.9090576171875 diff:2.24359130859375\n",
            "In-dist image OPT: 689.1575927734375 VAE: 705.2604370117188 diff:16.10284423828125\n",
            "In-dist image OPT: 686.1478271484375 VAE: 734.00537109375 diff:47.8575439453125\n",
            "In-dist image OPT: 577.2776489257812 VAE: 580.1489868164062 diff:2.871337890625\n",
            "In-dist image OPT: 705.298095703125 VAE: 719.5225219726562 diff:14.22442626953125\n",
            "In-dist image OPT: 703.9188232421875 VAE: 731.02099609375 diff:27.1021728515625\n",
            "In-dist image OPT: 697.5546264648438 VAE: 706.548095703125 diff:8.99346923828125\n",
            "In-dist image OPT: 676.5592041015625 VAE: 711.259521484375 diff:34.7003173828125\n",
            "In-dist image OPT: 709.181396484375 VAE: 717.9346923828125 diff:8.7532958984375\n",
            "In-dist image OPT: 731.8675537109375 VAE: 747.4393920898438 diff:15.57183837890625\n",
            "In-dist image OPT: 740.968017578125 VAE: 769.6611328125 diff:28.693115234375\n",
            "In-dist image OPT: 679.4659423828125 VAE: 693.260986328125 diff:13.7950439453125\n",
            "In-dist image OPT: 751.0381469726562 VAE: 750.479736328125 diff:-0.55841064453125\n",
            "In-dist image OPT: 718.9933471679688 VAE: 722.9058227539062 diff:3.9124755859375\n",
            "In-dist image OPT: 681.7755737304688 VAE: 700.4246826171875 diff:18.64910888671875\n",
            "In-dist image OPT: 711.3646850585938 VAE: 711.9863891601562 diff:0.6217041015625\n",
            "In-dist image OPT: 653.0294189453125 VAE: 677.3973999023438 diff:24.36798095703125\n",
            "In-dist image OPT: 600.2554321289062 VAE: 613.3136596679688 diff:13.0582275390625\n",
            "In-dist image OPT: 705.7059326171875 VAE: 727.2207641601562 diff:21.51483154296875\n",
            "In-dist image OPT: 624.8295288085938 VAE: 629.156982421875 diff:4.32745361328125\n",
            "In-dist image OPT: 710.9518432617188 VAE: 724.220458984375 diff:13.26861572265625\n",
            "In-dist image OPT: 579.78076171875 VAE: 600.6970825195312 diff:20.91632080078125\n",
            "In-dist image OPT: 605.0040893554688 VAE: 620.1525268554688 diff:15.1484375\n",
            "In-dist image OPT: 681.9923095703125 VAE: 673.7515258789062 diff:-8.24078369140625\n",
            "In-dist image OPT: 643.57275390625 VAE: 675.2195434570312 diff:31.64678955078125\n",
            "In-dist image OPT: 683.362548828125 VAE: 716.6557006835938 diff:33.29315185546875\n",
            "In-dist image OPT: 654.2799682617188 VAE: 659.1810302734375 diff:4.90106201171875\n",
            "In-dist image OPT: 718.2310791015625 VAE: 730.0554809570312 diff:11.82440185546875\n",
            "In-dist image OPT: 662.8710327148438 VAE: 684.4075927734375 diff:21.53656005859375\n",
            "In-dist image OPT: 750.8001708984375 VAE: 751.644287109375 diff:0.8441162109375\n",
            "In-dist image OPT: 683.0502319335938 VAE: 708.6130981445312 diff:25.5628662109375\n",
            "In-dist image OPT: 664.9728393554688 VAE: 670.4989624023438 diff:5.526123046875\n",
            "In-dist image OPT: 694.6988525390625 VAE: 706.3937377929688 diff:11.69488525390625\n",
            "In-dist image OPT: 725.5822143554688 VAE: 735.4361572265625 diff:9.85394287109375\n",
            "In-dist image OPT: 658.1343994140625 VAE: 672.878662109375 diff:14.7442626953125\n",
            "In-dist image OPT: 701.5994262695312 VAE: 711.0530395507812 diff:9.45361328125\n",
            "In-dist image OPT: 732.7826538085938 VAE: 745.9180297851562 diff:13.1353759765625\n",
            "In-dist image OPT: 719.0968017578125 VAE: 717.9882202148438 diff:-1.10858154296875\n",
            "In-dist image OPT: 705.4730224609375 VAE: 713.748291015625 diff:8.2752685546875\n",
            "In-dist image OPT: 672.279052734375 VAE: 691.6431274414062 diff:19.36407470703125\n",
            "In-dist image OPT: 649.2244262695312 VAE: 667.2711181640625 diff:18.04669189453125\n",
            "In-dist image OPT: 656.39501953125 VAE: 649.0639038085938 diff:-7.33111572265625\n",
            "In-dist image OPT: 629.4324951171875 VAE: 632.4503784179688 diff:3.01788330078125\n",
            "In-dist image OPT: 702.3937377929688 VAE: 691.6151123046875 diff:-10.77862548828125\n",
            "In-dist image OPT: 768.391845703125 VAE: 796.852294921875 diff:28.46044921875\n",
            "In-dist image OPT: 719.6370239257812 VAE: 728.712158203125 diff:9.07513427734375\n",
            "In-dist image OPT: 750.2778930664062 VAE: 765.173583984375 diff:14.89569091796875\n",
            "In-dist image OPT: 774.8326416015625 VAE: 771.7108764648438 diff:-3.12176513671875\n",
            "In-dist image OPT: 752.7998046875 VAE: 748.6742553710938 diff:-4.12554931640625\n",
            "In-dist image OPT: 671.2404174804688 VAE: 688.510986328125 diff:17.27056884765625\n",
            "In-dist image OPT: 688.7845458984375 VAE: 703.58837890625 diff:14.8038330078125\n",
            "In-dist image OPT: 777.577880859375 VAE: 794.492919921875 diff:16.9150390625\n",
            "In-dist image OPT: 759.4352416992188 VAE: 771.0607299804688 diff:11.62548828125\n",
            "In-dist image OPT: 738.8053588867188 VAE: 737.9434204101562 diff:-0.8619384765625\n",
            "In-dist image OPT: 716.7109985351562 VAE: 729.0316162109375 diff:12.32061767578125\n",
            "In-dist image OPT: 778.7351684570312 VAE: 791.3480834960938 diff:12.6129150390625\n",
            "In-dist image OPT: 796.7139892578125 VAE: 817.0870361328125 diff:20.373046875\n",
            "In-dist image OPT: 667.9598999023438 VAE: 691.2197265625 diff:23.25982666015625\n",
            "In-dist image OPT: 738.5779418945312 VAE: 762.5910034179688 diff:24.0130615234375\n",
            "In-dist image OPT: 677.7084350585938 VAE: 699.5078735351562 diff:21.7994384765625\n",
            "In-dist image OPT: 756.5891723632812 VAE: 764.6585693359375 diff:8.06939697265625\n",
            "In-dist image OPT: 713.5180053710938 VAE: 728.5303955078125 diff:15.01239013671875\n",
            "In-dist image OPT: 750.1801147460938 VAE: 742.7833862304688 diff:-7.396728515625\n",
            "In-dist image OPT: 666.5640258789062 VAE: 714.4581298828125 diff:47.89410400390625\n",
            "In-dist image OPT: 689.4968872070312 VAE: 705.8436889648438 diff:16.3468017578125\n",
            "In-dist image OPT: 693.493896484375 VAE: 709.535400390625 diff:16.04150390625\n",
            "In-dist image OPT: 735.632568359375 VAE: 750.490234375 diff:14.857666015625\n",
            "In-dist image OPT: 741.7880249023438 VAE: 755.7036743164062 diff:13.9156494140625\n",
            "In-dist image OPT: 828.5065307617188 VAE: 848.0717163085938 diff:19.565185546875\n",
            "In-dist image OPT: 841.6974487304688 VAE: 867.2858276367188 diff:25.58837890625\n",
            "In-dist image OPT: 748.5859375 VAE: 770.557373046875 diff:21.971435546875\n",
            "In-dist image OPT: 797.07177734375 VAE: 806.3842163085938 diff:9.31243896484375\n",
            "In-dist image OPT: 825.5308227539062 VAE: 844.7884521484375 diff:19.25762939453125\n",
            "In-dist image OPT: 800.50244140625 VAE: 788.2608032226562 diff:-12.24163818359375\n",
            "In-dist image OPT: 749.6602783203125 VAE: 751.3727416992188 diff:1.71246337890625\n",
            "In-dist image OPT: 831.561767578125 VAE: 866.936279296875 diff:35.37451171875\n",
            "In-dist image OPT: 801.35498046875 VAE: 863.6339721679688 diff:62.27899169921875\n",
            "In-dist image OPT: 802.0791015625 VAE: 814.62744140625 diff:12.54833984375\n",
            "In-dist image OPT: 794.1243286132812 VAE: 828.1682739257812 diff:34.0439453125\n",
            "In-dist image OPT: 802.1182250976562 VAE: 822.877197265625 diff:20.75897216796875\n",
            "In-dist image OPT: 714.4371948242188 VAE: 723.9910888671875 diff:9.55389404296875\n",
            "In-dist image OPT: 715.3370971679688 VAE: 720.6318359375 diff:5.29473876953125\n",
            "In-dist image OPT: 812.7747192382812 VAE: 826.4993286132812 diff:13.724609375\n",
            "In-dist image OPT: 832.5692138671875 VAE: 848.4842529296875 diff:15.9150390625\n",
            "In-dist image OPT: 807.352783203125 VAE: 817.6499633789062 diff:10.29718017578125\n",
            "In-dist image OPT: 811.0845336914062 VAE: 821.1036376953125 diff:10.01910400390625\n",
            "In-dist image OPT: 661.2825927734375 VAE: 660.389892578125 diff:-0.8927001953125\n",
            "In-dist image OPT: 665.8677368164062 VAE: 668.395751953125 diff:2.52801513671875\n",
            "In-dist image OPT: 757.6883544921875 VAE: 774.39794921875 diff:16.7095947265625\n",
            "In-dist image OPT: 727.6307373046875 VAE: 725.9210205078125 diff:-1.709716796875\n",
            "In-dist image OPT: 831.1390991210938 VAE: 831.4097290039062 diff:0.2706298828125\n",
            "In-dist image OPT: 743.3375854492188 VAE: 756.0859985351562 diff:12.7484130859375\n",
            "In-dist image OPT: 752.2882690429688 VAE: 745.3441162109375 diff:-6.94415283203125\n",
            "In-dist image OPT: 730.9449462890625 VAE: 730.349609375 diff:-0.5953369140625\n",
            "Accuracy of the network(known): 96.77 %\n"
          ]
        }
      ]
    },
    {
      "cell_type": "markdown",
      "source": [
        "## Computer Exercise 2"
      ],
      "metadata": {
        "id": "Fig06P_we1XV"
      }
    },
    {
      "cell_type": "code",
      "source": [
        "ood_classifier, ood_true, correct, total, unknowm_cnt, len_data = OSR(cifar_data_loader, True, True)"
      ],
      "metadata": {
        "id": "rbXDKnOce2hn",
        "colab": {
          "base_uri": "https://localhost:8080/"
        },
        "outputId": "6a66b595-4a34-4e56-b188-def2689a64c3"
      },
      "execution_count": 28,
      "outputs": [
        {
          "output_type": "stream",
          "name": "stdout",
          "text": [
            "In-dist image OPT: 5011.2470703125 VAE: 6667.6103515625 diff:1656.36328125\n",
            "In-dist image OPT: 3749.927978515625 VAE: 4547.43017578125 diff:797.502197265625\n",
            "In-dist image OPT: 3322.9375 VAE: 7628.87353515625 diff:4305.93603515625\n",
            "In-dist image OPT: 1966.989013671875 VAE: 2531.0107421875 diff:564.021728515625\n",
            "In-dist image OPT: 3610.715087890625 VAE: 5201.56396484375 diff:1590.848876953125\n",
            "In-dist image OPT: 3809.38330078125 VAE: 7973.09228515625 diff:4163.708984375\n",
            "In-dist image OPT: 4259.59228515625 VAE: 6849.7705078125 diff:2590.17822265625\n",
            "In-dist image OPT: 5087.30126953125 VAE: 7512.5751953125 diff:2425.27392578125\n",
            "In-dist image OPT: 4867.12451171875 VAE: 6635.849609375 diff:1768.72509765625\n",
            "In-dist image OPT: 5597.34765625 VAE: 8945.96484375 diff:3348.6171875\n",
            "In-dist image OPT: 4959.81640625 VAE: 8752.1806640625 diff:3792.3642578125\n",
            "In-dist image OPT: 5450.5 VAE: 8928.482421875 diff:3477.982421875\n",
            "In-dist image OPT: 4950.2119140625 VAE: 6615.82958984375 diff:1665.61767578125\n",
            "In-dist image OPT: 4025.203857421875 VAE: 7048.3271484375 diff:3023.123291015625\n",
            "In-dist image OPT: 4650.0546875 VAE: 6780.330078125 diff:2130.275390625\n"
          ]
        }
      ]
    },
    {
      "cell_type": "markdown",
      "source": [
        "## Evaluation"
      ],
      "metadata": {
        "id": "myPKzqqde4Gl"
      }
    },
    {
      "cell_type": "markdown",
      "source": [
        "#### Baseline Accuracy - MNIST"
      ],
      "metadata": {
        "id": "VChYrcmie5V-"
      }
    },
    {
      "cell_type": "code",
      "source": [
        "correct = (iod_classifier == iod_true).sum().item()\n",
        "correct / len(iod_classifier)"
      ],
      "metadata": {
        "id": "TV4pR5Dwe6hg",
        "colab": {
          "base_uri": "https://localhost:8080/"
        },
        "outputId": "8cc65fef-5323-40eb-986a-a6727804a764"
      },
      "execution_count": 29,
      "outputs": [
        {
          "output_type": "execute_result",
          "data": {
            "text/plain": [
              "0.9677"
            ]
          },
          "metadata": {},
          "execution_count": 29
        }
      ]
    },
    {
      "cell_type": "markdown",
      "source": [
        "#### Baseline Accuracy - CIFAR 10"
      ],
      "metadata": {
        "id": "lZdvtT8Oe7xV"
      }
    },
    {
      "cell_type": "code",
      "source": [
        "correct = (ood_classifier == ood_true).sum().item()\n",
        "correct / len(ood_classifier)"
      ],
      "metadata": {
        "id": "YsFGsSbbe8lW",
        "colab": {
          "base_uri": "https://localhost:8080/"
        },
        "outputId": "2d54a869-5860-4e9e-c62b-f74b542fa674"
      },
      "execution_count": 30,
      "outputs": [
        {
          "output_type": "execute_result",
          "data": {
            "text/plain": [
              "1.0"
            ]
          },
          "metadata": {},
          "execution_count": 30
        }
      ]
    },
    {
      "cell_type": "markdown",
      "source": [
        "#### Confusion Matrix"
      ],
      "metadata": {
        "id": "OG5TMd5-e9zW"
      }
    },
    {
      "cell_type": "markdown",
      "source": [
        ""
      ],
      "metadata": {
        "id": "1p689ss6e9xP"
      }
    },
    {
      "cell_type": "code",
      "source": [
        "from sklearn.metrics import confusion_matrix"
      ],
      "metadata": {
        "id": "bvB_oHO0e-xD"
      },
      "execution_count": 31,
      "outputs": []
    },
    {
      "cell_type": "code",
      "source": [
        "confusion_matrix(iod_true, iod_classifier)"
      ],
      "metadata": {
        "id": "dO_PkwEDe_vl",
        "colab": {
          "base_uri": "https://localhost:8080/"
        },
        "outputId": "394b72ec-8b7e-4d79-bf79-a04b3adc861c"
      },
      "execution_count": 32,
      "outputs": [
        {
          "output_type": "execute_result",
          "data": {
            "text/plain": [
              "array([[ 972,    0,    0,    0,    0,    1,    5,    1,    1,    0],\n",
              "       [   1, 1121,    1,    3,    0,    2,    3,    2,    2,    0],\n",
              "       [   0,    3, 1018,    0,    2,    0,    1,    5,    3,    0],\n",
              "       [   1,    0,    2,  981,    0,   15,    0,    5,    2,    4],\n",
              "       [   1,    4,   11,    0,  887,    0,   16,    9,    6,   48],\n",
              "       [   2,    0,    1,    2,    0,  863,   17,    2,    1,    4],\n",
              "       [   6,    2,    0,    0,    1,    6,  942,    0,    0,    1],\n",
              "       [   0,    6,   27,    1,    3,    0,    0,  988,    0,    3],\n",
              "       [  13,    0,    8,    3,    2,    5,   18,    1,  920,    4],\n",
              "       [   3,    2,    2,    1,    2,    6,    0,    5,    3,  985]])"
            ]
          },
          "metadata": {},
          "execution_count": 32
        }
      ]
    },
    {
      "cell_type": "code",
      "source": [
        "temp_iod_true = iod_true\n",
        "temp_iod_classifier = iod_classifier\n",
        "\n",
        "temp_ood_true = ood_true\n",
        "temp_ood_classifier = ood_classifier\n",
        "\n",
        "temp_iod_true[temp_iod_true < 10] = 0\n",
        "temp_iod_classifier[temp_iod_classifier < 10] = 0\n",
        "\n",
        "temp_ood_true[temp_ood_true < 10] = 0\n",
        "temp_ood_classifier[temp_ood_classifier < 10] = 0"
      ],
      "metadata": {
        "id": "NG8RbNgJfAnt"
      },
      "execution_count": 33,
      "outputs": []
    },
    {
      "cell_type": "code",
      "source": [
        "from sklearn.metrics import accuracy_score\n",
        "all_true = np.concatenate((temp_iod_true, temp_ood_true), axis=0)\n",
        "all_preds = np.concatenate((temp_iod_classifier, temp_ood_classifier), axis=0)\n",
        "\n",
        "\n",
        "accuracy_score(all_true, all_preds)\n"
      ],
      "metadata": {
        "id": "m0ZTtVevfCS-",
        "colab": {
          "base_uri": "https://localhost:8080/"
        },
        "outputId": "4067d92a-e7f9-4d0c-d6d4-f9ea3acc9a4d"
      },
      "execution_count": 34,
      "outputs": [
        {
          "output_type": "execute_result",
          "data": {
            "text/plain": [
              "1.0"
            ]
          },
          "metadata": {},
          "execution_count": 34
        }
      ]
    },
    {
      "cell_type": "code",
      "source": [
        "confusion_matrix(all_true, all_preds)"
      ],
      "metadata": {
        "id": "UyGdgY6GfEJP",
        "colab": {
          "base_uri": "https://localhost:8080/"
        },
        "outputId": "5f300a37-9be2-4cdd-9b97-bd8e5b4811ae"
      },
      "execution_count": 35,
      "outputs": [
        {
          "output_type": "execute_result",
          "data": {
            "text/plain": [
              "array([[10000,     0],\n",
              "       [    0,  1500]])"
            ]
          },
          "metadata": {},
          "execution_count": 35
        }
      ]
    },
    {
      "cell_type": "code",
      "source": [
        "all_true_multi = np.concatenate((iod_true, ood_true), axis=0)\n",
        "all_preds_multi = np.concatenate((iod_classifier, ood_classifier), axis=0)\n",
        "\n",
        "confusion_matrix(all_true_multi, all_preds_multi)"
      ],
      "metadata": {
        "id": "NOpHe7X8fFTG",
        "colab": {
          "base_uri": "https://localhost:8080/"
        },
        "outputId": "25c664a2-9fd5-4a83-e7ac-3d8b4ace59e8"
      },
      "execution_count": 36,
      "outputs": [
        {
          "output_type": "execute_result",
          "data": {
            "text/plain": [
              "array([[10000,     0],\n",
              "       [    0,  1500]])"
            ]
          },
          "metadata": {},
          "execution_count": 36
        }
      ]
    }
  ]
}